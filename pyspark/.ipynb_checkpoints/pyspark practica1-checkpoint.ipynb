{
 "cells": [
  {
   "cell_type": "code",
   "execution_count": 1,
   "id": "b8cf480b",
   "metadata": {},
   "outputs": [
    {
     "data": {
      "text/plain": [
       "[('SMX1A', '20'), ('SMX1B', '19'), ('SMX1C', '21'), ('DAM', '17')]"
      ]
     },
     "execution_count": 1,
     "metadata": {},
     "output_type": "execute_result"
    }
   ],
   "source": [
    "# Import findpark desde java para ejecutar, porke el sistema no lo encuentra.\n",
    "import findspark\n",
    "findspark.init()\n",
    "from pyspark import SparkContext\n",
    "#Create SparkSession\n",
    "sc= SparkContext(appName = 'appname')\n",
    "# Completa-ho, per exemple a ‘ASIX’ hi ha 20, ‘SMX’ hi ha19, ‘DAM’ hi ha 17 i ‘DAW’ hi ha 21, pista (Python List of arrays)\n",
    "data = [(\"SMX1A\", \"20\"), (\"SMX1B\", \"19\"), (\"SMX1C\", \"21\"),(\"DAM\",\"17\")]\n",
    "myRDD= sc.parallelize(data)\n",
    "\n",
    "# Visualitza-ho\n",
    "myRDD.take(4)\n"
   ]
  },
  {
   "cell_type": "code",
   "execution_count": 2,
   "id": "63cf71fc",
   "metadata": {},
   "outputs": [
    {
     "data": {
      "text/plain": [
       "[['\"sepal.length\"',\n",
       "  '\"sepal.width\"',\n",
       "  '\"petal.length\"',\n",
       "  '\"petal.width\"',\n",
       "  '\"variety\"'],\n",
       " ['5.1', '3.5', '1.4', '.2', '\"Setosa\"'],\n",
       " ['4.9', '3', '1.4', '.2', '\"Setosa\"'],\n",
       " ['4.7', '3.2', '1.3', '.2', '\"Setosa\"'],\n",
       " ['4.6', '3.1', '1.5', '.2', '\"Setosa\"']]"
      ]
     },
     "execution_count": 2,
     "metadata": {},
     "output_type": "execute_result"
    }
   ],
   "source": [
    "\n",
    "# Completa els 2 espais proposats\n",
    "myRDD= sc.textFile(\"iris.csv\").map(lambda element: element.split(\",\"))\n",
    "# Visualitza-ho\n",
    "myRDD.take(5)\n"
   ]
  },
  {
   "cell_type": "code",
   "execution_count": 3,
   "id": "d758285a",
   "metadata": {},
   "outputs": [
    {
     "data": {
      "text/plain": [
       "151"
      ]
     },
     "execution_count": 3,
     "metadata": {},
     "output_type": "execute_result"
    }
   ],
   "source": [
    "myRDD.count()"
   ]
  },
  {
   "cell_type": "code",
   "execution_count": 4,
   "id": "da4bdcb8-5d37-43ed-9790-262494c73a55",
   "metadata": {},
   "outputs": [
    {
     "data": {
      "text/plain": [
       "2"
      ]
     },
     "execution_count": 4,
     "metadata": {},
     "output_type": "execute_result"
    }
   ],
   "source": [
    "myRDD.getNumPartitions()"
   ]
  },
  {
   "cell_type": "code",
   "execution_count": 5,
   "id": "88bd2993-29c3-4b84-8f25-b1f010d5fb70",
   "metadata": {},
   "outputs": [],
   "source": [
    "myRDD= sc.textFile(\"2008_all_states.csv\",minPartitions =5, use_unicode=True).map(lambda element: element.split(\",\")).sample(0.25,123)\n",
    "print(myRDD)"
   ]
  },
  {
   "cell_type": "code",
   "execution_count": 6,
   "id": "f300a424-f456-453a-8697-d47fee52b871",
   "metadata": {},
   "outputs": [
    {
     "ename": "AttributeError",
     "evalue": "'list' object has no attribute 'getNumPartitions'",
     "output_type": "error",
     "traceback": [
      "\u001b[1;31m---------------------------------------------------------------------------\u001b[0m",
      "\u001b[1;31mAttributeError\u001b[0m                            Traceback (most recent call last)",
      "\u001b[1;32mD:\\Temp\\ipykernel_6532\\1729622735.py\u001b[0m in \u001b[0;36m<module>\u001b[1;34m\u001b[0m\n\u001b[1;32m----> 1\u001b[1;33m \u001b[0mmyRDD\u001b[0m\u001b[1;33m.\u001b[0m\u001b[0mgetNumPartitions\u001b[0m\u001b[1;33m(\u001b[0m\u001b[1;33m)\u001b[0m\u001b[1;33m\u001b[0m\u001b[1;33m\u001b[0m\u001b[0m\n\u001b[0m",
      "\u001b[1;31mAttributeError\u001b[0m: 'list' object has no attribute 'getNumPartitions'"
     ]
    }
   ],
   "source": [
    "myRDD.getNumPartitions()"
   ]
  },
  {
   "cell_type": "code",
   "execution_count": null,
   "id": "9b42f531-aec4-4166-8063-977fae3718f2",
   "metadata": {},
   "outputs": [],
   "source": [
    "myRDD.count()"
   ]
  }
 ],
 "metadata": {
  "kernelspec": {
   "display_name": "Python 3 (ipykernel)",
   "language": "python",
   "name": "python3"
  },
  "language_info": {
   "codemirror_mode": {
    "name": "ipython",
    "version": 3
   },
   "file_extension": ".py",
   "mimetype": "text/x-python",
   "name": "python",
   "nbconvert_exporter": "python",
   "pygments_lexer": "ipython3",
   "version": "3.9.13"
  }
 },
 "nbformat": 4,
 "nbformat_minor": 5
}
