{
 "cells": [
  {
   "cell_type": "code",
   "execution_count": 1,
   "metadata": {
    "colab": {
     "base_uri": "https://localhost:8080/"
    },
    "id": "ZonF169hNzbd",
    "outputId": "7e5a920c-372d-4605-bc68-652f0e04b744"
   },
   "outputs": [
    {
     "name": "stdout",
     "output_type": "stream",
     "text": [
      "Requirement already satisfied: pyspark in c:\\users\\marc martinez\\anaconda3\\lib\\site-packages (3.3.1)\n",
      "Requirement already satisfied: py4j==0.10.9.5 in c:\\users\\marc martinez\\anaconda3\\lib\\site-packages (from pyspark) (0.10.9.5)\n"
     ]
    }
   ],
   "source": [
    "!pip install pyspark"
   ]
  },
  {
   "cell_type": "markdown",
   "metadata": {
    "id": "-6QGzCLoNhwN"
   },
   "source": [
    "Comprovar si hi ha una sessió creada"
   ]
  },
  {
   "cell_type": "code",
   "execution_count": 2,
   "metadata": {
    "id": "g9Ji1K3zNdCf"
   },
   "outputs": [],
   "source": [
    "# Import SparkSession from pyspark.sql\n",
    "from pyspark.sql import SparkSession"
   ]
  },
  {
   "cell_type": "markdown",
   "metadata": {
    "id": "Xw7QlbCUPU8r"
   },
   "source": [
    "Normalment utilitzarem la paraula spark pero tambe la podem \"customitzar\".\n",
    "\n",
    "L'ordre és get o Create perquè si n'hi ha una sessió no es crea una nova"
   ]
  },
  {
   "cell_type": "code",
   "execution_count": 3,
   "metadata": {
    "id": "V5IpGXfKO3vP"
   },
   "outputs": [],
   "source": [
    "# Crear my_spark\n",
    "my_spark = SparkSession.builder.getOrCreate()"
   ]
  },
  {
   "cell_type": "markdown",
   "metadata": {
    "id": "xUG3YgecPv7G"
   },
   "source": [
    "Fem un Print"
   ]
  },
  {
   "cell_type": "code",
   "execution_count": 4,
   "metadata": {
    "colab": {
     "base_uri": "https://localhost:8080/"
    },
    "id": "6kbONazXP2_f",
    "outputId": "a6b20b7e-6a4b-4631-a297-d46462d3a50d"
   },
   "outputs": [
    {
     "name": "stdout",
     "output_type": "stream",
     "text": [
      "<pyspark.sql.session.SparkSession object at 0x0000022FAB43F070>\n"
     ]
    }
   ],
   "source": [
    "# Print de la sessió\n",
    "print(my_spark)"
   ]
  },
  {
   "cell_type": "markdown",
   "metadata": {
    "id": "-9eAzvxMR8PP"
   },
   "source": [
    "Afegim més llibreries, us sona?"
   ]
  },
  {
   "cell_type": "code",
   "execution_count": 5,
   "metadata": {
    "id": "rllNRavoSFIL"
   },
   "outputs": [],
   "source": [
    "import numpy as np\n",
    "import pandas as pd\n"
   ]
  },
  {
   "cell_type": "markdown",
   "metadata": {
    "id": "D0ZviMyMTjO5"
   },
   "source": [
    "Crearem un Pandas DataFrame, mai confondre amb un Spark Datafreme. Us encoratjo a investigar la diferència."
   ]
  },
  {
   "cell_type": "code",
   "execution_count": 6,
   "metadata": {
    "id": "pRkiBQ8aT79E"
   },
   "outputs": [],
   "source": [
    "pd_temp = pd.DataFrame(np.random.random(10))"
   ]
  },
  {
   "cell_type": "markdown",
   "metadata": {
    "id": "W17y_hByUgny"
   },
   "source": [
    "Crearem ara un Spark DataFrame"
   ]
  },
  {
   "cell_type": "code",
   "execution_count": 7,
   "metadata": {
    "id": "OdjeIuL8Ura7"
   },
   "outputs": [],
   "source": [
    "# Conseguim spark_temp a partir de pd_temp\n",
    "spark_temp = my_spark.createDataFrame(pd_temp)"
   ]
  },
  {
   "cell_type": "markdown",
   "metadata": {
    "id": "dADv5wSrVT15"
   },
   "source": [
    "Tenim un DataFrame creat amb aquesta sessió que hem anomenat my_spark, però com tenim el Catalog?"
   ]
  },
  {
   "cell_type": "code",
   "execution_count": 8,
   "metadata": {
    "colab": {
     "base_uri": "https://localhost:8080/"
    },
    "id": "rZwWgBYvVhI8",
    "outputId": "24f4c8a3-5168-4039-c516-b31c4da7ccfa"
   },
   "outputs": [
    {
     "name": "stdout",
     "output_type": "stream",
     "text": [
      "[]\n"
     ]
    }
   ],
   "source": [
    "print(my_spark.catalog.listTables())"
   ]
  },
  {
   "cell_type": "markdown",
   "metadata": {
    "id": "K2gQl24AWFlJ"
   },
   "source": [
    "Ens surt buit perquè no hem afegit res al Catalog.\n",
    "\n",
    "Ara anem a afegir \"temp\" al Catalog"
   ]
  },
  {
   "cell_type": "code",
   "execution_count": 9,
   "metadata": {
    "id": "4OwjYQSSWOmc"
   },
   "outputs": [],
   "source": [
    "spark_temp.createOrReplaceTempView(\"temp\")"
   ]
  },
  {
   "cell_type": "markdown",
   "metadata": {
    "id": "f59uaBM6Wmp0"
   },
   "source": [
    "Tornem a comprovar el Catalog"
   ]
  },
  {
   "cell_type": "code",
   "execution_count": 10,
   "metadata": {
    "colab": {
     "base_uri": "https://localhost:8080/"
    },
    "id": "zP7nN3PqW78S",
    "outputId": "f26ec2d6-9dbb-4ea5-fa89-b83011949cd9"
   },
   "outputs": [
    {
     "name": "stdout",
     "output_type": "stream",
     "text": [
      "[Table(name='temp', database=None, description=None, tableType='TEMPORARY', isTemporary=True)]\n"
     ]
    }
   ],
   "source": [
    "print(my_spark.catalog.listTables())"
   ]
  },
  {
   "cell_type": "markdown",
   "metadata": {
    "id": "Jgf2RSXhXYbl"
   },
   "source": [
    "Ara ja tenim una \"Vista\" accessible a tots els scripts que corren en els nodes del cluster"
   ]
  }
 ],
 "metadata": {
  "colab": {
   "provenance": []
  },
  "kernelspec": {
   "display_name": "Python 3 (ipykernel)",
   "language": "python",
   "name": "python3"
  },
  "language_info": {
   "codemirror_mode": {
    "name": "ipython",
    "version": 3
   },
   "file_extension": ".py",
   "mimetype": "text/x-python",
   "name": "python",
   "nbconvert_exporter": "python",
   "pygments_lexer": "ipython3",
   "version": "3.9.13"
  }
 },
 "nbformat": 4,
 "nbformat_minor": 4
}
