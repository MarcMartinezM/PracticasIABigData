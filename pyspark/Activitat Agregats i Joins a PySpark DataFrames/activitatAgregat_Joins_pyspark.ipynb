{
 "cells": [
  {
   "cell_type": "code",
   "execution_count": null,
   "id": "434b5be4-c0fe-48a1-aaaa-153cedb66fe0",
   "metadata": {},
   "outputs": [],
   "source": [
    "from pyspark.sql import SparkSession\n",
    "spark = SparkSession.builder.getOrCreate()\n",
    "flights = spark.read.csv('flights_small.csv', header=True)"
   ]
  },
  {
   "cell_type": "code",
   "execution_count": null,
   "id": "639df44c-6312-4dad-ac33-ecded8b16550",
   "metadata": {},
   "outputs": [],
   "source": [
    "flights.createOrReplaceTempView(\"flights\")\n",
    "flights.show()"
   ]
  },
  {
   "cell_type": "code",
   "execution_count": null,
   "id": "cfbcd62a-54ea-45c4-a569-cc2edd74faaf",
   "metadata": {},
   "outputs": [],
   "source": [
    "#Quin és l’avió («tailnum») amb major petjada de carboni.\n",
    "query = 'FROM flights SELECT max(air_time) as maximo'\n",
    "flightsmaxAir = spark.sql(query).show()\n"
   ]
  },
  {
   "cell_type": "code",
   "execution_count": null,
   "id": "a9125cab-0207-4e5e-9894-1d12d4d463d4",
   "metadata": {},
   "outputs": [],
   "source": [
    "#Quin és l’avió («tailnum») amb menor petjada de carboni. ¿ha estat temps sense volar?\n",
    "query = 'FROM flights SELECT min(air_time) as minimo'\n",
    "flightsminAir = spark.sql(query).show()"
   ]
  },
  {
   "cell_type": "code",
   "execution_count": null,
   "id": "07f966de-7142-4d19-b1e4-6a3035c821d0",
   "metadata": {},
   "outputs": [],
   "source": [
    "#Quina és la petjada promig i la petjada mitjana segons «tailnum».\n",
    "#Si hi aprecieu diferència notable a què ho atribuiu?\n",
    "\n",
    "query = 'FROM flights SELECT avg(air_time) as media'\n",
    "flightsARGAir = spark.sql(query).show()\n",
    "\n",
    "flightsMDXAir = flights['air_time'].median()\n",
    "print(flightsMDXAir)"
   ]
  },
  {
   "cell_type": "code",
   "execution_count": null,
   "id": "0cce91b0-046a-4576-9264-7c379ce50682",
   "metadata": {},
   "outputs": [],
   "source": [
    "#Quina és l’aerolinia amb major petjada de carboni."
   ]
  }
 ],
 "metadata": {
  "kernelspec": {
   "display_name": "Python 3 (ipykernel)",
   "language": "python",
   "name": "python3"
  },
  "language_info": {
   "codemirror_mode": {
    "name": "ipython",
    "version": 3
   },
   "file_extension": ".py",
   "mimetype": "text/x-python",
   "name": "python",
   "nbconvert_exporter": "python",
   "pygments_lexer": "ipython3",
   "version": "3.9.13"
  }
 },
 "nbformat": 4,
 "nbformat_minor": 5
}
