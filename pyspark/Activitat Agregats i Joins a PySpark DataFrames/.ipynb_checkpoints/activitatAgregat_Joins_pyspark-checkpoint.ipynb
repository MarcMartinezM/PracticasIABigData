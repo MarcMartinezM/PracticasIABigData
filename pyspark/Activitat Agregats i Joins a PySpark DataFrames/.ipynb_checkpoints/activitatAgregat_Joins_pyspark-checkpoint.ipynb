{
 "cells": [
  {
   "cell_type": "code",
   "execution_count": 25,
   "id": "434b5be4-c0fe-48a1-aaaa-153cedb66fe0",
   "metadata": {},
   "outputs": [],
   "source": [
    "from pyspark.sql import SparkSession\n",
    "spark = SparkSession.builder.getOrCreate()\n",
    "flights = spark.read.csv('flights_small.csv', header=True)\n",
    "planes = spark.read.csv('planes.csv', header=True)"
   ]
  },
  {
   "cell_type": "code",
   "execution_count": 47,
   "id": "639df44c-6312-4dad-ac33-ecded8b16550",
   "metadata": {},
   "outputs": [
    {
     "name": "stdout",
     "output_type": "stream",
     "text": [
      "+-------+-----+---+--------+---------+--------+---------+-------+-------+------+------+----+--------+--------+----+------+\n",
      "|yearOrg|month|day|dep_time|dep_delay|arr_time|arr_delay|carrier|tailnum|flight|origin|dest|air_time|distance|hour|minute|\n",
      "+-------+-----+---+--------+---------+--------+---------+-------+-------+------+------+----+--------+--------+----+------+\n",
      "|   2014|   12|  8|     658|       -7|     935|       -5|     VX| N846VA|  1780|   SEA| LAX|     132|     954|   6|    58|\n",
      "|   2014|    1| 22|    1040|        5|    1505|        5|     AS| N559AS|   851|   SEA| HNL|     360|    2677|  10|    40|\n",
      "|   2014|    3|  9|    1443|       -2|    1652|        2|     VX| N847VA|   755|   SEA| SFO|     111|     679|  14|    43|\n",
      "|   2014|    4|  9|    1705|       45|    1839|       34|     WN| N360SW|   344|   PDX| SJC|      83|     569|  17|     5|\n",
      "|   2014|    3|  9|     754|       -1|    1015|        1|     AS| N612AS|   522|   SEA| BUR|     127|     937|   7|    54|\n",
      "|   2014|    1| 15|    1037|        7|    1352|        2|     WN| N646SW|    48|   PDX| DEN|     121|     991|  10|    37|\n",
      "|   2014|    7|  2|     847|       42|    1041|       51|     WN| N422WN|  1520|   PDX| OAK|      90|     543|   8|    47|\n",
      "|   2014|    5| 12|    1655|       -5|    1842|      -18|     VX| N361VA|   755|   SEA| SFO|      98|     679|  16|    55|\n",
      "|   2014|    4| 19|    1236|       -4|    1508|       -7|     AS| N309AS|   490|   SEA| SAN|     135|    1050|  12|    36|\n",
      "|   2014|   11| 19|    1812|       -3|    2352|       -4|     AS| N564AS|    26|   SEA| ORD|     198|    1721|  18|    12|\n",
      "|   2014|   11|  8|    1653|       -2|    1924|       -1|     AS| N323AS|   448|   SEA| LAX|     130|     954|  16|    53|\n",
      "|   2014|    8|  3|    1120|        0|    1415|        2|     AS| N305AS|   656|   SEA| PHX|     154|    1107|  11|    20|\n",
      "|   2014|   10| 30|     811|       21|    1038|       29|     AS| N433AS|   608|   SEA| LAS|     127|     867|   8|    11|\n",
      "|   2014|   11| 12|    2346|       -4|     217|      -28|     AS| N765AS|   121|   SEA| ANC|     183|    1448|  23|    46|\n",
      "|   2014|   10| 31|    1314|       89|    1544|      111|     AS| N713AS|   306|   SEA| SFO|     129|     679|  13|    14|\n",
      "|   2014|    1| 29|    2009|        3|    2159|        9|     UA| N27205|  1458|   PDX| SFO|      90|     550|  20|     9|\n",
      "|   2014|   12| 17|    2015|       50|    2150|       41|     AS| N626AS|   368|   SEA| SMF|      76|     605|  20|    15|\n",
      "|   2014|    8| 11|    1017|       -3|    1613|       -7|     WN| N8634A|   827|   SEA| MDW|     216|    1733|  10|    17|\n",
      "|   2014|    1| 13|    2156|       -9|     607|      -15|     AS| N597AS|    24|   SEA| BOS|     290|    2496|  21|    56|\n",
      "|   2014|    6|  5|    1733|      -12|    1945|      -10|     OO| N215AG|  3488|   PDX| BUR|     111|     817|  17|    33|\n",
      "+-------+-----+---+--------+---------+--------+---------+-------+-------+------+------+----+--------+--------+----+------+\n",
      "only showing top 20 rows\n",
      "\n"
     ]
    }
   ],
   "source": [
    "flights.createOrReplaceTempView(\"flights\")\n",
    "planes.createOrReplaceTempView(\"planes\")\n",
    "#flights = flights.dropna(how=\"any\")\n",
    "flights.show()"
   ]
  },
  {
   "cell_type": "code",
   "execution_count": 16,
   "id": "cfbcd62a-54ea-45c4-a569-cc2edd74faaf",
   "metadata": {},
   "outputs": [
    {
     "name": "stdout",
     "output_type": "stream",
     "text": [
      "+----------------+----------------+------------------+\n",
      "|max(air_timeInt)|min(air_timeInt)|  avg(air_timeInt)|\n",
      "+----------------+----------------+------------------+\n",
      "|             409|              20|152.88423173803525|\n",
      "+----------------+----------------+------------------+\n",
      "\n"
     ]
    }
   ],
   "source": [
    "#Quin és l’avió («tailnum») amb major petjada de carboni.\n",
    "#Quin és l’avió («tailnum») amb menor petjada de carboni. ¿ha estat temps sense volar?\n",
    "#Quina és la petjada promig i la petjada mitjana segons «tailnum».\n",
    "#Si hi aprecieu diferència notable a què ho atribuiu?\n",
    "from pyspark.sql.functions import min, max, avg\n",
    "flights.filter('air_time != \"NA\"')\n",
    "flights= flights.withColumn('air_timeInt', flights['air_time'].cast('int'))\n",
    "flights.select(max(\"air_timeInt\"),min(\"air_timeInt\"),avg(\"air_timeInt\")).show()"
   ]
  },
  {
   "cell_type": "code",
   "execution_count": 24,
   "id": "0cce91b0-046a-4576-9264-7c379ce50682",
   "metadata": {},
   "outputs": [
    {
     "name": "stdout",
     "output_type": "stream",
     "text": [
      "+-------+----------------+\n",
      "|carrier|sum(air_timeInt)|\n",
      "+-------+----------------+\n",
      "|     AS|          594898|\n",
      "+-------+----------------+\n",
      "only showing top 1 row\n",
      "\n",
      "+-------+----------------+\n",
      "|carrier|sum(air_timeInt)|\n",
      "+-------+----------------+\n",
      "|     VX|           19990|\n",
      "+-------+----------------+\n",
      "only showing top 1 row\n",
      "\n"
     ]
    }
   ],
   "source": [
    "#Quina és l’aerolinia amb major petjada de carboni.\n",
    "flights.groupBy(\"carrier\").sum(\"air_timeInt\").orderBy(\"sum(air_timeInt)\",ascending = False).show(1)\n",
    "#5. Quina és l’aerolinia amb menor petjada de carboni.\n",
    "flights.groupBy(\"carrier\").sum(\"air_timeInt\").orderBy(\"sum(air_timeInt)\",ascending = True).show(1)"
   ]
  },
  {
   "cell_type": "code",
   "execution_count": 33,
   "id": "1c165a60-790e-4568-9a7a-92d22ee02408",
   "metadata": {},
   "outputs": [
    {
     "name": "stdout",
     "output_type": "stream",
     "text": [
      "+------------+----------------+\n",
      "|manufacturer|sum(air_timeInt)|\n",
      "+------------+----------------+\n",
      "|      BOEING|         1044572|\n",
      "+------------+----------------+\n",
      "only showing top 1 row\n",
      "\n",
      "+-------------+----------------+\n",
      "| manufacturer|sum(air_timeInt)|\n",
      "+-------------+----------------+\n",
      "|BARKER JACK L|             131|\n",
      "+-------------+----------------+\n",
      "only showing top 1 row\n",
      "\n"
     ]
    }
   ],
   "source": [
    "flights=flights.withColumnRenamed(\"year\", \"yearOrg\")\n",
    "flightsJoin = flights.join(planes, on='tailnum',how='left')\n",
    "\n",
    "flightsJoin.filter('air_time != \"NA\"')\n",
    "flightsJoin= flightsJoin.withColumn('air_timeInt', flights['air_time'].cast('int'))\n",
    "\n",
    "#6. Quin és el fabricant d’avions amb major petjada de carboni.ç\n",
    "flightsJoin.groupBy(\"manufacturer\").sum(\"air_timeInt\").orderBy(\"sum(air_timeInt)\",ascending = False).show(1)\n",
    "#7. Quin és el fabricants d’avions amb menor petjada de carboni.\n",
    "flightsJoin.groupBy(\"manufacturer\").sum(\"air_timeInt\").orderBy(\"sum(air_timeInt)\",ascending = True).show(1)"
   ]
  },
  {
   "cell_type": "code",
   "execution_count": 34,
   "id": "b924bb19-5717-42b7-831c-f8ce79e0b5c1",
   "metadata": {},
   "outputs": [
    {
     "name": "stdout",
     "output_type": "stream",
     "text": [
      "+-------+----------------+\n",
      "|  model|sum(air_timeInt)|\n",
      "+-------+----------------+\n",
      "|737-890|          260964|\n",
      "+-------+----------------+\n",
      "only showing top 1 row\n",
      "\n",
      "+-------+----------------+\n",
      "|  model|sum(air_timeInt)|\n",
      "+-------+----------------+\n",
      "|737-3T5|             104|\n",
      "+-------+----------------+\n",
      "only showing top 1 row\n",
      "\n"
     ]
    }
   ],
   "source": [
    "#Quin és el model d’avions amb major petjada de carboni.\n",
    "flightsJoin.groupBy(\"model\").sum(\"air_timeInt\").orderBy(\"sum(air_timeInt)\",ascending = False).show(1)\n",
    "#9. Quin és el model d’avions amb menor petjada de carboni.\n",
    "flightsJoin.groupBy(\"model\").sum(\"air_timeInt\").orderBy(\"sum(air_timeInt)\",ascending = True).show(1)"
   ]
  },
  {
   "cell_type": "code",
   "execution_count": 37,
   "id": "dc0a6a33-a843-4e61-95ad-4a89fad80771",
   "metadata": {},
   "outputs": [
    {
     "name": "stdout",
     "output_type": "stream",
     "text": [
      "+----+----------------+\n",
      "|year|sum(air_timeInt)|\n",
      "+----+----------------+\n",
      "|2001|          134090|\n",
      "|2013|          106472|\n",
      "|null|          102798|\n",
      "|2006|           89694|\n",
      "|2008|           88640|\n",
      "|2007|           86854|\n",
      "|1999|           86733|\n",
      "|2000|           79398|\n",
      "|2014|           72769|\n",
      "|2012|           71847|\n",
      "|1998|           71523|\n",
      "|2009|           59339|\n",
      "|2003|           55231|\n",
      "|2002|           47505|\n",
      "|2005|           42462|\n",
      "|1992|           39326|\n",
      "|2010|           39225|\n",
      "|2011|           34904|\n",
      "|1997|           33159|\n",
      "|2004|           32899|\n",
      "+----+----------------+\n",
      "only showing top 20 rows\n",
      "\n"
     ]
    }
   ],
   "source": [
    "#10. Fes una taula de petjada de carboni en funció dels anys de fabricació dels avions\n",
    "flightsJoin.groupBy(\"year\").sum(\"air_timeInt\").orderBy(\"sum(air_timeInt)\",ascending = False).show()"
   ]
  },
  {
   "cell_type": "code",
   "execution_count": 54,
   "id": "3bbd4fd9-5b5c-4c02-b8d2-d324042313bf",
   "metadata": {},
   "outputs": [
    {
     "name": "stdout",
     "output_type": "stream",
     "text": [
      "+-------+------------------+\n",
      "|carrier|              calc|\n",
      "+-------+------------------+\n",
      "|     HA|1.9008680219640914|\n",
      "+-------+------------------+\n",
      "only showing top 1 row\n",
      "\n"
     ]
    }
   ],
   "source": [
    "#11. Quina és l’aerolinia amb major petjada de carboni normalitzat al número de seients disponible a cada vol.\n",
    "\n",
    "#flightsJoin.groupBy(\"seats\").sum(\"air_timeInt\")/().show()\n",
    "query2 = 'SELECT f.carrier, sum(f.air_time)/sum(p.seats)  as calc FROM flights f , planes p GROUP BY f.carrier ORDER BY calc DESC'\n",
    "flights_counts=spark.sql(query2).show(1)"
   ]
  },
  {
   "cell_type": "code",
   "execution_count": null,
   "id": "fa29da9c-e10d-411e-9f9a-36d23274f4c5",
   "metadata": {},
   "outputs": [],
   "source": []
  }
 ],
 "metadata": {
  "kernelspec": {
   "display_name": "Python 3 (ipykernel)",
   "language": "python",
   "name": "python3"
  },
  "language_info": {
   "codemirror_mode": {
    "name": "ipython",
    "version": 3
   },
   "file_extension": ".py",
   "mimetype": "text/x-python",
   "name": "python",
   "nbconvert_exporter": "python",
   "pygments_lexer": "ipython3",
   "version": "3.9.13"
  }
 },
 "nbformat": 4,
 "nbformat_minor": 5
}
