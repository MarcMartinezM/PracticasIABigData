{
 "cells": [
  {
   "cell_type": "code",
   "execution_count": 1,
   "id": "434b5be4-c0fe-48a1-aaaa-153cedb66fe0",
   "metadata": {},
   "outputs": [],
   "source": [
    "from pyspark.sql import SparkSession\n",
    "spark = SparkSession.builder.getOrCreate()\n",
    "flights = spark.read.csv('flights_small.csv', header=True)\n",
    "planes = spark.read.csv('planes.csv', header=True)\n",
    "airports = spark.read.csv('airports.csv', header=True)"
   ]
  },
  {
   "cell_type": "markdown",
   "id": "4802914e-3b7c-43ba-82be-8ab7d3b34c20",
   "metadata": {},
   "source": [
    "## Estudi de la Petjada de Carboni en funció del temps a l’aire (Petjada de Carboni=airtime)"
   ]
  },
  {
   "cell_type": "code",
   "execution_count": 31,
   "id": "639df44c-6312-4dad-ac33-ecded8b16550",
   "metadata": {},
   "outputs": [
    {
     "name": "stdout",
     "output_type": "stream",
     "text": [
      "+-------+-----+---+--------+---------+--------+---------+-------+-------+------+------+----+--------+--------+----+------+-----------+\n",
      "|yearOrg|month|day|dep_time|dep_delay|arr_time|arr_delay|carrier|tailnum|flight|origin|dest|air_time|distance|hour|minute|air_timeInt|\n",
      "+-------+-----+---+--------+---------+--------+---------+-------+-------+------+------+----+--------+--------+----+------+-----------+\n",
      "|   2014|   12|  8|     658|       -7|     935|       -5|     VX| N846VA|  1780|   SEA| LAX|     132|     954|   6|    58|        132|\n",
      "|   2014|    1| 22|    1040|        5|    1505|        5|     AS| N559AS|   851|   SEA| HNL|     360|    2677|  10|    40|        360|\n",
      "|   2014|    3|  9|    1443|       -2|    1652|        2|     VX| N847VA|   755|   SEA| SFO|     111|     679|  14|    43|        111|\n",
      "|   2014|    4|  9|    1705|       45|    1839|       34|     WN| N360SW|   344|   PDX| SJC|      83|     569|  17|     5|         83|\n",
      "|   2014|    3|  9|     754|       -1|    1015|        1|     AS| N612AS|   522|   SEA| BUR|     127|     937|   7|    54|        127|\n",
      "|   2014|    1| 15|    1037|        7|    1352|        2|     WN| N646SW|    48|   PDX| DEN|     121|     991|  10|    37|        121|\n",
      "|   2014|    7|  2|     847|       42|    1041|       51|     WN| N422WN|  1520|   PDX| OAK|      90|     543|   8|    47|         90|\n",
      "|   2014|    5| 12|    1655|       -5|    1842|      -18|     VX| N361VA|   755|   SEA| SFO|      98|     679|  16|    55|         98|\n",
      "|   2014|    4| 19|    1236|       -4|    1508|       -7|     AS| N309AS|   490|   SEA| SAN|     135|    1050|  12|    36|        135|\n",
      "|   2014|   11| 19|    1812|       -3|    2352|       -4|     AS| N564AS|    26|   SEA| ORD|     198|    1721|  18|    12|        198|\n",
      "|   2014|   11|  8|    1653|       -2|    1924|       -1|     AS| N323AS|   448|   SEA| LAX|     130|     954|  16|    53|        130|\n",
      "|   2014|    8|  3|    1120|        0|    1415|        2|     AS| N305AS|   656|   SEA| PHX|     154|    1107|  11|    20|        154|\n",
      "|   2014|   10| 30|     811|       21|    1038|       29|     AS| N433AS|   608|   SEA| LAS|     127|     867|   8|    11|        127|\n",
      "|   2014|   11| 12|    2346|       -4|     217|      -28|     AS| N765AS|   121|   SEA| ANC|     183|    1448|  23|    46|        183|\n",
      "|   2014|   10| 31|    1314|       89|    1544|      111|     AS| N713AS|   306|   SEA| SFO|     129|     679|  13|    14|        129|\n",
      "|   2014|    1| 29|    2009|        3|    2159|        9|     UA| N27205|  1458|   PDX| SFO|      90|     550|  20|     9|         90|\n",
      "|   2014|   12| 17|    2015|       50|    2150|       41|     AS| N626AS|   368|   SEA| SMF|      76|     605|  20|    15|         76|\n",
      "|   2014|    8| 11|    1017|       -3|    1613|       -7|     WN| N8634A|   827|   SEA| MDW|     216|    1733|  10|    17|        216|\n",
      "|   2014|    1| 13|    2156|       -9|     607|      -15|     AS| N597AS|    24|   SEA| BOS|     290|    2496|  21|    56|        290|\n",
      "|   2014|    6|  5|    1733|      -12|    1945|      -10|     OO| N215AG|  3488|   PDX| BUR|     111|     817|  17|    33|        111|\n",
      "+-------+-----+---+--------+---------+--------+---------+-------+-------+------+------+----+--------+--------+----+------+-----------+\n",
      "only showing top 20 rows\n",
      "\n"
     ]
    }
   ],
   "source": [
    "flights.createOrReplaceTempView(\"flights\")\n",
    "planes.createOrReplaceTempView(\"planes\")\n",
    "airports.createOrReplaceTempView(\"airports\")\n",
    "#flights = flights.dropna(how=\"any\")\n",
    "flights.show()"
   ]
  },
  {
   "cell_type": "code",
   "execution_count": 44,
   "id": "cfbcd62a-54ea-45c4-a569-cc2edd74faaf",
   "metadata": {},
   "outputs": [
    {
     "name": "stdout",
     "output_type": "stream",
     "text": [
      "+----------------+----------------+------------------+\n",
      "|max(air_timeInt)|min(air_timeInt)|  avg(air_timeInt)|\n",
      "+----------------+----------------+------------------+\n",
      "|             409|              20|152.88423173803525|\n",
      "+----------------+----------------+------------------+\n",
      "\n",
      "+-------+----------------+\n",
      "|tailnum|max(air_timeInt)|\n",
      "+-------+----------------+\n",
      "| N516AS|             409|\n",
      "+-------+----------------+\n",
      "only showing top 1 row\n",
      "\n",
      "+-------+----------------+\n",
      "|tailnum|min(air_timeInt)|\n",
      "+-------+----------------+\n",
      "| N805JB|            null|\n",
      "| N3BWAA|            null|\n",
      "| N3CTAA|            null|\n",
      "|     NA|            null|\n",
      "| N917SW|            null|\n",
      "| N403AS|              20|\n",
      "| N586AS|              20|\n",
      "| N560AS|              20|\n",
      "| N284YV|              24|\n",
      "| N579SW|              24|\n",
      "| N778AS|              24|\n",
      "| N295SW|              24|\n",
      "| N816SK|              25|\n",
      "| N583SW|              25|\n",
      "| N814SK|              25|\n",
      "| N292SW|              25|\n",
      "| N568SW|              25|\n",
      "| N520AS|              25|\n",
      "| N812SK|              25|\n",
      "| N585SW|              25|\n",
      "+-------+----------------+\n",
      "only showing top 20 rows\n",
      "\n"
     ]
    }
   ],
   "source": [
    "#Quin és l’avió («tailnum») amb major petjada de carboni.\n",
    "#Quin és l’avió («tailnum») amb menor petjada de carboni. ¿ha estat temps sense volar?\n",
    "#Quina és la petjada promig i la petjada mitjana segons «tailnum».\n",
    "#Si hi aprecieu diferència notable a què ho atribuiu?\n",
    "from pyspark.sql.functions import *\n",
    "flights.filter('air_time != \"NA\"')\n",
    "flights= flights.withColumn('air_timeInt', flights['air_time'].cast('int'))\n",
    "flights.select(max(\"air_timeInt\"),min(\"air_timeInt\"),avg(\"air_timeInt\")).show()\n",
    "flights.groupBy(\"tailnum\").max(\"air_timeInt\").orderBy(\"max(air_timeInt)\",ascending = False).show(1)\n",
    "flights.groupBy(\"tailnum\").min(\"air_timeInt\").orderBy(\"min(air_timeInt)\",ascending = True).show()"
   ]
  },
  {
   "cell_type": "code",
   "execution_count": 4,
   "id": "0cce91b0-046a-4576-9264-7c379ce50682",
   "metadata": {},
   "outputs": [
    {
     "name": "stdout",
     "output_type": "stream",
     "text": [
      "+-------+----------------+\n",
      "|carrier|sum(air_timeInt)|\n",
      "+-------+----------------+\n",
      "|     AS|          594898|\n",
      "+-------+----------------+\n",
      "only showing top 1 row\n",
      "\n",
      "+-------+----------------+\n",
      "|carrier|sum(air_timeInt)|\n",
      "+-------+----------------+\n",
      "|     VX|           19990|\n",
      "+-------+----------------+\n",
      "only showing top 1 row\n",
      "\n"
     ]
    }
   ],
   "source": [
    "#Quina és l’aerolinia amb major petjada de carboni.\n",
    "flights.groupBy(\"carrier\").sum(\"air_timeInt\").orderBy(\"sum(air_timeInt)\",ascending = False).show(1)\n",
    "#5. Quina és l’aerolinia amb menor petjada de carboni.\n",
    "flights.groupBy(\"carrier\").sum(\"air_timeInt\").orderBy(\"sum(air_timeInt)\",ascending = True).show(1)"
   ]
  },
  {
   "cell_type": "code",
   "execution_count": 5,
   "id": "1c165a60-790e-4568-9a7a-92d22ee02408",
   "metadata": {},
   "outputs": [
    {
     "name": "stdout",
     "output_type": "stream",
     "text": [
      "+-------+-------+-----+---+--------+---------+--------+---------+-------+------+------+----+--------+--------+----+------+-----------+----+--------------------+--------------+-----------+-------+-----+-----+---------+\n",
      "|tailnum|yearOrg|month|day|dep_time|dep_delay|arr_time|arr_delay|carrier|flight|origin|dest|air_time|distance|hour|minute|air_timeInt|year|                type|  manufacturer|      model|engines|seats|speed|   engine|\n",
      "+-------+-------+-----+---+--------+---------+--------+---------+-------+------+------+----+--------+--------+----+------+-----------+----+--------------------+--------------+-----------+-------+-----+-----+---------+\n",
      "| N846VA|   2014|   12|  8|     658|       -7|     935|       -5|     VX|  1780|   SEA| LAX|     132|     954|   6|    58|        132|2011|Fixed wing multi ...|        AIRBUS|   A320-214|      2|  182|   NA|Turbo-fan|\n",
      "| N559AS|   2014|    1| 22|    1040|        5|    1505|        5|     AS|   851|   SEA| HNL|     360|    2677|  10|    40|        360|2006|Fixed wing multi ...|        BOEING|    737-890|      2|  149|   NA|Turbo-fan|\n",
      "| N847VA|   2014|    3|  9|    1443|       -2|    1652|        2|     VX|   755|   SEA| SFO|     111|     679|  14|    43|        111|2011|Fixed wing multi ...|        AIRBUS|   A320-214|      2|  182|   NA|Turbo-fan|\n",
      "| N360SW|   2014|    4|  9|    1705|       45|    1839|       34|     WN|   344|   PDX| SJC|      83|     569|  17|     5|         83|1992|Fixed wing multi ...|        BOEING|    737-3H4|      2|  149|   NA|Turbo-fan|\n",
      "| N612AS|   2014|    3|  9|     754|       -1|    1015|        1|     AS|   522|   SEA| BUR|     127|     937|   7|    54|        127|1999|Fixed wing multi ...|        BOEING|    737-790|      2|  151|   NA|Turbo-jet|\n",
      "| N646SW|   2014|    1| 15|    1037|        7|    1352|        2|     WN|    48|   PDX| DEN|     121|     991|  10|    37|        121|1997|Fixed wing multi ...|        BOEING|    737-3H4|      2|  149|   NA|Turbo-fan|\n",
      "| N422WN|   2014|    7|  2|     847|       42|    1041|       51|     WN|  1520|   PDX| OAK|      90|     543|   8|    47|         90|2002|Fixed wing multi ...|        BOEING|    737-7H4|      2|  140|   NA|Turbo-fan|\n",
      "| N361VA|   2014|    5| 12|    1655|       -5|    1842|      -18|     VX|   755|   SEA| SFO|      98|     679|  16|    55|         98|2013|Fixed wing multi ...|        AIRBUS|   A320-214|      2|  182|   NA|Turbo-fan|\n",
      "| N309AS|   2014|    4| 19|    1236|       -4|    1508|       -7|     AS|   490|   SEA| SAN|     135|    1050|  12|    36|        135|2001|Fixed wing multi ...|        BOEING|    737-990|      2|  149|   NA|Turbo-jet|\n",
      "| N564AS|   2014|   11| 19|    1812|       -3|    2352|       -4|     AS|    26|   SEA| ORD|     198|    1721|  18|    12|        198|2006|Fixed wing multi ...|        BOEING|    737-890|      2|  149|   NA|Turbo-fan|\n",
      "| N323AS|   2014|   11|  8|    1653|       -2|    1924|       -1|     AS|   448|   SEA| LAX|     130|     954|  16|    53|        130|2004|Fixed wing multi ...|        BOEING|    737-990|      2|  149|   NA|Turbo-jet|\n",
      "| N305AS|   2014|    8|  3|    1120|        0|    1415|        2|     AS|   656|   SEA| PHX|     154|    1107|  11|    20|        154|2001|Fixed wing multi ...|        BOEING|    737-990|      2|  149|   NA|Turbo-jet|\n",
      "| N433AS|   2014|   10| 30|     811|       21|    1038|       29|     AS|   608|   SEA| LAS|     127|     867|   8|    11|        127|2013|Fixed wing multi ...|        BOEING|  737-990ER|      2|  222|   NA|Turbo-fan|\n",
      "| N765AS|   2014|   11| 12|    2346|       -4|     217|      -28|     AS|   121|   SEA| ANC|     183|    1448|  23|    46|        183|1992|Fixed wing multi ...|        BOEING|    737-4Q8|      2|  149|   NA|Turbo-fan|\n",
      "| N713AS|   2014|   10| 31|    1314|       89|    1544|      111|     AS|   306|   SEA| SFO|     129|     679|  13|    14|        129|1999|Fixed wing multi ...|        BOEING|    737-490|      2|  149|   NA|Turbo-jet|\n",
      "| N27205|   2014|    1| 29|    2009|        3|    2159|        9|     UA|  1458|   PDX| SFO|      90|     550|  20|     9|         90|2000|Fixed wing multi ...|        BOEING|    737-824|      2|  149|   NA|Turbo-fan|\n",
      "| N626AS|   2014|   12| 17|    2015|       50|    2150|       41|     AS|   368|   SEA| SMF|      76|     605|  20|    15|         76|2001|Fixed wing multi ...|        BOEING|    737-790|      2|  151|   NA|Turbo-jet|\n",
      "| N8634A|   2014|    8| 11|    1017|       -3|    1613|       -7|     WN|   827|   SEA| MDW|     216|    1733|  10|    17|        216|2014|Fixed wing multi ...|        BOEING|    737-8H4|      2|  140|   NA|Turbo-fan|\n",
      "| N597AS|   2014|    1| 13|    2156|       -9|     607|      -15|     AS|    24|   SEA| BOS|     290|    2496|  21|    56|        290|2008|Fixed wing multi ...|        BOEING|    737-890|      2|  149|   NA|Turbo-fan|\n",
      "| N215AG|   2014|    6|  5|    1733|      -12|    1945|      -10|     OO|  3488|   PDX| BUR|     111|     817|  17|    33|        111|2001|Fixed wing multi ...|BOMBARDIER INC|CL-600-2C10|      2|   80|   NA|Turbo-fan|\n",
      "+-------+-------+-----+---+--------+---------+--------+---------+-------+------+------+----+--------+--------+----+------+-----------+----+--------------------+--------------+-----------+-------+-----+-----+---------+\n",
      "only showing top 20 rows\n",
      "\n",
      "+------------+----------------+\n",
      "|manufacturer|sum(air_timeInt)|\n",
      "+------------+----------------+\n",
      "|      BOEING|         1044572|\n",
      "+------------+----------------+\n",
      "only showing top 1 row\n",
      "\n",
      "+-------------+----------------+\n",
      "| manufacturer|sum(air_timeInt)|\n",
      "+-------------+----------------+\n",
      "|BARKER JACK L|             131|\n",
      "+-------------+----------------+\n",
      "only showing top 1 row\n",
      "\n"
     ]
    }
   ],
   "source": [
    "flights=flights.withColumnRenamed(\"year\", \"yearOrg\")\n",
    "flightsJoin = flights.join(planes, on='tailnum',how='left')\n",
    "\n",
    "flightsJoin.filter('air_time != \"NA\"')\n",
    "flightsJoin= flightsJoin.withColumn('air_timeInt', flights['air_time'].cast('int'))\n",
    "flightsJoin.show()\n",
    "#6. Quin és el fabricant d’avions amb major petjada de carboni.ç\n",
    "flightsJoin.groupBy(\"manufacturer\").sum(\"air_timeInt\").orderBy(\"sum(air_timeInt)\",ascending = False).show(1)\n",
    "#7. Quin és el fabricants d’avions amb menor petjada de carboni.\n",
    "flightsJoin.groupBy(\"manufacturer\").sum(\"air_timeInt\").orderBy(\"sum(air_timeInt)\",ascending = True).show(1)"
   ]
  },
  {
   "cell_type": "code",
   "execution_count": 6,
   "id": "b924bb19-5717-42b7-831c-f8ce79e0b5c1",
   "metadata": {},
   "outputs": [
    {
     "name": "stdout",
     "output_type": "stream",
     "text": [
      "+-------+----------------+\n",
      "|  model|sum(air_timeInt)|\n",
      "+-------+----------------+\n",
      "|737-890|          260964|\n",
      "+-------+----------------+\n",
      "only showing top 1 row\n",
      "\n",
      "+-------+----------------+\n",
      "|  model|sum(air_timeInt)|\n",
      "+-------+----------------+\n",
      "|737-3T5|             104|\n",
      "+-------+----------------+\n",
      "only showing top 1 row\n",
      "\n"
     ]
    }
   ],
   "source": [
    "#Quin és el model d’avions amb major petjada de carboni.\n",
    "flightsJoin.groupBy(\"model\").sum(\"air_timeInt\").orderBy(\"sum(air_timeInt)\",ascending = False).show(1)\n",
    "#9. Quin és el model d’avions amb menor petjada de carboni.\n",
    "flightsJoin.groupBy(\"model\").sum(\"air_timeInt\").orderBy(\"sum(air_timeInt)\",ascending = True).show(1)"
   ]
  },
  {
   "cell_type": "code",
   "execution_count": 7,
   "id": "dc0a6a33-a843-4e61-95ad-4a89fad80771",
   "metadata": {},
   "outputs": [
    {
     "name": "stdout",
     "output_type": "stream",
     "text": [
      "+----+----------------+\n",
      "|year|sum(air_timeInt)|\n",
      "+----+----------------+\n",
      "|2001|          134090|\n",
      "|2013|          106472|\n",
      "|null|          102798|\n",
      "|2006|           89694|\n",
      "|2008|           88640|\n",
      "|2007|           86854|\n",
      "|1999|           86733|\n",
      "|2000|           79398|\n",
      "|2014|           72769|\n",
      "|2012|           71847|\n",
      "|1998|           71523|\n",
      "|2009|           59339|\n",
      "|2003|           55231|\n",
      "|2002|           47505|\n",
      "|2005|           42462|\n",
      "|1992|           39326|\n",
      "|2010|           39225|\n",
      "|2011|           34904|\n",
      "|1997|           33159|\n",
      "|2004|           32899|\n",
      "+----+----------------+\n",
      "only showing top 20 rows\n",
      "\n"
     ]
    }
   ],
   "source": [
    "#10. Fes una taula de petjada de carboni en funció dels anys de fabricació dels avions\n",
    "flightsJoin.groupBy(\"year\").sum(\"air_timeInt\").orderBy(\"sum(air_timeInt)\",ascending = False).show()"
   ]
  },
  {
   "cell_type": "code",
   "execution_count": 8,
   "id": "3bbd4fd9-5b5c-4c02-b8d2-d324042313bf",
   "metadata": {},
   "outputs": [
    {
     "name": "stdout",
     "output_type": "stream",
     "text": [
      "+-------+------------------+\n",
      "|carrier|              calc|\n",
      "+-------+------------------+\n",
      "|     HA|1.9008680219640914|\n",
      "+-------+------------------+\n",
      "only showing top 1 row\n",
      "\n",
      "+-------+------------------+\n",
      "|carrier|              calc|\n",
      "+-------+------------------+\n",
      "|     OO|0.4972228614464721|\n",
      "+-------+------------------+\n",
      "only showing top 1 row\n",
      "\n"
     ]
    }
   ],
   "source": [
    "#11. Quina és l’aerolinia amb major petjada de carboni normalitzat al número de seients disponible a cada vol.\n",
    "\n",
    "#flightsJoin.groupBy(\"seats\").sum(\"air_timeInt\")/().show()\n",
    "query2 = 'SELECT f.carrier, sum(f.air_time)/sum(p.seats)  as calc FROM flights f , planes p GROUP BY f.carrier ORDER BY calc DESC'\n",
    "flights_counts=spark.sql(query2).show(1)\n",
    "#12. Quina és l’aerolinia amb menor petjada de carboni normalitzat al número de seients disponible a cada vol.\n",
    "\n",
    "query2 = 'SELECT f.carrier, sum(f.air_time)/sum(p.seats)  as calc FROM flights f , planes p GROUP BY f.carrier ORDER BY calc ASC'\n",
    "flights_counts=spark.sql(query2).show(1)"
   ]
  },
  {
   "cell_type": "code",
   "execution_count": 9,
   "id": "c3c434d0-5292-4a67-8a8e-03d71a7497a3",
   "metadata": {},
   "outputs": [
    {
     "name": "stdout",
     "output_type": "stream",
     "text": [
      "+-------------+-------+\n",
      "| manufacturer|   calc|\n",
      "+-------------+-------+\n",
      "|BARKER JACK L|75.8688|\n",
      "+-------------+-------+\n",
      "only showing top 1 row\n",
      "\n",
      "+------------+------------------+\n",
      "|manufacturer|              calc|\n",
      "+------------+------------------+\n",
      "|      AIRBUS|0.6647666821161359|\n",
      "+------------+------------------+\n",
      "only showing top 1 row\n",
      "\n"
     ]
    }
   ],
   "source": [
    "#13. Quin és el fabricant d’avions amb major petjada de carboni normalitzat al número de seients disponible a cada vol.\n",
    "query2 = 'SELECT p.manufacturer, sum(f.air_time)/sum(p.seats)  as calc FROM flights f , planes p GROUP BY p.manufacturer ORDER BY calc DESC'\n",
    "flights_counts=spark.sql(query2).show(1)\n",
    "#14. Quin és el fabricants d’avions amb menor petjada de carboni normalitzat al número de seients disponible a cada vol.\n",
    "query2 = 'SELECT p.manufacturer, sum(f.air_time)/sum(p.seats)  as calc FROM flights f , planes p GROUP BY p.manufacturer ORDER BY calc ASC'\n",
    "flights_counts=spark.sql(query2).show(1)"
   ]
  },
  {
   "cell_type": "code",
   "execution_count": 10,
   "id": "15b6d990-9a39-4425-84be-abd627b488f2",
   "metadata": {},
   "outputs": [
    {
     "name": "stdout",
     "output_type": "stream",
     "text": [
      "+---------+-------+\n",
      "|    model|   calc|\n",
      "+---------+-------+\n",
      "|KITFOX IV|75.8688|\n",
      "+---------+-------+\n",
      "only showing top 1 row\n",
      "\n",
      "+-------+-------------------+\n",
      "|  model|               calc|\n",
      "+-------+-------------------+\n",
      "|747-451|0.33719466666666664|\n",
      "+-------+-------------------+\n",
      "only showing top 1 row\n",
      "\n"
     ]
    }
   ],
   "source": [
    "#15. Quin és el model d’avions amb major petjada de carboni normalitzat al número de seients disponible a cada vol.\n",
    "query2 = 'SELECT p.model, sum(f.air_time)/sum(p.seats)  as calc FROM flights f , planes p GROUP BY p.model ORDER BY calc DESC'\n",
    "flights_counts=spark.sql(query2).show(1)\n",
    "#16. Quin és el model d’avions amb menor petjada de carboni normalitzat al número de seients disponible a cada vol.\n",
    "query2 = 'SELECT p.model, sum(f.air_time)/sum(p.seats)  as calc FROM flights f , planes p GROUP BY p.model ORDER BY calc ASC'\n",
    "flights_counts=spark.sql(query2).show(1)"
   ]
  },
  {
   "cell_type": "code",
   "execution_count": 11,
   "id": "1cd04898-639d-4be4-9f01-4cabf241cb48",
   "metadata": {},
   "outputs": [
    {
     "name": "stdout",
     "output_type": "stream",
     "text": [
      "+----+------------------+\n",
      "|year|              calc|\n",
      "+----+------------------+\n",
      "|1959|           75.8688|\n",
      "|1968|           37.9344|\n",
      "|1975| 33.71946666666667|\n",
      "|1963|           25.2896|\n",
      "|1976|           21.6768|\n",
      "|1980|           18.9672|\n",
      "|   0|            4.7418|\n",
      "|2005|1.1084484106614019|\n",
      "|2003|1.0732256800870512|\n",
      "|1985|1.0556883116883118|\n",
      "|1996|1.0554639358516085|\n",
      "|2006|1.0124804670802272|\n",
      "|2004|1.0079188405797102|\n",
      "|1995|1.0037768467475192|\n",
      "|2008|0.9516706467072954|\n",
      "|  NA|0.9478663196251952|\n",
      "|2010|0.9339614279852277|\n",
      "|1998|0.9133552299829643|\n",
      "|2002|0.9088557582357746|\n",
      "|1997|0.9071126667821868|\n",
      "+----+------------------+\n",
      "only showing top 20 rows\n",
      "\n"
     ]
    }
   ],
   "source": [
    "#17. Fes una taula de petjada de carboni en funció dels anys de fabricació dels avions normalitzat al número de seients disponible a cada vol.\n",
    "query2 = 'SELECT p.year, sum(f.air_time)/sum(p.seats)  as calc FROM flights f , planes p GROUP BY p.year ORDER BY calc DESC'\n",
    "flights_counts=spark.sql(query2).show()"
   ]
  },
  {
   "cell_type": "markdown",
   "id": "148800fa-1cf8-4cd0-8161-532fdd892b11",
   "metadata": {},
   "source": [
    "## Estudi de la Puntualitat"
   ]
  },
  {
   "cell_type": "code",
   "execution_count": 12,
   "id": "b89d6690-4cc4-4c75-973c-3e87a82ed6b5",
   "metadata": {},
   "outputs": [],
   "source": [
    "flightsJoin= flightsJoin.withColumn('retard', flightsJoin['dep_delay']+flightsJoin['arr_delay'])"
   ]
  },
  {
   "cell_type": "code",
   "execution_count": 13,
   "id": "09309908-e19c-4f1e-986c-6b4baa66d59c",
   "metadata": {},
   "outputs": [
    {
     "name": "stdout",
     "output_type": "stream",
     "text": [
      "+-------+-----------+\n",
      "|carrier|max(retard)|\n",
      "+-------+-----------+\n",
      "|     DL|     1786.0|\n",
      "+-------+-----------+\n",
      "only showing top 1 row\n",
      "\n"
     ]
    }
   ],
   "source": [
    "#Quina és l’aerolinia amb més retard?\n",
    "flightsJoin.groupBy(\"carrier\").max(\"retard\").orderBy(\"max(retard)\",ascending = False).show(1)"
   ]
  },
  {
   "cell_type": "code",
   "execution_count": 14,
   "id": "f2dbbec4-1301-4d8e-978f-e1b0d99ea42d",
   "metadata": {},
   "outputs": [
    {
     "name": "stdout",
     "output_type": "stream",
     "text": [
      "+-------+------------------+\n",
      "|carrier|       retard_vols|\n",
      "+-------+------------------+\n",
      "|     WN| 17.98780487804878|\n",
      "|     AA|17.852697095435683|\n",
      "|     UA|13.159847764034254|\n",
      "|     F9| 11.87292817679558|\n",
      "|     B6|  9.44392523364486|\n",
      "|     VX| 8.725806451612904|\n",
      "|     DL| 7.829944547134935|\n",
      "|     OO| 5.306070826306914|\n",
      "|     HA|5.2465753424657535|\n",
      "|     AS|3.5544397463002113|\n",
      "|     US|1.5095367847411445|\n",
      "+-------+------------------+\n",
      "\n"
     ]
    }
   ],
   "source": [
    "#2. Quina és l’aerolinia amb més retard normalitzat al número de vols operats?\n",
    "query = \"select f.carrier, sum(f.dep_delay+f.arr_delay)/count(f.carrier) as retard_vols FROM flights f GROUP BY f.carrier ORDER BY retard_vols DESC \"\n",
    "flights_retard_vols=spark.sql(query).show()"
   ]
  },
  {
   "cell_type": "code",
   "execution_count": 15,
   "id": "7c3de4fa-7359-452f-8c49-693149a6151b",
   "metadata": {},
   "outputs": [
    {
     "name": "stdout",
     "output_type": "stream",
     "text": [
      "+-------+------------------+\n",
      "|carrier|     retard_avions|\n",
      "+-------+------------------+\n",
      "|     WN| 17.98780487804878|\n",
      "|     AA|17.852697095435683|\n",
      "|     UA|13.159847764034254|\n",
      "|     F9| 11.87292817679558|\n",
      "|     B6|  9.44392523364486|\n",
      "|     VX| 8.725806451612904|\n",
      "|     DL| 7.829944547134935|\n",
      "|     OO| 5.306070826306914|\n",
      "|     HA|5.2465753424657535|\n",
      "|     AS|3.5544397463002113|\n",
      "|     US|1.5095367847411445|\n",
      "+-------+------------------+\n",
      "\n"
     ]
    }
   ],
   "source": [
    "#Quina és l’aerolinia amb més retard normalitzat al número d’avions disponibles? Afecta tenir més o menys avions (flota)?\n",
    "query = \"select f.carrier, sum(f.dep_delay+f.arr_delay)/count(f.tailnum) as retard_avions FROM flights f GROUP BY f.carrier ORDER BY retard_avions DESC \"\n",
    "flights_retard_avions=spark.sql(query).show()\n",
    "\n",
    "#retard_avions= (flightsJoin.retard/flightsJoin.tailnum.count()).alias(\"retard_avions\")\n",
    "#flights_retard_avions=flightsJoin.select(\"carrier\",retard_avions)\n",
    "#flights_retard_avions.show()      "
   ]
  },
  {
   "cell_type": "code",
   "execution_count": 16,
   "id": "a4a4d8b5-c2d7-4076-8cfa-f0f5f4521b75",
   "metadata": {},
   "outputs": [
    {
     "name": "stdout",
     "output_type": "stream",
     "text": [
      "+----+-------+------+\n",
      "|year|tailnum|retard|\n",
      "+----+-------+------+\n",
      "|2011| N846VA| -12.0|\n",
      "|2006| N559AS|  10.0|\n",
      "|2011| N847VA|   0.0|\n",
      "|1992| N360SW|  79.0|\n",
      "|1999| N612AS|   0.0|\n",
      "|1997| N646SW|   9.0|\n",
      "|2002| N422WN|  93.0|\n",
      "|2013| N361VA| -23.0|\n",
      "|2001| N309AS| -11.0|\n",
      "|2006| N564AS|  -7.0|\n",
      "|2004| N323AS|  -3.0|\n",
      "|2001| N305AS|   2.0|\n",
      "|2013| N433AS|  50.0|\n",
      "|1992| N765AS| -32.0|\n",
      "|1999| N713AS| 200.0|\n",
      "|2000| N27205|  12.0|\n",
      "|2001| N626AS|  91.0|\n",
      "|2014| N8634A| -10.0|\n",
      "|2008| N597AS| -24.0|\n",
      "|2001| N215AG| -22.0|\n",
      "+----+-------+------+\n",
      "only showing top 20 rows\n",
      "\n"
     ]
    }
   ],
   "source": [
    "#Fes una taula: en una columna anys de posada en servei i en l’altra de retard. Es pot deduir que l’edat de l’avió afecta a la puntualitat?\n",
    "taulaYearRetard = flightsJoin.select(\"year\", \"tailnum\", \"retard\")\n",
    "taulaYearRetard.show()"
   ]
  },
  {
   "cell_type": "code",
   "execution_count": 17,
   "id": "2a31977f-4ab7-4e01-b440-ee7b92747c3d",
   "metadata": {},
   "outputs": [
    {
     "name": "stdout",
     "output_type": "stream",
     "text": [
      "+-------+------------------+\n",
      "|carrier|    avg(yearsTail)|\n",
      "+-------+------------------+\n",
      "|     UA|11.719066937119676|\n",
      "|     AA|26.511111111111113|\n",
      "|     B6| 8.502439024390243|\n",
      "|     DL|14.669758812615955|\n",
      "|     OO| 25.36558219178082|\n",
      "|     F9| 7.372222222222222|\n",
      "|     US|11.390173410404625|\n",
      "|     HA|               3.0|\n",
      "|     AS| 9.155746509129967|\n",
      "|     VX| 5.276243093922652|\n",
      "|     WN|11.358600583090379|\n",
      "+-------+------------------+\n",
      "\n"
     ]
    }
   ],
   "source": [
    "import seaborn as sns\n",
    "\n",
    "#5. (Opcional) Fes un gràfic amb la taula anterior.\n",
    "#sns.barplot(x='year', y='retard', data=taulaYearRetard)\n",
    "#6. Agafem la taula anterior i hi afegim la granularitat de l'aerolínia és a dir estudiem l’edat dels avions per cada aerolínia. Es pot fer alguna hipótesi relacionada amb la gestió d’alguna aerolínia?\n",
    "taulaYearRetard = flightsJoin.select(\"carrier\",\"year\", \"tailnum\", \"retard\",\"yearOrg\")\n",
    "taulaYearRetard= taulaYearRetard.withColumn('yearsTail', taulaYearRetard['yearOrg']-taulaYearRetard['year'])\n",
    "granularitatAerolinia = taulaYearRetard.groupBy(\"carrier\").avg(\"yearsTail\")\n",
    "granularitatAerolinia.show()"
   ]
  },
  {
   "cell_type": "code",
   "execution_count": 28,
   "id": "5c974ceb-ca48-4c53-acbc-aee861f8b958",
   "metadata": {},
   "outputs": [
    {
     "name": "stdout",
     "output_type": "stream",
     "text": [
      "+-------+-----+------+-------------------+\n",
      "|tailnum|seats|retard|  avg(retard_seats)|\n",
      "+-------+-----+------+-------------------+\n",
      "| N467WN|  140|  58.0|  2.413793103448276|\n",
      "| N534AS|  149| -19.0| -7.842105263157895|\n",
      "| N948WN|  140|  21.0|  6.666666666666667|\n",
      "| N33284|  149| -14.0|-10.642857142857142|\n",
      "| N440AS|  222|  21.0| 10.571428571428571|\n",
      "| N566UA|  178|  -9.0| -19.77777777777778|\n",
      "| N63820|  191|  92.0| 2.0760869565217392|\n",
      "| N207FR|  182| -13.0|              -14.0|\n",
      "| N660AW|  200|  -2.0|             -100.0|\n",
      "| N781WN|  140|  52.0| 2.6923076923076925|\n",
      "| N549CA|   95| -18.0| -5.277777777777778|\n",
      "| N219FR|  182|   4.0|               45.5|\n",
      "| N980SW|   55| -11.0|               -5.0|\n",
      "| N3746H|  189| -13.0|-14.538461538461538|\n",
      "| N547UW|  379| -15.0|-25.266666666666666|\n",
      "| N561JB|  200|  -3.0| -66.66666666666667|\n",
      "| N647AW|  200|  38.0| 5.2631578947368425|\n",
      "| N478UA|  200| -13.0|-15.384615384615385|\n",
      "| N506AS|  149|   5.0|               29.8|\n",
      "| N769AS|  149|  -5.0|              -29.8|\n",
      "+-------+-----+------+-------------------+\n",
      "only showing top 20 rows\n",
      "\n"
     ]
    }
   ],
   "source": [
    "#7. (Opcional) Fes un gràfic amb la taula anterior.\n",
    "#granularitatAerolinia.barplot()\n",
    "\n",
    "#8. Agafem la taula anterior i enlloc de granular per aerolínia granulem per «seats». Es pot deduir que a major nombre de seients disponibles més retard? Hi ha colinialitat?\n",
    "taulaSeatsRetard = flightsJoin.select(\"tailnum\", \"retard\",\"seats\")\n",
    "taulaSeatsRetard= taulaSeatsRetard.withColumn('retard_seats', taulaSeatsRetard['seats']/taulaSeatsRetard['retard'])\n",
    "granularitatAerolinia = taulaSeatsRetard.groupBy(\"tailnum\",\"seats\",\"retard\").avg(\"retard_seats\")\n",
    "granularitatAerolinia.show()"
   ]
  },
  {
   "cell_type": "code",
   "execution_count": 39,
   "id": "0b20f651-99b4-4293-b3f1-4fcdce49fc4d",
   "metadata": {},
   "outputs": [
    {
     "name": "stdout",
     "output_type": "stream",
     "text": [
      "+-----------------+--------------+---------+--------------------+\n",
      "|     manufacturer|         model|yearsTail|   avg(years_retard)|\n",
      "+-----------------+--------------+---------+--------------------+\n",
      "|           BOEING|       767-332|     16.0|              10.825|\n",
      "|           BOEING|       757-232|     27.0| -0.6296296296296297|\n",
      "|           AIRBUS|      A319-114|     11.0|  2.1818181818181817|\n",
      "|           AIRBUS|      A319-112|      5.0|                -3.6|\n",
      "|           BOEING|       737-790|     13.0|0.042307692307692255|\n",
      "|           AIRBUS|      A320-214|      6.0|  3.0416666666666665|\n",
      "|           BOEING|       737-7H4|     13.0|  1.9836829836829835|\n",
      "|           AIRBUS|      A319-112|      6.0|   2.408602150537634|\n",
      "|           AIRBUS|      A320-214|      2.0|   4.166666666666667|\n",
      "|           BOEING|       757-232|     19.0|-0.37593984962406013|\n",
      "|           BOEING|       757-232|     16.0|  0.8994565217391305|\n",
      "|   BOMBARDIER INC|   CL-600-2B19|     15.0| -0.8444444444444444|\n",
      "|           BOEING|       757-251|     13.0| -0.8461538461538461|\n",
      "| AIRBUS INDUSTRIE|      A321-211|     null|                null|\n",
      "|           CESSNA|          421C|     34.0|-0.35294117647058826|\n",
      "|           BOEING|       737-3H4|     18.0|  0.6558872305140961|\n",
      "|MCDONNELL DOUGLAS|DC-9-82(MD-82)|     23.0|  -0.782608695652174|\n",
      "| AIRBUS INDUSTRIE|      A320-232|     19.0|  0.8042105263157893|\n",
      "|           BOEING|       737-3Q8|     26.0|  2.5576923076923075|\n",
      "| AIRBUS INDUSTRIE|      A320-232|     16.0|           0.7734375|\n",
      "+-----------------+--------------+---------+--------------------+\n",
      "only showing top 20 rows\n",
      "\n"
     ]
    }
   ],
   "source": [
    "#9.(Opcional) Fes un gràfic amb la taula anterior.\n",
    "\n",
    "#10. Fes un ó dos passos més enllà. És a dir, si això fos una entrevista de treball per una aerolínia, presenta una o dues hipótesis més sobre la puntualitat a partir de les dades d’aquests Datasets.\n",
    "taulaYearRetard = flightsJoin.select(\"manufacturer\",\"model\",\"year\",\"yearOrg\", \"retard\")\n",
    "taulaYearRetard= taulaYearRetard.withColumn('yearsTail', taulaYearRetard['yearOrg']-taulaYearRetard['year'])\n",
    "taulaYearRetard= taulaYearRetard.withColumn('years_retard', taulaYearRetard['retard']/taulaYearRetard['yearsTail'])\n",
    "granularitatAerolinia = taulaYearRetard.groupBy(\"manufacturer\",\"model\",\"yearsTail\").avg(\"years_retard\")\n",
    "granularitatAerolinia.show()"
   ]
  },
  {
   "cell_type": "markdown",
   "id": "0ed9f56a-c076-48ab-81d8-8950d23c9a66",
   "metadata": {},
   "source": [
    "## Estudi de la contaminació de l’aire"
   ]
  },
  {
   "cell_type": "code",
   "execution_count": 49,
   "id": "65f98742-013f-4c3c-b573-f2e26a442ac2",
   "metadata": {},
   "outputs": [
    {
     "name": "stdout",
     "output_type": "stream",
     "text": [
      "+-----------------+\n",
      "|max(contaminacio)|\n",
      "+-----------------+\n",
      "|             6754|\n",
      "+-----------------+\n",
      "\n",
      "+------+------------+\n",
      "|origin|contaminacio|\n",
      "+------+------------+\n",
      "|   SEA|        6754|\n",
      "+------+------------+\n",
      "only showing top 1 row\n",
      "\n"
     ]
    }
   ],
   "source": [
    "#Agafarem els enlairaments com a unitat de contaminació en cada aeroport d’origen.\n",
    "#1. Quin és l’aeroport amb més contaminació?\n",
    "\n",
    "origen = spark.sql(\"select origin, count(origin) as contaminacio from flights group by origin\")\n",
    "destino = spark.sql(\"select dest, count(dest) as contaminacio from flights group by dest\")\n",
    "allContaminacio = origen.union(destino)\n",
    "allContaminacio.select(max(\"contaminacio\")).show()\n",
    "allContaminacio.sort(desc(\"contaminacio\")).show(1)"
   ]
  },
  {
   "cell_type": "code",
   "execution_count": 47,
   "id": "90a3d549-04ca-4742-a1d6-a35686328308",
   "metadata": {},
   "outputs": [
    {
     "ename": "AnalysisException",
     "evalue": "Resolved attribute(s) day#19 missing from origin#27,contaminacio#2526L in operator !Project [origin#27, contaminacio#2526L, day#19 AS day#2603].;\n!Project [origin#27, contaminacio#2526L, day#19 AS day#2603]\n+- Union false, false\n   :- Aggregate [origin#27], [origin#27, count(origin#27) AS contaminacio#2526L]\n   :  +- SubqueryAlias flights\n   :     +- View (`flights`, [yearOrg#398,month#18,day#19,dep_time#20,dep_delay#21,arr_time#22,arr_delay#23,carrier#24,tailnum#25,flight#26,origin#27,dest#28,air_time#29,distance#30,hour#31,minute#32,air_timeInt#1436])\n   :        +- Project [yearOrg#398, month#18, day#19, dep_time#20, dep_delay#21, arr_time#22, arr_delay#23, carrier#24, tailnum#25, flight#26, origin#27, dest#28, air_time#29, distance#30, hour#31, minute#32, cast(air_time#29 as int) AS air_timeInt#1436]\n   :           +- Project [year#17 AS yearOrg#398, month#18, day#19, dep_time#20, dep_delay#21, arr_time#22, arr_delay#23, carrier#24, tailnum#25, flight#26, origin#27, dest#28, air_time#29, distance#30, hour#31, minute#32, air_timeInt#197]\n   :              +- Project [year#17, month#18, day#19, dep_time#20, dep_delay#21, arr_time#22, arr_delay#23, carrier#24, tailnum#25, flight#26, origin#27, dest#28, air_time#29, distance#30, hour#31, minute#32, cast(air_time#29 as int) AS air_timeInt#197]\n   :                 +- Relation [year#17,month#18,day#19,dep_time#20,dep_delay#21,arr_time#22,arr_delay#23,carrier#24,tailnum#25,flight#26,origin#27,dest#28,air_time#29,distance#30,hour#31,minute#32] csv\n   +- Aggregate [dest#2545], [dest#2545, count(dest#2545) AS contaminacio#2530L]\n      +- SubqueryAlias flights\n         +- View (`flights`, [yearOrg#398,month#2535,day#2536,dep_time#2537,dep_delay#2538,arr_time#2539,arr_delay#2540,carrier#2541,tailnum#2542,flight#2543,origin#2544,dest#2545,air_time#2546,distance#2547,hour#2548,minute#2549,air_timeInt#1436])\n            +- Project [yearOrg#398, month#2535, day#2536, dep_time#2537, dep_delay#2538, arr_time#2539, arr_delay#2540, carrier#2541, tailnum#2542, flight#2543, origin#2544, dest#2545, air_time#2546, distance#2547, hour#2548, minute#2549, cast(air_time#2546 as int) AS air_timeInt#1436]\n               +- Project [year#2534 AS yearOrg#398, month#2535, day#2536, dep_time#2537, dep_delay#2538, arr_time#2539, arr_delay#2540, carrier#2541, tailnum#2542, flight#2543, origin#2544, dest#2545, air_time#2546, distance#2547, hour#2548, minute#2549, air_timeInt#197]\n                  +- Project [year#2534, month#2535, day#2536, dep_time#2537, dep_delay#2538, arr_time#2539, arr_delay#2540, carrier#2541, tailnum#2542, flight#2543, origin#2544, dest#2545, air_time#2546, distance#2547, hour#2548, minute#2549, cast(air_time#2546 as int) AS air_timeInt#197]\n                     +- Relation [year#2534,month#2535,day#2536,dep_time#2537,dep_delay#2538,arr_time#2539,arr_delay#2540,carrier#2541,tailnum#2542,flight#2543,origin#2544,dest#2545,air_time#2546,distance#2547,hour#2548,minute#2549] csv\n",
     "output_type": "error",
     "traceback": [
      "\u001b[1;31m---------------------------------------------------------------------------\u001b[0m",
      "\u001b[1;31mAnalysisException\u001b[0m                         Traceback (most recent call last)",
      "\u001b[1;32m~\\AppData\\Local\\Temp\\ipykernel_12776\\203583231.py\u001b[0m in \u001b[0;36m<module>\u001b[1;34m\u001b[0m\n\u001b[0;32m      1\u001b[0m \u001b[1;31m#2. Per al global dels aeroports quin és el dia de l’any amb més contaminació?\u001b[0m\u001b[1;33m\u001b[0m\u001b[1;33m\u001b[0m\u001b[0m\n\u001b[1;32m----> 2\u001b[1;33m \u001b[0mallContaminacio\u001b[0m\u001b[1;33m.\u001b[0m\u001b[0mwithColumn\u001b[0m\u001b[1;33m(\u001b[0m\u001b[1;34m\"day\"\u001b[0m\u001b[1;33m,\u001b[0m\u001b[0mflightsJoin\u001b[0m\u001b[1;33m.\u001b[0m\u001b[0mday\u001b[0m\u001b[1;33m)\u001b[0m\u001b[1;33m\u001b[0m\u001b[1;33m\u001b[0m\u001b[0m\n\u001b[0m",
      "\u001b[1;32m~\\anaconda3\\lib\\site-packages\\pyspark\\sql\\dataframe.py\u001b[0m in \u001b[0;36mwithColumn\u001b[1;34m(self, colName, col)\u001b[0m\n\u001b[0;32m   3034\u001b[0m         \u001b[1;32mif\u001b[0m \u001b[1;32mnot\u001b[0m \u001b[0misinstance\u001b[0m\u001b[1;33m(\u001b[0m\u001b[0mcol\u001b[0m\u001b[1;33m,\u001b[0m \u001b[0mColumn\u001b[0m\u001b[1;33m)\u001b[0m\u001b[1;33m:\u001b[0m\u001b[1;33m\u001b[0m\u001b[1;33m\u001b[0m\u001b[0m\n\u001b[0;32m   3035\u001b[0m             \u001b[1;32mraise\u001b[0m \u001b[0mTypeError\u001b[0m\u001b[1;33m(\u001b[0m\u001b[1;34m\"col should be Column\"\u001b[0m\u001b[1;33m)\u001b[0m\u001b[1;33m\u001b[0m\u001b[1;33m\u001b[0m\u001b[0m\n\u001b[1;32m-> 3036\u001b[1;33m         \u001b[1;32mreturn\u001b[0m \u001b[0mDataFrame\u001b[0m\u001b[1;33m(\u001b[0m\u001b[0mself\u001b[0m\u001b[1;33m.\u001b[0m\u001b[0m_jdf\u001b[0m\u001b[1;33m.\u001b[0m\u001b[0mwithColumn\u001b[0m\u001b[1;33m(\u001b[0m\u001b[0mcolName\u001b[0m\u001b[1;33m,\u001b[0m \u001b[0mcol\u001b[0m\u001b[1;33m.\u001b[0m\u001b[0m_jc\u001b[0m\u001b[1;33m)\u001b[0m\u001b[1;33m,\u001b[0m \u001b[0mself\u001b[0m\u001b[1;33m.\u001b[0m\u001b[0msparkSession\u001b[0m\u001b[1;33m)\u001b[0m\u001b[1;33m\u001b[0m\u001b[1;33m\u001b[0m\u001b[0m\n\u001b[0m\u001b[0;32m   3037\u001b[0m \u001b[1;33m\u001b[0m\u001b[0m\n\u001b[0;32m   3038\u001b[0m     \u001b[1;32mdef\u001b[0m \u001b[0mwithColumnRenamed\u001b[0m\u001b[1;33m(\u001b[0m\u001b[0mself\u001b[0m\u001b[1;33m,\u001b[0m \u001b[0mexisting\u001b[0m\u001b[1;33m:\u001b[0m \u001b[0mstr\u001b[0m\u001b[1;33m,\u001b[0m \u001b[0mnew\u001b[0m\u001b[1;33m:\u001b[0m \u001b[0mstr\u001b[0m\u001b[1;33m)\u001b[0m \u001b[1;33m->\u001b[0m \u001b[1;34m\"DataFrame\"\u001b[0m\u001b[1;33m:\u001b[0m\u001b[1;33m\u001b[0m\u001b[1;33m\u001b[0m\u001b[0m\n",
      "\u001b[1;32m~\\anaconda3\\lib\\site-packages\\py4j\\java_gateway.py\u001b[0m in \u001b[0;36m__call__\u001b[1;34m(self, *args)\u001b[0m\n\u001b[0;32m   1319\u001b[0m \u001b[1;33m\u001b[0m\u001b[0m\n\u001b[0;32m   1320\u001b[0m         \u001b[0manswer\u001b[0m \u001b[1;33m=\u001b[0m \u001b[0mself\u001b[0m\u001b[1;33m.\u001b[0m\u001b[0mgateway_client\u001b[0m\u001b[1;33m.\u001b[0m\u001b[0msend_command\u001b[0m\u001b[1;33m(\u001b[0m\u001b[0mcommand\u001b[0m\u001b[1;33m)\u001b[0m\u001b[1;33m\u001b[0m\u001b[1;33m\u001b[0m\u001b[0m\n\u001b[1;32m-> 1321\u001b[1;33m         return_value = get_return_value(\n\u001b[0m\u001b[0;32m   1322\u001b[0m             answer, self.gateway_client, self.target_id, self.name)\n\u001b[0;32m   1323\u001b[0m \u001b[1;33m\u001b[0m\u001b[0m\n",
      "\u001b[1;32m~\\anaconda3\\lib\\site-packages\\pyspark\\sql\\utils.py\u001b[0m in \u001b[0;36mdeco\u001b[1;34m(*a, **kw)\u001b[0m\n\u001b[0;32m    194\u001b[0m                 \u001b[1;31m# Hide where the exception came from that shows a non-Pythonic\u001b[0m\u001b[1;33m\u001b[0m\u001b[1;33m\u001b[0m\u001b[0m\n\u001b[0;32m    195\u001b[0m                 \u001b[1;31m# JVM exception message.\u001b[0m\u001b[1;33m\u001b[0m\u001b[1;33m\u001b[0m\u001b[0m\n\u001b[1;32m--> 196\u001b[1;33m                 \u001b[1;32mraise\u001b[0m \u001b[0mconverted\u001b[0m \u001b[1;32mfrom\u001b[0m \u001b[1;32mNone\u001b[0m\u001b[1;33m\u001b[0m\u001b[1;33m\u001b[0m\u001b[0m\n\u001b[0m\u001b[0;32m    197\u001b[0m             \u001b[1;32melse\u001b[0m\u001b[1;33m:\u001b[0m\u001b[1;33m\u001b[0m\u001b[1;33m\u001b[0m\u001b[0m\n\u001b[0;32m    198\u001b[0m                 \u001b[1;32mraise\u001b[0m\u001b[1;33m\u001b[0m\u001b[1;33m\u001b[0m\u001b[0m\n",
      "\u001b[1;31mAnalysisException\u001b[0m: Resolved attribute(s) day#19 missing from origin#27,contaminacio#2526L in operator !Project [origin#27, contaminacio#2526L, day#19 AS day#2603].;\n!Project [origin#27, contaminacio#2526L, day#19 AS day#2603]\n+- Union false, false\n   :- Aggregate [origin#27], [origin#27, count(origin#27) AS contaminacio#2526L]\n   :  +- SubqueryAlias flights\n   :     +- View (`flights`, [yearOrg#398,month#18,day#19,dep_time#20,dep_delay#21,arr_time#22,arr_delay#23,carrier#24,tailnum#25,flight#26,origin#27,dest#28,air_time#29,distance#30,hour#31,minute#32,air_timeInt#1436])\n   :        +- Project [yearOrg#398, month#18, day#19, dep_time#20, dep_delay#21, arr_time#22, arr_delay#23, carrier#24, tailnum#25, flight#26, origin#27, dest#28, air_time#29, distance#30, hour#31, minute#32, cast(air_time#29 as int) AS air_timeInt#1436]\n   :           +- Project [year#17 AS yearOrg#398, month#18, day#19, dep_time#20, dep_delay#21, arr_time#22, arr_delay#23, carrier#24, tailnum#25, flight#26, origin#27, dest#28, air_time#29, distance#30, hour#31, minute#32, air_timeInt#197]\n   :              +- Project [year#17, month#18, day#19, dep_time#20, dep_delay#21, arr_time#22, arr_delay#23, carrier#24, tailnum#25, flight#26, origin#27, dest#28, air_time#29, distance#30, hour#31, minute#32, cast(air_time#29 as int) AS air_timeInt#197]\n   :                 +- Relation [year#17,month#18,day#19,dep_time#20,dep_delay#21,arr_time#22,arr_delay#23,carrier#24,tailnum#25,flight#26,origin#27,dest#28,air_time#29,distance#30,hour#31,minute#32] csv\n   +- Aggregate [dest#2545], [dest#2545, count(dest#2545) AS contaminacio#2530L]\n      +- SubqueryAlias flights\n         +- View (`flights`, [yearOrg#398,month#2535,day#2536,dep_time#2537,dep_delay#2538,arr_time#2539,arr_delay#2540,carrier#2541,tailnum#2542,flight#2543,origin#2544,dest#2545,air_time#2546,distance#2547,hour#2548,minute#2549,air_timeInt#1436])\n            +- Project [yearOrg#398, month#2535, day#2536, dep_time#2537, dep_delay#2538, arr_time#2539, arr_delay#2540, carrier#2541, tailnum#2542, flight#2543, origin#2544, dest#2545, air_time#2546, distance#2547, hour#2548, minute#2549, cast(air_time#2546 as int) AS air_timeInt#1436]\n               +- Project [year#2534 AS yearOrg#398, month#2535, day#2536, dep_time#2537, dep_delay#2538, arr_time#2539, arr_delay#2540, carrier#2541, tailnum#2542, flight#2543, origin#2544, dest#2545, air_time#2546, distance#2547, hour#2548, minute#2549, air_timeInt#197]\n                  +- Project [year#2534, month#2535, day#2536, dep_time#2537, dep_delay#2538, arr_time#2539, arr_delay#2540, carrier#2541, tailnum#2542, flight#2543, origin#2544, dest#2545, air_time#2546, distance#2547, hour#2548, minute#2549, cast(air_time#2546 as int) AS air_timeInt#197]\n                     +- Relation [year#2534,month#2535,day#2536,dep_time#2537,dep_delay#2538,arr_time#2539,arr_delay#2540,carrier#2541,tailnum#2542,flight#2543,origin#2544,dest#2545,air_time#2546,distance#2547,hour#2548,minute#2549] csv\n"
     ]
    }
   ],
   "source": [
    "#2. Per al global dels aeroports quin és el dia de l’any amb més contaminació?\n"
   ]
  },
  {
   "cell_type": "code",
   "execution_count": null,
   "id": "4ad06120-1087-40eb-98e2-fb65bc50927b",
   "metadata": {},
   "outputs": [],
   "source": []
  }
 ],
 "metadata": {
  "kernelspec": {
   "display_name": "Python 3 (ipykernel)",
   "language": "python",
   "name": "python3"
  },
  "language_info": {
   "codemirror_mode": {
    "name": "ipython",
    "version": 3
   },
   "file_extension": ".py",
   "mimetype": "text/x-python",
   "name": "python",
   "nbconvert_exporter": "python",
   "pygments_lexer": "ipython3",
   "version": "3.9.13"
  }
 },
 "nbformat": 4,
 "nbformat_minor": 5
}
