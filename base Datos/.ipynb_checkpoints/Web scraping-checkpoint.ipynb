{
 "cells": [
  {
   "cell_type": "code",
   "execution_count": 1,
   "id": "836cd43c-9932-4606-86ae-a0784f3e466d",
   "metadata": {},
   "outputs": [],
   "source": [
    "from selenium import webdriver\n",
    "from selenium.webdriver.common.by import By\n",
    "from pymongo import MongoClient"
   ]
  },
  {
   "cell_type": "code",
   "execution_count": 2,
   "id": "7cf54c38-0379-4787-b787-a9a7b87eb31e",
   "metadata": {},
   "outputs": [
    {
     "name": "stderr",
     "output_type": "stream",
     "text": [
      "D:\\Temp\\ipykernel_17836\\2612506853.py:7: DeprecationWarning: executable_path has been deprecated, please pass in a Service object\n",
      "  self.driver = webdriver.Chrome(executable_path=DRIVER_PATH)\n"
     ]
    },
    {
     "name": "stdout",
     "output_type": "stream",
     "text": [
      "Barcelona\n"
     ]
    }
   ],
   "source": [
    "class Scraper:\n",
    "    def drivers(self):\n",
    "        DRIVER_PATH = r'C:\\Users\\Marc Martinez\\Downloads\\chromedriver.exe'\n",
    "        self.driver = webdriver.Chrome(executable_path=DRIVER_PATH)\n",
    "        self.driver.get('https://es.wikipedia.org/wiki/Barcelona')\n",
    "    \n",
    "    def get_elements(self):\n",
    "        ele_h1 = self.driver.find_element(By.TAG_NAME,'h1')\n",
    "        print(ele_h1.text)\n",
    "        \n",
    "scraper = Scraper()\n",
    "scraper.drivers()\n",
    "scraper.get_elements()"
   ]
  },
  {
   "cell_type": "code",
   "execution_count": 18,
   "id": "ace40866-e74e-4fa5-ae7b-f6c95627bb82",
   "metadata": {},
   "outputs": [
    {
     "name": "stderr",
     "output_type": "stream",
     "text": [
      "C:\\Users\\User\\AppData\\Local\\Temp\\ipykernel_4308\\674471232.py:4: DeprecationWarning: executable_path has been deprecated, please pass in a Service object\n",
      "  self.driver = webdriver.Chrome(executable_path=DRIVER_PATH)\n"
     ]
    },
    {
     "name": "stdout",
     "output_type": "stream",
     "text": [
      "code\n",
      "Discussion\n",
      "Begin Course\n",
      "https://www.kaggle.com/code/welcome\n",
      "https://www.kaggle.com/static/images/site-logo.svg\n",
      "13\n",
      "Register\n",
      "57\n",
      "\n"
     ]
    }
   ],
   "source": [
    "class ScraperAct:\n",
    "    def drivers(self):\n",
    "        DRIVER_PATH = r'C:\\Users\\User\\Documents\\GitHub\\PracticasIABigData\\base Datos\\Web Scraping\\chromedriver.exe'\n",
    "        self.driver = webdriver.Chrome(executable_path=DRIVER_PATH)\n",
    "        self.driver.get('https://www.kaggle.com/learn/pandas')\n",
    "        \n",
    "        myclient = MongoClient('mongodb://localhost:27017')\n",
    "        mydb = myclient.IABD\n",
    "        self.coleccion = mydb.IABD_coleccion\n",
    "        \n",
    "    def get_elements(self):\n",
    "        \n",
    "        ele_span = self.driver.find_elements(By.TAG_NAME,'span')\n",
    "        print(ele_span[len(ele_span)-1].text)\n",
    "        ele_class = self.driver.find_elements(By.CLASS_NAME,'sc-bZkfAO')\n",
    "        print(ele_class[len(ele_class)-1].text)\n",
    "        ele_class2 = self.driver.find_elements(By.XPATH,'//*[@id=\"site-content\"]/div[1]/div/div/div[1]/div[1]/div/div/div/div[3]/button/span')\n",
    "        print(ele_class2[len(ele_class2)-1].text)\n",
    "        \n",
    "        my_list=[{ \"tag\": ele_span[len(ele_span)-1].text},\n",
    "                { \"tag\": ele_class[len(ele_class)-1].text},\n",
    "                { \"tag\": ele_class2[len(ele_class2)-1].text]\n",
    "        self.coleccion.insert_many(my_list)\n",
    "        \n",
    "        ele_href = self.driver.find_element(By.TAG_NAME,'a')\n",
    "        print(ele_href.get_attribute('href'))\n",
    "        self.driver.get(ele_href.get_attribute('href'))\n",
    "        \n",
    "        ele_href_name = self.driver.find_element(By.TAG_NAME,'img')\n",
    "        print(ele_href_name.get_attribute('src'))\n",
    "        ele_href_name2 = self.driver.find_elements(By.TAG_NAME,'a')\n",
    "        print(ele_href_name2[len(ele_href_name2)-1].text)\n",
    "        ele_href_name3 = self.driver.find_elements(By.TAG_NAME,'span')\n",
    "        print(ele_href_name3[len(ele_href_name3)-1].text)\n",
    "        \n",
    "        listWeb2 = [{\"tag\": ele_href_name.get_attribute('src')},\n",
    "                   {\"tag\": ele_href_name2[len(ele_href_name2)-1].text,},\n",
    "                   {\"tag\": ele_href_name3[len(ele_href_name3)-1].text }]\n",
    "        self.coleccion.insert_many(listWeb2)\n",
    "        \n",
    "scraper = ScraperAct()\n",
    "scraper.drivers()\n",
    "scraper.get_elements()    "
   ]
  },
  {
   "cell_type": "code",
   "execution_count": null,
   "id": "18c51312-e9f9-44d9-bcb7-e5e66a475594",
   "metadata": {},
   "outputs": [],
   "source": [
    "\n",
    "\n"
   ]
  }
 ],
 "metadata": {
  "kernelspec": {
   "display_name": "Python 3 (ipykernel)",
   "language": "python",
   "name": "python3"
  },
  "language_info": {
   "codemirror_mode": {
    "name": "ipython",
    "version": 3
   },
   "file_extension": ".py",
   "mimetype": "text/x-python",
   "name": "python",
   "nbconvert_exporter": "python",
   "pygments_lexer": "ipython3",
   "version": "3.9.13"
  }
 },
 "nbformat": 4,
 "nbformat_minor": 5
}
