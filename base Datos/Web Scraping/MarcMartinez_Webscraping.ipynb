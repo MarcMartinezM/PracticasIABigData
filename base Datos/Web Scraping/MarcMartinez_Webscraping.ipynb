{
 "cells": [
  {
   "cell_type": "code",
   "execution_count": 1,
   "id": "836cd43c-9932-4606-86ae-a0784f3e466d",
   "metadata": {},
   "outputs": [],
   "source": [
    "from selenium import webdriver\n",
    "from selenium.webdriver.common.by import By\n",
    "from pymongo import MongoClient"
   ]
  },
  {
   "cell_type": "code",
   "execution_count": 2,
   "id": "7cf54c38-0379-4787-b787-a9a7b87eb31e",
   "metadata": {},
   "outputs": [
    {
     "name": "stderr",
     "output_type": "stream",
     "text": [
      "D:\\Temp\\ipykernel_17836\\2612506853.py:7: DeprecationWarning: executable_path has been deprecated, please pass in a Service object\n",
      "  self.driver = webdriver.Chrome(executable_path=DRIVER_PATH)\n"
     ]
    },
    {
     "name": "stdout",
     "output_type": "stream",
     "text": [
      "Barcelona\n"
     ]
    }
   ],
   "source": [
    "class Scraper:\n",
    "    def drivers(self):\n",
    "        DRIVER_PATH = r'C:\\Users\\Marc Martinez\\Downloads\\chromedriver.exe'\n",
    "        self.driver = webdriver.Chrome(executable_path=DRIVER_PATH)\n",
    "        self.driver.get('https://es.wikipedia.org/wiki/Barcelona')\n",
    "    \n",
    "    def get_elements(self):\n",
    "        ele_h1 = self.driver.find_element(By.TAG_NAME,'h1')\n",
    "        print(ele_h1.text)\n",
    "        \n",
    "scraper = Scraper()\n",
    "scraper.drivers()\n",
    "scraper.get_elements()"
   ]
  },
  {
   "cell_type": "code",
   "execution_count": 7,
   "id": "ace40866-e74e-4fa5-ae7b-f6c95627bb82",
   "metadata": {},
   "outputs": [
    {
     "name": "stderr",
     "output_type": "stream",
     "text": [
      "D:\\Temp\\ipykernel_17836\\283179177.py:6: DeprecationWarning: executable_path has been deprecated, please pass in a Service object\n",
      "  self.driver = webdriver.Chrome(executable_path=DRIVER_PATH)\n"
     ]
    },
    {
     "name": "stdout",
     "output_type": "stream",
     "text": [
      "https://www.kaggle.com/code/welcome\n"
     ]
    },
    {
     "ename": "IndexError",
     "evalue": "list index out of range",
     "output_type": "error",
     "traceback": [
      "\u001b[1;31m---------------------------------------------------------------------------\u001b[0m",
      "\u001b[1;31mIndexError\u001b[0m                                Traceback (most recent call last)",
      "\u001b[1;32mD:\\Temp\\ipykernel_17836\\283179177.py\u001b[0m in \u001b[0;36m<module>\u001b[1;34m\u001b[0m\n\u001b[0;32m     33\u001b[0m \u001b[0mscraper\u001b[0m \u001b[1;33m=\u001b[0m \u001b[0mScraperAct\u001b[0m\u001b[1;33m(\u001b[0m\u001b[1;33m)\u001b[0m\u001b[1;33m\u001b[0m\u001b[1;33m\u001b[0m\u001b[0m\n\u001b[0;32m     34\u001b[0m \u001b[0mscraper\u001b[0m\u001b[1;33m.\u001b[0m\u001b[0mdrivers\u001b[0m\u001b[1;33m(\u001b[0m\u001b[1;33m)\u001b[0m\u001b[1;33m\u001b[0m\u001b[1;33m\u001b[0m\u001b[0m\n\u001b[1;32m---> 35\u001b[1;33m \u001b[0mscraper\u001b[0m\u001b[1;33m.\u001b[0m\u001b[0mget_elements\u001b[0m\u001b[1;33m(\u001b[0m\u001b[1;33m)\u001b[0m\u001b[1;33m\u001b[0m\u001b[1;33m\u001b[0m\u001b[0m\n\u001b[0m",
      "\u001b[1;32mD:\\Temp\\ipykernel_17836\\283179177.py\u001b[0m in \u001b[0;36mget_elements\u001b[1;34m(self)\u001b[0m\n\u001b[0;32m     23\u001b[0m         \u001b[0mself\u001b[0m\u001b[1;33m.\u001b[0m\u001b[0mdriver\u001b[0m\u001b[1;33m.\u001b[0m\u001b[0mget\u001b[0m\u001b[1;33m(\u001b[0m\u001b[0mele_href\u001b[0m\u001b[1;33m.\u001b[0m\u001b[0mget_attribute\u001b[0m\u001b[1;33m(\u001b[0m\u001b[1;34m'href'\u001b[0m\u001b[1;33m)\u001b[0m\u001b[1;33m)\u001b[0m\u001b[1;33m\u001b[0m\u001b[1;33m\u001b[0m\u001b[0m\n\u001b[0;32m     24\u001b[0m         \u001b[0mele_href_name\u001b[0m \u001b[1;33m=\u001b[0m \u001b[0mself\u001b[0m\u001b[1;33m.\u001b[0m\u001b[0mdriver\u001b[0m\u001b[1;33m.\u001b[0m\u001b[0mfind_elements\u001b[0m\u001b[1;33m(\u001b[0m\u001b[0mBy\u001b[0m\u001b[1;33m.\u001b[0m\u001b[0mTAG_NAME\u001b[0m\u001b[1;33m,\u001b[0m\u001b[1;34m'h1'\u001b[0m\u001b[1;33m)\u001b[0m\u001b[1;33m\u001b[0m\u001b[1;33m\u001b[0m\u001b[0m\n\u001b[1;32m---> 25\u001b[1;33m         \u001b[0mprint\u001b[0m\u001b[1;33m(\u001b[0m\u001b[0mele_href_name\u001b[0m\u001b[1;33m[\u001b[0m\u001b[1;36m0\u001b[0m\u001b[1;33m]\u001b[0m\u001b[1;33m.\u001b[0m\u001b[0mtext\u001b[0m\u001b[1;33m)\u001b[0m\u001b[1;33m\u001b[0m\u001b[1;33m\u001b[0m\u001b[0m\n\u001b[0m\u001b[0;32m     26\u001b[0m         \u001b[0mele_href_name2\u001b[0m \u001b[1;33m=\u001b[0m \u001b[0mself\u001b[0m\u001b[1;33m.\u001b[0m\u001b[0mdriver\u001b[0m\u001b[1;33m.\u001b[0m\u001b[0mfind_element\u001b[0m\u001b[1;33m(\u001b[0m\u001b[0mBy\u001b[0m\u001b[1;33m.\u001b[0m\u001b[0mTAG_NAME\u001b[0m\u001b[1;33m,\u001b[0m\u001b[1;34m'a'\u001b[0m\u001b[1;33m)\u001b[0m\u001b[1;33m\u001b[0m\u001b[1;33m\u001b[0m\u001b[0m\n\u001b[0;32m     27\u001b[0m         \u001b[0mprint\u001b[0m\u001b[1;33m(\u001b[0m\u001b[0mele_href_name2\u001b[0m\u001b[1;33m.\u001b[0m\u001b[0mtext\u001b[0m\u001b[1;33m)\u001b[0m\u001b[1;33m\u001b[0m\u001b[1;33m\u001b[0m\u001b[0m\n",
      "\u001b[1;31mIndexError\u001b[0m: list index out of range"
     ]
    }
   ],
   "source": [
    "class ScraperAct:\n",
    "    def drivers(self):\n",
    "        DRIVER_PATH = r'C:\\Users\\Marc Martinez\\Downloads\\chromedriver.exe'\n",
    "        self.driver = webdriver.Chrome(executable_path=DRIVER_PATH)\n",
    "        self.driver.get('https://www.kaggle.com/learn/pandas')\n",
    "        \"\"\"\n",
    "        myclient = MongoClient('mongodb://localhost:27017')\n",
    "        mydb = myclient.IABD\n",
    "        self.coleccion = mydb.IABD_coleccion\n",
    "        \"\"\"\n",
    "    def get_elements(self):\n",
    "        \"\"\"\n",
    "        ele_span = self.driver.find_elements(By.TAG_NAME,'span')\n",
    "        print(ele_span[2].text)\n",
    "        ele_class = self.driver.find_elements(By.CLASS_NAME,'sc-bZkfAO')\n",
    "        print(ele_class[1].text)\n",
    "        ele_class2 = self.driver.find_elements(By.XPATH,'//*[@id=\"site-content\"]/div[1]/div/div/div[1]/div[1]/div/div/div/div[3]/button/span')\n",
    "        print(ele_class[0].text)\n",
    "        \n",
    "        my_list=[{ \"tag\": ele_span[2].text},\n",
    "                 { \"tag\": ele_class[1].text},\n",
    "                 { \"tag\": ele_class[0].text}]\n",
    "        self.coleccion.insert_many(my_list)\n",
    "        \"\"\"\n",
    "        ele_href = self.driver.find_element(By.TAG_NAME,'a')\n",
    "        print(ele_href.get_attribute('href'))\n",
    "        self.driver.get(ele_href.get_attribute('href'))\n",
    "        ele_href_name = self.driver.find_elements(By.TAG_NAME,'h1')\n",
    "        print(ele_href_name[0].text)\n",
    "        ele_href_name2 = self.driver.find_elements(By.TAG_NAME,'a')\n",
    "        print(ele_href_name2.text)\n",
    "        ele_href_name3 = self.driver.find_elements(By.TAG_NAME,'span')\n",
    "        print(ele_href_name3.text)\n",
    "        \n",
    "        \n",
    "        \n",
    "scraper = ScraperAct()\n",
    "scraper.drivers()\n",
    "scraper.get_elements()    "
   ]
  },
  {
   "cell_type": "code",
   "execution_count": null,
   "id": "18c51312-e9f9-44d9-bcb7-e5e66a475594",
   "metadata": {},
   "outputs": [],
   "source": [
    "\n",
    "\n"
   ]
  }
 ],
 "metadata": {
  "kernelspec": {
   "display_name": "Python 3 (ipykernel)",
   "language": "python",
   "name": "python3"
  },
  "language_info": {
   "codemirror_mode": {
    "name": "ipython",
    "version": 3
   },
   "file_extension": ".py",
   "mimetype": "text/x-python",
   "name": "python",
   "nbconvert_exporter": "python",
   "pygments_lexer": "ipython3",
   "version": "3.9.13"
  }
 },
 "nbformat": 4,
 "nbformat_minor": 5
}
