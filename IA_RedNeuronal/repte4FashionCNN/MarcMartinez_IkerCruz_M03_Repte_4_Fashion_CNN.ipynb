{
 "cells": [
  {
   "cell_type": "markdown",
   "metadata": {
    "id": "P9iqewdWEIxq"
   },
   "source": [
    "**Nom** 1: iker cruz\n",
    "\n",
    "Nom 2: Marc Martinez"
   ]
  },
  {
   "cell_type": "markdown",
   "metadata": {
    "id": "31QNYpMU6k4W"
   },
   "source": [
    "# Repte 4: Fashion CNN"
   ]
  },
  {
   "cell_type": "markdown",
   "metadata": {
    "id": "2UkgQ3eg6sNh"
   },
   "source": [
    "## Enunciat\n",
    "\n",
    "En aquest repte classficarem les diferents peces de roba fent servir una **Xarxa Neuronal Convolucional**. "
   ]
  },
  {
   "cell_type": "code",
   "execution_count": 1,
   "metadata": {
    "colab": {
     "base_uri": "https://localhost:8080/"
    },
    "id": "c_l1sELfCKSl",
    "outputId": "488d7c9b-1e59-4bdd-9ed6-a47124fe94c4"
   },
   "outputs": [
    {
     "name": "stdout",
     "output_type": "stream",
     "text": [
      "Looking in indexes: https://pypi.org/simple, https://us-python.pkg.dev/colab-wheels/public/simple/\n",
      "Collecting visualkeras\n",
      "  Downloading visualkeras-0.0.2-py3-none-any.whl (12 kB)\n",
      "Requirement already satisfied: numpy>=1.18.1 in /usr/local/lib/python3.8/dist-packages (from visualkeras) (1.21.6)\n",
      "Collecting aggdraw>=1.3.11\n",
      "  Downloading aggdraw-1.3.15-cp38-cp38-manylinux_2_17_x86_64.manylinux2014_x86_64.whl (992 kB)\n",
      "\u001b[2K     \u001b[90m━━━━━━━━━━━━━━━━━━━━━━━━━━━━━━━━━━━━━━\u001b[0m \u001b[32m992.2/992.2 KB\u001b[0m \u001b[31m16.6 MB/s\u001b[0m eta \u001b[36m0:00:00\u001b[0m\n",
      "\u001b[?25hRequirement already satisfied: pillow>=6.2.0 in /usr/local/lib/python3.8/dist-packages (from visualkeras) (7.1.2)\n",
      "Installing collected packages: aggdraw, visualkeras\n",
      "Successfully installed aggdraw-1.3.15 visualkeras-0.0.2\n"
     ]
    }
   ],
   "source": [
    "pip install visualkeras"
   ]
  },
  {
   "cell_type": "code",
   "execution_count": 2,
   "metadata": {
    "id": "sYdpVgiYUrpV"
   },
   "outputs": [],
   "source": [
    "import tensorflow as tf\n",
    "from tensorflow import keras\n",
    "from tensorflow.keras import Sequential\n",
    "from tensorflow.keras.layers import Conv2D\n",
    "from tensorflow.keras.layers import MaxPooling2D\n",
    "from tensorflow.keras.layers import Dense\n",
    "from tensorflow.keras.layers import Flatten\n",
    "from tensorflow.keras.layers import BatchNormalization\n",
    "from tensorflow.keras.layers import Dropout\n",
    "import visualkeras \n",
    "from tensorflow.keras.utils import to_categorical\n",
    "import numpy as np\n",
    "import matplotlib.pyplot as plt"
   ]
  },
  {
   "cell_type": "code",
   "execution_count": 3,
   "metadata": {
    "colab": {
     "base_uri": "https://localhost:8080/"
    },
    "id": "Y2LuZSRs6UFI",
    "outputId": "74caeac2-4ba8-406c-a609-640f5e513408"
   },
   "outputs": [
    {
     "name": "stdout",
     "output_type": "stream",
     "text": [
      "Downloading data from https://storage.googleapis.com/tensorflow/tf-keras-datasets/train-labels-idx1-ubyte.gz\n",
      "29515/29515 [==============================] - 0s 0us/step\n",
      "Downloading data from https://storage.googleapis.com/tensorflow/tf-keras-datasets/train-images-idx3-ubyte.gz\n",
      "26421880/26421880 [==============================] - 0s 0us/step\n",
      "Downloading data from https://storage.googleapis.com/tensorflow/tf-keras-datasets/t10k-labels-idx1-ubyte.gz\n",
      "5148/5148 [==============================] - 0s 0us/step\n",
      "Downloading data from https://storage.googleapis.com/tensorflow/tf-keras-datasets/t10k-images-idx3-ubyte.gz\n",
      "4422102/4422102 [==============================] - 0s 0us/step\n"
     ]
    }
   ],
   "source": [
    "# Descarrega i prepara les dades del dataset fashion_mnist. En aquest cas, no \n",
    "# transformarem la sortida del model a un vector de 0' i 1's, per tant, haurem \n",
    "# d'escollir bé la funció de pèrdua a l'hora de fer l'entrenament de la xarxa.\n",
    "fashionData = tf.keras.datasets.fashion_mnist\n",
    "(x_train, y_train), (x_test, y_test) = fashionData.load_data()"
   ]
  },
  {
   "cell_type": "code",
   "execution_count": 4,
   "metadata": {
    "colab": {
     "base_uri": "https://localhost:8080/",
     "height": 320
    },
    "id": "-A2ioW2OWqNl",
    "outputId": "3bee6a63-9452-4077-b04f-5224f1d9da1b"
   },
   "outputs": [
    {
     "name": "stdout",
     "output_type": "stream",
     "text": [
      "(60000, 28, 28)\n",
      "uint8\n"
     ]
    },
    {
     "data": {
      "text/plain": [
       "<matplotlib.image.AxesImage at 0x7fa2846afe50>"
      ]
     },
     "execution_count": 4,
     "metadata": {},
     "output_type": "execute_result"
    },
    {
     "data": {
      "image/png": "[encoded data removed]",
      "text/plain": [
       "<Figure size 432x288 with 1 Axes>"
      ]
     },
     "metadata": {
      "needs_background": "light"
     },
     "output_type": "display_data"
    }
   ],
   "source": [
    "print(x_train.shape)# 60000 imagenes o numeros de 28x28 cada una\n",
    "print(x_train.dtype)# entero sin signos 8 bits\n",
    "plt.imshow(x_train[88],cmap = plt.cm.binary)"
   ]
  },
  {
   "cell_type": "code",
   "execution_count": 5,
   "metadata": {
    "colab": {
     "base_uri": "https://localhost:8080/"
    },
    "id": "yiQoIl917qOO",
    "outputId": "c3c1f4c6-eb4d-47b6-e390-05075955780c"
   },
   "outputs": [
    {
     "name": "stdout",
     "output_type": "stream",
     "text": [
      "Model: \"sequential\"\n",
      "_________________________________________________________________\n",
      " Layer (type)                Output Shape              Param #   \n",
      "=================================================================\n",
      " conv2d (Conv2D)             (None, 28, 28, 64)        3200      \n",
      "                                                                 \n",
      " max_pooling2d (MaxPooling2D  (None, 14, 14, 64)       0         \n",
      " )                                                               \n",
      "                                                                 \n",
      " conv2d_1 (Conv2D)           (None, 14, 14, 128)       73856     \n",
      "                                                                 \n",
      " max_pooling2d_1 (MaxPooling  (None, 7, 7, 128)        0         \n",
      " 2D)                                                             \n",
      "                                                                 \n",
      " flatten (Flatten)           (None, 6272)              0         \n",
      "                                                                 \n",
      " dense (Dense)               (None, 64)                401472    \n",
      "                                                                 \n",
      " dense_1 (Dense)             (None, 10)                650       \n",
      "                                                                 \n",
      "=================================================================\n",
      "Total params: 479,178\n",
      "Trainable params: 479,178\n",
      "Non-trainable params: 0\n",
      "_________________________________________________________________\n"
     ]
    }
   ],
   "source": [
    "# Crea una Xarxa Neuronal amb 2 capes Convolucionals de 64 i 128 filtres, de\n",
    "# mides 7x7 i 3x3. A cada capa li aplicarem la operació MaxPooling 2x2. Afegeix\n",
    "# també una capa densa de 64 neurones abans de la capa de sortida. Experimenta\n",
    "# amb les diferents opcions de l'hiperparàmetre padding.\n",
    "\n",
    "\n",
    "# primer crearem el model de la xarxa neuronal convolucional\n",
    "model = Sequential()\n",
    "#comvolution\n",
    "model.add(Conv2D(filters = 64, kernel_size = (7,7),padding='same', activation = 'relu', input_shape = (28,28,1)))\n",
    "model.add(MaxPooling2D((2,2)))\n",
    "#pooling\n",
    "model.add(Conv2D(filters = 128, kernel_size = (3,3),padding='same', activation = 'relu'))\n",
    "model.add(MaxPooling2D((2,2)))\n",
    "\n",
    "model.add(Flatten())\n",
    "model.add(Dense(64,activation = 'relu'))\n",
    "#full connection (softmax) aplana las dades per entra en la capa densa\n",
    "model.add(Dense(10,activation = 'softmax'))\n",
    "\n",
    "model.summary()"
   ]
  },
  {
   "cell_type": "code",
   "execution_count": 6,
   "metadata": {
    "colab": {
     "base_uri": "https://localhost:8080/",
     "height": 167
    },
    "id": "Y3NhYzEZCX0w",
    "outputId": "f755136f-538a-4d9b-d6d9-fbdee4b50745"
   },
   "outputs": [
    {
     "data": {
      "image/png": "[encoded data removed]",
      "text/plain": [
       "<PIL.Image.Image image mode=RGBA size=622x150 at 0x7FA2705FD940>"
      ]
     },
     "execution_count": 6,
     "metadata": {},
     "output_type": "execute_result"
    }
   ],
   "source": [
    "#se a instalado para ver la arquitectura.\n",
    "visualkeras.layered_view(model)"
   ]
  },
  {
   "cell_type": "code",
   "execution_count": 7,
   "metadata": {
    "id": "0pzkdPCeYgRw"
   },
   "outputs": [],
   "source": [
    "#normalitzar\n",
    "x_train = x_train.astype(np.float32) / 255\n",
    "x_test = x_test.astype(np.float32) / 255\n",
    "\n",
    "#transformem les etiquetas a vectors unitaris\n",
    "y_train = to_categorical(y_train)\n",
    "y_test = to_categorical(y_test)"
   ]
  },
  {
   "cell_type": "code",
   "execution_count": 8,
   "metadata": {
    "colab": {
     "base_uri": "https://localhost:8080/"
    },
    "id": "AEMr9fKk9Nip",
    "outputId": "d93181eb-db6d-41e9-b66a-f48fd800f606"
   },
   "outputs": [
    {
     "name": "stdout",
     "output_type": "stream",
     "text": [
      "Epoch 1/5\n",
      "600/600 [==============================] - 16s 6ms/step - loss: 0.4639 - accuracy: 0.8336\n",
      "Epoch 2/5\n",
      "600/600 [==============================] - 4s 6ms/step - loss: 0.3043 - accuracy: 0.8911\n",
      "Epoch 3/5\n",
      "600/600 [==============================] - 4s 6ms/step - loss: 0.2627 - accuracy: 0.9049\n",
      "Epoch 4/5\n",
      "600/600 [==============================] - 4s 6ms/step - loss: 0.2316 - accuracy: 0.9152\n",
      "Epoch 5/5\n",
      "600/600 [==============================] - 4s 6ms/step - loss: 0.2071 - accuracy: 0.9230\n"
     ]
    },
    {
     "data": {
      "text/plain": [
       "<keras.callbacks.History at 0x7fa2704f41f0>"
      ]
     },
     "execution_count": 8,
     "metadata": {},
     "output_type": "execute_result"
    }
   ],
   "source": [
    "# Entrena el model i visualitza el resultat de l'evaluació amb les dades de validació\n",
    "\n",
    "#configuracio\n",
    "model.compile(loss = 'categorical_crossentropy', optimizer = 'adam', metrics = ['accuracy'])\n",
    "\n",
    "#entrenament\n",
    "model.fit(x_train,y_train, batch_size = 100, epochs =5, verbose = 1)"
   ]
  },
  {
   "cell_type": "code",
   "execution_count": 9,
   "metadata": {
    "colab": {
     "base_uri": "https://localhost:8080/"
    },
    "id": "1UurWBndcr5B",
    "outputId": "59451046-f8f2-464f-ae36-576a00756621"
   },
   "outputs": [
    {
     "name": "stdout",
     "output_type": "stream",
     "text": [
      "313/313 [==============================] - 1s 3ms/step - loss: 0.2563 - accuracy: 0.9066\n",
      "test accuracy 0.9065999984741211\n"
     ]
    }
   ],
   "source": [
    "#evaluacio el model obtingut amb les dades de valicacio\n",
    "y_lost, y_acc = model.evaluate(x_test,y_test)\n",
    "print('test accuracy',y_acc)"
   ]
  },
  {
   "cell_type": "code",
   "execution_count": 10,
   "metadata": {
    "colab": {
     "base_uri": "https://localhost:8080/",
     "height": 393
    },
    "id": "sARmvyDDe9Yf",
    "outputId": "61ab4fee-7b13-4d5b-e725-44d25921b8eb"
   },
   "outputs": [
    {
     "name": "stdout",
     "output_type": "stream",
     "text": [
      "1/1 [==============================] - 0s 128ms/step\n",
      "[[4.1750979e-02 2.2450557e-03 2.4700633e-01 6.3678169e-01 1.8914731e-02\n",
      "  2.6852984e-04 5.1455826e-02 1.3022171e-04 9.2914997e-04 5.1755097e-04]]\n",
      "Número prediccio: 3\n",
      "resposta: 2\n",
      "resposta: Pullover\n"
     ]
    },
    {
     "data": {
      "text/plain": [
       "<matplotlib.image.AxesImage at 0x7fa270189ca0>"
      ]
     },
     "execution_count": 10,
     "metadata": {},
     "output_type": "execute_result"
    },
    {
     "data": {
      "image/png": "[encoded data removed]",
      "text/plain": [
       "<Figure size 432x288 with 1 Axes>"
      ]
     },
     "metadata": {
      "needs_background": "light"
     },
     "output_type": "display_data"
    }
   ],
   "source": [
    "# Creem una llista amb els noms de les peces de roba \n",
    "clothes_list = [\"T-shirt/top\", \"Trouser\", \"Pullover\", \"Dress\", \"Coat\", \"Sandal\", \"Shirt\", \"Sneaker\", \"Bag\", \"Ankle\", \"boot\"]\n",
    "\n",
    "prediccio = model.predict(np.array([x_test[66]]))\n",
    "print(prediccio)\n",
    "print(f'Número prediccio: {np.argmax(prediccio)}')\n",
    "print(f'resposta: {np.argmax(y_test[66])}')\n",
    "print(f'resposta: {clothes_list[np.argmax(y_test[66])]}')\n",
    "plt.imshow(x_train[66],cmap = plt.cm.binary)"
   ]
  },
  {
   "cell_type": "markdown",
   "metadata": {
    "id": "dbbKgK5T-rUQ"
   },
   "source": [
    "La capa **BatchNormalization** normalitza les entrades de la capa de manera que la mitja de la seva activació de sortida sigui 0 i la desviació estàndard 1.\n",
    "\n",
    "La capa **Dropout** ajuda a evitar els error per sobreentrenament (overfitting). Aquesta tècnica es basa en ignorar certs conjunts de neurones de manera aleatòria durant la fase d'entrenament."
   ]
  },
  {
   "cell_type": "code",
   "execution_count": 11,
   "metadata": {
    "colab": {
     "base_uri": "https://localhost:8080/"
    },
    "id": "dyQkzhIs-fjR",
    "outputId": "9c83fdc5-6783-45c7-eb3c-483581725dc9"
   },
   "outputs": [
    {
     "name": "stdout",
     "output_type": "stream",
     "text": [
      "Model: \"sequential_1\"\n",
      "_________________________________________________________________\n",
      " Layer (type)                Output Shape              Param #   \n",
      "=================================================================\n",
      " conv2d_2 (Conv2D)           (None, 28, 28, 32)        320       \n",
      "                                                                 \n",
      " dropout (Dropout)           (None, 28, 28, 32)        0         \n",
      "                                                                 \n",
      " batch_normalization (BatchN  (None, 28, 28, 32)       128       \n",
      " ormalization)                                                   \n",
      "                                                                 \n",
      " conv2d_3 (Conv2D)           (None, 28, 28, 32)        9248      \n",
      "                                                                 \n",
      " dropout_1 (Dropout)         (None, 28, 28, 32)        0         \n",
      "                                                                 \n",
      " batch_normalization_1 (Batc  (None, 28, 28, 32)       128       \n",
      " hNormalization)                                                 \n",
      "                                                                 \n",
      " conv2d_4 (Conv2D)           (None, 28, 28, 64)        18496     \n",
      "                                                                 \n",
      " dropout_2 (Dropout)         (None, 28, 28, 64)        0         \n",
      "                                                                 \n",
      " batch_normalization_2 (Batc  (None, 28, 28, 64)       256       \n",
      " hNormalization)                                                 \n",
      "                                                                 \n",
      " conv2d_5 (Conv2D)           (None, 28, 28, 128)       73856     \n",
      "                                                                 \n",
      " dropout_3 (Dropout)         (None, 28, 28, 128)       0         \n",
      "                                                                 \n",
      " flatten_1 (Flatten)         (None, 100352)            0         \n",
      "                                                                 \n",
      " batch_normalization_3 (Batc  (None, 100352)           401408    \n",
      " hNormalization)                                                 \n",
      "                                                                 \n",
      " dense_2 (Dense)             (None, 512)               51380736  \n",
      "                                                                 \n",
      " dropout_4 (Dropout)         (None, 512)               0         \n",
      "                                                                 \n",
      " dense_3 (Dense)             (None, 128)               65664     \n",
      "                                                                 \n",
      " dropout_5 (Dropout)         (None, 128)               0         \n",
      "                                                                 \n",
      " dense_4 (Dense)             (None, 10)                1290      \n",
      "                                                                 \n",
      "=================================================================\n",
      "Total params: 51,951,530\n",
      "Trainable params: 51,750,570\n",
      "Non-trainable params: 200,960\n",
      "_________________________________________________________________\n"
     ]
    }
   ],
   "source": [
    "# Crea i entrena una CNN amb 4 capes convolucionals de 32, 32, 64 i 128 filtres\n",
    "# i mida de 3x3. En comptes de la operació MaxPooling, aplicarem les capes\n",
    "# BatchNormalization i Dropout al 25% a cadascuna d'elles. Configurarem el padding\n",
    "# de manera que la sortida i l'entrada siguin de la mateixa mida.\n",
    "#\n",
    "# Per finalitzar la nostra xarxa, afegirem 2 capes denses de 512 i 128 neurones\n",
    "# amb les capes BatchNormalization i Dropout al 50% abans de la capa de sortida.\n",
    "\n",
    "\n",
    "model = Sequential()\n",
    "\n",
    "model.add(Conv2D(filters = 32, kernel_size = (3,3), padding='same', activation = 'relu', input_shape = (28,28,1)))\n",
    "model.add(Dropout(0.25))\n",
    "model.add(BatchNormalization())\n",
    "\n",
    "model.add(Conv2D(filters = 32, kernel_size = (3,3),padding='same', activation = 'relu'))\n",
    "model.add(Dropout(0.25))\n",
    "model.add(BatchNormalization())\n",
    "\n",
    "model.add(Conv2D(filters = 64, kernel_size = (3,3), padding='same',activation = 'relu'))\n",
    "model.add(Dropout(0.25))\n",
    "model.add(BatchNormalization())\n",
    "\n",
    "model.add(Conv2D(filters = 128, kernel_size = (3,3), padding='same',activation = 'relu'))\n",
    "model.add(Dropout(0.25))\n",
    "model.add(Flatten())\n",
    "model.add(BatchNormalization())\n",
    "\n",
    "\n",
    "model.add(Dense(512,activation = 'relu'))\n",
    "model.add(Dropout(0.50))\n",
    "model.add(Dense(128,activation = 'relu'))\n",
    "model.add(Dropout(0.50))\n",
    "model.add(Dense(10,activation = 'softmax'))\n",
    "\n",
    "\n",
    "model.summary()"
   ]
  },
  {
   "cell_type": "code",
   "execution_count": 12,
   "metadata": {
    "colab": {
     "base_uri": "https://localhost:8080/",
     "height": 167
    },
    "id": "ZBKsKdPxBwwp",
    "outputId": "dc9d20b8-705c-44ea-a09a-651eff22d215"
   },
   "outputs": [
    {
     "data": {
      "image/png": "[encoded data removed]",
      "text/plain": [
       "<PIL.Image.Image image mode=RGBA size=1395x150 at 0x7FA270254CA0>"
      ]
     },
     "execution_count": 12,
     "metadata": {},
     "output_type": "execute_result"
    }
   ],
   "source": [
    "#se a instalado para ver la arquitectura.\n",
    "visualkeras.layered_view(model)"
   ]
  },
  {
   "cell_type": "code",
   "execution_count": 13,
   "metadata": {
    "colab": {
     "base_uri": "https://localhost:8080/"
    },
    "id": "nZx5QWylEMe5",
    "outputId": "07a5605c-e617-4ccc-8a2c-146ae3470f83"
   },
   "outputs": [
    {
     "name": "stdout",
     "output_type": "stream",
     "text": [
      "Epoch 1/5\n",
      "600/600 [==============================] - 28s 45ms/step - loss: 0.8788 - accuracy: 0.7347\n",
      "Epoch 2/5\n",
      "600/600 [==============================] - 27s 45ms/step - loss: 0.5326 - accuracy: 0.8156\n",
      "Epoch 3/5\n",
      "600/600 [==============================] - 27s 45ms/step - loss: 0.4596 - accuracy: 0.8401\n",
      "Epoch 4/5\n",
      "600/600 [==============================] - 27s 45ms/step - loss: 0.4256 - accuracy: 0.8545\n",
      "Epoch 5/5\n",
      "600/600 [==============================] - 27s 45ms/step - loss: 0.3856 - accuracy: 0.8653\n"
     ]
    },
    {
     "data": {
      "text/plain": [
       "<keras.callbacks.History at 0x7fa2701bb0a0>"
      ]
     },
     "execution_count": 13,
     "metadata": {},
     "output_type": "execute_result"
    }
   ],
   "source": [
    "# Entrena el model i visualitza el resultat de l'evaluació amb les dades de validació\n",
    "\n",
    "#configuracio\n",
    "model.compile(loss = 'categorical_crossentropy', optimizer = 'adam', metrics = ['accuracy'])\n",
    "\n",
    "#entrenament\n",
    "model.fit(x_train,y_train, batch_size = 100, epochs =5, verbose = 1)"
   ]
  },
  {
   "cell_type": "code",
   "execution_count": 14,
   "metadata": {
    "colab": {
     "base_uri": "https://localhost:8080/"
    },
    "id": "0tdIIRl8EYCj",
    "outputId": "9114b596-9db2-497e-af48-a8fceaf3523a"
   },
   "outputs": [
    {
     "name": "stdout",
     "output_type": "stream",
     "text": [
      "313/313 [==============================] - 2s 6ms/step - loss: 0.2995 - accuracy: 0.8961\n",
      "test accuracy 0.8960999846458435\n"
     ]
    }
   ],
   "source": [
    "#evaluacio el model obtingut amb les dades de valicacio\n",
    "y_lost, y_acc = model.evaluate(x_test,y_test)\n",
    "print('test accuracy',y_acc)"
   ]
  },
  {
   "cell_type": "code",
   "execution_count": 15,
   "metadata": {
    "colab": {
     "base_uri": "https://localhost:8080/",
     "height": 393
    },
    "id": "xpUXgGw9EZYv",
    "outputId": "3b451c8e-5c8f-49d3-be99-adc5d1d370d1"
   },
   "outputs": [
    {
     "name": "stdout",
     "output_type": "stream",
     "text": [
      "1/1 [==============================] - 0s 166ms/step\n",
      "[[2.7791224e-11 2.0564182e-17 8.7753584e-04 4.0046317e-11 8.6212647e-01\n",
      "  9.6870841e-24 1.3699593e-01 1.2710969e-22 1.2184694e-12 2.5787155e-25]]\n",
      "Número prediccio: 4\n",
      "resposta: 4\n",
      "resposta: Coat\n"
     ]
    },
    {
     "data": {
      "text/plain": [
       "<matplotlib.image.AxesImage at 0x7fa21c52cdc0>"
      ]
     },
     "execution_count": 15,
     "metadata": {},
     "output_type": "execute_result"
    },
    {
     "data": {
      "image/png": "[encoded data removed]",
      "text/plain": [
       "<Figure size 432x288 with 1 Axes>"
      ]
     },
     "metadata": {
      "needs_background": "light"
     },
     "output_type": "display_data"
    }
   ],
   "source": [
    "\n",
    "prediccio = model.predict(np.array([x_test[50]]))\n",
    "print(prediccio)\n",
    "print(f'Número prediccio: {np.argmax(prediccio)}')\n",
    "print(f'resposta: {np.argmax(y_test[50])}')\n",
    "print(f'resposta: {clothes_list[np.argmax(y_test[50])]}')\n",
    "plt.imshow(x_train[50],cmap = plt.cm.binary)"
   ]
  },
  {
   "cell_type": "markdown",
   "metadata": {
    "id": "9f0aagAMDYw5"
   },
   "source": [
    "## Part opcional\n",
    "\n",
    "Experimenta amb diferents configuracions de xarxa modificant el número de capes, morfologia, hiperparàmetres, etc."
   ]
  },
  {
   "cell_type": "code",
   "execution_count": 15,
   "metadata": {
    "id": "IyiNJDFXDpwn"
   },
   "outputs": [],
   "source": []
  }
 ],
 "metadata": {
  "accelerator": "GPU",
  "colab": {
   "provenance": []
  },
  "gpuClass": "standard",
  "kernelspec": {
   "display_name": "Python 3 (ipykernel)",
   "language": "python",
   "name": "python3"
  },
  "language_info": {
   "codemirror_mode": {
    "name": "ipython",
    "version": 3
   },
   "file_extension": ".py",
   "mimetype": "text/x-python",
   "name": "python",
   "nbconvert_exporter": "python",
   "pygments_lexer": "ipython3",
   "version": "3.9.13"
  }
 },
 "nbformat": 4,
 "nbformat_minor": 4
}
