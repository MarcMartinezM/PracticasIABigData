{
 "cells": [
  {
   "cell_type": "code",
   "execution_count": 1,
   "id": "49c3ac10-a430-4dc2-b824-3bd86863cf1f",
   "metadata": {},
   "outputs": [],
   "source": [
    "# Importem llibreries\n",
    "import tensorflow as tf\n",
    "from tensorflow.keras import Sequential\n",
    "from tensorflow.keras.layers import Conv2D\n",
    "from tensorflow.keras.layers import MaxPooling2D\n",
    "from tensorflow.keras.layers import Dense\n",
    "from tensorflow.keras.layers import Flatten"
   ]
  },
  {
   "cell_type": "code",
   "execution_count": 2,
   "id": "65c8c3a2-4018-4ba9-8375-f65bcb72db26",
   "metadata": {
    "tags": []
   },
   "outputs": [
    {
     "name": "stdout",
     "output_type": "stream",
     "text": [
      "Model: \"sequential\"\n",
      "_________________________________________________________________\n",
      " Layer (type)                Output Shape              Param #   \n",
      "=================================================================\n",
      " conv2d (Conv2D)             (None, 24, 24, 32)        832       \n",
      "                                                                 \n",
      " max_pooling2d (MaxPooling2D  (None, 12, 12, 32)       0         \n",
      " )                                                               \n",
      "                                                                 \n",
      " conv2d_1 (Conv2D)           (None, 8, 8, 64)          51264     \n",
      "                                                                 \n",
      " max_pooling2d_1 (MaxPooling  (None, 4, 4, 64)         0         \n",
      " 2D)                                                             \n",
      "                                                                 \n",
      " flatten (Flatten)           (None, 1024)              0         \n",
      "                                                                 \n",
      " dense (Dense)               (None, 10)                10250     \n",
      "                                                                 \n",
      "=================================================================\n",
      "Total params: 62,346\n",
      "Trainable params: 62,346\n",
      "Non-trainable params: 0\n",
      "_________________________________________________________________\n"
     ]
    }
   ],
   "source": [
    "# primer crearem el model de la xarxa neuronal convolucional\n",
    "model = Sequential()\n",
    "#comvolution\n",
    "model.add(Conv2D(filters = 32, kernel_size = (5,5), activation = 'relu', input_shape = (28,28,1)))\n",
    "model.add(MaxPooling2D((2,2)))\n",
    "#pooling\n",
    "model.add(Conv2D(filters = 64, kernel_size = (5,5), activation = 'relu'))\n",
    "model.add(MaxPooling2D((2,2)))\n",
    "#full connection (softmax) aplana las dades per entra en la capa densa\n",
    "model.add(Flatten())\n",
    "model.add(Dense(10,activation = 'softmax'))\n",
    "\n",
    "model.summary()"
   ]
  },
  {
   "cell_type": "code",
   "execution_count": 3,
   "id": "8c5a4bec-9e0a-4a75-96f7-df8f7d66f1e8",
   "metadata": {},
   "outputs": [],
   "source": [
    "## PREP.PROCESSAT DE LES DADES"
   ]
  },
  {
   "cell_type": "code",
   "execution_count": 4,
   "id": "5b4eeb9f-414b-4086-ac09-4fc432015726",
   "metadata": {},
   "outputs": [],
   "source": [
    "#importem llibreries i dades\n",
    "from tensorflow.keras.utils import to_categorical\n",
    "import numpy as np\n",
    "# Descarreguem el dataset\n",
    "mnistData = tf.keras.datasets.mnist\n",
    "(x_train, y_train), (x_test, y_test) = mnistData.load_data()\n",
    "\n",
    "#normalitzar\n",
    "x_train = x_train.astype(np.float32) / 255\n",
    "x_test = x_test.astype(np.float32) / 255\n",
    "\n",
    "#transformem les etiquetas a vectors unitaris\n",
    "y_train = to_categorical(y_train)\n",
    "y_test = to_categorical(y_test)"
   ]
  },
  {
   "cell_type": "code",
   "execution_count": 5,
   "id": "9d8f8c66-8ccb-46c1-8bf9-222aaf97a169",
   "metadata": {},
   "outputs": [
    {
     "name": "stdout",
     "output_type": "stream",
     "text": [
      "Epoch 1/5\n",
      "600/600 [==============================] - 16s 26ms/step - loss: 0.9170 - accuracy: 0.7807\n",
      "Epoch 2/5\n",
      "600/600 [==============================] - 16s 26ms/step - loss: 0.2631 - accuracy: 0.9224\n",
      "Epoch 3/5\n",
      "600/600 [==============================] - 16s 26ms/step - loss: 0.1897 - accuracy: 0.9445\n",
      "Epoch 4/5\n",
      "600/600 [==============================] - 16s 26ms/step - loss: 0.1516 - accuracy: 0.9551\n",
      "Epoch 5/5\n",
      "600/600 [==============================] - 16s 26ms/step - loss: 0.1276 - accuracy: 0.9629\n"
     ]
    },
    {
     "data": {
      "text/plain": [
       "<keras.callbacks.History at 0x2542472df10>"
      ]
     },
     "execution_count": 5,
     "metadata": {},
     "output_type": "execute_result"
    }
   ],
   "source": [
    "#configuracio\n",
    "model.compile(loss = 'categorical_crossentropy', optimizer = 'sgd', metrics = ['accuracy'])\n",
    "\n",
    "#entrenament\n",
    "model.fit(x_train,y_train, batch_size = 100, epochs =5, verbose = 1)"
   ]
  },
  {
   "cell_type": "code",
   "execution_count": 6,
   "id": "e3aeb204-139a-4e17-b276-73eece43de7c",
   "metadata": {},
   "outputs": [],
   "source": [
    "## evaluacio del model"
   ]
  },
  {
   "cell_type": "code",
   "execution_count": 7,
   "id": "5dbc5382-3425-41ce-938c-2448a508f90a",
   "metadata": {},
   "outputs": [
    {
     "name": "stdout",
     "output_type": "stream",
     "text": [
      "313/313 [==============================] - 2s 5ms/step - loss: 0.1034 - accuracy: 0.9709\n",
      "test accuracy 0.9708999991416931\n"
     ]
    }
   ],
   "source": [
    "#evaluacio el model obtingut amb les dades de valicacio\n",
    "y_lost, y_acc = model.evaluate(x_test,y_test)\n",
    "print('test accuracy',y_acc)"
   ]
  },
  {
   "cell_type": "code",
   "execution_count": 8,
   "id": "3ebb6dbe-d8eb-4f32-b3a8-17b672b50021",
   "metadata": {},
   "outputs": [],
   "source": [
    "##genracio de prediccions"
   ]
  },
  {
   "cell_type": "code",
   "execution_count": 9,
   "id": "2ef0770c-dbf8-40a8-b443-893234fa5e56",
   "metadata": {},
   "outputs": [
    {
     "name": "stdout",
     "output_type": "stream",
     "text": [
      "1/1 [==============================] - 0s 79ms/step\n",
      "prediccio de la CNN [[8.3178593e-06 3.1831881e-08 2.6530251e-05 4.4560591e-05 7.2076344e-03\n",
      "  6.3162850e-05 1.4631190e-07 3.3724993e-02 4.8810192e-03 9.5404363e-01]]\n",
      "arrodonir CNN [[0. 0. 0. 0. 0. 0. 0. 0. 0. 1.]]\n",
      " 0 y 1 en numero CNN 9\n",
      "resposta real CNN [0. 0. 0. 0. 0. 0. 0. 0. 0. 1.]\n",
      "resposta real  0 y 1 en nue CNN 9\n"
     ]
    }
   ],
   "source": [
    "#preddicio d'una imatge\n",
    "prediccio = model.predict(x_test[9:10])\n",
    "print('prediccio de la CNN',prediccio)\n",
    "print('arrodonir CNN',np.round(prediccio))\n",
    "print(' 0 y 1 en numero CNN',np.argmax(prediccio))\n",
    "print('resposta real CNN',y_test[9])\n",
    "print('resposta real  0 y 1 en nue CNN',np.argmax(y_test[9]))"
   ]
  },
  {
   "cell_type": "code",
   "execution_count": null,
   "id": "315e4e15-fcf6-4986-bbd3-2bc9acfeb591",
   "metadata": {},
   "outputs": [],
   "source": []
  }
 ],
 "metadata": {
  "kernelspec": {
   "display_name": "Python 3 (ipykernel)",
   "language": "python",
   "name": "python3"
  },
  "language_info": {
   "codemirror_mode": {
    "name": "ipython",
    "version": 3
   },
   "file_extension": ".py",
   "mimetype": "text/x-python",
   "name": "python",
   "nbconvert_exporter": "python",
   "pygments_lexer": "ipython3",
   "version": "3.9.13"
  }
 },
 "nbformat": 4,
 "nbformat_minor": 5
}
