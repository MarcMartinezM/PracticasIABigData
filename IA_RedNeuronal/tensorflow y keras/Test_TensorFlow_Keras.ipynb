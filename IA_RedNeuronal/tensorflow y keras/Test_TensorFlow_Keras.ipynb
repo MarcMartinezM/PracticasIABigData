{
 "cells": [
  {
   "cell_type": "code",
   "execution_count": 1,
   "id": "df17e5c6-339e-4be2-8da6-efb80b75ae64",
   "metadata": {},
   "outputs": [],
   "source": [
    "# instalar tensorflow con pip install tensorflow desde terminar anaconda prompt"
   ]
  },
  {
   "cell_type": "code",
   "execution_count": 2,
   "id": "4eb056ce-3a9b-472b-92a5-028b682ba0e3",
   "metadata": {},
   "outputs": [
    {
     "data": {
      "text/plain": [
       "'2.10.0'"
      ]
     },
     "execution_count": 2,
     "metadata": {},
     "output_type": "execute_result"
    }
   ],
   "source": [
    "#import lliberias\n",
    "\n",
    "import tensorflow as tf\n",
    "from tensorflow import keras\n",
    "import numpy as np\n",
    "# ver verson tensorFlow\n",
    "tf.__version__"
   ]
  },
  {
   "cell_type": "code",
   "execution_count": 3,
   "id": "75064fad-5d66-4d4a-8b77-675d04e8d3d1",
   "metadata": {},
   "outputs": [],
   "source": [
    "#descargamos \n",
    "mnist = tf.keras.datasets.mnist\n",
    "(x_train, y_train),(x_test,y_test) = mnist.load_data()"
   ]
  },
  {
   "cell_type": "markdown",
   "id": "cdda1ae2-ed9a-49e4-acb2-fb8fe24e029c",
   "metadata": {},
   "source": [
    "## Analisis de les dades"
   ]
  },
  {
   "cell_type": "code",
   "execution_count": 4,
   "id": "fa708013-1360-4acc-99c5-1105a57c44ad",
   "metadata": {},
   "outputs": [
    {
     "name": "stdout",
     "output_type": "stream",
     "text": [
      "(60000, 28, 28)\n",
      "uint8\n"
     ]
    }
   ],
   "source": [
    "# revisien la forma y tipo de los datos\n",
    "print(x_train.shape)# 60000 imagenes o numeros de 28x28 cada una\n",
    "print(x_train.dtype)# entero sin signos 8 bits"
   ]
  },
  {
   "cell_type": "code",
   "execution_count": 5,
   "id": "55bbf382-e632-47b5-b492-ec785b4d365c",
   "metadata": {},
   "outputs": [
    {
     "name": "stdout",
     "output_type": "stream",
     "text": [
      "[[  0   0   0   0   0   0   0   0   0   0   0   0   0   0   0   0   0   0\n",
      "    0   0   0   0   0   0   0   0   0   0]\n",
      " [  0   0   0   0   0   0   0   0   0   0   0   0   0   0   0   0   0   0\n",
      "    0   0   0   0   0   0   0   0   0   0]\n",
      " [  0   0   0   0   0   0   0   0   0   0   0   0   0   0   0   0   0   0\n",
      "    0   0   0   0   0   0   0   0   0   0]\n",
      " [  0   0   0   0   0   0   0   0   0   0   0   0   0   0   0   0   0   0\n",
      "    0   0   0   0   0   0   0   0   0   0]\n",
      " [  0   0   0   0   0   0   0   0   0   0   8  76 202 254 255 163  37   2\n",
      "    0   0   0   0   0   0   0   0   0   0]\n",
      " [  0   0   0   0   0   0   0   0   0  13 182 253 253 253 253 253 253  23\n",
      "    0   0   0   0   0   0   0   0   0   0]\n",
      " [  0   0   0   0   0   0   0   0  15 179 253 253 212  91 218 253 253 179\n",
      "  109   0   0   0   0   0   0   0   0   0]\n",
      " [  0   0   0   0   0   0   0   0 105 253 253 160  35 156 253 253 253 253\n",
      "  250 113   0   0   0   0   0   0   0   0]\n",
      " [  0   0   0   0   0   0   0  19 212 253 253  88 121 253 233 128  91 245\n",
      "  253 248 114   0   0   0   0   0   0   0]\n",
      " [  0   0   0   0   0   0   0 104 253 253 110   2 142 253  90   0   0  26\n",
      "  199 253 248  63   0   0   0   0   0   0]\n",
      " [  0   0   0   0   0   0   1 173 253 253  29   0  84 228  39   0   0   0\n",
      "   72 251 253 215  29   0   0   0   0   0]\n",
      " [  0   0   0   0   0   0  36 253 253 203  13   0   0   0   0   0   0   0\n",
      "    0  82 253 253 170   0   0   0   0   0]\n",
      " [  0   0   0   0   0   0  36 253 253 164   0   0   0   0   0   0   0   0\n",
      "    0  11 198 253 184   6   0   0   0   0]\n",
      " [  0   0   0   0   0   0  36 253 253  82   0   0   0   0   0   0   0   0\n",
      "    0   0 138 253 253  35   0   0   0   0]\n",
      " [  0   0   0   0   0   0 128 253 253  47   0   0   0   0   0   0   0   0\n",
      "    0   0  48 253 253  35   0   0   0   0]\n",
      " [  0   0   0   0   0   0 154 253 253  47   0   0   0   0   0   0   0   0\n",
      "    0   0  48 253 253  35   0   0   0   0]\n",
      " [  0   0   0   0   0   0 102 253 253  99   0   0   0   0   0   0   0   0\n",
      "    0   0  48 253 253  35   0   0   0   0]\n",
      " [  0   0   0   0   0   0  36 253 253 164   0   0   0   0   0   0   0   0\n",
      "    0  16 208 253 211  17   0   0   0   0]\n",
      " [  0   0   0   0   0   0  32 244 253 175   4   0   0   0   0   0   0   0\n",
      "    0  44 253 253 156   0   0   0   0   0]\n",
      " [  0   0   0   0   0   0   0 171 253 253  29   0   0   0   0   0   0   0\n",
      "   30 217 253 188  19   0   0   0   0   0]\n",
      " [  0   0   0   0   0   0   0 171 253 253  59   0   0   0   0   0   0  60\n",
      "  217 253 253  70   0   0   0   0   0   0]\n",
      " [  0   0   0   0   0   0   0  78 253 253 231  48   0   0   0  26 128 249\n",
      "  253 244  94  15   0   0   0   0   0   0]\n",
      " [  0   0   0   0   0   0   0   8 151 253 253 234 101 121 219 229 253 253\n",
      "  201  80   0   0   0   0   0   0   0   0]\n",
      " [  0   0   0   0   0   0   0   0  38 232 253 253 253 253 253 253 253 201\n",
      "   66   0   0   0   0   0   0   0   0   0]\n",
      " [  0   0   0   0   0   0   0   0   0   0   0   0   0   0   0   0   0   0\n",
      "    0   0   0   0   0   0   0   0   0   0]\n",
      " [  0   0   0   0   0   0   0   0   0   0   0   0   0   0   0   0   0   0\n",
      "    0   0   0   0   0   0   0   0   0   0]\n",
      " [  0   0   0   0   0   0   0   0   0   0   0   0   0   0   0   0   0   0\n",
      "    0   0   0   0   0   0   0   0   0   0]\n",
      " [  0   0   0   0   0   0   0   0   0   0   0   0   0   0   0   0   0   0\n",
      "    0   0   0   0   0   0   0   0   0   0]]\n",
      "0\n"
     ]
    }
   ],
   "source": [
    "# mostrem les dades d'una imatge\n",
    "print(x_train[88])\n",
    "\n",
    "#ostramos la salida\n",
    "print(y_train[69])"
   ]
  },
  {
   "cell_type": "code",
   "execution_count": 6,
   "id": "6d4b0e0e-5b72-423f-a760-816eb62fc9b1",
   "metadata": {},
   "outputs": [
    {
     "data": {
      "text/plain": [
       "<matplotlib.image.AxesImage at 0x21394260b80>"
      ]
     },
     "execution_count": 6,
     "metadata": {},
     "output_type": "execute_result"
    },
    {
     "data": {
      "image/png": "[encoded data removed]",
      "text/plain": [
       "<Figure size 640x480 with 1 Axes>"
      ]
     },
     "metadata": {},
     "output_type": "display_data"
    }
   ],
   "source": [
    "# ver la imagen \n",
    "\n",
    "import matplotlib.pyplot as plt\n",
    "plt.imshow(x_train[88],cmap = plt.cm.binary)"
   ]
  },
  {
   "cell_type": "markdown",
   "id": "1c41534d-1a8a-4921-bf48-94b35e3586a6",
   "metadata": {},
   "source": [
    "## Pre-processament de les dades"
   ]
  },
  {
   "cell_type": "code",
   "execution_count": 7,
   "id": "d1b38351-1ae1-4321-b388-1e99c7780bfa",
   "metadata": {},
   "outputs": [
    {
     "name": "stdout",
     "output_type": "stream",
     "text": [
      "[[0.         0.         0.         0.         0.         0.\n",
      "  0.         0.         0.         0.         0.         0.\n",
      "  0.         0.         0.         0.         0.         0.\n",
      "  0.         0.         0.         0.         0.         0.\n",
      "  0.         0.         0.         0.        ]\n",
      " [0.         0.         0.         0.         0.         0.\n",
      "  0.         0.         0.         0.         0.         0.\n",
      "  0.         0.         0.         0.         0.         0.\n",
      "  0.         0.         0.         0.         0.         0.\n",
      "  0.         0.         0.         0.        ]\n",
      " [0.         0.         0.         0.         0.         0.\n",
      "  0.         0.         0.         0.         0.         0.\n",
      "  0.         0.         0.         0.         0.         0.\n",
      "  0.         0.         0.         0.         0.         0.\n",
      "  0.         0.         0.         0.        ]\n",
      " [0.         0.         0.         0.         0.         0.\n",
      "  0.         0.         0.         0.         0.         0.\n",
      "  0.         0.         0.         0.         0.         0.\n",
      "  0.         0.         0.         0.         0.         0.\n",
      "  0.         0.         0.         0.        ]\n",
      " [0.         0.         0.         0.         0.         0.\n",
      "  0.         0.         0.         0.         0.03137255 0.29803923\n",
      "  0.7921569  0.99607843 1.         0.6392157  0.14509805 0.00784314\n",
      "  0.         0.         0.         0.         0.         0.\n",
      "  0.         0.         0.         0.        ]\n",
      " [0.         0.         0.         0.         0.         0.\n",
      "  0.         0.         0.         0.05098039 0.7137255  0.99215686\n",
      "  0.99215686 0.99215686 0.99215686 0.99215686 0.99215686 0.09019608\n",
      "  0.         0.         0.         0.         0.         0.\n",
      "  0.         0.         0.         0.        ]\n",
      " [0.         0.         0.         0.         0.         0.\n",
      "  0.         0.         0.05882353 0.7019608  0.99215686 0.99215686\n",
      "  0.83137256 0.35686275 0.85490197 0.99215686 0.99215686 0.7019608\n",
      "  0.42745098 0.         0.         0.         0.         0.\n",
      "  0.         0.         0.         0.        ]\n",
      " [0.         0.         0.         0.         0.         0.\n",
      "  0.         0.         0.4117647  0.99215686 0.99215686 0.627451\n",
      "  0.13725491 0.6117647  0.99215686 0.99215686 0.99215686 0.99215686\n",
      "  0.98039216 0.44313726 0.         0.         0.         0.\n",
      "  0.         0.         0.         0.        ]\n",
      " [0.         0.         0.         0.         0.         0.\n",
      "  0.         0.07450981 0.83137256 0.99215686 0.99215686 0.34509805\n",
      "  0.4745098  0.99215686 0.9137255  0.5019608  0.35686275 0.9607843\n",
      "  0.99215686 0.972549   0.44705883 0.         0.         0.\n",
      "  0.         0.         0.         0.        ]\n",
      " [0.         0.         0.         0.         0.         0.\n",
      "  0.         0.40784314 0.99215686 0.99215686 0.43137255 0.00784314\n",
      "  0.5568628  0.99215686 0.3529412  0.         0.         0.10196079\n",
      "  0.78039217 0.99215686 0.972549   0.24705882 0.         0.\n",
      "  0.         0.         0.         0.        ]\n",
      " [0.         0.         0.         0.         0.         0.\n",
      "  0.00392157 0.6784314  0.99215686 0.99215686 0.11372549 0.\n",
      "  0.32941177 0.89411765 0.15294118 0.         0.         0.\n",
      "  0.28235295 0.9843137  0.99215686 0.84313726 0.11372549 0.\n",
      "  0.         0.         0.         0.        ]\n",
      " [0.         0.         0.         0.         0.         0.\n",
      "  0.14117648 0.99215686 0.99215686 0.79607844 0.05098039 0.\n",
      "  0.         0.         0.         0.         0.         0.\n",
      "  0.         0.32156864 0.99215686 0.99215686 0.6666667  0.\n",
      "  0.         0.         0.         0.        ]\n",
      " [0.         0.         0.         0.         0.         0.\n",
      "  0.14117648 0.99215686 0.99215686 0.6431373  0.         0.\n",
      "  0.         0.         0.         0.         0.         0.\n",
      "  0.         0.04313726 0.7764706  0.99215686 0.72156864 0.02352941\n",
      "  0.         0.         0.         0.        ]\n",
      " [0.         0.         0.         0.         0.         0.\n",
      "  0.14117648 0.99215686 0.99215686 0.32156864 0.         0.\n",
      "  0.         0.         0.         0.         0.         0.\n",
      "  0.         0.         0.5411765  0.99215686 0.99215686 0.13725491\n",
      "  0.         0.         0.         0.        ]\n",
      " [0.         0.         0.         0.         0.         0.\n",
      "  0.5019608  0.99215686 0.99215686 0.18431373 0.         0.\n",
      "  0.         0.         0.         0.         0.         0.\n",
      "  0.         0.         0.1882353  0.99215686 0.99215686 0.13725491\n",
      "  0.         0.         0.         0.        ]\n",
      " [0.         0.         0.         0.         0.         0.\n",
      "  0.6039216  0.99215686 0.99215686 0.18431373 0.         0.\n",
      "  0.         0.         0.         0.         0.         0.\n",
      "  0.         0.         0.1882353  0.99215686 0.99215686 0.13725491\n",
      "  0.         0.         0.         0.        ]\n",
      " [0.         0.         0.         0.         0.         0.\n",
      "  0.4        0.99215686 0.99215686 0.3882353  0.         0.\n",
      "  0.         0.         0.         0.         0.         0.\n",
      "  0.         0.         0.1882353  0.99215686 0.99215686 0.13725491\n",
      "  0.         0.         0.         0.        ]\n",
      " [0.         0.         0.         0.         0.         0.\n",
      "  0.14117648 0.99215686 0.99215686 0.6431373  0.         0.\n",
      "  0.         0.         0.         0.         0.         0.\n",
      "  0.         0.0627451  0.8156863  0.99215686 0.827451   0.06666667\n",
      "  0.         0.         0.         0.        ]\n",
      " [0.         0.         0.         0.         0.         0.\n",
      "  0.1254902  0.95686275 0.99215686 0.6862745  0.01568628 0.\n",
      "  0.         0.         0.         0.         0.         0.\n",
      "  0.         0.17254902 0.99215686 0.99215686 0.6117647  0.\n",
      "  0.         0.         0.         0.        ]\n",
      " [0.         0.         0.         0.         0.         0.\n",
      "  0.         0.67058825 0.99215686 0.99215686 0.11372549 0.\n",
      "  0.         0.         0.         0.         0.         0.\n",
      "  0.11764706 0.8509804  0.99215686 0.7372549  0.07450981 0.\n",
      "  0.         0.         0.         0.        ]\n",
      " [0.         0.         0.         0.         0.         0.\n",
      "  0.         0.67058825 0.99215686 0.99215686 0.23137255 0.\n",
      "  0.         0.         0.         0.         0.         0.23529412\n",
      "  0.8509804  0.99215686 0.99215686 0.27450982 0.         0.\n",
      "  0.         0.         0.         0.        ]\n",
      " [0.         0.         0.         0.         0.         0.\n",
      "  0.         0.30588236 0.99215686 0.99215686 0.90588236 0.1882353\n",
      "  0.         0.         0.         0.10196079 0.5019608  0.9764706\n",
      "  0.99215686 0.95686275 0.36862746 0.05882353 0.         0.\n",
      "  0.         0.         0.         0.        ]\n",
      " [0.         0.         0.         0.         0.         0.\n",
      "  0.         0.03137255 0.5921569  0.99215686 0.99215686 0.91764706\n",
      "  0.39607844 0.4745098  0.85882354 0.8980392  0.99215686 0.99215686\n",
      "  0.7882353  0.3137255  0.         0.         0.         0.\n",
      "  0.         0.         0.         0.        ]\n",
      " [0.         0.         0.         0.         0.         0.\n",
      "  0.         0.         0.14901961 0.9098039  0.99215686 0.99215686\n",
      "  0.99215686 0.99215686 0.99215686 0.99215686 0.99215686 0.7882353\n",
      "  0.25882354 0.         0.         0.         0.         0.\n",
      "  0.         0.         0.         0.        ]\n",
      " [0.         0.         0.         0.         0.         0.\n",
      "  0.         0.         0.         0.         0.         0.\n",
      "  0.         0.         0.         0.         0.         0.\n",
      "  0.         0.         0.         0.         0.         0.\n",
      "  0.         0.         0.         0.        ]\n",
      " [0.         0.         0.         0.         0.         0.\n",
      "  0.         0.         0.         0.         0.         0.\n",
      "  0.         0.         0.         0.         0.         0.\n",
      "  0.         0.         0.         0.         0.         0.\n",
      "  0.         0.         0.         0.        ]\n",
      " [0.         0.         0.         0.         0.         0.\n",
      "  0.         0.         0.         0.         0.         0.\n",
      "  0.         0.         0.         0.         0.         0.\n",
      "  0.         0.         0.         0.         0.         0.\n",
      "  0.         0.         0.         0.        ]\n",
      " [0.         0.         0.         0.         0.         0.\n",
      "  0.         0.         0.         0.         0.         0.\n",
      "  0.         0.         0.         0.         0.         0.\n",
      "  0.         0.         0.         0.         0.         0.\n",
      "  0.         0.         0.         0.        ]]\n"
     ]
    }
   ],
   "source": [
    "# convertir el tipo unit8 a float32 per tener representacio amb decimals\n",
    "\n",
    "x_train = x_train.astype(np.float32)\n",
    "x_test = x_test.astype(np.float32)\n",
    "\n",
    "x_train.dtype\n",
    "\n",
    "#normalitzacion\n",
    "x_train = x_train / 255\n",
    "x_test  = x_test / 255\n",
    "\n",
    "\n",
    "#observem el resultat\n",
    "\n",
    "print(x_train[88])"
   ]
  },
  {
   "cell_type": "code",
   "execution_count": 8,
   "id": "7999be5e-8685-4d2b-bf46-370cf1aff539",
   "metadata": {},
   "outputs": [
    {
     "name": "stdout",
     "output_type": "stream",
     "text": [
      "(60000, 784)\n"
     ]
    }
   ],
   "source": [
    "# Convertimos la matriz 28x28 eb un vector unidimensional de 784\n",
    "\n",
    "x_train = x_train.reshape(60000, 784)\n",
    "x_test = x_test.reshape(10000, 784)\n",
    "\n",
    "# comprovemmos resultado\n",
    "\n",
    "print(x_train.shape)"
   ]
  },
  {
   "cell_type": "code",
   "execution_count": 9,
   "id": "a9da3f04-5035-4b34-8426-014ab9c07f6b",
   "metadata": {},
   "outputs": [
    {
     "name": "stdout",
     "output_type": "stream",
     "text": [
      "[1. 0. 0. 0. 0. 0. 0. 0. 0. 0.]\n"
     ]
    }
   ],
   "source": [
    "#transoformamos la slaida a un vector boolean mida 10\n",
    "\n",
    "from tensorflow.keras.utils import to_categorical\n",
    "\n",
    "y_train = to_categorical(y_train, num_classes = 10)\n",
    "y_test = to_categorical(y_test, num_classes = 10)\n",
    "\n",
    "#comprobamos el reusltado\n",
    "\n",
    "print(y_train[88])"
   ]
  },
  {
   "cell_type": "markdown",
   "id": "3fe062d3-a6c3-4c3f-a705-ff03460a6eb0",
   "metadata": {},
   "source": [
    "##"
   ]
  },
  {
   "cell_type": "code",
   "execution_count": 10,
   "id": "28aa939f-24dd-4d44-bc86-31e0e51d5fe5",
   "metadata": {},
   "outputs": [
    {
     "name": "stdout",
     "output_type": "stream",
     "text": [
      "Model: \"sequential\"\n",
      "_________________________________________________________________\n",
      " Layer (type)                Output Shape              Param #   \n",
      "=================================================================\n",
      " dense (Dense)               (None, 10)                7850      \n",
      "                                                                 \n",
      " dense_1 (Dense)             (None, 10)                110       \n",
      "                                                                 \n",
      "=================================================================\n",
      "Total params: 7,960\n",
      "Trainable params: 7,960\n",
      "Non-trainable params: 0\n",
      "_________________________________________________________________\n"
     ]
    }
   ],
   "source": [
    "# librerias necesarias\n",
    "\n",
    "from keras.models import Sequential\n",
    "from keras.layers import Dense\n",
    "\n",
    "# defir el tipis de xarxa neuronal\n",
    "model = Sequential()\n",
    "\n",
    "# afegim una capa de 10 neuronas amb 784 antradas y funcion d'activacio sigmoid\n",
    "model.add(Dense(10, activation = 'sigmoid', input_shape=(784,)))\n",
    "\n",
    "# afegim una capa de sortida de 10 neuronas amb funcions d'activacio softmax\n",
    "model.add(Dense(10, activation = 'softmax'))\n",
    "\n",
    "#visualitzem l'estructura de la xarxa neuronal\n",
    "\n",
    "model.summary()"
   ]
  },
  {
   "cell_type": "markdown",
   "id": "4a7fd161-3bd0-4629-9d1d-eb5b8e5eba00",
   "metadata": {},
   "source": [
    "## proces d'entrenament"
   ]
  },
  {
   "cell_type": "code",
   "execution_count": 14,
   "id": "2925e854-e707-47a7-9c87-f034fea0270e",
   "metadata": {},
   "outputs": [
    {
     "name": "stdout",
     "output_type": "stream",
     "text": [
      "Epoch 1/55\n",
      "1875/1875 [==============================] - 5s 2ms/step - loss: 0.2675 - accuracy: 0.9255\n",
      "Epoch 2/55\n",
      "1875/1875 [==============================] - 5s 3ms/step - loss: 0.2663 - accuracy: 0.9259\n",
      "Epoch 3/55\n",
      "1875/1875 [==============================] - 4s 2ms/step - loss: 0.2652 - accuracy: 0.9263\n",
      "Epoch 4/55\n",
      "1875/1875 [==============================] - 4s 2ms/step - loss: 0.2642 - accuracy: 0.9264\n",
      "Epoch 5/55\n",
      "1875/1875 [==============================] - 4s 2ms/step - loss: 0.2632 - accuracy: 0.9266\n",
      "Epoch 6/55\n",
      "1875/1875 [==============================] - 4s 2ms/step - loss: 0.2621 - accuracy: 0.9271\n",
      "Epoch 7/55\n",
      "1875/1875 [==============================] - 4s 2ms/step - loss: 0.2612 - accuracy: 0.9272\n",
      "Epoch 8/55\n",
      "1875/1875 [==============================] - 4s 2ms/step - loss: 0.2602 - accuracy: 0.9276\n",
      "Epoch 9/55\n",
      "1875/1875 [==============================] - 4s 2ms/step - loss: 0.2592 - accuracy: 0.9279\n",
      "Epoch 10/55\n",
      "1875/1875 [==============================] - 4s 2ms/step - loss: 0.2583 - accuracy: 0.9280\n",
      "Epoch 11/55\n",
      "1875/1875 [==============================] - 4s 2ms/step - loss: 0.2574 - accuracy: 0.9280\n",
      "Epoch 12/55\n",
      "1875/1875 [==============================] - 4s 2ms/step - loss: 0.2564 - accuracy: 0.9284\n",
      "Epoch 13/55\n",
      "1875/1875 [==============================] - 4s 2ms/step - loss: 0.2556 - accuracy: 0.9287\n",
      "Epoch 14/55\n",
      "1875/1875 [==============================] - 5s 3ms/step - loss: 0.2548 - accuracy: 0.9289\n",
      "Epoch 15/55\n",
      "1875/1875 [==============================] - 4s 2ms/step - loss: 0.2539 - accuracy: 0.9288\n",
      "Epoch 16/55\n",
      "1875/1875 [==============================] - 4s 2ms/step - loss: 0.2531 - accuracy: 0.9293\n",
      "Epoch 17/55\n",
      "1875/1875 [==============================] - 4s 2ms/step - loss: 0.2523 - accuracy: 0.9294\n",
      "Epoch 18/55\n",
      "1875/1875 [==============================] - 4s 2ms/step - loss: 0.2516 - accuracy: 0.9299\n",
      "Epoch 19/55\n",
      "1875/1875 [==============================] - 4s 2ms/step - loss: 0.2508 - accuracy: 0.9297\n",
      "Epoch 20/55\n",
      "1875/1875 [==============================] - 6s 3ms/step - loss: 0.2500 - accuracy: 0.9302\n",
      "Epoch 21/55\n",
      "1875/1875 [==============================] - 6s 3ms/step - loss: 0.2493 - accuracy: 0.9303\n",
      "Epoch 22/55\n",
      "1875/1875 [==============================] - 4s 2ms/step - loss: 0.2484 - accuracy: 0.9306\n",
      "Epoch 23/55\n",
      "1875/1875 [==============================] - 5s 3ms/step - loss: 0.2477 - accuracy: 0.9305\n",
      "Epoch 24/55\n",
      "1875/1875 [==============================] - 5s 2ms/step - loss: 0.2471 - accuracy: 0.9302\n",
      "Epoch 25/55\n",
      "1875/1875 [==============================] - 4s 2ms/step - loss: 0.2464 - accuracy: 0.9307\n",
      "Epoch 26/55\n",
      "1875/1875 [==============================] - 4s 2ms/step - loss: 0.2457 - accuracy: 0.9313\n",
      "Epoch 27/55\n",
      "1875/1875 [==============================] - 5s 2ms/step - loss: 0.2449 - accuracy: 0.9312\n",
      "Epoch 28/55\n",
      "1875/1875 [==============================] - 4s 2ms/step - loss: 0.2443 - accuracy: 0.9316\n",
      "Epoch 29/55\n",
      "1875/1875 [==============================] - 4s 2ms/step - loss: 0.2437 - accuracy: 0.9316\n",
      "Epoch 30/55\n",
      "1875/1875 [==============================] - 4s 2ms/step - loss: 0.2430 - accuracy: 0.9320\n",
      "Epoch 31/55\n",
      "1875/1875 [==============================] - 4s 2ms/step - loss: 0.2424 - accuracy: 0.9319\n",
      "Epoch 32/55\n",
      "1875/1875 [==============================] - 4s 2ms/step - loss: 0.2418 - accuracy: 0.9324\n",
      "Epoch 33/55\n",
      "1875/1875 [==============================] - 4s 2ms/step - loss: 0.2411 - accuracy: 0.9324\n",
      "Epoch 34/55\n",
      "1875/1875 [==============================] - 5s 3ms/step - loss: 0.2406 - accuracy: 0.9324\n",
      "Epoch 35/55\n",
      "1875/1875 [==============================] - 6s 3ms/step - loss: 0.2400 - accuracy: 0.9328\n",
      "Epoch 36/55\n",
      "1875/1875 [==============================] - 5s 3ms/step - loss: 0.2393 - accuracy: 0.9330\n",
      "Epoch 37/55\n",
      "1875/1875 [==============================] - 4s 2ms/step - loss: 0.2387 - accuracy: 0.9336\n",
      "Epoch 38/55\n",
      "1875/1875 [==============================] - 5s 3ms/step - loss: 0.2382 - accuracy: 0.9328\n",
      "Epoch 39/55\n",
      "1875/1875 [==============================] - 5s 3ms/step - loss: 0.2377 - accuracy: 0.9336\n",
      "Epoch 40/55\n",
      "1875/1875 [==============================] - 5s 3ms/step - loss: 0.2371 - accuracy: 0.9335\n",
      "Epoch 41/55\n",
      "1875/1875 [==============================] - 6s 3ms/step - loss: 0.2366 - accuracy: 0.9336\n",
      "Epoch 42/55\n",
      "1875/1875 [==============================] - 6s 3ms/step - loss: 0.2360 - accuracy: 0.9336\n",
      "Epoch 43/55\n",
      "1875/1875 [==============================] - 4s 2ms/step - loss: 0.2356 - accuracy: 0.9337\n",
      "Epoch 44/55\n",
      "1875/1875 [==============================] - 6s 3ms/step - loss: 0.2350 - accuracy: 0.9340\n",
      "Epoch 45/55\n",
      "1875/1875 [==============================] - 5s 3ms/step - loss: 0.2345 - accuracy: 0.9343\n",
      "Epoch 46/55\n",
      "1875/1875 [==============================] - 4s 2ms/step - loss: 0.2340 - accuracy: 0.9342\n",
      "Epoch 47/55\n",
      "1875/1875 [==============================] - 6s 3ms/step - loss: 0.2335 - accuracy: 0.9343\n",
      "Epoch 48/55\n",
      "1875/1875 [==============================] - 5s 3ms/step - loss: 0.2329 - accuracy: 0.9344\n",
      "Epoch 49/55\n",
      "1875/1875 [==============================] - 4s 2ms/step - loss: 0.2324 - accuracy: 0.9344\n",
      "Epoch 50/55\n",
      "1875/1875 [==============================] - 6s 3ms/step - loss: 0.2320 - accuracy: 0.9350\n",
      "Epoch 51/55\n",
      "1875/1875 [==============================] - 5s 3ms/step - loss: 0.2315 - accuracy: 0.9348\n",
      "Epoch 52/55\n",
      "1875/1875 [==============================] - 4s 2ms/step - loss: 0.2310 - accuracy: 0.9350\n",
      "Epoch 53/55\n",
      "1875/1875 [==============================] - 4s 2ms/step - loss: 0.2306 - accuracy: 0.9352\n",
      "Epoch 54/55\n",
      "1875/1875 [==============================] - 3s 2ms/step - loss: 0.2302 - accuracy: 0.9352\n",
      "Epoch 55/55\n",
      "1875/1875 [==============================] - 4s 2ms/step - loss: 0.2296 - accuracy: 0.9353\n"
     ]
    },
    {
     "data": {
      "text/plain": [
       "<keras.callbacks.History at 0x213922526d0>"
      ]
     },
     "execution_count": 14,
     "metadata": {},
     "output_type": "execute_result"
    }
   ],
   "source": [
    "# configuracio del proces d'entrenament\n",
    "\n",
    "model.compile(loss = 'categorical_crossentropy', optimizer = 'sgd', metrics = ['accuracy'])\n",
    "\n",
    "#inici de l'entrenament\n",
    "\n",
    "model.fit(x_train, y_train, epochs = 55)"
   ]
  },
  {
   "cell_type": "markdown",
   "id": "d195e3e8-3aa1-44da-858e-cd962f834cb8",
   "metadata": {},
   "source": [
    "## evaluacio del model obtingut"
   ]
  },
  {
   "cell_type": "code",
   "execution_count": 12,
   "id": "01db0e81-faab-4c3c-89ef-8409d17a1e10",
   "metadata": {},
   "outputs": [
    {
     "name": "stdout",
     "output_type": "stream",
     "text": [
      "313/313 [==============================] - 1s 2ms/step - loss: 0.2692 - accuracy: 0.9231\n",
      "test lost 0.26916614174842834\n",
      "test accuracy 0.9230999946594238\n"
     ]
    }
   ],
   "source": [
    "test_loss, test_acc = model.evaluate(x_test, y_test)\n",
    "print('test lost', test_loss)\n",
    "print('test accuracy', test_acc)"
   ]
  },
  {
   "cell_type": "markdown",
   "id": "e6dee38f-246d-4bd0-88a0-b0a75fa1ec26",
   "metadata": {},
   "source": [
    "### generacio de prediccions"
   ]
  },
  {
   "cell_type": "code",
   "execution_count": 13,
   "id": "35bc05d5-6ab3-4187-9da0-c44f8096a372",
   "metadata": {},
   "outputs": [
    {
     "name": "stdout",
     "output_type": "stream",
     "text": [
      "1/1 [==============================] - 0s 309ms/step\n",
      "[[3.9316206e-03 1.0118769e-03 4.5908461e-03 1.6012216e-04 1.3765699e-01\n",
      "  6.2491935e-02 7.8777736e-01 3.7077724e-04 3.1905755e-04 1.6894789e-03]]\n",
      "nuemro prediccio:  6\n",
      "resposta:  5\n"
     ]
    }
   ],
   "source": [
    "prediccio = model.predict(np.array([x_test[8]]))\n",
    "print(prediccio)\n",
    "print('nuemro prediccio: ',np.argmax(prediccio))\n",
    "print('resposta: ',np.argmax(y_test[8]))"
   ]
  }
 ],
 "metadata": {
  "kernelspec": {
   "display_name": "Python 3 (ipykernel)",
   "language": "python",
   "name": "python3"
  },
  "language_info": {
   "codemirror_mode": {
    "name": "ipython",
    "version": 3
   },
   "file_extension": ".py",
   "mimetype": "text/x-python",
   "name": "python",
   "nbconvert_exporter": "python",
   "pygments_lexer": "ipython3",
   "version": "3.9.13"
  }
 },
 "nbformat": 4,
 "nbformat_minor": 5
}
