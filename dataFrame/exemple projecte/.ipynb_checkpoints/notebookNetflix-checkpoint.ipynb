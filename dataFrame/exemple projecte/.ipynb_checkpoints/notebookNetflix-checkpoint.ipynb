{
 "cells": [
  {
   "cell_type": "markdown",
   "id": "0d4c9375-2856-4fb0-8f79-5c6a5a51aef3",
   "metadata": {
    "dc": {
     "key": "4"
    },
    "run_control": {
     "frozen": true
    },
    "tags": [
     "context"
    ]
   },
   "source": [
    "## 1. Loading your friend's data into a dictionary\n",
    "<p><img src=\"https://assets.datacamp.com/production/project_1237/img/netflix.jpg\" alt=\"Someone's feet on table facing a television\"></p>\n",
    "<p>Netflix! What started in 1997 as a DVD rental service has since exploded into the largest entertainment/media company by <a href=\"https://www.marketwatch.com/story/netflix-shares-close-up-8-for-yet-another-record-high-2020-07-10\">market capitalization</a>, boasting over 200 million subscribers as of <a href=\"https://www.cbsnews.com/news/netflix-tops-200-million-subscribers-but-faces-growing-challenge-from-disney-plus/\">January 2021</a>.</p>\n",
    "<p>Given the large number of movies and series available on the platform, it is a perfect opportunity to flex our data manipulation skills and dive into the entertainment industry. Our friend has also been brushing up on their Python skills and has taken a first crack at a CSV file containing Netflix data. For their first order of business, they have been performing some analyses, and they believe that the average duration of movies has been declining. </p>\n",
    "<p>As evidence of this, they have provided us with the following information. For the years from 2011 to 2020, the average movie durations are 103, 101, 99, 100, 100, 95, 95, 96, 93, and 90, respectively.</p>\n",
    "<p>If we're going to be working with this data, we know a good place to start would be to probably start working with <code>pandas</code>. But first we'll need to create a DataFrame from scratch. Let's start by creating a Python object covered in <a href=\"https://learn.datacamp.com/courses/intermediate-python\">Intermediate Python</a>: a dictionary!</p>"
   ]
  },
  {
   "cell_type": "code",
   "execution_count": 2,
   "id": "178fbc17-604d-4dd7-9743-f533cecfa5d2",
   "metadata": {},
   "outputs": [
    {
     "name": "stdout",
     "output_type": "stream",
     "text": [
      "{'years': [2011, 2012, 2013, 2014, 2015, 2016, 2017, 2018, 2019, 2022], 'durations': [103, 101, 99, 100, 100, 95, 95, 96, 93, 90]}\n"
     ]
    }
   ],
   "source": [
    "# listas\n",
    "years = [2011,2012,2013,2014,2015,2016,2017,2018,2019,2022]\n",
    "duracion = [103,101,99,100,100,95,95,96,93,90]\n",
    "\n",
    "#discionario\n",
    "movie_dict = {'years': years, 'durations' : duracion}\n",
    "\n",
    "print(movie_dict)\n",
    "\n"
   ]
  },
  {
   "cell_type": "markdown",
   "id": "41d488e1-1636-4542-8c07-49cd7c6723d7",
   "metadata": {
    "dc": {
     "key": "11"
    },
    "run_control": {
     "frozen": true
    },
    "tags": [
     "context"
    ]
   },
   "source": [
    "## 2. Creating a DataFrame from a dictionary\n",
    "<p>To convert our dictionary <code>movie_dict</code> to a <code>pandas</code> DataFrame, we will first need to import the library under its usual alias. We'll also want to inspect our DataFrame to ensure it was created correctly. Let's perform these steps now.</p>"
   ]
  },
  {
   "cell_type": "code",
   "execution_count": 3,
   "id": "de588ddf-86be-4728-a7ff-249b5b1c9a0c",
   "metadata": {},
   "outputs": [
    {
     "data": {
      "text/html": [
       "<div>\n",
       "<style scoped>\n",
       "    .dataframe tbody tr th:only-of-type {\n",
       "        vertical-align: middle;\n",
       "    }\n",
       "\n",
       "    .dataframe tbody tr th {\n",
       "        vertical-align: top;\n",
       "    }\n",
       "\n",
       "    .dataframe thead th {\n",
       "        text-align: right;\n",
       "    }\n",
       "</style>\n",
       "<table border=\"1\" class=\"dataframe\">\n",
       "  <thead>\n",
       "    <tr style=\"text-align: right;\">\n",
       "      <th></th>\n",
       "      <th>years</th>\n",
       "      <th>durations</th>\n",
       "    </tr>\n",
       "  </thead>\n",
       "  <tbody>\n",
       "    <tr>\n",
       "      <th>0</th>\n",
       "      <td>2011</td>\n",
       "      <td>103</td>\n",
       "    </tr>\n",
       "    <tr>\n",
       "      <th>1</th>\n",
       "      <td>2012</td>\n",
       "      <td>101</td>\n",
       "    </tr>\n",
       "    <tr>\n",
       "      <th>2</th>\n",
       "      <td>2013</td>\n",
       "      <td>99</td>\n",
       "    </tr>\n",
       "    <tr>\n",
       "      <th>3</th>\n",
       "      <td>2014</td>\n",
       "      <td>100</td>\n",
       "    </tr>\n",
       "    <tr>\n",
       "      <th>4</th>\n",
       "      <td>2015</td>\n",
       "      <td>100</td>\n",
       "    </tr>\n",
       "    <tr>\n",
       "      <th>5</th>\n",
       "      <td>2016</td>\n",
       "      <td>95</td>\n",
       "    </tr>\n",
       "    <tr>\n",
       "      <th>6</th>\n",
       "      <td>2017</td>\n",
       "      <td>95</td>\n",
       "    </tr>\n",
       "    <tr>\n",
       "      <th>7</th>\n",
       "      <td>2018</td>\n",
       "      <td>96</td>\n",
       "    </tr>\n",
       "    <tr>\n",
       "      <th>8</th>\n",
       "      <td>2019</td>\n",
       "      <td>93</td>\n",
       "    </tr>\n",
       "    <tr>\n",
       "      <th>9</th>\n",
       "      <td>2022</td>\n",
       "      <td>90</td>\n",
       "    </tr>\n",
       "  </tbody>\n",
       "</table>\n",
       "</div>"
      ],
      "text/plain": [
       "   years  durations\n",
       "0   2011        103\n",
       "1   2012        101\n",
       "2   2013         99\n",
       "3   2014        100\n",
       "4   2015        100\n",
       "5   2016         95\n",
       "6   2017         95\n",
       "7   2018         96\n",
       "8   2019         93\n",
       "9   2022         90"
      ]
     },
     "metadata": {},
     "output_type": "display_data"
    }
   ],
   "source": [
    "#IMPORT EL PANDAS \n",
    "import pandas as pd\n",
    "# creamos el datafrema\n",
    "duration_df = pd.DataFrame(movie_dict)\n",
    "# lo mosmtramos\n",
    "display(duration_df)"
   ]
  },
  {
   "cell_type": "markdown",
   "id": "c2ce56fe-fcd5-4043-a7ba-8aadf4b27684",
   "metadata": {
    "dc": {
     "key": "18"
    },
    "run_control": {
     "frozen": true
    },
    "tags": [
     "context"
    ]
   },
   "source": [
    "## 3. A visual inspection of our data\n",
    "<p>Alright, we now have a <code>pandas</code> DataFrame, the most common way to work with tabular data in Python. Now back to the task at hand. We want to follow up on our friend's assertion that movie lengths have been decreasing over time. A great place to start will be a visualization of the data.</p>\n",
    "<p>Given that the data is continuous, a line plot would be a good choice, with the dates represented along the x-axis and the average length in minutes along the y-axis. This will allow us to easily spot any trends in movie durations. There are many ways to visualize data in Python, but <code>matploblib.pyplot</code> is one of the most common packages to do so.</p>\n",
    "<p><em>Note: In order for us to correctly test your plot, you will need to initalize a <code>matplotlib.pyplot</code> Figure object, which we have already provided in the cell below. You can continue to create your plot as you have learned in Intermediate Python.</em></p>"
   ]
  },
  {
   "cell_type": "code",
   "execution_count": 13,
   "id": "d015c944-8deb-49e9-8364-0e3a89c84bd5",
   "metadata": {},
   "outputs": [
    {
     "data": {
      "image/png": "[encoded data removed]",
      "text/plain": [
       "<Figure size 864x576 with 1 Axes>"
      ]
     },
     "metadata": {
      "needs_background": "light"
     },
     "output_type": "display_data"
    }
   ],
   "source": [
    "import matplotlib.pyplot as plt\n",
    "\n",
    "# declaramos el tamaño del cuadro (cm)\n",
    "fig = plt.figure(figsize = (12,8))\n",
    "\n",
    "plt.plot(years,duracion)\n",
    "\n",
    "plt.title('duracion pelis netflix 2011-2020')\n",
    "\n",
    "#mostra todos los datos de X.\n",
    "plt.xticks(years)\n",
    "\n",
    "plt.show()"
   ]
  },
  {
   "cell_type": "markdown",
   "id": "b8b9e54e-7dc2-4f05-b270-05f75169db91",
   "metadata": {
    "dc": {
     "key": "25"
    },
    "run_control": {
     "frozen": true
    },
    "tags": [
     "context"
    ]
   },
   "source": [
    "## 4. Loading the rest of the data from a CSV\n",
    "<p>Well, it looks like there is something to the idea that movie lengths have decreased over the past ten years! But equipped only with our friend's aggregations, we're limited in the further explorations we can perform. There are a few questions about this trend that we are currently unable to answer, including:</p>\n",
    "<ol>\n",
    "<li>What does this trend look like over a longer period of time?</li>\n",
    "<li>Is this explainable by something like the genre of entertainment?</li>\n",
    "</ol>\n",
    "<p>Upon asking our friend for the original CSV they used to perform their analyses, they gladly oblige and send it. We now have access to the CSV file, available at the path <code>\"datasets/netflix_data.csv\"</code>. Let's create another DataFrame, this time with all of the data. Given the length of our friend's data, printing the whole DataFrame is probably not a good idea, so we will inspect it by printing only the first five rows.</p>"
   ]
  },
  {
   "cell_type": "code",
   "execution_count": 15,
   "id": "c1e922c7-a86a-4ab9-bbb4-59d95a82dceb",
   "metadata": {},
   "outputs": [
    {
     "name": "stdout",
     "output_type": "stream",
     "text": [
      "<bound method NDFrame.describe of      show_id     type                                    title  \\\n",
      "0         s1  TV Show                                       3%   \n",
      "1         s2    Movie                                     7:19   \n",
      "2         s3    Movie                                    23:59   \n",
      "3         s4    Movie                                        9   \n",
      "4         s5    Movie                                       21   \n",
      "...      ...      ...                                      ...   \n",
      "7782   s7783    Movie                                     Zozo   \n",
      "7783   s7784    Movie                                   Zubaan   \n",
      "7784   s7785    Movie                        Zulu Man in Japan   \n",
      "7785   s7786  TV Show                    Zumbo's Just Desserts   \n",
      "7786   s7787    Movie  ZZ TOP: THAT LITTLE OL' BAND FROM TEXAS   \n",
      "\n",
      "               director                                               cast  \\\n",
      "0                   NaN  João Miguel, Bianca Comparato, Michel Gomes, R...   \n",
      "1     Jorge Michel Grau  Demián Bichir, Héctor Bonilla, Oscar Serrano, ...   \n",
      "2          Gilbert Chan  Tedd Chan, Stella Chung, Henley Hii, Lawrence ...   \n",
      "3           Shane Acker  Elijah Wood, John C. Reilly, Jennifer Connelly...   \n",
      "4        Robert Luketic  Jim Sturgess, Kevin Spacey, Kate Bosworth, Aar...   \n",
      "...                 ...                                                ...   \n",
      "7782        Josef Fares  Imad Creidi, Antoinette Turk, Elias Gergi, Car...   \n",
      "7783        Mozez Singh  Vicky Kaushal, Sarah-Jane Dias, Raaghav Chanan...   \n",
      "7784                NaN                                            Nasty C   \n",
      "7785                NaN                         Adriano Zumbo, Rachel Khoo   \n",
      "7786           Sam Dunn                                                NaN   \n",
      "\n",
      "             country          date_added  release_year  duration  \\\n",
      "0             Brazil     August 14, 2020          2020         4   \n",
      "1             Mexico   December 23, 2016          2016        93   \n",
      "2          Singapore   December 20, 2018          2011        78   \n",
      "3      United States   November 16, 2017          2009        80   \n",
      "4      United States     January 1, 2020          2008       123   \n",
      "...              ...                 ...           ...       ...   \n",
      "7782          Sweden    October 19, 2020          2005        99   \n",
      "7783           India       March 2, 2019          2015       111   \n",
      "7784             NaN  September 25, 2020          2019        44   \n",
      "7785       Australia    October 31, 2020          2019         1   \n",
      "7786  United Kingdom       March 1, 2020          2019        90   \n",
      "\n",
      "                                            description             genre  \n",
      "0     In a future where the elite inhabit an island ...  International TV  \n",
      "1     After a devastating earthquake hits Mexico Cit...            Dramas  \n",
      "2     When an army recruit is found dead, his fellow...     Horror Movies  \n",
      "3     In a postapocalyptic world, rag-doll robots hi...            Action  \n",
      "4     A brilliant group of students become card-coun...            Dramas  \n",
      "...                                                 ...               ...  \n",
      "7782  When Lebanon's Civil War deprives Zozo of his ...            Dramas  \n",
      "7783  A scrappy but poor boy worms his way into a ty...            Dramas  \n",
      "7784  In this documentary, South African rapper Nast...     Documentaries  \n",
      "7785  Dessert wizard Adriano Zumbo looks for the nex...  International TV  \n",
      "7786  This documentary delves into the mystique behi...     Documentaries  \n",
      "\n",
      "[7787 rows x 11 columns]>\n"
     ]
    },
    {
     "data": {
      "text/html": [
       "<div>\n",
       "<style scoped>\n",
       "    .dataframe tbody tr th:only-of-type {\n",
       "        vertical-align: middle;\n",
       "    }\n",
       "\n",
       "    .dataframe tbody tr th {\n",
       "        vertical-align: top;\n",
       "    }\n",
       "\n",
       "    .dataframe thead th {\n",
       "        text-align: right;\n",
       "    }\n",
       "</style>\n",
       "<table border=\"1\" class=\"dataframe\">\n",
       "  <thead>\n",
       "    <tr style=\"text-align: right;\">\n",
       "      <th></th>\n",
       "      <th>show_id</th>\n",
       "      <th>type</th>\n",
       "      <th>title</th>\n",
       "      <th>director</th>\n",
       "      <th>cast</th>\n",
       "      <th>country</th>\n",
       "      <th>date_added</th>\n",
       "      <th>release_year</th>\n",
       "      <th>duration</th>\n",
       "      <th>description</th>\n",
       "      <th>genre</th>\n",
       "    </tr>\n",
       "  </thead>\n",
       "  <tbody>\n",
       "    <tr>\n",
       "      <th>0</th>\n",
       "      <td>s1</td>\n",
       "      <td>TV Show</td>\n",
       "      <td>3%</td>\n",
       "      <td>NaN</td>\n",
       "      <td>João Miguel, Bianca Comparato, Michel Gomes, R...</td>\n",
       "      <td>Brazil</td>\n",
       "      <td>August 14, 2020</td>\n",
       "      <td>2020</td>\n",
       "      <td>4</td>\n",
       "      <td>In a future where the elite inhabit an island ...</td>\n",
       "      <td>International TV</td>\n",
       "    </tr>\n",
       "    <tr>\n",
       "      <th>1</th>\n",
       "      <td>s2</td>\n",
       "      <td>Movie</td>\n",
       "      <td>7:19</td>\n",
       "      <td>Jorge Michel Grau</td>\n",
       "      <td>Demián Bichir, Héctor Bonilla, Oscar Serrano, ...</td>\n",
       "      <td>Mexico</td>\n",
       "      <td>December 23, 2016</td>\n",
       "      <td>2016</td>\n",
       "      <td>93</td>\n",
       "      <td>After a devastating earthquake hits Mexico Cit...</td>\n",
       "      <td>Dramas</td>\n",
       "    </tr>\n",
       "    <tr>\n",
       "      <th>2</th>\n",
       "      <td>s3</td>\n",
       "      <td>Movie</td>\n",
       "      <td>23:59</td>\n",
       "      <td>Gilbert Chan</td>\n",
       "      <td>Tedd Chan, Stella Chung, Henley Hii, Lawrence ...</td>\n",
       "      <td>Singapore</td>\n",
       "      <td>December 20, 2018</td>\n",
       "      <td>2011</td>\n",
       "      <td>78</td>\n",
       "      <td>When an army recruit is found dead, his fellow...</td>\n",
       "      <td>Horror Movies</td>\n",
       "    </tr>\n",
       "    <tr>\n",
       "      <th>3</th>\n",
       "      <td>s4</td>\n",
       "      <td>Movie</td>\n",
       "      <td>9</td>\n",
       "      <td>Shane Acker</td>\n",
       "      <td>Elijah Wood, John C. Reilly, Jennifer Connelly...</td>\n",
       "      <td>United States</td>\n",
       "      <td>November 16, 2017</td>\n",
       "      <td>2009</td>\n",
       "      <td>80</td>\n",
       "      <td>In a postapocalyptic world, rag-doll robots hi...</td>\n",
       "      <td>Action</td>\n",
       "    </tr>\n",
       "    <tr>\n",
       "      <th>4</th>\n",
       "      <td>s5</td>\n",
       "      <td>Movie</td>\n",
       "      <td>21</td>\n",
       "      <td>Robert Luketic</td>\n",
       "      <td>Jim Sturgess, Kevin Spacey, Kate Bosworth, Aar...</td>\n",
       "      <td>United States</td>\n",
       "      <td>January 1, 2020</td>\n",
       "      <td>2008</td>\n",
       "      <td>123</td>\n",
       "      <td>A brilliant group of students become card-coun...</td>\n",
       "      <td>Dramas</td>\n",
       "    </tr>\n",
       "    <tr>\n",
       "      <th>...</th>\n",
       "      <td>...</td>\n",
       "      <td>...</td>\n",
       "      <td>...</td>\n",
       "      <td>...</td>\n",
       "      <td>...</td>\n",
       "      <td>...</td>\n",
       "      <td>...</td>\n",
       "      <td>...</td>\n",
       "      <td>...</td>\n",
       "      <td>...</td>\n",
       "      <td>...</td>\n",
       "    </tr>\n",
       "    <tr>\n",
       "      <th>7782</th>\n",
       "      <td>s7783</td>\n",
       "      <td>Movie</td>\n",
       "      <td>Zozo</td>\n",
       "      <td>Josef Fares</td>\n",
       "      <td>Imad Creidi, Antoinette Turk, Elias Gergi, Car...</td>\n",
       "      <td>Sweden</td>\n",
       "      <td>October 19, 2020</td>\n",
       "      <td>2005</td>\n",
       "      <td>99</td>\n",
       "      <td>When Lebanon's Civil War deprives Zozo of his ...</td>\n",
       "      <td>Dramas</td>\n",
       "    </tr>\n",
       "    <tr>\n",
       "      <th>7783</th>\n",
       "      <td>s7784</td>\n",
       "      <td>Movie</td>\n",
       "      <td>Zubaan</td>\n",
       "      <td>Mozez Singh</td>\n",
       "      <td>Vicky Kaushal, Sarah-Jane Dias, Raaghav Chanan...</td>\n",
       "      <td>India</td>\n",
       "      <td>March 2, 2019</td>\n",
       "      <td>2015</td>\n",
       "      <td>111</td>\n",
       "      <td>A scrappy but poor boy worms his way into a ty...</td>\n",
       "      <td>Dramas</td>\n",
       "    </tr>\n",
       "    <tr>\n",
       "      <th>7784</th>\n",
       "      <td>s7785</td>\n",
       "      <td>Movie</td>\n",
       "      <td>Zulu Man in Japan</td>\n",
       "      <td>NaN</td>\n",
       "      <td>Nasty C</td>\n",
       "      <td>NaN</td>\n",
       "      <td>September 25, 2020</td>\n",
       "      <td>2019</td>\n",
       "      <td>44</td>\n",
       "      <td>In this documentary, South African rapper Nast...</td>\n",
       "      <td>Documentaries</td>\n",
       "    </tr>\n",
       "    <tr>\n",
       "      <th>7785</th>\n",
       "      <td>s7786</td>\n",
       "      <td>TV Show</td>\n",
       "      <td>Zumbo's Just Desserts</td>\n",
       "      <td>NaN</td>\n",
       "      <td>Adriano Zumbo, Rachel Khoo</td>\n",
       "      <td>Australia</td>\n",
       "      <td>October 31, 2020</td>\n",
       "      <td>2019</td>\n",
       "      <td>1</td>\n",
       "      <td>Dessert wizard Adriano Zumbo looks for the nex...</td>\n",
       "      <td>International TV</td>\n",
       "    </tr>\n",
       "    <tr>\n",
       "      <th>7786</th>\n",
       "      <td>s7787</td>\n",
       "      <td>Movie</td>\n",
       "      <td>ZZ TOP: THAT LITTLE OL' BAND FROM TEXAS</td>\n",
       "      <td>Sam Dunn</td>\n",
       "      <td>NaN</td>\n",
       "      <td>United Kingdom</td>\n",
       "      <td>March 1, 2020</td>\n",
       "      <td>2019</td>\n",
       "      <td>90</td>\n",
       "      <td>This documentary delves into the mystique behi...</td>\n",
       "      <td>Documentaries</td>\n",
       "    </tr>\n",
       "  </tbody>\n",
       "</table>\n",
       "<p>7787 rows × 11 columns</p>\n",
       "</div>"
      ],
      "text/plain": [
       "     show_id     type                                    title  \\\n",
       "0         s1  TV Show                                       3%   \n",
       "1         s2    Movie                                     7:19   \n",
       "2         s3    Movie                                    23:59   \n",
       "3         s4    Movie                                        9   \n",
       "4         s5    Movie                                       21   \n",
       "...      ...      ...                                      ...   \n",
       "7782   s7783    Movie                                     Zozo   \n",
       "7783   s7784    Movie                                   Zubaan   \n",
       "7784   s7785    Movie                        Zulu Man in Japan   \n",
       "7785   s7786  TV Show                    Zumbo's Just Desserts   \n",
       "7786   s7787    Movie  ZZ TOP: THAT LITTLE OL' BAND FROM TEXAS   \n",
       "\n",
       "               director                                               cast  \\\n",
       "0                   NaN  João Miguel, Bianca Comparato, Michel Gomes, R...   \n",
       "1     Jorge Michel Grau  Demián Bichir, Héctor Bonilla, Oscar Serrano, ...   \n",
       "2          Gilbert Chan  Tedd Chan, Stella Chung, Henley Hii, Lawrence ...   \n",
       "3           Shane Acker  Elijah Wood, John C. Reilly, Jennifer Connelly...   \n",
       "4        Robert Luketic  Jim Sturgess, Kevin Spacey, Kate Bosworth, Aar...   \n",
       "...                 ...                                                ...   \n",
       "7782        Josef Fares  Imad Creidi, Antoinette Turk, Elias Gergi, Car...   \n",
       "7783        Mozez Singh  Vicky Kaushal, Sarah-Jane Dias, Raaghav Chanan...   \n",
       "7784                NaN                                            Nasty C   \n",
       "7785                NaN                         Adriano Zumbo, Rachel Khoo   \n",
       "7786           Sam Dunn                                                NaN   \n",
       "\n",
       "             country          date_added  release_year  duration  \\\n",
       "0             Brazil     August 14, 2020          2020         4   \n",
       "1             Mexico   December 23, 2016          2016        93   \n",
       "2          Singapore   December 20, 2018          2011        78   \n",
       "3      United States   November 16, 2017          2009        80   \n",
       "4      United States     January 1, 2020          2008       123   \n",
       "...              ...                 ...           ...       ...   \n",
       "7782          Sweden    October 19, 2020          2005        99   \n",
       "7783           India       March 2, 2019          2015       111   \n",
       "7784             NaN  September 25, 2020          2019        44   \n",
       "7785       Australia    October 31, 2020          2019         1   \n",
       "7786  United Kingdom       March 1, 2020          2019        90   \n",
       "\n",
       "                                            description             genre  \n",
       "0     In a future where the elite inhabit an island ...  International TV  \n",
       "1     After a devastating earthquake hits Mexico Cit...            Dramas  \n",
       "2     When an army recruit is found dead, his fellow...     Horror Movies  \n",
       "3     In a postapocalyptic world, rag-doll robots hi...            Action  \n",
       "4     A brilliant group of students become card-coun...            Dramas  \n",
       "...                                                 ...               ...  \n",
       "7782  When Lebanon's Civil War deprives Zozo of his ...            Dramas  \n",
       "7783  A scrappy but poor boy worms his way into a ty...            Dramas  \n",
       "7784  In this documentary, South African rapper Nast...     Documentaries  \n",
       "7785  Dessert wizard Adriano Zumbo looks for the nex...  International TV  \n",
       "7786  This documentary delves into the mystique behi...     Documentaries  \n",
       "\n",
       "[7787 rows x 11 columns]"
      ]
     },
     "metadata": {},
     "output_type": "display_data"
    }
   ],
   "source": [
    "dataNetflix = pd.read_csv('netflix_data.csv')\n",
    "\n",
    "print(dataNetflix.describe)\n",
    "display(dataNetflix)\n"
   ]
  },
  {
   "cell_type": "markdown",
   "id": "ff355db2-912e-4edb-b576-a19a0418159b",
   "metadata": {
    "dc": {
     "key": "32"
    },
    "run_control": {
     "frozen": true
    },
    "tags": [
     "context"
    ]
   },
   "source": [
    "## 5. Filtering for movies!\n",
    "<p>Okay, we have our data! Now we can dive in and start looking at movie lengths. </p>\n",
    "<p>Or can we? Looking at the first five rows of our new DataFrame, we notice a column <code>type</code>. Scanning the column, it's clear there are also TV shows in the dataset! Moreover, the <code>duration</code> column we planned to use seems to represent different values depending on whether the row is a movie or a show (perhaps the number of minutes versus the number of seasons)?</p>\n",
    "<p>Fortunately, a DataFrame allows us to filter data quickly, and we can select rows where <code>type</code> is <code>Movie</code>. While we're at it, we don't need information from all of the columns, so let's create a new DataFrame <code>netflix_movies</code> containing only <code>title</code>, <code>country</code>, <code>genre</code>, <code>release_year</code>, and <code>duration</code>.</p>\n",
    "<p>Let's put our data subsetting skills to work!</p>"
   ]
  },
  {
   "cell_type": "code",
   "execution_count": 19,
   "id": "b2e532dd-f5b8-45b7-8e30-aa3265eb7ae9",
   "metadata": {},
   "outputs": [
    {
     "name": "stdout",
     "output_type": "stream",
     "text": [
      "['Movie']\n"
     ]
    },
    {
     "data": {
      "text/html": [
       "<div>\n",
       "<style scoped>\n",
       "    .dataframe tbody tr th:only-of-type {\n",
       "        vertical-align: middle;\n",
       "    }\n",
       "\n",
       "    .dataframe tbody tr th {\n",
       "        vertical-align: top;\n",
       "    }\n",
       "\n",
       "    .dataframe thead th {\n",
       "        text-align: right;\n",
       "    }\n",
       "</style>\n",
       "<table border=\"1\" class=\"dataframe\">\n",
       "  <thead>\n",
       "    <tr style=\"text-align: right;\">\n",
       "      <th></th>\n",
       "      <th>title</th>\n",
       "      <th>country</th>\n",
       "      <th>genre</th>\n",
       "      <th>release_year</th>\n",
       "      <th>duration</th>\n",
       "    </tr>\n",
       "  </thead>\n",
       "  <tbody>\n",
       "    <tr>\n",
       "      <th>1</th>\n",
       "      <td>7:19</td>\n",
       "      <td>Mexico</td>\n",
       "      <td>Dramas</td>\n",
       "      <td>2016</td>\n",
       "      <td>93</td>\n",
       "    </tr>\n",
       "    <tr>\n",
       "      <th>2</th>\n",
       "      <td>23:59</td>\n",
       "      <td>Singapore</td>\n",
       "      <td>Horror Movies</td>\n",
       "      <td>2011</td>\n",
       "      <td>78</td>\n",
       "    </tr>\n",
       "    <tr>\n",
       "      <th>3</th>\n",
       "      <td>9</td>\n",
       "      <td>United States</td>\n",
       "      <td>Action</td>\n",
       "      <td>2009</td>\n",
       "      <td>80</td>\n",
       "    </tr>\n",
       "    <tr>\n",
       "      <th>4</th>\n",
       "      <td>21</td>\n",
       "      <td>United States</td>\n",
       "      <td>Dramas</td>\n",
       "      <td>2008</td>\n",
       "      <td>123</td>\n",
       "    </tr>\n",
       "    <tr>\n",
       "      <th>6</th>\n",
       "      <td>122</td>\n",
       "      <td>Egypt</td>\n",
       "      <td>Horror Movies</td>\n",
       "      <td>2019</td>\n",
       "      <td>95</td>\n",
       "    </tr>\n",
       "    <tr>\n",
       "      <th>...</th>\n",
       "      <td>...</td>\n",
       "      <td>...</td>\n",
       "      <td>...</td>\n",
       "      <td>...</td>\n",
       "      <td>...</td>\n",
       "    </tr>\n",
       "    <tr>\n",
       "      <th>7781</th>\n",
       "      <td>Zoom</td>\n",
       "      <td>United States</td>\n",
       "      <td>Children</td>\n",
       "      <td>2006</td>\n",
       "      <td>88</td>\n",
       "    </tr>\n",
       "    <tr>\n",
       "      <th>7782</th>\n",
       "      <td>Zozo</td>\n",
       "      <td>Sweden</td>\n",
       "      <td>Dramas</td>\n",
       "      <td>2005</td>\n",
       "      <td>99</td>\n",
       "    </tr>\n",
       "    <tr>\n",
       "      <th>7783</th>\n",
       "      <td>Zubaan</td>\n",
       "      <td>India</td>\n",
       "      <td>Dramas</td>\n",
       "      <td>2015</td>\n",
       "      <td>111</td>\n",
       "    </tr>\n",
       "    <tr>\n",
       "      <th>7784</th>\n",
       "      <td>Zulu Man in Japan</td>\n",
       "      <td>NaN</td>\n",
       "      <td>Documentaries</td>\n",
       "      <td>2019</td>\n",
       "      <td>44</td>\n",
       "    </tr>\n",
       "    <tr>\n",
       "      <th>7786</th>\n",
       "      <td>ZZ TOP: THAT LITTLE OL' BAND FROM TEXAS</td>\n",
       "      <td>United Kingdom</td>\n",
       "      <td>Documentaries</td>\n",
       "      <td>2019</td>\n",
       "      <td>90</td>\n",
       "    </tr>\n",
       "  </tbody>\n",
       "</table>\n",
       "<p>5377 rows × 5 columns</p>\n",
       "</div>"
      ],
      "text/plain": [
       "                                        title         country          genre  \\\n",
       "1                                        7:19          Mexico         Dramas   \n",
       "2                                       23:59       Singapore  Horror Movies   \n",
       "3                                           9   United States         Action   \n",
       "4                                          21   United States         Dramas   \n",
       "6                                         122           Egypt  Horror Movies   \n",
       "...                                       ...             ...            ...   \n",
       "7781                                     Zoom   United States       Children   \n",
       "7782                                     Zozo          Sweden         Dramas   \n",
       "7783                                   Zubaan           India         Dramas   \n",
       "7784                        Zulu Man in Japan             NaN  Documentaries   \n",
       "7786  ZZ TOP: THAT LITTLE OL' BAND FROM TEXAS  United Kingdom  Documentaries   \n",
       "\n",
       "      release_year  duration  \n",
       "1             2016        93  \n",
       "2             2011        78  \n",
       "3             2009        80  \n",
       "4             2008       123  \n",
       "6             2019        95  \n",
       "...            ...       ...  \n",
       "7781          2006        88  \n",
       "7782          2005        99  \n",
       "7783          2015       111  \n",
       "7784          2019        44  \n",
       "7786          2019        90  \n",
       "\n",
       "[5377 rows x 5 columns]"
      ]
     },
     "metadata": {},
     "output_type": "display_data"
    }
   ],
   "source": [
    "#filtro por peliculas\n",
    "netflixFilm = dataNetflix[dataNetflix.type == \"Movie\"]\n",
    "\n",
    "print(netflixFilm['type'].unique())\n",
    "#get las columnas que interesan\n",
    "netflixMovie = netflixFilm[['title', 'country', 'genre', 'release_year', 'duration']]\n",
    "\n",
    "display(netflixMovie)"
   ]
  },
  {
   "cell_type": "markdown",
   "id": "f9d152b0-43f1-4e85-93a1-f54de6a20396",
   "metadata": {
    "dc": {
     "key": "39"
    },
    "run_control": {
     "frozen": true
    },
    "tags": [
     "context"
    ]
   },
   "source": [
    "## 6. Creating a scatter plot\n",
    "<p>Okay, now we're getting somewhere. We've read in the raw data, selected rows of movies, and have limited our DataFrame to our columns of interest. Let's try visualizing the data again to inspect the data over a longer range of time.</p>\n",
    "<p>This time, we are no longer working with aggregates but instead with individual movies. A line plot is no longer a good choice for our data, so let's try a scatter plot instead. We will again plot the year of release on the x-axis and the movie duration on the y-axis.</p>\n",
    "<p><em>Note: Although not taught in Intermediate Python, we have provided you the code <code>fig = plt.figure(figsize=(12,8))</code> to increase the size of the plot (to help you see the results), as well as to assist with testing. For more information on how to create or work with a <code>matplotlib</code> <code>figure</code>, refer to the <a href=\"https://matplotlib.org/stable/api/_as_gen/matplotlib.pyplot.figure.html\">documentation</a>.</em></p>"
   ]
  },
  {
   "cell_type": "code",
   "execution_count": 26,
   "id": "946611bb-8b06-469c-a6e5-311d27ed55a1",
   "metadata": {},
   "outputs": [
    {
     "data": {
      "image/png": "[encoded data removed]",
      "text/plain": [
       "<Figure size 864x576 with 1 Axes>"
      ]
     },
     "metadata": {
      "needs_background": "light"
     },
     "output_type": "display_data"
    },
    {
     "name": "stdout",
     "output_type": "stream",
     "text": [
      "                          title        country   genre  release_year  duration\n",
      "957  Black Mirror: Bandersnatch  United States  Dramas          2018       312\n",
      "release_year\n",
      "1942    35.000000\n",
      "1943    62.666667\n",
      "1944    52.000000\n",
      "1945    51.333333\n",
      "1946    58.000000\n",
      "          ...    \n",
      "2017    94.836022\n",
      "2018    96.170300\n",
      "2019    93.457045\n",
      "2020    89.795620\n",
      "2021    80.166667\n",
      "Name: duration, Length: 72, dtype: float64\n"
     ]
    },
    {
     "data": {
      "image/png": "[encoded data removed]",
      "text/plain": [
       "<Figure size 432x288 with 1 Axes>"
      ]
     },
     "metadata": {
      "needs_background": "light"
     },
     "output_type": "display_data"
    }
   ],
   "source": [
    "plt.figure(figsize = (12,8))\n",
    "\n",
    "#creamos grafico de dispersion\n",
    "\n",
    "plt.scatter(netflixMovie['release_year'],netflixMovie['duration'])\n",
    "\n",
    "plt.title('pelis netflix duracion-año')\n",
    "\n",
    "plt.show()\n",
    "\n",
    "print(netflixMovie.query('duration > 300'))\n",
    "print(netflixMovie.groupby('release_year')['duration'].mean())\n",
    "plt.plot(netflixMovie.groupby('release_year')['duration'].mean())\n",
    "plt.title('media duracion peliculas x año')\n",
    "plt.show()"
   ]
  },
  {
   "cell_type": "markdown",
   "id": "6a956114-8361-4450-9ac0-cc1b75b28d7a",
   "metadata": {
    "dc": {
     "key": "46"
    },
    "run_control": {
     "frozen": true
    },
    "tags": [
     "context"
    ]
   },
   "source": [
    "## 7. Digging deeper\n",
    "<p>This is already much more informative than the simple plot we created when our friend first gave us some data. We can also see that, while newer movies are overrepresented on the platform, many short movies have been released in the past two decades.</p>\n",
    "<p>Upon further inspection, something else is going on. Some of these films are under an hour long! Let's filter our DataFrame for movies with a <code>duration</code> under 60 minutes and look at the genres. This might give us some insight into what is dragging down the average.</p>"
   ]
  },
  {
   "cell_type": "code",
   "execution_count": 31,
   "id": "870ce861-d1c1-478a-855c-f527596518ba",
   "metadata": {},
   "outputs": [
    {
     "data": {
      "text/html": [
       "<div>\n",
       "<style scoped>\n",
       "    .dataframe tbody tr th:only-of-type {\n",
       "        vertical-align: middle;\n",
       "    }\n",
       "\n",
       "    .dataframe tbody tr th {\n",
       "        vertical-align: top;\n",
       "    }\n",
       "\n",
       "    .dataframe thead th {\n",
       "        text-align: right;\n",
       "    }\n",
       "</style>\n",
       "<table border=\"1\" class=\"dataframe\">\n",
       "  <thead>\n",
       "    <tr style=\"text-align: right;\">\n",
       "      <th></th>\n",
       "      <th>show_id</th>\n",
       "      <th>type</th>\n",
       "      <th>title</th>\n",
       "      <th>director</th>\n",
       "      <th>cast</th>\n",
       "      <th>country</th>\n",
       "      <th>date_added</th>\n",
       "      <th>release_year</th>\n",
       "      <th>duration</th>\n",
       "      <th>description</th>\n",
       "      <th>genre</th>\n",
       "    </tr>\n",
       "  </thead>\n",
       "  <tbody>\n",
       "    <tr>\n",
       "      <th>0</th>\n",
       "      <td>s1</td>\n",
       "      <td>TV Show</td>\n",
       "      <td>3%</td>\n",
       "      <td>NaN</td>\n",
       "      <td>João Miguel, Bianca Comparato, Michel Gomes, R...</td>\n",
       "      <td>Brazil</td>\n",
       "      <td>August 14, 2020</td>\n",
       "      <td>2020</td>\n",
       "      <td>4</td>\n",
       "      <td>In a future where the elite inhabit an island ...</td>\n",
       "      <td>International TV</td>\n",
       "    </tr>\n",
       "    <tr>\n",
       "      <th>5</th>\n",
       "      <td>s6</td>\n",
       "      <td>TV Show</td>\n",
       "      <td>46</td>\n",
       "      <td>Serdar Akar</td>\n",
       "      <td>Erdal Beşikçioğlu, Yasemin Allen, Melis Birkan...</td>\n",
       "      <td>Turkey</td>\n",
       "      <td>July 1, 2017</td>\n",
       "      <td>2016</td>\n",
       "      <td>1</td>\n",
       "      <td>A genetics professor experiments with a treatm...</td>\n",
       "      <td>International TV</td>\n",
       "    </tr>\n",
       "    <tr>\n",
       "      <th>11</th>\n",
       "      <td>s12</td>\n",
       "      <td>TV Show</td>\n",
       "      <td>1983</td>\n",
       "      <td>NaN</td>\n",
       "      <td>Robert Więckiewicz, Maciej Musiał, Michalina O...</td>\n",
       "      <td>Poland</td>\n",
       "      <td>November 30, 2018</td>\n",
       "      <td>2018</td>\n",
       "      <td>1</td>\n",
       "      <td>In this dark alt-history thriller, a naïve law...</td>\n",
       "      <td>Crime TV</td>\n",
       "    </tr>\n",
       "    <tr>\n",
       "      <th>12</th>\n",
       "      <td>s13</td>\n",
       "      <td>TV Show</td>\n",
       "      <td>1994</td>\n",
       "      <td>Diego Enrique Osorno</td>\n",
       "      <td>NaN</td>\n",
       "      <td>Mexico</td>\n",
       "      <td>May 17, 2019</td>\n",
       "      <td>2019</td>\n",
       "      <td>1</td>\n",
       "      <td>Archival video and new interviews examine Mexi...</td>\n",
       "      <td>Crime TV</td>\n",
       "    </tr>\n",
       "    <tr>\n",
       "      <th>16</th>\n",
       "      <td>s17</td>\n",
       "      <td>TV Show</td>\n",
       "      <td>Feb-09</td>\n",
       "      <td>NaN</td>\n",
       "      <td>Shahd El Yaseen, Shaila Sabt, Hala, Hanadi Al-...</td>\n",
       "      <td>NaN</td>\n",
       "      <td>March 20, 2019</td>\n",
       "      <td>2018</td>\n",
       "      <td>1</td>\n",
       "      <td>As a psychology professor faces Alzheimer's, h...</td>\n",
       "      <td>International TV</td>\n",
       "    </tr>\n",
       "    <tr>\n",
       "      <th>24</th>\n",
       "      <td>s25</td>\n",
       "      <td>TV Show</td>\n",
       "      <td>​SAINT SEIYA: Knights of the Zodiac</td>\n",
       "      <td>NaN</td>\n",
       "      <td>Bryson Baugus, Emily Neves, Blake Shepard, Pat...</td>\n",
       "      <td>Japan</td>\n",
       "      <td>January 23, 2020</td>\n",
       "      <td>2020</td>\n",
       "      <td>2</td>\n",
       "      <td>Seiya and the Knights of the Zodiac rise again...</td>\n",
       "      <td>Anime Series</td>\n",
       "    </tr>\n",
       "    <tr>\n",
       "      <th>26</th>\n",
       "      <td>s27</td>\n",
       "      <td>TV Show</td>\n",
       "      <td>(Un)Well</td>\n",
       "      <td>NaN</td>\n",
       "      <td>NaN</td>\n",
       "      <td>United States</td>\n",
       "      <td>August 12, 2020</td>\n",
       "      <td>2020</td>\n",
       "      <td>1</td>\n",
       "      <td>This docuseries takes a deep dive into the luc...</td>\n",
       "      <td>Reality TV</td>\n",
       "    </tr>\n",
       "    <tr>\n",
       "      <th>29</th>\n",
       "      <td>s30</td>\n",
       "      <td>TV Show</td>\n",
       "      <td>#blackAF</td>\n",
       "      <td>NaN</td>\n",
       "      <td>Kenya Barris, Rashida Jones, Iman Benson, Genn...</td>\n",
       "      <td>United States</td>\n",
       "      <td>April 17, 2020</td>\n",
       "      <td>2020</td>\n",
       "      <td>1</td>\n",
       "      <td>Kenya Barris and his family navigate relations...</td>\n",
       "      <td>TV Comedies</td>\n",
       "    </tr>\n",
       "    <tr>\n",
       "      <th>35</th>\n",
       "      <td>s36</td>\n",
       "      <td>Movie</td>\n",
       "      <td>#Rucker50</td>\n",
       "      <td>Robert McCullough Jr.</td>\n",
       "      <td>NaN</td>\n",
       "      <td>United States</td>\n",
       "      <td>December 1, 2016</td>\n",
       "      <td>2016</td>\n",
       "      <td>56</td>\n",
       "      <td>This documentary celebrates the 50th anniversa...</td>\n",
       "      <td>Documentaries</td>\n",
       "    </tr>\n",
       "    <tr>\n",
       "      <th>38</th>\n",
       "      <td>s39</td>\n",
       "      <td>TV Show</td>\n",
       "      <td>แผนร้ายนายเจ้าเล่ห์</td>\n",
       "      <td>NaN</td>\n",
       "      <td>Chutavuth Pattarakampol, Sheranut Yusananda, N...</td>\n",
       "      <td>NaN</td>\n",
       "      <td>March 30, 2019</td>\n",
       "      <td>2016</td>\n",
       "      <td>1</td>\n",
       "      <td>When two brothers fall for two sisters, they q...</td>\n",
       "      <td>International TV</td>\n",
       "    </tr>\n",
       "  </tbody>\n",
       "</table>\n",
       "</div>"
      ],
      "text/plain": [
       "   show_id     type                                title  \\\n",
       "0       s1  TV Show                                   3%   \n",
       "5       s6  TV Show                                   46   \n",
       "11     s12  TV Show                                 1983   \n",
       "12     s13  TV Show                                 1994   \n",
       "16     s17  TV Show                               Feb-09   \n",
       "24     s25  TV Show  ​SAINT SEIYA: Knights of the Zodiac   \n",
       "26     s27  TV Show                             (Un)Well   \n",
       "29     s30  TV Show                             #blackAF   \n",
       "35     s36    Movie                            #Rucker50   \n",
       "38     s39  TV Show                  แผนร้ายนายเจ้าเล่ห์   \n",
       "\n",
       "                 director                                               cast  \\\n",
       "0                     NaN  João Miguel, Bianca Comparato, Michel Gomes, R...   \n",
       "5             Serdar Akar  Erdal Beşikçioğlu, Yasemin Allen, Melis Birkan...   \n",
       "11                    NaN  Robert Więckiewicz, Maciej Musiał, Michalina O...   \n",
       "12   Diego Enrique Osorno                                                NaN   \n",
       "16                    NaN  Shahd El Yaseen, Shaila Sabt, Hala, Hanadi Al-...   \n",
       "24                    NaN  Bryson Baugus, Emily Neves, Blake Shepard, Pat...   \n",
       "26                    NaN                                                NaN   \n",
       "29                    NaN  Kenya Barris, Rashida Jones, Iman Benson, Genn...   \n",
       "35  Robert McCullough Jr.                                                NaN   \n",
       "38                    NaN  Chutavuth Pattarakampol, Sheranut Yusananda, N...   \n",
       "\n",
       "          country         date_added  release_year  duration  \\\n",
       "0          Brazil    August 14, 2020          2020         4   \n",
       "5          Turkey       July 1, 2017          2016         1   \n",
       "11         Poland  November 30, 2018          2018         1   \n",
       "12         Mexico       May 17, 2019          2019         1   \n",
       "16            NaN     March 20, 2019          2018         1   \n",
       "24          Japan   January 23, 2020          2020         2   \n",
       "26  United States    August 12, 2020          2020         1   \n",
       "29  United States     April 17, 2020          2020         1   \n",
       "35  United States   December 1, 2016          2016        56   \n",
       "38            NaN     March 30, 2019          2016         1   \n",
       "\n",
       "                                          description             genre  \n",
       "0   In a future where the elite inhabit an island ...  International TV  \n",
       "5   A genetics professor experiments with a treatm...  International TV  \n",
       "11  In this dark alt-history thriller, a naïve law...          Crime TV  \n",
       "12  Archival video and new interviews examine Mexi...          Crime TV  \n",
       "16  As a psychology professor faces Alzheimer's, h...  International TV  \n",
       "24  Seiya and the Knights of the Zodiac rise again...      Anime Series  \n",
       "26  This docuseries takes a deep dive into the luc...        Reality TV  \n",
       "29  Kenya Barris and his family navigate relations...       TV Comedies  \n",
       "35  This documentary celebrates the 50th anniversa...     Documentaries  \n",
       "38  When two brothers fall for two sisters, they q...  International TV  "
      ]
     },
     "execution_count": 31,
     "metadata": {},
     "output_type": "execute_result"
    }
   ],
   "source": [
    "#filtra peliculas menos de 60 min query\n",
    "dataNetflix.query('release_year > 2000 and duration < 60').head(10)\n",
    "\n",
    "\n"
   ]
  },
  {
   "cell_type": "markdown",
   "id": "5fecfb38-7237-488a-9630-02e4e2dce7bc",
   "metadata": {
    "dc": {
     "key": "53"
    },
    "run_control": {
     "frozen": true
    },
    "tags": [
     "context"
    ]
   },
   "source": [
    "## 8. Marking non-feature films\n",
    "<p>Interesting! It looks as though many of the films that are under 60 minutes fall into genres such as \"Children\", \"Stand-Up\", and \"Documentaries\". This is a logical result, as these types of films are probably often shorter than 90 minute Hollywood blockbuster. </p>\n",
    "<p>We could eliminate these rows from our DataFrame and plot the values again. But another interesting way to explore the effect of these genres on our data would be to plot them, but mark them with a different color.</p>\n",
    "<p>In Python, there are many ways to do this, but one fun way might be to use a loop to generate a list of colors based on the contents of the <code>genre</code> column. Much as we did in Intermediate Python, we can then pass this list to our plotting function in a later step to color all non-typical genres in a different color!</p>\n",
    "<p><em>Note: Although we are using the basic colors of red, blue, green, and black, <code>matplotlib</code> has many named colors you can use when creating plots. For more information, you can refer to the documentation <a href=\"https://matplotlib.org/stable/gallery/color/named_colors.html\">here</a>!</em></p>"
   ]
  },
  {
   "cell_type": "code",
   "execution_count": 33,
   "id": "dd97d0b4-ac3d-45e8-b371-d10cd2bad5f4",
   "metadata": {},
   "outputs": [
    {
     "data": {
      "text/plain": [
       "genre\n",
       "Action           113.282940\n",
       "Comedies         107.200186\n",
       "Dramas           111.796243\n",
       "Horror Movies     97.401639\n",
       "Name: duration, dtype: float64"
      ]
     },
     "execution_count": 33,
     "metadata": {},
     "output_type": "execute_result"
    }
   ],
   "source": [
    "dataNetflix['genre'].unique()\n",
    "genreList = ['Comedies', 'Dramas', 'Action', 'Horror Movies']\n",
    "\n",
    "dataNetflix = dataNetflix[dataNetflix['genre'].isin(genreList)]\n",
    "\n",
    "dataNetflix.groupby('genre')['duration'].mean()"
   ]
  },
  {
   "cell_type": "markdown",
   "id": "ee1604ae-4971-4372-80ed-54ee5715a223",
   "metadata": {
    "dc": {
     "key": "60"
    },
    "run_control": {
     "frozen": true
    },
    "tags": [
     "context"
    ]
   },
   "source": [
    "## 9. Plotting with color!\n",
    "<p>Lovely looping! We now have a <code>colors</code> list that we can pass to our scatter plot, which should allow us to visually inspect whether these genres might be responsible for the decline in the average duration of movies.</p>\n",
    "<p>This time, we'll also spruce up our plot with some additional axis labels and a new theme with <code>plt.style.use()</code>. The latter isn't taught in Intermediate Python, but can be a fun way to add some visual flair to a basic <code>matplotlib</code> plot. You can find more information on customizing the style of your plot <a href=\"https://matplotlib.org/stable/tutorials/introductory/customizing.html\">here</a>!</p>"
   ]
  },
  {
   "cell_type": "code",
   "execution_count": 40,
   "id": "29561aa2-3461-4795-bc29-35408c0acb68",
   "metadata": {},
   "outputs": [
    {
     "data": {
      "image/png": "[encoded data removed]",
      "text/plain": [
       "<Figure size 432x288 with 1 Axes>"
      ]
     },
     "metadata": {
      "needs_background": "light"
     },
     "output_type": "display_data"
    }
   ],
   "source": [
    "#recorrer dataframe\n",
    "colors =[]\n",
    "for key,movie in dataNetflix.iterrows():\n",
    "    if movie['genre'] == \"Action\":\n",
    "        colors.append(\"red\")\n",
    "    elif movie['genre'] == \"Comedies\":\n",
    "        colors.append(\"blue\")\n",
    "    elif movie['genre'] == \"Dramas\":\n",
    "        colors.append(\"green\")\n",
    "    else:\n",
    "        colors.append(\"yellow\")\n",
    "        \n",
    "#podemos cambiar el stylo del grafico\n",
    "plt.style.use('bmh')\n",
    "\n",
    "plt.scatter(dataNetflix['release_year'],dataNetflix['duration'],c = colors)\n",
    "\n",
    "plt.title('pelis netflix recientes x genero')\n",
    "\n",
    "plt.show()"
   ]
  },
  {
   "cell_type": "markdown",
   "id": "232cb2f5-0412-40f1-9c07-7364e43d2e01",
   "metadata": {
    "dc": {
     "key": "67"
    },
    "run_control": {
     "frozen": true
    },
    "tags": [
     "context"
    ]
   },
   "source": [
    "## 10. What next?\n",
    "<p>Well, as we suspected, non-typical genres such as children's movies and documentaries are all clustered around the bottom half of the plot. But we can't know for certain until we perform additional analyses. </p>\n",
    "<p>Congratulations, you've performed an exploratory analysis of some entertainment data, and there are lots of fun ways to develop your skills as a Pythonic data scientist. These include learning how to analyze data further with statistics, creating more advanced visualizations, and perhaps most importantly, learning more advanced ways of working with data in <code>pandas</code>. This latter skill is covered in our fantastic course <a href=\"www.datacamp.com/courses/data-manipulation-with-pandas\">Data Manipulation with pandas</a>.</p>\n",
    "<p>We hope you enjoyed this application of the skills learned in Intermediate Python, and wish you all the best on the rest of your journey!</p>"
   ]
  }
 ],
 "metadata": {
  "editor": "DataCamp Workspace",
  "kernelspec": {
   "display_name": "Python 3 (ipykernel)",
   "language": "python",
   "name": "python3"
  },
  "language_info": {
   "codemirror_mode": {
    "name": "ipython",
    "version": 3
   },
   "file_extension": ".py",
   "mimetype": "text/x-python",
   "name": "python",
   "nbconvert_exporter": "python",
   "pygments_lexer": "ipython3",
   "version": "3.9.12"
  }
 },
 "nbformat": 4,
 "nbformat_minor": 5
}
