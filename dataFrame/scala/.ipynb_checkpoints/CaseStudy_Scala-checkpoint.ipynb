{
 "cells": [
  {
   "cell_type": "markdown",
   "id": "f5aa1e16-0799-4a71-8921-0cea85705cd6",
   "metadata": {
    "dc": {
     "key": "5"
    },
    "id": "f5aa1e16-0799-4a71-8921-0cea85705cd6",
    "run_control": {
     "frozen": true
    },
    "tags": [
     "context"
    ]
   },
   "source": [
    "## 1. Scala's real-world project repository data\n",
    "<p>With almost 30k commits and a history spanning over ten years, Scala is a mature programming language. It is a general-purpose programming language that has recently become another prominent language for data scientists.</p>\n",
    "<p>Scala is also an open source project. Open source projects have the advantage that their entire development histories -- who made changes, what was changed, code reviews, etc. -- are publicly available. </p>\n",
    "<p>We're going to read in, clean up, and visualize the real world project repository of Scala that spans data from a version control system (Git) as well as a project hosting site (GitHub). We will find out who has had the most influence on its development and who are the experts.</p>\n",
    "<p>The dataset we will use, which has been previously mined and extracted from GitHub, is comprised of three files:</p>\n",
    "<ol>\n",
    "<li><code>pulls_2011-2013.csv</code> contains the basic information about the pull requests, and spans from the end of 2011 up to (but not including) 2014.</li>\n",
    "<li><code>pulls_2014-2018.csv</code> contains identical information, and spans from 2014 up to 2018.</li>\n",
    "<li><code>pull_files.csv</code> contains the files that were modified by each pull request.</li>\n",
    "</ol>"
   ]
  },
  {
   "cell_type": "code",
   "execution_count": 2,
   "id": "6d47a258-34c3-49bd-87a7-0b7436b5e9dc",
   "metadata": {},
   "outputs": [],
   "source": [
    "#inportamos pandas\n",
    "import pandas as pd\n",
    "#loading la informacion\n",
    "dataPulls20112013 = pd.read_csv('pulls_2011-2013.csv')\n",
    "dataPulls20142018 = pd.read_csv('pulls_2014-2018.csv')\n",
    "dataPullsFiles = pd.read_csv('pull_files.csv')"
   ]
  },
  {
   "cell_type": "code",
   "execution_count": 6,
   "id": "07e48386-d44c-4844-9cbe-a32db87947a8",
   "metadata": {},
   "outputs": [
    {
     "name": "stdout",
     "output_type": "stream",
     "text": [
      "<class 'pandas.core.frame.DataFrame'>\n",
      "RangeIndex: 2904 entries, 0 to 2903\n",
      "Data columns (total 3 columns):\n",
      " #   Column  Non-Null Count  Dtype \n",
      "---  ------  --------------  ----- \n",
      " 0   pid     2904 non-null   int64 \n",
      " 1   user    2904 non-null   object\n",
      " 2   date    2904 non-null   object\n",
      "dtypes: int64(1), object(2)\n",
      "memory usage: 68.2+ KB\n"
     ]
    }
   ],
   "source": [
    "dataPulls20142018.info()"
   ]
  },
  {
   "cell_type": "markdown",
   "id": "6f3293e3-273e-4549-8b21-3a72cdabd34b",
   "metadata": {
    "dc": {
     "key": "12"
    },
    "id": "6f3293e3-273e-4549-8b21-3a72cdabd34b",
    "run_control": {
     "frozen": true
    },
    "tags": [
     "context"
    ]
   },
   "source": [
    "## 2. Preparing and cleaning the data\n",
    "<p>First, we will need to combine the data from the two separate pull DataFrames. </p>\n",
    "<p>Next, the raw data extracted from GitHub contains dates in the ISO8601 format. However, <code>pandas</code> imports them as regular strings. To make our analysis easier, we need to convert the strings into Python's <code>DateTime</code> objects. <code>DateTime</code> objects have the important property that they can be compared and sorted.</p>\n",
    "<p>The pull request times are all in UTC (also known as Coordinated Universal Time). The commit times, however, are in the local time of the author with time zone information (number of hours difference from UTC). To make comparisons easy, we should convert all times to UTC.</p>"
   ]
  },
  {
   "cell_type": "code",
   "execution_count": 8,
   "id": "4871defb-cc82-4cf2-a4bb-215d50a698f6",
   "metadata": {},
   "outputs": [
    {
     "data": {
      "text/plain": [
       "(6200, 3)"
      ]
     },
     "execution_count": 8,
     "metadata": {},
     "output_type": "execute_result"
    }
   ],
   "source": [
    "#append datasets 2011-2013 and 2014-2018\n",
    "pullsAll = pd.concat([dataPulls20112013,dataPulls20142018])\n",
    "pullsAll.shape"
   ]
  },
  {
   "cell_type": "code",
   "execution_count": 10,
   "id": "bae6cadc-4613-4efa-8d4e-0a6e3f13ad8e",
   "metadata": {},
   "outputs": [],
   "source": [
    "#convert data correct format\n",
    "pullsAll['date'] = pd.to_datetime(pullsAll['date'],utc = True)\n",
    "\n",
    "pullsAll.head()"
   ]
  },
  {
   "cell_type": "markdown",
   "id": "1eedb206-b87b-45fe-9425-6ffcbc2e8c52",
   "metadata": {
    "dc": {
     "key": "19"
    },
    "id": "1eedb206-b87b-45fe-9425-6ffcbc2e8c52",
    "run_control": {
     "frozen": true
    },
    "tags": [
     "context"
    ]
   },
   "source": [
    "## 3. Merging the DataFrames\n",
    "<p>The data extracted comes in two separate files. Merging the two DataFrames will make it easier for us to analyze the data in the future tasks.</p>"
   ]
  },
  {
   "cell_type": "code",
   "execution_count": 13,
   "id": "d97b0b1c-7711-4123-a6b6-5871f16fc369",
   "metadata": {},
   "outputs": [
    {
     "data": {
      "text/html": [
       "<div>\n",
       "<style scoped>\n",
       "    .dataframe tbody tr th:only-of-type {\n",
       "        vertical-align: middle;\n",
       "    }\n",
       "\n",
       "    .dataframe tbody tr th {\n",
       "        vertical-align: top;\n",
       "    }\n",
       "\n",
       "    .dataframe thead th {\n",
       "        text-align: right;\n",
       "    }\n",
       "</style>\n",
       "<table border=\"1\" class=\"dataframe\">\n",
       "  <thead>\n",
       "    <tr style=\"text-align: right;\">\n",
       "      <th></th>\n",
       "      <th>pid</th>\n",
       "      <th>user</th>\n",
       "      <th>date</th>\n",
       "      <th>file</th>\n",
       "    </tr>\n",
       "  </thead>\n",
       "  <tbody>\n",
       "    <tr>\n",
       "      <th>0</th>\n",
       "      <td>11166973</td>\n",
       "      <td>VladimirNik</td>\n",
       "      <td>2013-12-31 23:10:55+00:00</td>\n",
       "      <td>src/reflect/scala/reflect/api/Printers.scala</td>\n",
       "    </tr>\n",
       "    <tr>\n",
       "      <th>1</th>\n",
       "      <td>11166973</td>\n",
       "      <td>VladimirNik</td>\n",
       "      <td>2013-12-31 23:10:55+00:00</td>\n",
       "      <td>src/reflect/scala/reflect/internal/Printers.scala</td>\n",
       "    </tr>\n",
       "    <tr>\n",
       "      <th>2</th>\n",
       "      <td>11166973</td>\n",
       "      <td>VladimirNik</td>\n",
       "      <td>2013-12-31 23:10:55+00:00</td>\n",
       "      <td>test/files/run/reify_ann3.check</td>\n",
       "    </tr>\n",
       "    <tr>\n",
       "      <th>3</th>\n",
       "      <td>11166973</td>\n",
       "      <td>VladimirNik</td>\n",
       "      <td>2013-12-31 23:10:55+00:00</td>\n",
       "      <td>test/junit/scala/reflect/internal/PrintersTest...</td>\n",
       "    </tr>\n",
       "    <tr>\n",
       "      <th>4</th>\n",
       "      <td>11161892</td>\n",
       "      <td>Ichoran</td>\n",
       "      <td>2013-12-31 16:55:47+00:00</td>\n",
       "      <td>src/library/scala/collection/mutable/ArrayOps....</td>\n",
       "    </tr>\n",
       "  </tbody>\n",
       "</table>\n",
       "</div>"
      ],
      "text/plain": [
       "        pid         user                      date  \\\n",
       "0  11166973  VladimirNik 2013-12-31 23:10:55+00:00   \n",
       "1  11166973  VladimirNik 2013-12-31 23:10:55+00:00   \n",
       "2  11166973  VladimirNik 2013-12-31 23:10:55+00:00   \n",
       "3  11166973  VladimirNik 2013-12-31 23:10:55+00:00   \n",
       "4  11161892      Ichoran 2013-12-31 16:55:47+00:00   \n",
       "\n",
       "                                                file  \n",
       "0       src/reflect/scala/reflect/api/Printers.scala  \n",
       "1  src/reflect/scala/reflect/internal/Printers.scala  \n",
       "2                    test/files/run/reify_ann3.check  \n",
       "3  test/junit/scala/reflect/internal/PrintersTest...  \n",
       "4  src/library/scala/collection/mutable/ArrayOps....  "
      ]
     },
     "execution_count": 13,
     "metadata": {},
     "output_type": "execute_result"
    }
   ],
   "source": [
    "#merge two dataframes\n",
    "\n",
    "dataScala = pullsAll.merge(dataPullsFiles, on = 'pid')\n",
    "\n",
    "dataScala.head()"
   ]
  },
  {
   "cell_type": "markdown",
   "id": "e9a6c439-b865-4677-b895-d99d8c467879",
   "metadata": {
    "dc": {
     "key": "26"
    },
    "id": "e9a6c439-b865-4677-b895-d99d8c467879",
    "run_control": {
     "frozen": true
    },
    "tags": [
     "context"
    ]
   },
   "source": [
    "## 4. Is the project still actively maintained?\n",
    "<p>The activity in an open source project is not very consistent. Some projects might be active for many years after the initial release, while others can slowly taper out into oblivion. Before committing to contributing to a project, it is important to understand the state of the project. Is development going steadily, or is there a drop? Has the project been abandoned altogether?</p>\n",
    "<p>The data used in this project was collected in January of 2018. We are interested in the evolution of the number of contributions up to that date.</p>\n",
    "<p>For Scala, we will do this by plotting a chart of the project's activity. We will calculate the number of pull requests submitted each (calendar) month during the project's lifetime. We will then plot these numbers to see the trend of contributions.</p>\n",
    "<ul>\n",
    "<li><p>A helpful reminder of how to access various components of a date can be found in <a href=\"https://campus.datacamp.com/courses/data-manipulation-with-pandas/slicing-and-indexing?ex=12\">this exercise of Data Manipulation with pandas</a></p></li>\n",
    "<li><p>Additionally, recall that you can group by multiple variables by passing a list to <code>.groupby()</code>. This video from <a href=\"https://campus.datacamp.com/courses/data-manipulation-with-pandas/aggregating-dataframes?ex=9\">Data Manipulation with pandas</a> should help!</p></li>\n",
    "</ul>"
   ]
  },
  {
   "cell_type": "code",
   "execution_count": 14,
   "id": "f5cd9a9b-a0ef-4068-9f96-1d07e01dba83",
   "metadata": {},
   "outputs": [
    {
     "data": {
      "text/html": [
       "<div>\n",
       "<style scoped>\n",
       "    .dataframe tbody tr th:only-of-type {\n",
       "        vertical-align: middle;\n",
       "    }\n",
       "\n",
       "    .dataframe tbody tr th {\n",
       "        vertical-align: top;\n",
       "    }\n",
       "\n",
       "    .dataframe thead th {\n",
       "        text-align: right;\n",
       "    }\n",
       "</style>\n",
       "<table border=\"1\" class=\"dataframe\">\n",
       "  <thead>\n",
       "    <tr style=\"text-align: right;\">\n",
       "      <th></th>\n",
       "      <th>pid</th>\n",
       "      <th>user</th>\n",
       "      <th>date</th>\n",
       "      <th>file</th>\n",
       "      <th>month</th>\n",
       "      <th>year</th>\n",
       "    </tr>\n",
       "  </thead>\n",
       "  <tbody>\n",
       "    <tr>\n",
       "      <th>0</th>\n",
       "      <td>11166973</td>\n",
       "      <td>VladimirNik</td>\n",
       "      <td>2013-12-31 23:10:55+00:00</td>\n",
       "      <td>src/reflect/scala/reflect/api/Printers.scala</td>\n",
       "      <td>12</td>\n",
       "      <td>2013</td>\n",
       "    </tr>\n",
       "    <tr>\n",
       "      <th>1</th>\n",
       "      <td>11166973</td>\n",
       "      <td>VladimirNik</td>\n",
       "      <td>2013-12-31 23:10:55+00:00</td>\n",
       "      <td>src/reflect/scala/reflect/internal/Printers.scala</td>\n",
       "      <td>12</td>\n",
       "      <td>2013</td>\n",
       "    </tr>\n",
       "    <tr>\n",
       "      <th>2</th>\n",
       "      <td>11166973</td>\n",
       "      <td>VladimirNik</td>\n",
       "      <td>2013-12-31 23:10:55+00:00</td>\n",
       "      <td>test/files/run/reify_ann3.check</td>\n",
       "      <td>12</td>\n",
       "      <td>2013</td>\n",
       "    </tr>\n",
       "    <tr>\n",
       "      <th>3</th>\n",
       "      <td>11166973</td>\n",
       "      <td>VladimirNik</td>\n",
       "      <td>2013-12-31 23:10:55+00:00</td>\n",
       "      <td>test/junit/scala/reflect/internal/PrintersTest...</td>\n",
       "      <td>12</td>\n",
       "      <td>2013</td>\n",
       "    </tr>\n",
       "    <tr>\n",
       "      <th>4</th>\n",
       "      <td>11161892</td>\n",
       "      <td>Ichoran</td>\n",
       "      <td>2013-12-31 16:55:47+00:00</td>\n",
       "      <td>src/library/scala/collection/mutable/ArrayOps....</td>\n",
       "      <td>12</td>\n",
       "      <td>2013</td>\n",
       "    </tr>\n",
       "  </tbody>\n",
       "</table>\n",
       "</div>"
      ],
      "text/plain": [
       "        pid         user                      date  \\\n",
       "0  11166973  VladimirNik 2013-12-31 23:10:55+00:00   \n",
       "1  11166973  VladimirNik 2013-12-31 23:10:55+00:00   \n",
       "2  11166973  VladimirNik 2013-12-31 23:10:55+00:00   \n",
       "3  11166973  VladimirNik 2013-12-31 23:10:55+00:00   \n",
       "4  11161892      Ichoran 2013-12-31 16:55:47+00:00   \n",
       "\n",
       "                                                file  month  year  \n",
       "0       src/reflect/scala/reflect/api/Printers.scala     12  2013  \n",
       "1  src/reflect/scala/reflect/internal/Printers.scala     12  2013  \n",
       "2                    test/files/run/reify_ann3.check     12  2013  \n",
       "3  test/junit/scala/reflect/internal/PrintersTest...     12  2013  \n",
       "4  src/library/scala/collection/mutable/ArrayOps....     12  2013  "
      ]
     },
     "execution_count": 14,
     "metadata": {},
     "output_type": "execute_result"
    }
   ],
   "source": [
    "#create month column, dt saca el mes o lo que quieras d una fecha\n",
    "dataScala['month'] = dataScala['date'].dt.month\n",
    "dataScala['year'] = dataScala['date'].dt.year\n",
    "\n",
    "dataScala.head()\n"
   ]
  },
  {
   "cell_type": "code",
   "execution_count": 19,
   "id": "1995da81-e9a8-4bdd-9d22-56c57827017c",
   "metadata": {},
   "outputs": [
    {
     "data": {
      "text/html": [
       "<div>\n",
       "<style scoped>\n",
       "    .dataframe tbody tr th:only-of-type {\n",
       "        vertical-align: middle;\n",
       "    }\n",
       "\n",
       "    .dataframe tbody tr th {\n",
       "        vertical-align: top;\n",
       "    }\n",
       "\n",
       "    .dataframe thead th {\n",
       "        text-align: right;\n",
       "    }\n",
       "</style>\n",
       "<table border=\"1\" class=\"dataframe\">\n",
       "  <thead>\n",
       "    <tr style=\"text-align: right;\">\n",
       "      <th></th>\n",
       "      <th></th>\n",
       "      <th>pid</th>\n",
       "    </tr>\n",
       "    <tr>\n",
       "      <th>year</th>\n",
       "      <th>month</th>\n",
       "      <th></th>\n",
       "    </tr>\n",
       "  </thead>\n",
       "  <tbody>\n",
       "    <tr>\n",
       "      <th>2011</th>\n",
       "      <th>12</th>\n",
       "      <td>590</td>\n",
       "    </tr>\n",
       "    <tr>\n",
       "      <th rowspan=\"4\" valign=\"top\">2012</th>\n",
       "      <th>1</th>\n",
       "      <td>489</td>\n",
       "    </tr>\n",
       "    <tr>\n",
       "      <th>2</th>\n",
       "      <td>787</td>\n",
       "    </tr>\n",
       "    <tr>\n",
       "      <th>3</th>\n",
       "      <td>880</td>\n",
       "    </tr>\n",
       "    <tr>\n",
       "      <th>4</th>\n",
       "      <td>3354</td>\n",
       "    </tr>\n",
       "    <tr>\n",
       "      <th>...</th>\n",
       "      <th>...</th>\n",
       "      <td>...</td>\n",
       "    </tr>\n",
       "    <tr>\n",
       "      <th rowspan=\"4\" valign=\"top\">2017</th>\n",
       "      <th>9</th>\n",
       "      <td>578</td>\n",
       "    </tr>\n",
       "    <tr>\n",
       "      <th>10</th>\n",
       "      <td>535</td>\n",
       "    </tr>\n",
       "    <tr>\n",
       "      <th>11</th>\n",
       "      <td>172</td>\n",
       "    </tr>\n",
       "    <tr>\n",
       "      <th>12</th>\n",
       "      <td>224</td>\n",
       "    </tr>\n",
       "    <tr>\n",
       "      <th>2018</th>\n",
       "      <th>1</th>\n",
       "      <td>202</td>\n",
       "    </tr>\n",
       "  </tbody>\n",
       "</table>\n",
       "<p>74 rows × 1 columns</p>\n",
       "</div>"
      ],
      "text/plain": [
       "             pid\n",
       "year month      \n",
       "2011 12      590\n",
       "2012 1       489\n",
       "     2       787\n",
       "     3       880\n",
       "     4      3354\n",
       "...          ...\n",
       "2017 9       578\n",
       "     10      535\n",
       "     11      172\n",
       "     12      224\n",
       "2018 1       202\n",
       "\n",
       "[74 rows x 1 columns]"
      ]
     },
     "execution_count": 19,
     "metadata": {},
     "output_type": "execute_result"
    }
   ],
   "source": [
    "# calculate contribution / commits groupby year and month\n",
    "\n",
    "numberContributions = dataScala.groupby(['year','month']).agg({'pid' : 'count'})\n",
    "numberContributions"
   ]
  },
  {
   "cell_type": "code",
   "execution_count": 24,
   "id": "eba13adb-6796-4a75-9d44-792d0eb5f267",
   "metadata": {},
   "outputs": [
    {
     "data": {
      "text/plain": [
       "<AxesSubplot:xlabel='year,month'>"
      ]
     },
     "execution_count": 24,
     "metadata": {},
     "output_type": "execute_result"
    },
    {
     "data": {
      "image/png": "[encoded data removed]",
      "text/plain": [
       "<Figure size 864x288 with 1 Axes>"
      ]
     },
     "metadata": {
      "needs_background": "light"
     },
     "output_type": "display_data"
    }
   ],
   "source": [
    "#show plot\n",
    "\n",
    "import matplotlib.pyplot as plt\n",
    "\n",
    "numberContributions.plot(kind = 'line',figsize = (12,4))"
   ]
  },
  {
   "cell_type": "markdown",
   "id": "fb2c9b69-3f27-4061-829d-2e1bb82d8a8f",
   "metadata": {
    "dc": {
     "key": "33"
    },
    "id": "fb2c9b69-3f27-4061-829d-2e1bb82d8a8f",
    "run_control": {
     "frozen": true
    },
    "tags": [
     "context"
    ]
   },
   "source": [
    "## 5. Is there camaraderie in the project?\n",
    "<p>The organizational structure varies from one project to another, and it can influence your success as a contributor. A project that has a very small community might not be the best one to start working on. The small community might indicate a high barrier of entry. This can be caused by several factors, including a community that is reluctant to accept pull requests from \"outsiders,\" that the code base is hard to work with, etc. However, a large community can serve as an indicator that the project is regularly accepting pull requests from new contributors. Such a project would be a good place to start.</p>\n",
    "<p>In order to evaluate the dynamics of the community, we will plot a histogram of the number of pull requests submitted by each user. A distribution that shows that there are few people that only contribute a small number of pull requests can be used as in indicator that the project is not welcoming of new contributors. </p>"
   ]
  },
  {
   "cell_type": "code",
   "execution_count": 33,
   "id": "f4ef161c-b399-4b82-96a6-65cef5cb5dd6",
   "metadata": {},
   "outputs": [
    {
     "name": "stdout",
     "output_type": "stream",
     "text": [
      "4.0\n",
      "184.45689655172413\n"
     ]
    }
   ],
   "source": [
    "dataScalaUsers = dataScala.groupby('user').count()\n",
    "\n",
    "#plot hist\n",
    "\n",
    "dataScalaUsers['pid'].sort_values(ascending = False)\n",
    "\n",
    "print(dataScalaUsers['pid'].median())\n",
    "print(dataScalaUsers['pid'].mean())"
   ]
  },
  {
   "cell_type": "markdown",
   "id": "e5647135-ba87-4e54-b007-ce44685f7891",
   "metadata": {
    "dc": {
     "key": "40"
    },
    "id": "e5647135-ba87-4e54-b007-ce44685f7891",
    "run_control": {
     "frozen": true
    },
    "tags": [
     "context"
    ]
   },
   "source": [
    "## 6. What files were changed in the last ten pull requests?\n",
    "<p>Choosing the right place to make a contribution is as important as choosing the project to contribute to. Some parts of the code might be stable, some might be dead. Contributing there might not have the most impact. Therefore it is important to understand the parts of the system that have been recently changed. This allows us to pinpoint the \"hot\" areas of the code where most of the activity is happening. Focusing on those parts might not the most effective use of our times.</p>"
   ]
  },
  {
   "cell_type": "markdown",
   "id": "63eaf111-bea1-4696-a7b6-cb57c02c050e",
   "metadata": {
    "dc": {
     "key": "47"
    },
    "id": "63eaf111-bea1-4696-a7b6-cb57c02c050e",
    "run_control": {
     "frozen": true
    },
    "tags": [
     "context"
    ]
   },
   "source": [
    "## 7. Who made the most pull requests to a given file?\n",
    "<p>When contributing to a project, we might need some guidance. We might find ourselves needing some information regarding the codebase. It is important direct any questions to the right person. Contributors to open source projects generally have other day jobs, so their time is limited. It is important to address our questions to the right people. One way to identify the right target for our inquiries is by using their contribution history.</p>\n",
    "<p>We identified <code>src/compiler/scala/reflect/reify/phases/Calculate.scala</code> as being recently changed. We are interested in the top 3 developers who changed that file. Those developers are the ones most likely to have the best understanding of the code.</p>"
   ]
  },
  {
   "cell_type": "markdown",
   "id": "69799665-9aa4-498c-b9e6-8189b17e2016",
   "metadata": {
    "dc": {
     "key": "54"
    },
    "id": "69799665-9aa4-498c-b9e6-8189b17e2016",
    "run_control": {
     "frozen": true
    },
    "tags": [
     "context"
    ]
   },
   "source": [
    "## 8. Who made the last ten pull requests on a given file?\n",
    "<p>Open source projects suffer from fluctuating membership. This makes the problem of finding the right person more challenging: the person has to be knowledgeable <em>and</em> still be involved in the project. A person that contributed a lot in the past might no longer be available (or willing) to help. To get a better understanding, we need to investigate the more recent history of that particular part of the system. </p>\n",
    "<p>Like in the previous task, we will look at the history of  <code>src/compiler/scala/reflect/reify/phases/Calculate.scala</code>.</p>"
   ]
  },
  {
   "cell_type": "markdown",
   "id": "5e4990cd-d89d-4c48-9b66-e83ffc7ff355",
   "metadata": {
    "dc": {
     "key": "61"
    },
    "id": "5e4990cd-d89d-4c48-9b66-e83ffc7ff355",
    "run_control": {
     "frozen": true
    },
    "tags": [
     "context"
    ]
   },
   "source": [
    "## 9. The pull requests of two special developers\n",
    "<p>Now that we have identified two potential contacts in the projects, we need to find the person who was most involved in the project in recent times. That person is most likely to answer our questions. For each calendar year, we are interested in understanding the number of pull requests the authors submitted. This will give us a high-level image of their contribution trend to the project.</p>"
   ]
  },
  {
   "cell_type": "markdown",
   "id": "e80f7107-f3f9-4442-87cc-cd329aeb48e4",
   "metadata": {
    "dc": {
     "key": "68"
    },
    "id": "e80f7107-f3f9-4442-87cc-cd329aeb48e4",
    "run_control": {
     "frozen": true
    },
    "tags": [
     "context"
    ]
   },
   "source": [
    "## 10. Visualizing the contributions of each developer\n",
    "<p>As mentioned before, it is important to make a distinction between the global expertise and contribution levels and the contribution levels at a more granular level (file, submodule, etc.) In our case, we want to see which of our two developers of interest have the most experience with the code in a given file. We will measure experience by the number of pull requests submitted that affect that file and how recent those pull requests were submitted.</p>"
   ]
  }
 ],
 "metadata": {
  "colab": {
   "provenance": []
  },
  "editor": "DataCamp Workspace",
  "kernelspec": {
   "display_name": "Python 3 (ipykernel)",
   "language": "python",
   "name": "python3"
  },
  "language_info": {
   "codemirror_mode": {
    "name": "ipython",
    "version": 3
   },
   "file_extension": ".py",
   "mimetype": "text/x-python",
   "name": "python",
   "nbconvert_exporter": "python",
   "pygments_lexer": "ipython3",
   "version": "3.9.12"
  }
 },
 "nbformat": 4,
 "nbformat_minor": 5
}
