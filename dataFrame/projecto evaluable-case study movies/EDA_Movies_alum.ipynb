{
 "cells": [
  {
   "cell_type": "markdown",
   "metadata": {
    "id": "84o0JgAlIMC_"
   },
   "source": [
    "## 1. Encàrrec de productora\n",
    "<p><img src=\"https://cdn.pixabay.com/photo/2018/10/09/00/21/netflix-3733812_960_720.jpg\" alt=\"foto pelicula\"></p>\n",
    "<p>Una de les productores més importants del mercat ens ha demant fer un anàlisis històric abans d'invertir en una nova pel·lìcula.</p>\n",
    "<p>Haurem de donar repsposta a diferents preguntes com: </p>\n",
    "\n",
    "*   La popularitat de les pel·lícules han disminuït durant els anys\n",
    "*   Quins gènere tenen millor valoracions\n",
    "*   Les pel·lícules que ofereixen un millor benefici proporcional son les de més pressupost\n",
    "*   Quins gèneres ofereixen més benefici.\n",
    "*   Proposa una idea de pel·lìcula\n",
    "*   Surt a compte fer una segona part?\n",
    "\n",
    "<p>Per realitzar aquest anàlisis disposem dels següents set de dades:.</p>\n",
    "\n",
    "*  movies.p: pel·lìcula data i espectadors\n",
    "*   movie_to_genres.p: gènere de cada pel·lìcula\n",
    "*   financial.p: dades econòmiques de cada pel·lìcula\n",
    "*   sequels.p: relació de les pelìcules i les seves sequeles.\n",
    "*   ratings.p: valoració de les pel·lìcules\n",
    "\n",
    "\n"
   ]
  },
  {
   "cell_type": "code",
   "execution_count": 1,
   "metadata": {
    "id": "va7CQebML_qm"
   },
   "outputs": [
    {
     "data": {
      "text/html": [
       "<div>\n",
       "<style scoped>\n",
       "    .dataframe tbody tr th:only-of-type {\n",
       "        vertical-align: middle;\n",
       "    }\n",
       "\n",
       "    .dataframe tbody tr th {\n",
       "        vertical-align: top;\n",
       "    }\n",
       "\n",
       "    .dataframe thead th {\n",
       "        text-align: right;\n",
       "    }\n",
       "</style>\n",
       "<table border=\"1\" class=\"dataframe\">\n",
       "  <thead>\n",
       "    <tr style=\"text-align: right;\">\n",
       "      <th></th>\n",
       "      <th>id</th>\n",
       "      <th>title</th>\n",
       "      <th>popularity</th>\n",
       "      <th>release_date</th>\n",
       "    </tr>\n",
       "  </thead>\n",
       "  <tbody>\n",
       "    <tr>\n",
       "      <th>0</th>\n",
       "      <td>257</td>\n",
       "      <td>Oliver Twist</td>\n",
       "      <td>20.415572</td>\n",
       "      <td>2005-09-23</td>\n",
       "    </tr>\n",
       "    <tr>\n",
       "      <th>1</th>\n",
       "      <td>14290</td>\n",
       "      <td>Better Luck Tomorrow</td>\n",
       "      <td>3.877036</td>\n",
       "      <td>2002-01-12</td>\n",
       "    </tr>\n",
       "    <tr>\n",
       "      <th>2</th>\n",
       "      <td>38365</td>\n",
       "      <td>Grown Ups</td>\n",
       "      <td>38.864027</td>\n",
       "      <td>2010-06-24</td>\n",
       "    </tr>\n",
       "    <tr>\n",
       "      <th>3</th>\n",
       "      <td>9672</td>\n",
       "      <td>Infamous</td>\n",
       "      <td>3.680896</td>\n",
       "      <td>2006-11-16</td>\n",
       "    </tr>\n",
       "    <tr>\n",
       "      <th>4</th>\n",
       "      <td>12819</td>\n",
       "      <td>Alpha and Omega</td>\n",
       "      <td>12.300789</td>\n",
       "      <td>2010-09-17</td>\n",
       "    </tr>\n",
       "  </tbody>\n",
       "</table>\n",
       "</div>"
      ],
      "text/plain": [
       "      id                 title  popularity release_date\n",
       "0    257          Oliver Twist   20.415572   2005-09-23\n",
       "1  14290  Better Luck Tomorrow    3.877036   2002-01-12\n",
       "2  38365             Grown Ups   38.864027   2010-06-24\n",
       "3   9672              Infamous    3.680896   2006-11-16\n",
       "4  12819       Alpha and Omega   12.300789   2010-09-17"
      ]
     },
     "execution_count": 1,
     "metadata": {},
     "output_type": "execute_result"
    }
   ],
   "source": [
    "import pandas as pd\n",
    "\n",
    "#importem dataset i en visualitzem el contigut\n",
    "\n",
    "movies = pd.read_pickle('movies.p')\n",
    "movies.head()\n"
   ]
  },
  {
   "cell_type": "code",
   "execution_count": 2,
   "metadata": {},
   "outputs": [
    {
     "data": {
      "text/html": [
       "<div>\n",
       "<style scoped>\n",
       "    .dataframe tbody tr th:only-of-type {\n",
       "        vertical-align: middle;\n",
       "    }\n",
       "\n",
       "    .dataframe tbody tr th {\n",
       "        vertical-align: top;\n",
       "    }\n",
       "\n",
       "    .dataframe thead th {\n",
       "        text-align: right;\n",
       "    }\n",
       "</style>\n",
       "<table border=\"1\" class=\"dataframe\">\n",
       "  <thead>\n",
       "    <tr style=\"text-align: right;\">\n",
       "      <th></th>\n",
       "      <th>movie_id</th>\n",
       "      <th>genre</th>\n",
       "    </tr>\n",
       "  </thead>\n",
       "  <tbody>\n",
       "    <tr>\n",
       "      <th>0</th>\n",
       "      <td>5</td>\n",
       "      <td>Crime</td>\n",
       "    </tr>\n",
       "    <tr>\n",
       "      <th>1</th>\n",
       "      <td>5</td>\n",
       "      <td>Comedy</td>\n",
       "    </tr>\n",
       "    <tr>\n",
       "      <th>2</th>\n",
       "      <td>11</td>\n",
       "      <td>Science Fiction</td>\n",
       "    </tr>\n",
       "    <tr>\n",
       "      <th>3</th>\n",
       "      <td>11</td>\n",
       "      <td>Action</td>\n",
       "    </tr>\n",
       "    <tr>\n",
       "      <th>4</th>\n",
       "      <td>11</td>\n",
       "      <td>Adventure</td>\n",
       "    </tr>\n",
       "  </tbody>\n",
       "</table>\n",
       "</div>"
      ],
      "text/plain": [
       "   movie_id            genre\n",
       "0         5            Crime\n",
       "1         5           Comedy\n",
       "2        11  Science Fiction\n",
       "3        11           Action\n",
       "4        11        Adventure"
      ]
     },
     "execution_count": 2,
     "metadata": {},
     "output_type": "execute_result"
    }
   ],
   "source": [
    "movieGen = pd.read_pickle('movie_to_genres.p')\n",
    "movieGen.head()"
   ]
  },
  {
   "cell_type": "code",
   "execution_count": 3,
   "metadata": {},
   "outputs": [
    {
     "data": {
      "text/html": [
       "<div>\n",
       "<style scoped>\n",
       "    .dataframe tbody tr th:only-of-type {\n",
       "        vertical-align: middle;\n",
       "    }\n",
       "\n",
       "    .dataframe tbody tr th {\n",
       "        vertical-align: top;\n",
       "    }\n",
       "\n",
       "    .dataframe thead th {\n",
       "        text-align: right;\n",
       "    }\n",
       "</style>\n",
       "<table border=\"1\" class=\"dataframe\">\n",
       "  <thead>\n",
       "    <tr style=\"text-align: right;\">\n",
       "      <th></th>\n",
       "      <th>id</th>\n",
       "      <th>budget</th>\n",
       "      <th>revenue</th>\n",
       "    </tr>\n",
       "  </thead>\n",
       "  <tbody>\n",
       "    <tr>\n",
       "      <th>0</th>\n",
       "      <td>19995</td>\n",
       "      <td>237000000</td>\n",
       "      <td>2.787965e+09</td>\n",
       "    </tr>\n",
       "    <tr>\n",
       "      <th>1</th>\n",
       "      <td>285</td>\n",
       "      <td>300000000</td>\n",
       "      <td>9.610000e+08</td>\n",
       "    </tr>\n",
       "    <tr>\n",
       "      <th>2</th>\n",
       "      <td>206647</td>\n",
       "      <td>245000000</td>\n",
       "      <td>8.806746e+08</td>\n",
       "    </tr>\n",
       "    <tr>\n",
       "      <th>3</th>\n",
       "      <td>49026</td>\n",
       "      <td>250000000</td>\n",
       "      <td>1.084939e+09</td>\n",
       "    </tr>\n",
       "    <tr>\n",
       "      <th>4</th>\n",
       "      <td>49529</td>\n",
       "      <td>260000000</td>\n",
       "      <td>2.841391e+08</td>\n",
       "    </tr>\n",
       "  </tbody>\n",
       "</table>\n",
       "</div>"
      ],
      "text/plain": [
       "       id     budget       revenue\n",
       "0   19995  237000000  2.787965e+09\n",
       "1     285  300000000  9.610000e+08\n",
       "2  206647  245000000  8.806746e+08\n",
       "3   49026  250000000  1.084939e+09\n",
       "4   49529  260000000  2.841391e+08"
      ]
     },
     "execution_count": 3,
     "metadata": {},
     "output_type": "execute_result"
    }
   ],
   "source": [
    "financial = pd.read_pickle('financials.p')\n",
    "financial.head()"
   ]
  },
  {
   "cell_type": "code",
   "execution_count": 4,
   "metadata": {},
   "outputs": [
    {
     "data": {
      "text/html": [
       "<div>\n",
       "<style scoped>\n",
       "    .dataframe tbody tr th:only-of-type {\n",
       "        vertical-align: middle;\n",
       "    }\n",
       "\n",
       "    .dataframe tbody tr th {\n",
       "        vertical-align: top;\n",
       "    }\n",
       "\n",
       "    .dataframe thead th {\n",
       "        text-align: right;\n",
       "    }\n",
       "</style>\n",
       "<table border=\"1\" class=\"dataframe\">\n",
       "  <thead>\n",
       "    <tr style=\"text-align: right;\">\n",
       "      <th></th>\n",
       "      <th>id</th>\n",
       "      <th>title</th>\n",
       "      <th>sequel</th>\n",
       "    </tr>\n",
       "  </thead>\n",
       "  <tbody>\n",
       "    <tr>\n",
       "      <th>0</th>\n",
       "      <td>19995</td>\n",
       "      <td>Avatar</td>\n",
       "      <td>&lt;NA&gt;</td>\n",
       "    </tr>\n",
       "    <tr>\n",
       "      <th>1</th>\n",
       "      <td>862</td>\n",
       "      <td>Toy Story</td>\n",
       "      <td>863</td>\n",
       "    </tr>\n",
       "    <tr>\n",
       "      <th>2</th>\n",
       "      <td>863</td>\n",
       "      <td>Toy Story 2</td>\n",
       "      <td>10193</td>\n",
       "    </tr>\n",
       "    <tr>\n",
       "      <th>3</th>\n",
       "      <td>597</td>\n",
       "      <td>Titanic</td>\n",
       "      <td>&lt;NA&gt;</td>\n",
       "    </tr>\n",
       "    <tr>\n",
       "      <th>4</th>\n",
       "      <td>24428</td>\n",
       "      <td>The Avengers</td>\n",
       "      <td>&lt;NA&gt;</td>\n",
       "    </tr>\n",
       "  </tbody>\n",
       "</table>\n",
       "</div>"
      ],
      "text/plain": [
       "      id         title  sequel\n",
       "0  19995        Avatar    <NA>\n",
       "1    862     Toy Story     863\n",
       "2    863   Toy Story 2   10193\n",
       "3    597       Titanic    <NA>\n",
       "4  24428  The Avengers    <NA>"
      ]
     },
     "execution_count": 4,
     "metadata": {},
     "output_type": "execute_result"
    }
   ],
   "source": [
    "sequels = pd.read_pickle('sequels.p')\n",
    "sequels.head()"
   ]
  },
  {
   "cell_type": "code",
   "execution_count": 5,
   "metadata": {},
   "outputs": [
    {
     "data": {
      "text/html": [
       "<div>\n",
       "<style scoped>\n",
       "    .dataframe tbody tr th:only-of-type {\n",
       "        vertical-align: middle;\n",
       "    }\n",
       "\n",
       "    .dataframe tbody tr th {\n",
       "        vertical-align: top;\n",
       "    }\n",
       "\n",
       "    .dataframe thead th {\n",
       "        text-align: right;\n",
       "    }\n",
       "</style>\n",
       "<table border=\"1\" class=\"dataframe\">\n",
       "  <thead>\n",
       "    <tr style=\"text-align: right;\">\n",
       "      <th></th>\n",
       "      <th>id</th>\n",
       "      <th>vote_average</th>\n",
       "      <th>vote_count</th>\n",
       "    </tr>\n",
       "  </thead>\n",
       "  <tbody>\n",
       "    <tr>\n",
       "      <th>0</th>\n",
       "      <td>19995</td>\n",
       "      <td>7.2</td>\n",
       "      <td>11800.0</td>\n",
       "    </tr>\n",
       "    <tr>\n",
       "      <th>1</th>\n",
       "      <td>285</td>\n",
       "      <td>6.9</td>\n",
       "      <td>4500.0</td>\n",
       "    </tr>\n",
       "    <tr>\n",
       "      <th>2</th>\n",
       "      <td>206647</td>\n",
       "      <td>6.3</td>\n",
       "      <td>4466.0</td>\n",
       "    </tr>\n",
       "    <tr>\n",
       "      <th>3</th>\n",
       "      <td>49026</td>\n",
       "      <td>7.6</td>\n",
       "      <td>9106.0</td>\n",
       "    </tr>\n",
       "    <tr>\n",
       "      <th>4</th>\n",
       "      <td>49529</td>\n",
       "      <td>6.1</td>\n",
       "      <td>2124.0</td>\n",
       "    </tr>\n",
       "  </tbody>\n",
       "</table>\n",
       "</div>"
      ],
      "text/plain": [
       "       id  vote_average  vote_count\n",
       "0   19995           7.2     11800.0\n",
       "1     285           6.9      4500.0\n",
       "2  206647           6.3      4466.0\n",
       "3   49026           7.6      9106.0\n",
       "4   49529           6.1      2124.0"
      ]
     },
     "execution_count": 5,
     "metadata": {},
     "output_type": "execute_result"
    }
   ],
   "source": [
    "ratings = pd.read_pickle('ratings.p')\n",
    "ratings.head()"
   ]
  },
  {
   "cell_type": "code",
   "execution_count": 6,
   "metadata": {},
   "outputs": [
    {
     "data": {
      "text/html": [
       "<div>\n",
       "<style scoped>\n",
       "    .dataframe tbody tr th:only-of-type {\n",
       "        vertical-align: middle;\n",
       "    }\n",
       "\n",
       "    .dataframe tbody tr th {\n",
       "        vertical-align: top;\n",
       "    }\n",
       "\n",
       "    .dataframe thead th {\n",
       "        text-align: right;\n",
       "    }\n",
       "</style>\n",
       "<table border=\"1\" class=\"dataframe\">\n",
       "  <thead>\n",
       "    <tr style=\"text-align: right;\">\n",
       "      <th></th>\n",
       "      <th>Actor</th>\n",
       "      <th>Title</th>\n",
       "    </tr>\n",
       "  </thead>\n",
       "  <tbody>\n",
       "    <tr>\n",
       "      <th>0</th>\n",
       "      <td>[Emil Eifrem,Hugo Weaving,Laurence Fishburne,C...</td>\n",
       "      <td>The Matrix</td>\n",
       "    </tr>\n",
       "    <tr>\n",
       "      <th>1</th>\n",
       "      <td>[Hugo Weaving,Laurence Fishburne,Carrie-Anne M...</td>\n",
       "      <td>The Matrix Reloaded</td>\n",
       "    </tr>\n",
       "    <tr>\n",
       "      <th>2</th>\n",
       "      <td>[Hugo Weaving,Laurence Fishburne,Carrie-Anne M...</td>\n",
       "      <td>The Matrix Revolutions</td>\n",
       "    </tr>\n",
       "    <tr>\n",
       "      <th>3</th>\n",
       "      <td>[Al Pacino,Charlize Theron,Keanu Reeves]</td>\n",
       "      <td>The Devil's Advocate</td>\n",
       "    </tr>\n",
       "    <tr>\n",
       "      <th>4</th>\n",
       "      <td>[James Marshall,Kevin Pollak,J.T. Walsh,Aaron ...</td>\n",
       "      <td>A Few Good Men</td>\n",
       "    </tr>\n",
       "  </tbody>\n",
       "</table>\n",
       "</div>"
      ],
      "text/plain": [
       "                                               Actor                   Title\n",
       "0  [Emil Eifrem,Hugo Weaving,Laurence Fishburne,C...              The Matrix\n",
       "1  [Hugo Weaving,Laurence Fishburne,Carrie-Anne M...     The Matrix Reloaded\n",
       "2  [Hugo Weaving,Laurence Fishburne,Carrie-Anne M...  The Matrix Revolutions\n",
       "3           [Al Pacino,Charlize Theron,Keanu Reeves]    The Devil's Advocate\n",
       "4  [James Marshall,Kevin Pollak,J.T. Walsh,Aaron ...          A Few Good Men"
      ]
     },
     "execution_count": 6,
     "metadata": {},
     "output_type": "execute_result"
    }
   ],
   "source": [
    "actors = pd.read_csv('actors_movies.csv')\n",
    "actors.head()"
   ]
  },
  {
   "cell_type": "markdown",
   "metadata": {
    "id": "-jjKZQ6kdqpI"
   },
   "source": [
    "\n",
    "\n",
    "---\n",
    "\n"
   ]
  },
  {
   "cell_type": "markdown",
   "metadata": {
    "id": "eFfL0GLgd0eS"
   },
   "source": [
    "## Anàlisis de la popularitat"
   ]
  },
  {
   "cell_type": "markdown",
   "metadata": {
    "id": "ksau8-nuRwBw"
   },
   "source": [
    "L'empresa creu que durant els darrers anys les pel·lícules tenen menys popularitat. Vol que ho comprovem gràficament"
   ]
  },
  {
   "cell_type": "markdown",
   "metadata": {
    "id": "5edNSsW-WuJZ"
   },
   "source": [
    "Primer de tot importarem el nostre dataset i analitzarem les seves dades bàsiques ¿Quina es la popularitat mitja i la més alta?"
   ]
  },
  {
   "cell_type": "code",
   "execution_count": 7,
   "metadata": {
    "id": "mKmQ-4DBSf1O"
   },
   "outputs": [
    {
     "name": "stdout",
     "output_type": "stream",
     "text": [
      "id                int64\n",
      "title            object\n",
      "popularity      float64\n",
      "release_date     object\n",
      "dtype: object\n",
      "12.921594\n",
      "875.581305\n"
     ]
    }
   ],
   "source": [
    "#Analitzem el dataset movies, el tipus de les seves variables, el seu tamany i els seus estadístics bàsics\n",
    "moviesMedia = movies['popularity']\n",
    "print(movies.dtypes)\n",
    "print(moviesMedia.median())\n",
    "print(moviesMedia.max())"
   ]
  },
  {
   "cell_type": "markdown",
   "metadata": {
    "id": "Fmu-tJlZW50w"
   },
   "source": [
    "Necessitem treballar amb el camp release_date com a datatime, així que transformem la columna i ho comprovem. ¿De quin fins a quin any tenim dades?"
   ]
  },
  {
   "cell_type": "code",
   "execution_count": 8,
   "metadata": {
    "id": "eb7Fw4xBTQtF"
   },
   "outputs": [
    {
     "name": "stdout",
     "output_type": "stream",
     "text": [
      "2017.0\n",
      "1916.0\n"
     ]
    }
   ],
   "source": [
    "#Necessitem treballar amb el camp release_date com a datatime, així que creem la columna year i ho comprovem\n",
    "pulls = pd.concat([movies])\n",
    "pulls.shape\n",
    "pulls['release_date'] = pd.to_datetime(pulls['release_date'], utc = True)\n",
    "\n",
    "movies['year'] = pulls['release_date'].dt.year\n",
    "movies.head()\n",
    "# Observem max i min\n",
    "print(movies['year'].max())\n",
    "print(movies['year'].min())"
   ]
  },
  {
   "cell_type": "markdown",
   "metadata": {
    "id": "zlx23c1tVfZv"
   },
   "source": [
    "L'empresa considera que els gustos han canviat molt durant els últims anys, aixi que nomès l'interessen les dades desde el 2010. ¿De cuàntes dades disposem? ¿De cuàntes dades disposem?"
   ]
  },
  {
   "cell_type": "code",
   "execution_count": 9,
   "metadata": {
    "id": "TTk3fB7dVr4Y"
   },
   "outputs": [
    {
     "data": {
      "text/plain": [
       "(1446, 5)"
      ]
     },
     "execution_count": 9,
     "metadata": {},
     "output_type": "execute_result"
    }
   ],
   "source": [
    "#Filtrem el nostre dataset\n",
    "dateYear = movies.query('year >= 2010')\n",
    "\n",
    "dateYear.shape"
   ]
  },
  {
   "cell_type": "markdown",
   "metadata": {
    "id": "H_Bv9BqYWNHG"
   },
   "source": [
    "Pasem a mostrar la linea temporal de com ha variat la popularitat durant els darrers anys. "
   ]
  },
  {
   "cell_type": "code",
   "execution_count": 10,
   "metadata": {
    "id": "mw1ahFnbXjF5"
   },
   "outputs": [
    {
     "data": {
      "text/plain": [
       "<AxesSubplot:title={'center':'popularidad x año'}, xlabel='year'>"
      ]
     },
     "execution_count": 10,
     "metadata": {},
     "output_type": "execute_result"
    },
    {
     "data": {
      "image/png": "[encoded data removed]",
      "text/plain": [
       "<Figure size 432x288 with 1 Axes>"
      ]
     },
     "metadata": {
      "needs_background": "light"
     },
     "output_type": "display_data"
    }
   ],
   "source": [
    "# Import matplotlib.pyplot with alias plt\n",
    "import matplotlib.pyplot as plt\n",
    "\n",
    "#Agrupem per any i obtenim la suma de la popularitat\n",
    "dataYearPolulari = movies.groupby(['year'])['popularity'].sum()\n",
    "\n",
    "#mostre la variació temporal\n",
    "dataYearPolulari. plot(kind='line',x='year', y= 'popularity',title='popularidad x año')"
   ]
  },
  {
   "cell_type": "markdown",
   "metadata": {
    "id": "lzi7MbGGbcog"
   },
   "source": [
    "¿Què passa al 2017, quin és el motiu? Igualment aquesta devadalla és molt extranya, és probalble a que en alguns anys s'hagin realitzat moltes més pel·lícules i que per aquesta raó la mitja sigui molt més alta. Anem a fer el mateix procediment amb la mitja"
   ]
  },
  {
   "cell_type": "code",
   "execution_count": 11,
   "metadata": {
    "id": "jz2Vlvcra3Gb"
   },
   "outputs": [
    {
     "data": {
      "text/plain": [
       "year\n",
       "1916.0     3.232447\n",
       "1925.0     0.785744\n",
       "1927.0    32.351527\n",
       "1929.0     1.396524\n",
       "1930.0     8.484123\n",
       "Name: popularity, dtype: float64"
      ]
     },
     "execution_count": 11,
     "metadata": {},
     "output_type": "execute_result"
    }
   ],
   "source": [
    "# Agrupem i obtenir la mitja de la popularitat (no tenim en compte 2017)\n",
    "groupMediaPopu = movies.groupby(['year'])['popularity'].mean()\n",
    "\n",
    "#mostre la variació temporal\n",
    "\n"
   ]
  },
  {
   "cell_type": "markdown",
   "metadata": {
    "id": "urNiGKischuo"
   },
   "source": [
    "### Resposta 1. Estan perdent popularitat les pel·lìcules?"
   ]
  },
  {
   "cell_type": "markdown",
   "metadata": {
    "id": "lvbj5tyoeAc5"
   },
   "source": [
    "\n",
    "\n",
    "---\n",
    "\n"
   ]
  },
  {
   "cell_type": "markdown",
   "metadata": {
    "id": "JzGK-NJBeBaQ"
   },
   "source": [
    "## Anàlisis del rating"
   ]
  },
  {
   "cell_type": "markdown",
   "metadata": {
    "id": "J0bfJeE4eKm7"
   },
   "source": [
    "Un cop decidit que val la pena realitzar una pel·lìcula, haurem de valorar de quina gènere val la pena en funció de la seva valoració. Primer de tot mostrarem la puntuació mitja de les pel·lícules i les 10 pel·lìcules més valorades. Mostra únicament el nom i el títol de la pel·lìcula ( i el index que surt per defecte)"
   ]
  },
  {
   "cell_type": "code",
   "execution_count": 12,
   "metadata": {
    "id": "-uK80eM7e2NF"
   },
   "outputs": [],
   "source": [
    "#Haurem de fer una join entre els dos datasets implicats (recordar que nomès ens interesa pel·lìcules a partir del 2010)\n",
    "\n",
    "\n",
    "\n",
    "# Nomès ens interessa les grans produccions, pel·lìcules amb més de 60k de popularitat i més de 2000 valoracions\n",
    "\n",
    "\n",
    "\n",
    "#Mostrem pel·lìcules\n"
   ]
  },
  {
   "cell_type": "markdown",
   "metadata": {
    "id": "ZEZl2NK8inHM"
   },
   "source": [
    "De les pel·lìcules que ens interessa pel nostre anàlisis ( més de 60k de popularitat i més de 2000 valoracions) obtindrem el seu gènere per mostra gràficament la mitja per gènere."
   ]
  },
  {
   "cell_type": "code",
   "execution_count": 13,
   "metadata": {
    "id": "J44IKYUHjAHa"
   },
   "outputs": [],
   "source": [
    "#Mirem primer el tamany del nostre dataset filtrar\n",
    "\n",
    "\n",
    "#Realitzem la join\n",
    "\n",
    "\n",
    "#Mirem el tamany del data set resultant\n",
    "\n"
   ]
  },
  {
   "cell_type": "markdown",
   "metadata": {
    "id": "03F5FUc1j338"
   },
   "source": [
    "¿Quin és el motiu que els tamany dels dataset siguin diferents?"
   ]
  },
  {
   "cell_type": "code",
   "execution_count": 14,
   "metadata": {
    "id": "SX8wxEJ-kBKU"
   },
   "outputs": [],
   "source": [
    "#Mostrem gràfic de barres per gènere\n",
    "\n"
   ]
  },
  {
   "cell_type": "markdown",
   "metadata": {
    "id": "jUhXiPgpk3fQ"
   },
   "source": [
    "¿Quins son el tres gèneres amb millor valoració?"
   ]
  },
  {
   "cell_type": "code",
   "execution_count": 15,
   "metadata": {
    "id": "LmR_w1tmlXwI"
   },
   "outputs": [],
   "source": [
    "# Mostrem gènres amb millor valoració\n"
   ]
  },
  {
   "cell_type": "markdown",
   "metadata": {
    "id": "-7v8_Y9ClsFN"
   },
   "source": [
    "\n",
    "\n",
    "---\n",
    "\n"
   ]
  },
  {
   "cell_type": "markdown",
   "metadata": {
    "id": "75OEpuUTltKI"
   },
   "source": [
    "## Anàlisis econòmic"
   ]
  },
  {
   "cell_type": "markdown",
   "metadata": {
    "id": "hKyKQRHBl3CW"
   },
   "source": [
    "Observa el dataset financial i els seus estadìstics bàsics. ¿Quin és el pressupost i els ingressos promig?¿Sembla rentable fer una pel·lìcula?"
   ]
  },
  {
   "cell_type": "code",
   "execution_count": 16,
   "metadata": {
    "id": "OZS83L_nl9kG"
   },
   "outputs": [],
   "source": [
    "#Observem dataset financials\n"
   ]
  },
  {
   "cell_type": "markdown",
   "metadata": {
    "id": "44i67OeynFMy"
   },
   "source": [
    "Mostra la distribució (histograma) del pressupost de les pel·lícules. ¿La majoria de pel·lìcules son de baix o alt pressupost?"
   ]
  },
  {
   "cell_type": "code",
   "execution_count": 17,
   "metadata": {
    "id": "c3fZsIwLnD6_"
   },
   "outputs": [],
   "source": [
    "# Histograma\n"
   ]
  },
  {
   "cell_type": "markdown",
   "metadata": {
    "id": "416cL5ECmptg"
   },
   "source": [
    "Volem mostrar ( nom inclòs) les pel·lìcules les 5 pel·lícules mès profitosses i les 5 més deficitàries de la historia."
   ]
  },
  {
   "cell_type": "code",
   "execution_count": 18,
   "metadata": {
    "id": "L1HpdWZ6m8l7"
   },
   "outputs": [],
   "source": [
    "#Calculmen la columna profit\n",
    "\n",
    "\n",
    "#Merge amb movies\n",
    "\n",
    "\n",
    "\n",
    "#Mostrem 5 millors i 5 pitjors\n"
   ]
  },
  {
   "cell_type": "markdown",
   "metadata": {
    "id": "Dn_EzFOh9ZPo"
   },
   "source": [
    "Ens tornem a centrar en les pel·lìcules que interessen a la productora ( > 2010 i amb alt grau de popularitat). Per fer una bona inversió no només ens interessa en el indicador 'profit' sino també el 'prop_profit' la proporció entre els beneficis i la quantitat que s'ha invertit en realizat la película. Quines son les 5 pel·lícules que porporcionalment han generat més benefici? Quines conclusions extreure comparant-les amb el llistat anterior?"
   ]
  },
  {
   "cell_type": "code",
   "execution_count": 19,
   "metadata": {
    "id": "1ZOou1P0-nOY"
   },
   "outputs": [],
   "source": [
    "# Fem un innerjoin amb el dataset filtrat anterior\n",
    "\n",
    "\n",
    "#Crear nova columna\n",
    "\n",
    "\n",
    "#Mostrar llistat\n",
    "\n"
   ]
  },
  {
   "cell_type": "markdown",
   "metadata": {
    "id": "n_pEFSNuAJ1t"
   },
   "source": [
    "No tenim clar si és convenient realitzar una pel·lícula d'alt o baix pressupost, per aquesta raó anem a comparar si existeix una correlació entre el pressupost i el pro_profit guanyat. Podriem mostra una matriu de correlació, pero preferim extreu conclusions visuals a través d'un scatter plot. Et dona la sensació que si s'inverteixen més diner la proporció de benefici és més gran?"
   ]
  },
  {
   "cell_type": "code",
   "execution_count": 20,
   "metadata": {
    "colab": {
     "base_uri": "https://localhost:8080/",
     "height": 34
    },
    "executionInfo": {
     "elapsed": 28,
     "status": "ok",
     "timestamp": 1661970759682,
     "user": {
      "displayName": "RUBÉN SERRANO MORENO",
      "userId": "15431627219368641600"
     },
     "user_tz": -120
    },
    "id": "l-vzAH4X91RW",
    "outputId": "31d9c0a2-03af-403d-a79c-f451d297a21a"
   },
   "outputs": [
    {
     "data": {
      "text/plain": [
       "<Figure size 864x576 with 0 Axes>"
      ]
     },
     "metadata": {},
     "output_type": "display_data"
    }
   ],
   "source": [
    "#Scatter plot\n",
    "# Set the figure style and initalize a new figure\n",
    "fig = plt.figure(figsize=(12,8))\n",
    "\n",
    "\n",
    "\n",
    "# Create a title and axis labels\n",
    "\n",
    "\n",
    "# Show the plot\n"
   ]
  },
  {
   "cell_type": "markdown",
   "metadata": {
    "id": "37Vb5CooD6Sf"
   },
   "source": [
    "En la mateixa gràfica anem incloure les valoracions de les pel·lìcules, aparentment imaginem que les pel·lìcules que han tingut bona acollida son les que mé beneficis han aportat. Veient la gràfica creada sembla certa aquesta afirmaciò?"
   ]
  },
  {
   "cell_type": "code",
   "execution_count": 21,
   "metadata": {
    "colab": {
     "base_uri": "https://localhost:8080/",
     "height": 34
    },
    "executionInfo": {
     "elapsed": 23,
     "status": "ok",
     "timestamp": 1661970759683,
     "user": {
      "displayName": "RUBÉN SERRANO MORENO",
      "userId": "15431627219368641600"
     },
     "user_tz": -120
    },
    "id": "aXyxpwXHEcYg",
    "outputId": "7838b77a-a781-477a-c0fd-6b7bcacd7ae8"
   },
   "outputs": [
    {
     "data": {
      "text/plain": [
       "<Figure size 864x576 with 0 Axes>"
      ]
     },
     "metadata": {},
     "output_type": "display_data"
    }
   ],
   "source": [
    "#Hem de crear una llista de color per cada pel·lìcula\n",
    "colors=[]\n",
    "\n",
    "# Iteració sobre cada fila del dataset, si vote_average >= 7 --> verd / >=5 taronja /5 vermell\n",
    "\n",
    "\n",
    "#Crea de nou la gràfica amb l'opció color\n",
    "\n",
    "# Set the figure style and initalize a new figure\n",
    "fig = plt.figure(figsize=(12,8))\n",
    "\n",
    "\n",
    "\n",
    "# Create a title and axis labels\n",
    "\n",
    "\n",
    "# Show the plot\n",
    "plt.show()\n",
    "\n",
    "\n",
    "    "
   ]
  },
  {
   "cell_type": "markdown",
   "metadata": {
    "id": "8iN4IJ74FwSJ"
   },
   "source": [
    "Finalment per determinar quina tipus de pel·lìcula realitzarem visualitzarem els gèneres que ofereixen millor relació en quant a proporció de benefici. Mirant l'apartat anterior i aquest, quin seria els gèneres de la teva pel·lìcula? Fica imagina i proposa una temàtica. "
   ]
  },
  {
   "cell_type": "code",
   "execution_count": 22,
   "metadata": {
    "id": "lpL5EU3hGHqQ"
   },
   "outputs": [],
   "source": [
    "# Merge amb genre\n",
    "\n",
    "\n",
    "#Mostrem gràfic de barres per gènere\n",
    "\n"
   ]
  },
  {
   "cell_type": "code",
   "execution_count": 23,
   "metadata": {
    "id": "z3rPlpS9Fv2j"
   },
   "outputs": [],
   "source": [
    "# Mostrem gèneres i proposem temàtica"
   ]
  },
  {
   "cell_type": "markdown",
   "metadata": {
    "id": "0yLhpkeWx5Fj"
   },
   "source": [
    "## 'Segundas partes no son buenas'"
   ]
  },
  {
   "cell_type": "markdown",
   "metadata": {
    "id": "QVjpDZuax7nU"
   },
   "source": [
    "La nostra pel·lìcula ha tingut molt bona acollida tant que estem valorant la possibilitat de realitzar una segona part. Existeix la idea de que les seqüeles son sempre pitjors. Mostra la diferència promig entre les pel·lìcules i les seves seqüeles i les 5 pel·lìcules on les seves continuacions han millorat mès."
   ]
  },
  {
   "cell_type": "code",
   "execution_count": 24,
   "metadata": {
    "id": "rTlrRmO_x_r5"
   },
   "outputs": [],
   "source": [
    "# mostrem dataset\n",
    "\n",
    "# Elimina files que no tenen sequel\n",
    "\n",
    "\n",
    "# comprova que no hi ha NA\n",
    "\n",
    "\n",
    "# join amb movies per obtenir noms de original i de sequels\n",
    "\n",
    "\n",
    "\n",
    "# simplifiquem per quedar-nos únicament amb id_original, titol_original, id_sequel, titol_sequel\n",
    "\n"
   ]
  },
  {
   "cell_type": "code",
   "execution_count": 25,
   "metadata": {
    "id": "2ZEbe7NH3F9_"
   },
   "outputs": [],
   "source": [
    "# Merge per duplicat per obentenir les valoracions\n",
    "\n",
    "\n",
    "# creem nova columna amb la diferenta valoracació sequel i original\n",
    "\n",
    "\n",
    "#mostre mitja\n",
    "\n"
   ]
  },
  {
   "cell_type": "code",
   "execution_count": 26,
   "metadata": {
    "id": "0qrqkwUq3PXf"
   },
   "outputs": [],
   "source": [
    "# Mostra les 5 millor sequeles en comparació a la seva predecesora"
   ]
  },
  {
   "cell_type": "markdown",
   "metadata": {
    "id": "TOOLJd3L3Utw"
   },
   "source": [
    "\n",
    "\n",
    "---\n",
    "\n"
   ]
  },
  {
   "cell_type": "markdown",
   "metadata": {
    "id": "vORD4Eh-3QGW"
   },
   "source": [
    "## UPGRADE - CASTING\n"
   ]
  },
  {
   "cell_type": "markdown",
   "metadata": {
    "id": "tLKEJ-xA3WYS"
   },
   "source": [
    "A partir del dataset actors, fes l'anàlisis que consideris adient per escollir els nostres actors/actrius"
   ]
  }
 ],
 "metadata": {
  "colab": {
   "provenance": [
    {
     "file_id": "1wSZBL3KvYFiIRhlrymTSprVfH8ZYAptH",
     "timestamp": 1661969917941
    }
   ]
  },
  "kernelspec": {
   "display_name": "Python 3 (ipykernel)",
   "language": "python",
   "name": "python3"
  },
  "language_info": {
   "codemirror_mode": {
    "name": "ipython",
    "version": 3
   },
   "file_extension": ".py",
   "mimetype": "text/x-python",
   "name": "python",
   "nbconvert_exporter": "python",
   "pygments_lexer": "ipython3",
   "version": "3.9.12"
  }
 },
 "nbformat": 4,
 "nbformat_minor": 4
}
