{
 "cells": [
  {
   "cell_type": "markdown",
   "metadata": {
    "id": "84o0JgAlIMC_"
   },
   "source": [
    "## 1. Encàrrec de productora\n",
    "<p><img src=\"https://cdn.pixabay.com/photo/2018/10/09/00/21/netflix-3733812_960_720.jpg\" alt=\"foto pelicula\"></p>\n",
    "<p>Una de les productores més importants del mercat ens ha demant fer un anàlisis històric abans d'invertir en una nova pel·lìcula.</p>\n",
    "<p>Haurem de donar repsposta a diferents preguntes com: </p>\n",
    "\n",
    "*   La popularitat de les pel·lícules han disminuït durant els anys\n",
    "*   Quins gènere tenen millor valoracions\n",
    "*   Les pel·lícules que ofereixen un millor benefici proporcional son les de més pressupost\n",
    "*   Quins gèneres ofereixen més benefici.\n",
    "*   Proposa una idea de pel·lìcula\n",
    "*   Surt a compte fer una segona part?\n",
    "\n",
    "<p>Per realitzar aquest anàlisis disposem dels següents set de dades:.</p>\n",
    "\n",
    "*  movies.p: pel·lìcula data i espectadors\n",
    "*   movie_to_genres.p: gènere de cada pel·lìcula\n",
    "*   financial.p: dades econòmiques de cada pel·lìcula\n",
    "*   sequels.p: relació de les pelìcules i les seves sequeles.\n",
    "*   ratings.p: valoració de les pel·lìcules\n",
    "\n",
    "\n"
   ]
  },
  {
   "cell_type": "code",
   "execution_count": 1,
   "metadata": {
    "id": "va7CQebML_qm"
   },
   "outputs": [
    {
     "data": {
      "text/html": [
       "<div>\n",
       "<style scoped>\n",
       "    .dataframe tbody tr th:only-of-type {\n",
       "        vertical-align: middle;\n",
       "    }\n",
       "\n",
       "    .dataframe tbody tr th {\n",
       "        vertical-align: top;\n",
       "    }\n",
       "\n",
       "    .dataframe thead th {\n",
       "        text-align: right;\n",
       "    }\n",
       "</style>\n",
       "<table border=\"1\" class=\"dataframe\">\n",
       "  <thead>\n",
       "    <tr style=\"text-align: right;\">\n",
       "      <th></th>\n",
       "      <th>id</th>\n",
       "      <th>title</th>\n",
       "      <th>popularity</th>\n",
       "      <th>release_date</th>\n",
       "    </tr>\n",
       "  </thead>\n",
       "  <tbody>\n",
       "    <tr>\n",
       "      <th>0</th>\n",
       "      <td>257</td>\n",
       "      <td>Oliver Twist</td>\n",
       "      <td>20.415572</td>\n",
       "      <td>2005-09-23</td>\n",
       "    </tr>\n",
       "    <tr>\n",
       "      <th>1</th>\n",
       "      <td>14290</td>\n",
       "      <td>Better Luck Tomorrow</td>\n",
       "      <td>3.877036</td>\n",
       "      <td>2002-01-12</td>\n",
       "    </tr>\n",
       "    <tr>\n",
       "      <th>2</th>\n",
       "      <td>38365</td>\n",
       "      <td>Grown Ups</td>\n",
       "      <td>38.864027</td>\n",
       "      <td>2010-06-24</td>\n",
       "    </tr>\n",
       "    <tr>\n",
       "      <th>3</th>\n",
       "      <td>9672</td>\n",
       "      <td>Infamous</td>\n",
       "      <td>3.680896</td>\n",
       "      <td>2006-11-16</td>\n",
       "    </tr>\n",
       "    <tr>\n",
       "      <th>4</th>\n",
       "      <td>12819</td>\n",
       "      <td>Alpha and Omega</td>\n",
       "      <td>12.300789</td>\n",
       "      <td>2010-09-17</td>\n",
       "    </tr>\n",
       "  </tbody>\n",
       "</table>\n",
       "</div>"
      ],
      "text/plain": [
       "      id                 title  popularity release_date\n",
       "0    257          Oliver Twist   20.415572   2005-09-23\n",
       "1  14290  Better Luck Tomorrow    3.877036   2002-01-12\n",
       "2  38365             Grown Ups   38.864027   2010-06-24\n",
       "3   9672              Infamous    3.680896   2006-11-16\n",
       "4  12819       Alpha and Omega   12.300789   2010-09-17"
      ]
     },
     "execution_count": 1,
     "metadata": {},
     "output_type": "execute_result"
    }
   ],
   "source": [
    "import pandas as pd\n",
    "\n",
    "#importem dataset i en visualitzem el contigut\n",
    "\n",
    "movies = pd.read_pickle('movies.p')\n",
    "movies.head()\n"
   ]
  },
  {
   "cell_type": "code",
   "execution_count": 2,
   "metadata": {},
   "outputs": [
    {
     "data": {
      "text/html": [
       "<div>\n",
       "<style scoped>\n",
       "    .dataframe tbody tr th:only-of-type {\n",
       "        vertical-align: middle;\n",
       "    }\n",
       "\n",
       "    .dataframe tbody tr th {\n",
       "        vertical-align: top;\n",
       "    }\n",
       "\n",
       "    .dataframe thead th {\n",
       "        text-align: right;\n",
       "    }\n",
       "</style>\n",
       "<table border=\"1\" class=\"dataframe\">\n",
       "  <thead>\n",
       "    <tr style=\"text-align: right;\">\n",
       "      <th></th>\n",
       "      <th>movie_id</th>\n",
       "      <th>genre</th>\n",
       "    </tr>\n",
       "  </thead>\n",
       "  <tbody>\n",
       "    <tr>\n",
       "      <th>0</th>\n",
       "      <td>5</td>\n",
       "      <td>Crime</td>\n",
       "    </tr>\n",
       "    <tr>\n",
       "      <th>1</th>\n",
       "      <td>5</td>\n",
       "      <td>Comedy</td>\n",
       "    </tr>\n",
       "    <tr>\n",
       "      <th>2</th>\n",
       "      <td>11</td>\n",
       "      <td>Science Fiction</td>\n",
       "    </tr>\n",
       "    <tr>\n",
       "      <th>3</th>\n",
       "      <td>11</td>\n",
       "      <td>Action</td>\n",
       "    </tr>\n",
       "    <tr>\n",
       "      <th>4</th>\n",
       "      <td>11</td>\n",
       "      <td>Adventure</td>\n",
       "    </tr>\n",
       "  </tbody>\n",
       "</table>\n",
       "</div>"
      ],
      "text/plain": [
       "   movie_id            genre\n",
       "0         5            Crime\n",
       "1         5           Comedy\n",
       "2        11  Science Fiction\n",
       "3        11           Action\n",
       "4        11        Adventure"
      ]
     },
     "execution_count": 2,
     "metadata": {},
     "output_type": "execute_result"
    }
   ],
   "source": [
    "movieGen = pd.read_pickle('movie_to_genres.p')\n",
    "movieGen.head()"
   ]
  },
  {
   "cell_type": "code",
   "execution_count": 3,
   "metadata": {},
   "outputs": [
    {
     "data": {
      "text/html": [
       "<div>\n",
       "<style scoped>\n",
       "    .dataframe tbody tr th:only-of-type {\n",
       "        vertical-align: middle;\n",
       "    }\n",
       "\n",
       "    .dataframe tbody tr th {\n",
       "        vertical-align: top;\n",
       "    }\n",
       "\n",
       "    .dataframe thead th {\n",
       "        text-align: right;\n",
       "    }\n",
       "</style>\n",
       "<table border=\"1\" class=\"dataframe\">\n",
       "  <thead>\n",
       "    <tr style=\"text-align: right;\">\n",
       "      <th></th>\n",
       "      <th>id</th>\n",
       "      <th>budget</th>\n",
       "      <th>revenue</th>\n",
       "    </tr>\n",
       "  </thead>\n",
       "  <tbody>\n",
       "    <tr>\n",
       "      <th>0</th>\n",
       "      <td>19995</td>\n",
       "      <td>237000000</td>\n",
       "      <td>2.787965e+09</td>\n",
       "    </tr>\n",
       "    <tr>\n",
       "      <th>1</th>\n",
       "      <td>285</td>\n",
       "      <td>300000000</td>\n",
       "      <td>9.610000e+08</td>\n",
       "    </tr>\n",
       "    <tr>\n",
       "      <th>2</th>\n",
       "      <td>206647</td>\n",
       "      <td>245000000</td>\n",
       "      <td>8.806746e+08</td>\n",
       "    </tr>\n",
       "    <tr>\n",
       "      <th>3</th>\n",
       "      <td>49026</td>\n",
       "      <td>250000000</td>\n",
       "      <td>1.084939e+09</td>\n",
       "    </tr>\n",
       "    <tr>\n",
       "      <th>4</th>\n",
       "      <td>49529</td>\n",
       "      <td>260000000</td>\n",
       "      <td>2.841391e+08</td>\n",
       "    </tr>\n",
       "  </tbody>\n",
       "</table>\n",
       "</div>"
      ],
      "text/plain": [
       "       id     budget       revenue\n",
       "0   19995  237000000  2.787965e+09\n",
       "1     285  300000000  9.610000e+08\n",
       "2  206647  245000000  8.806746e+08\n",
       "3   49026  250000000  1.084939e+09\n",
       "4   49529  260000000  2.841391e+08"
      ]
     },
     "execution_count": 3,
     "metadata": {},
     "output_type": "execute_result"
    }
   ],
   "source": [
    "financial = pd.read_pickle('financials.p')\n",
    "financial.head()"
   ]
  },
  {
   "cell_type": "code",
   "execution_count": 4,
   "metadata": {},
   "outputs": [
    {
     "data": {
      "text/html": [
       "<div>\n",
       "<style scoped>\n",
       "    .dataframe tbody tr th:only-of-type {\n",
       "        vertical-align: middle;\n",
       "    }\n",
       "\n",
       "    .dataframe tbody tr th {\n",
       "        vertical-align: top;\n",
       "    }\n",
       "\n",
       "    .dataframe thead th {\n",
       "        text-align: right;\n",
       "    }\n",
       "</style>\n",
       "<table border=\"1\" class=\"dataframe\">\n",
       "  <thead>\n",
       "    <tr style=\"text-align: right;\">\n",
       "      <th></th>\n",
       "      <th>id</th>\n",
       "      <th>title</th>\n",
       "      <th>sequel</th>\n",
       "    </tr>\n",
       "  </thead>\n",
       "  <tbody>\n",
       "    <tr>\n",
       "      <th>0</th>\n",
       "      <td>19995</td>\n",
       "      <td>Avatar</td>\n",
       "      <td>&lt;NA&gt;</td>\n",
       "    </tr>\n",
       "    <tr>\n",
       "      <th>1</th>\n",
       "      <td>862</td>\n",
       "      <td>Toy Story</td>\n",
       "      <td>863</td>\n",
       "    </tr>\n",
       "    <tr>\n",
       "      <th>2</th>\n",
       "      <td>863</td>\n",
       "      <td>Toy Story 2</td>\n",
       "      <td>10193</td>\n",
       "    </tr>\n",
       "    <tr>\n",
       "      <th>3</th>\n",
       "      <td>597</td>\n",
       "      <td>Titanic</td>\n",
       "      <td>&lt;NA&gt;</td>\n",
       "    </tr>\n",
       "    <tr>\n",
       "      <th>4</th>\n",
       "      <td>24428</td>\n",
       "      <td>The Avengers</td>\n",
       "      <td>&lt;NA&gt;</td>\n",
       "    </tr>\n",
       "  </tbody>\n",
       "</table>\n",
       "</div>"
      ],
      "text/plain": [
       "      id         title  sequel\n",
       "0  19995        Avatar    <NA>\n",
       "1    862     Toy Story     863\n",
       "2    863   Toy Story 2   10193\n",
       "3    597       Titanic    <NA>\n",
       "4  24428  The Avengers    <NA>"
      ]
     },
     "execution_count": 4,
     "metadata": {},
     "output_type": "execute_result"
    }
   ],
   "source": [
    "sequels = pd.read_pickle('sequels.p')\n",
    "sequels.head()"
   ]
  },
  {
   "cell_type": "code",
   "execution_count": 5,
   "metadata": {},
   "outputs": [
    {
     "data": {
      "text/html": [
       "<div>\n",
       "<style scoped>\n",
       "    .dataframe tbody tr th:only-of-type {\n",
       "        vertical-align: middle;\n",
       "    }\n",
       "\n",
       "    .dataframe tbody tr th {\n",
       "        vertical-align: top;\n",
       "    }\n",
       "\n",
       "    .dataframe thead th {\n",
       "        text-align: right;\n",
       "    }\n",
       "</style>\n",
       "<table border=\"1\" class=\"dataframe\">\n",
       "  <thead>\n",
       "    <tr style=\"text-align: right;\">\n",
       "      <th></th>\n",
       "      <th>id</th>\n",
       "      <th>vote_average</th>\n",
       "      <th>vote_count</th>\n",
       "    </tr>\n",
       "  </thead>\n",
       "  <tbody>\n",
       "    <tr>\n",
       "      <th>0</th>\n",
       "      <td>19995</td>\n",
       "      <td>7.2</td>\n",
       "      <td>11800.0</td>\n",
       "    </tr>\n",
       "    <tr>\n",
       "      <th>1</th>\n",
       "      <td>285</td>\n",
       "      <td>6.9</td>\n",
       "      <td>4500.0</td>\n",
       "    </tr>\n",
       "    <tr>\n",
       "      <th>2</th>\n",
       "      <td>206647</td>\n",
       "      <td>6.3</td>\n",
       "      <td>4466.0</td>\n",
       "    </tr>\n",
       "    <tr>\n",
       "      <th>3</th>\n",
       "      <td>49026</td>\n",
       "      <td>7.6</td>\n",
       "      <td>9106.0</td>\n",
       "    </tr>\n",
       "    <tr>\n",
       "      <th>4</th>\n",
       "      <td>49529</td>\n",
       "      <td>6.1</td>\n",
       "      <td>2124.0</td>\n",
       "    </tr>\n",
       "  </tbody>\n",
       "</table>\n",
       "</div>"
      ],
      "text/plain": [
       "       id  vote_average  vote_count\n",
       "0   19995           7.2     11800.0\n",
       "1     285           6.9      4500.0\n",
       "2  206647           6.3      4466.0\n",
       "3   49026           7.6      9106.0\n",
       "4   49529           6.1      2124.0"
      ]
     },
     "execution_count": 5,
     "metadata": {},
     "output_type": "execute_result"
    }
   ],
   "source": [
    "ratings = pd.read_pickle('ratings.p')\n",
    "ratings.head()"
   ]
  },
  {
   "cell_type": "code",
   "execution_count": 6,
   "metadata": {},
   "outputs": [
    {
     "data": {
      "text/html": [
       "<div>\n",
       "<style scoped>\n",
       "    .dataframe tbody tr th:only-of-type {\n",
       "        vertical-align: middle;\n",
       "    }\n",
       "\n",
       "    .dataframe tbody tr th {\n",
       "        vertical-align: top;\n",
       "    }\n",
       "\n",
       "    .dataframe thead th {\n",
       "        text-align: right;\n",
       "    }\n",
       "</style>\n",
       "<table border=\"1\" class=\"dataframe\">\n",
       "  <thead>\n",
       "    <tr style=\"text-align: right;\">\n",
       "      <th></th>\n",
       "      <th>Actor</th>\n",
       "      <th>Title</th>\n",
       "    </tr>\n",
       "  </thead>\n",
       "  <tbody>\n",
       "    <tr>\n",
       "      <th>0</th>\n",
       "      <td>[Emil Eifrem,Hugo Weaving,Laurence Fishburne,C...</td>\n",
       "      <td>The Matrix</td>\n",
       "    </tr>\n",
       "    <tr>\n",
       "      <th>1</th>\n",
       "      <td>[Hugo Weaving,Laurence Fishburne,Carrie-Anne M...</td>\n",
       "      <td>The Matrix Reloaded</td>\n",
       "    </tr>\n",
       "    <tr>\n",
       "      <th>2</th>\n",
       "      <td>[Hugo Weaving,Laurence Fishburne,Carrie-Anne M...</td>\n",
       "      <td>The Matrix Revolutions</td>\n",
       "    </tr>\n",
       "    <tr>\n",
       "      <th>3</th>\n",
       "      <td>[Al Pacino,Charlize Theron,Keanu Reeves]</td>\n",
       "      <td>The Devil's Advocate</td>\n",
       "    </tr>\n",
       "    <tr>\n",
       "      <th>4</th>\n",
       "      <td>[James Marshall,Kevin Pollak,J.T. Walsh,Aaron ...</td>\n",
       "      <td>A Few Good Men</td>\n",
       "    </tr>\n",
       "  </tbody>\n",
       "</table>\n",
       "</div>"
      ],
      "text/plain": [
       "                                               Actor                   Title\n",
       "0  [Emil Eifrem,Hugo Weaving,Laurence Fishburne,C...              The Matrix\n",
       "1  [Hugo Weaving,Laurence Fishburne,Carrie-Anne M...     The Matrix Reloaded\n",
       "2  [Hugo Weaving,Laurence Fishburne,Carrie-Anne M...  The Matrix Revolutions\n",
       "3           [Al Pacino,Charlize Theron,Keanu Reeves]    The Devil's Advocate\n",
       "4  [James Marshall,Kevin Pollak,J.T. Walsh,Aaron ...          A Few Good Men"
      ]
     },
     "execution_count": 6,
     "metadata": {},
     "output_type": "execute_result"
    }
   ],
   "source": [
    "actors = pd.read_csv('actors_movies.csv')\n",
    "actors.head()"
   ]
  },
  {
   "cell_type": "markdown",
   "metadata": {
    "id": "-jjKZQ6kdqpI"
   },
   "source": [
    "\n",
    "\n",
    "---\n",
    "\n"
   ]
  },
  {
   "cell_type": "markdown",
   "metadata": {
    "id": "eFfL0GLgd0eS"
   },
   "source": [
    "## Anàlisis de la popularitat"
   ]
  },
  {
   "cell_type": "markdown",
   "metadata": {
    "id": "ksau8-nuRwBw"
   },
   "source": [
    "L'empresa creu que durant els darrers anys les pel·lícules tenen menys popularitat. Vol que ho comprovem gràficament"
   ]
  },
  {
   "cell_type": "markdown",
   "metadata": {
    "id": "5edNSsW-WuJZ"
   },
   "source": [
    "Primer de tot importarem el nostre dataset i analitzarem les seves dades bàsiques ¿Quina es la popularitat mitja i la més alta?"
   ]
  },
  {
   "cell_type": "code",
   "execution_count": 7,
   "metadata": {
    "id": "mKmQ-4DBSf1O"
   },
   "outputs": [
    {
     "name": "stdout",
     "output_type": "stream",
     "text": [
      "la mitja es : 12.921594\n",
      "la mes alta es : 875.581305\n"
     ]
    }
   ],
   "source": [
    "#Analitzem el dataset movies, el tipus de les seves variables, el seu tamany i els seus estadístics bàsics\n",
    "moviesMedia = movies['popularity']\n",
    "\n",
    "print(f'la mitja es : {moviesMedia.median()}')\n",
    "print(f'la mes alta es : {moviesMedia.max()}')"
   ]
  },
  {
   "cell_type": "markdown",
   "metadata": {
    "id": "Fmu-tJlZW50w"
   },
   "source": [
    "Necessitem treballar amb el camp release_date com a datatime, així que transformem la columna i ho comprovem. ¿De quin fins a quin any tenim dades?"
   ]
  },
  {
   "cell_type": "code",
   "execution_count": 8,
   "metadata": {
    "id": "eb7Fw4xBTQtF"
   },
   "outputs": [
    {
     "name": "stdout",
     "output_type": "stream",
     "text": [
      "2017.0\n",
      "1916.0\n"
     ]
    }
   ],
   "source": [
    "#Necessitem treballar amb el camp release_date com a datatime, així que creem la columna year i ho comprovem\n",
    "pulls = pd.concat([movies])\n",
    "pulls.shape\n",
    "pulls['release_date'] = pd.to_datetime(pulls['release_date'], utc = True)\n",
    "\n",
    "movies['year'] = pulls['release_date'].dt.year\n",
    "movies.head()\n",
    "# Observem max i min\n",
    "print(movies['year'].max())\n",
    "print(movies['year'].min())"
   ]
  },
  {
   "cell_type": "markdown",
   "metadata": {
    "id": "zlx23c1tVfZv"
   },
   "source": [
    "L'empresa considera que els gustos han canviat molt durant els últims anys, aixi que nomès l'interessen les dades desde el 2010. ¿De cuàntes dades disposem? ¿De cuàntes dades disposem?"
   ]
  },
  {
   "cell_type": "code",
   "execution_count": 9,
   "metadata": {
    "id": "TTk3fB7dVr4Y"
   },
   "outputs": [
    {
     "data": {
      "text/plain": [
       "(1446, 5)"
      ]
     },
     "execution_count": 9,
     "metadata": {},
     "output_type": "execute_result"
    }
   ],
   "source": [
    "#Filtrem el nostre dataset\n",
    "dateYear = movies.query('year >= 2010')\n",
    "\n",
    "dateYear.shape"
   ]
  },
  {
   "cell_type": "markdown",
   "metadata": {
    "id": "H_Bv9BqYWNHG"
   },
   "source": [
    "Pasem a mostrar la linea temporal de com ha variat la popularitat durant els darrers anys. "
   ]
  },
  {
   "cell_type": "code",
   "execution_count": 10,
   "metadata": {
    "id": "mw1ahFnbXjF5"
   },
   "outputs": [
    {
     "data": {
      "text/plain": [
       "<AxesSubplot:title={'center':'popularidad x año'}, xlabel='year'>"
      ]
     },
     "execution_count": 10,
     "metadata": {},
     "output_type": "execute_result"
    },
    {
     "data": {
      "image/png": "[encoded data removed]",
      "text/plain": [
       "<Figure size 640x480 with 1 Axes>"
      ]
     },
     "metadata": {},
     "output_type": "display_data"
    }
   ],
   "source": [
    "# Import matplotlib.pyplot with alias plt\n",
    "import matplotlib.pyplot as plt\n",
    "\n",
    "#Agrupem per any i obtenim la suma de la popularitat\n",
    "dataYearPolulari = movies.groupby(['year'])['popularity'].sum()\n",
    "\n",
    "#mostre la variació temporal\n",
    "dataYearPolulari. plot(kind='line',x='year', y= 'popularity',title='popularidad x año')"
   ]
  },
  {
   "cell_type": "markdown",
   "metadata": {
    "id": "lzi7MbGGbcog"
   },
   "source": [
    "¿Què passa al 2017, quin és el motiu? Igualment aquesta devadalla és molt extranya, és probalble a que en alguns anys s'hagin realitzat moltes més pel·lícules i que per aquesta raó la mitja sigui molt més alta. Anem a fer el mateix procediment amb la mitja"
   ]
  },
  {
   "cell_type": "code",
   "execution_count": 11,
   "metadata": {
    "id": "jz2Vlvcra3Gb"
   },
   "outputs": [
    {
     "data": {
      "text/plain": [
       "<AxesSubplot:title={'center':'media d popularidad x año de peliculas'}, xlabel='year'>"
      ]
     },
     "execution_count": 11,
     "metadata": {},
     "output_type": "execute_result"
    },
    {
     "data": {
      "image/png": "[encoded data removed]",
      "text/plain": [
       "<Figure size 640x480 with 1 Axes>"
      ]
     },
     "metadata": {},
     "output_type": "display_data"
    }
   ],
   "source": [
    "# Agrupem i obtenir la mitja de la popularitat (no tenim en compte 2017)\n",
    "\n",
    "groupMediaPopu = dateYear.query('year < 2017')\n",
    "groupMediaPopu = groupMediaPopu.groupby(['year'])['popularity'].mean()\n",
    "\n",
    "\n",
    "#mostre la variació temporal\n",
    "groupMediaPopu.plot(kind='line',x='year', y= 'popularity', title = 'media d popularidad x año de peliculas')\n"
   ]
  },
  {
   "cell_type": "markdown",
   "metadata": {
    "id": "urNiGKischuo"
   },
   "source": [
    "### Resposta 1. Estan perdent popularitat les pel·lìcules?"
   ]
  },
  {
   "cell_type": "markdown",
   "metadata": {},
   "source": [
    "si, el 2017 les peliculas van perde popularitat respecte als any anteriors."
   ]
  },
  {
   "cell_type": "markdown",
   "metadata": {
    "id": "lvbj5tyoeAc5"
   },
   "source": [
    "\n",
    "\n",
    "---\n",
    "\n"
   ]
  },
  {
   "cell_type": "markdown",
   "metadata": {
    "id": "JzGK-NJBeBaQ"
   },
   "source": [
    "## Anàlisis del rating"
   ]
  },
  {
   "cell_type": "markdown",
   "metadata": {
    "id": "J0bfJeE4eKm7"
   },
   "source": [
    "Un cop decidit que val la pena realitzar una pel·lìcula, haurem de valorar de quina gènere val la pena en funció de la seva valoració. Primer de tot mostrarem la puntuació mitja de les pel·lícules i les 10 pel·lìcules més valorades. Mostra únicament el nom i el títol de la pel·lìcula ( i el index que surt per defecte)"
   ]
  },
  {
   "cell_type": "code",
   "execution_count": 12,
   "metadata": {
    "id": "-uK80eM7e2NF"
   },
   "outputs": [
    {
     "data": {
      "text/plain": [
       "3998                    Whiplash\n",
       "3172                        Room\n",
       "32                     Inception\n",
       "4343                Interstellar\n",
       "1440          The Imitation Game\n",
       "353                   Inside Out\n",
       "2952    The Grand Budapest Hotel\n",
       "4717            12 Years a Slave\n",
       "2423     Guardians of the Galaxy\n",
       "4758                   Gone Girl\n",
       "Name: title, dtype: object"
      ]
     },
     "execution_count": 12,
     "metadata": {},
     "output_type": "execute_result"
    }
   ],
   "source": [
    "#Haurem de fer una join entre els dos datasets implicats (recordar que nomès ens interesa pel·lìcules a partir del 2010)\n",
    "dataMovieAndRatings = movies.merge(ratings, on = 'id')\n",
    "# Nomès ens interessa les grans produccions, pel·lìcules amb més de 60k de popularitat i més de 2000 valoracions\n",
    "dataYearPopuVote = dataMovieAndRatings.query('year >= 2010 and popularity > 60.000 and vote_count > 2000')\n",
    "#Mostrem pel·lìcules\n",
    "dataYearPopuVote.sort_values(by = 'vote_average', ascending = False)['title'][0:10]"
   ]
  },
  {
   "cell_type": "markdown",
   "metadata": {
    "id": "ZEZl2NK8inHM"
   },
   "source": [
    "De les pel·lìcules que ens interessa pel nostre anàlisis ( més de 60k de popularitat i més de 2000 valoracions) obtindrem el seu gènere per mostra gràficament la mitja per gènere."
   ]
  },
  {
   "cell_type": "code",
   "execution_count": 13,
   "metadata": {
    "id": "J44IKYUHjAHa"
   },
   "outputs": [
    {
     "data": {
      "text/html": [
       "<div>\n",
       "<style scoped>\n",
       "    .dataframe tbody tr th:only-of-type {\n",
       "        vertical-align: middle;\n",
       "    }\n",
       "\n",
       "    .dataframe tbody tr th {\n",
       "        vertical-align: top;\n",
       "    }\n",
       "\n",
       "    .dataframe thead th {\n",
       "        text-align: right;\n",
       "    }\n",
       "</style>\n",
       "<table border=\"1\" class=\"dataframe\">\n",
       "  <thead>\n",
       "    <tr style=\"text-align: right;\">\n",
       "      <th></th>\n",
       "      <th>id</th>\n",
       "      <th>title</th>\n",
       "      <th>popularity</th>\n",
       "      <th>release_date</th>\n",
       "      <th>year</th>\n",
       "      <th>vote_average</th>\n",
       "      <th>vote_count</th>\n",
       "      <th>movie_id</th>\n",
       "      <th>genre</th>\n",
       "    </tr>\n",
       "  </thead>\n",
       "  <tbody>\n",
       "    <tr>\n",
       "      <th>18</th>\n",
       "      <td>76757</td>\n",
       "      <td>Jupiter Ascending</td>\n",
       "      <td>85.369080</td>\n",
       "      <td>2015-02-04</td>\n",
       "      <td>2015.0</td>\n",
       "      <td>5.2</td>\n",
       "      <td>2768.0</td>\n",
       "      <td>76757</td>\n",
       "      <td>Adventure</td>\n",
       "    </tr>\n",
       "    <tr>\n",
       "      <th>19</th>\n",
       "      <td>76757</td>\n",
       "      <td>Jupiter Ascending</td>\n",
       "      <td>85.369080</td>\n",
       "      <td>2015-02-04</td>\n",
       "      <td>2015.0</td>\n",
       "      <td>5.2</td>\n",
       "      <td>2768.0</td>\n",
       "      <td>76757</td>\n",
       "      <td>Fantasy</td>\n",
       "    </tr>\n",
       "    <tr>\n",
       "      <th>20</th>\n",
       "      <td>76757</td>\n",
       "      <td>Jupiter Ascending</td>\n",
       "      <td>85.369080</td>\n",
       "      <td>2015-02-04</td>\n",
       "      <td>2015.0</td>\n",
       "      <td>5.2</td>\n",
       "      <td>2768.0</td>\n",
       "      <td>76757</td>\n",
       "      <td>Action</td>\n",
       "    </tr>\n",
       "    <tr>\n",
       "      <th>21</th>\n",
       "      <td>76757</td>\n",
       "      <td>Jupiter Ascending</td>\n",
       "      <td>85.369080</td>\n",
       "      <td>2015-02-04</td>\n",
       "      <td>2015.0</td>\n",
       "      <td>5.2</td>\n",
       "      <td>2768.0</td>\n",
       "      <td>76757</td>\n",
       "      <td>Science Fiction</td>\n",
       "    </tr>\n",
       "    <tr>\n",
       "      <th>76</th>\n",
       "      <td>27205</td>\n",
       "      <td>Inception</td>\n",
       "      <td>167.583710</td>\n",
       "      <td>2010-07-14</td>\n",
       "      <td>2010.0</td>\n",
       "      <td>8.1</td>\n",
       "      <td>13752.0</td>\n",
       "      <td>27205</td>\n",
       "      <td>Mystery</td>\n",
       "    </tr>\n",
       "    <tr>\n",
       "      <th>...</th>\n",
       "      <td>...</td>\n",
       "      <td>...</td>\n",
       "      <td>...</td>\n",
       "      <td>...</td>\n",
       "      <td>...</td>\n",
       "      <td>...</td>\n",
       "      <td>...</td>\n",
       "      <td>...</td>\n",
       "      <td>...</td>\n",
       "    </tr>\n",
       "    <tr>\n",
       "      <th>12116</th>\n",
       "      <td>82690</td>\n",
       "      <td>Wreck-It Ralph</td>\n",
       "      <td>62.341073</td>\n",
       "      <td>2012-11-01</td>\n",
       "      <td>2012.0</td>\n",
       "      <td>7.1</td>\n",
       "      <td>4570.0</td>\n",
       "      <td>82690</td>\n",
       "      <td>Comedy</td>\n",
       "    </tr>\n",
       "    <tr>\n",
       "      <th>12117</th>\n",
       "      <td>82690</td>\n",
       "      <td>Wreck-It Ralph</td>\n",
       "      <td>62.341073</td>\n",
       "      <td>2012-11-01</td>\n",
       "      <td>2012.0</td>\n",
       "      <td>7.1</td>\n",
       "      <td>4570.0</td>\n",
       "      <td>82690</td>\n",
       "      <td>Adventure</td>\n",
       "    </tr>\n",
       "    <tr>\n",
       "      <th>12118</th>\n",
       "      <td>82690</td>\n",
       "      <td>Wreck-It Ralph</td>\n",
       "      <td>62.341073</td>\n",
       "      <td>2012-11-01</td>\n",
       "      <td>2012.0</td>\n",
       "      <td>7.1</td>\n",
       "      <td>4570.0</td>\n",
       "      <td>82690</td>\n",
       "      <td>Family</td>\n",
       "    </tr>\n",
       "    <tr>\n",
       "      <th>12143</th>\n",
       "      <td>64682</td>\n",
       "      <td>The Great Gatsby</td>\n",
       "      <td>61.196071</td>\n",
       "      <td>2013-05-10</td>\n",
       "      <td>2013.0</td>\n",
       "      <td>7.3</td>\n",
       "      <td>3769.0</td>\n",
       "      <td>64682</td>\n",
       "      <td>Romance</td>\n",
       "    </tr>\n",
       "    <tr>\n",
       "      <th>12144</th>\n",
       "      <td>64682</td>\n",
       "      <td>The Great Gatsby</td>\n",
       "      <td>61.196071</td>\n",
       "      <td>2013-05-10</td>\n",
       "      <td>2013.0</td>\n",
       "      <td>7.3</td>\n",
       "      <td>3769.0</td>\n",
       "      <td>64682</td>\n",
       "      <td>Drama</td>\n",
       "    </tr>\n",
       "  </tbody>\n",
       "</table>\n",
       "<p>423 rows × 9 columns</p>\n",
       "</div>"
      ],
      "text/plain": [
       "          id              title  popularity release_date    year  \\\n",
       "18     76757  Jupiter Ascending   85.369080   2015-02-04  2015.0   \n",
       "19     76757  Jupiter Ascending   85.369080   2015-02-04  2015.0   \n",
       "20     76757  Jupiter Ascending   85.369080   2015-02-04  2015.0   \n",
       "21     76757  Jupiter Ascending   85.369080   2015-02-04  2015.0   \n",
       "76     27205          Inception  167.583710   2010-07-14  2010.0   \n",
       "...      ...                ...         ...          ...     ...   \n",
       "12116  82690     Wreck-It Ralph   62.341073   2012-11-01  2012.0   \n",
       "12117  82690     Wreck-It Ralph   62.341073   2012-11-01  2012.0   \n",
       "12118  82690     Wreck-It Ralph   62.341073   2012-11-01  2012.0   \n",
       "12143  64682   The Great Gatsby   61.196071   2013-05-10  2013.0   \n",
       "12144  64682   The Great Gatsby   61.196071   2013-05-10  2013.0   \n",
       "\n",
       "       vote_average  vote_count  movie_id            genre  \n",
       "18              5.2      2768.0     76757        Adventure  \n",
       "19              5.2      2768.0     76757          Fantasy  \n",
       "20              5.2      2768.0     76757           Action  \n",
       "21              5.2      2768.0     76757  Science Fiction  \n",
       "76              8.1     13752.0     27205          Mystery  \n",
       "...             ...         ...       ...              ...  \n",
       "12116           7.1      4570.0     82690           Comedy  \n",
       "12117           7.1      4570.0     82690        Adventure  \n",
       "12118           7.1      4570.0     82690           Family  \n",
       "12143           7.3      3769.0     64682          Romance  \n",
       "12144           7.3      3769.0     64682            Drama  \n",
       "\n",
       "[423 rows x 9 columns]"
      ]
     },
     "metadata": {},
     "output_type": "display_data"
    }
   ],
   "source": [
    "#Mirem primer el tamany del nostre dataset filtrar\n",
    "dataYearPopuVote.shape\n",
    "\n",
    "#Realitzem la join\n",
    "dataMoviesRatingGenre =  dataMovieAndRatings.merge(movieGen, left_on='id', right_on='movie_id')\n",
    "analisis = dataMoviesRatingGenre.query('year >= 2010 and popularity > 60.000 and vote_count > 2000')\n",
    "#Mirem el tamany del data set resultant\n",
    "\n",
    "display(analisis)"
   ]
  },
  {
   "cell_type": "markdown",
   "metadata": {
    "id": "03F5FUc1j338"
   },
   "source": [
    "¿Quin és el motiu que els tamany dels dataset siguin diferents?"
   ]
  },
  {
   "cell_type": "markdown",
   "metadata": {},
   "source": [
    "las pelicules pertenecen a diferentes generos y para cada genero tiene su puntuacion."
   ]
  },
  {
   "cell_type": "code",
   "execution_count": 14,
   "metadata": {
    "id": "SX8wxEJ-kBKU"
   },
   "outputs": [
    {
     "data": {
      "text/plain": [
       "<AxesSubplot:title={'center':'total peliculas x genero'}, xlabel='genre'>"
      ]
     },
     "execution_count": 14,
     "metadata": {},
     "output_type": "execute_result"
    },
    {
     "data": {
      "image/png": "[encoded data removed]",
      "text/plain": [
       "<Figure size 640x480 with 1 Axes>"
      ]
     },
     "metadata": {},
     "output_type": "display_data"
    }
   ],
   "source": [
    "#Mostrem gràfic de barres per gènere\n",
    "countAllFilmGen = analisis.groupby('genre')['id'].count()\n",
    "\n",
    "countAllFilmGen.plot(kind = 'bar', title = 'total peliculas x genero' )"
   ]
  },
  {
   "cell_type": "markdown",
   "metadata": {
    "id": "jUhXiPgpk3fQ"
   },
   "source": [
    "¿Quins son el tres gèneres amb millor valoració?"
   ]
  },
  {
   "cell_type": "markdown",
   "metadata": {},
   "source": [
    "action, adventure y scince fiction."
   ]
  },
  {
   "cell_type": "code",
   "execution_count": 15,
   "metadata": {
    "id": "LmR_w1tmlXwI"
   },
   "outputs": [
    {
     "data": {
      "text/plain": [
       "genre\n",
       "History            7.950000\n",
       "Western            7.566667\n",
       "Drama              7.238636\n",
       "Crime              7.100000\n",
       "Mystery            7.075000\n",
       "War                7.020000\n",
       "Animation          6.986667\n",
       "Family             6.921053\n",
       "Thriller           6.836842\n",
       "Comedy             6.808333\n",
       "Science Fiction    6.762745\n",
       "Adventure          6.718056\n",
       "Action             6.665385\n",
       "Romance            6.660000\n",
       "Horror             6.466667\n",
       "Fantasy            6.454545\n",
       "Name: vote_average, dtype: float64"
      ]
     },
     "execution_count": 15,
     "metadata": {},
     "output_type": "execute_result"
    }
   ],
   "source": [
    "# Mostrem gènres amb millor valoració\n",
    "topGeneroValoracion = analisis.groupby(['genre'])['vote_average'].mean()\n",
    "topGeneroValoracion.sort_values(ascending=False)"
   ]
  },
  {
   "cell_type": "markdown",
   "metadata": {
    "id": "-7v8_Y9ClsFN"
   },
   "source": [
    "\n",
    "\n",
    "---\n",
    "\n"
   ]
  },
  {
   "cell_type": "markdown",
   "metadata": {
    "id": "75OEpuUTltKI"
   },
   "source": [
    "## Anàlisis econòmic"
   ]
  },
  {
   "cell_type": "markdown",
   "metadata": {
    "id": "hKyKQRHBl3CW"
   },
   "source": [
    "Observa el dataset financial i els seus estadìstics bàsics. ¿Quin és el pressupost i els ingressos promig?¿Sembla rentable fer una pel·lìcula?"
   ]
  },
  {
   "cell_type": "code",
   "execution_count": 16,
   "metadata": {
    "id": "OZS83L_nl9kG"
   },
   "outputs": [
    {
     "name": "stdout",
     "output_type": "stream",
     "text": [
      "40654444.774233505\n"
     ]
    }
   ],
   "source": [
    "#Observem dataset financials\n",
    "print(financial['budget'].mean())"
   ]
  },
  {
   "cell_type": "code",
   "execution_count": 17,
   "metadata": {},
   "outputs": [
    {
     "name": "stdout",
     "output_type": "stream",
     "text": [
      "121242957.26138124\n"
     ]
    }
   ],
   "source": [
    "print(financial['revenue'].mean())"
   ]
  },
  {
   "cell_type": "markdown",
   "metadata": {},
   "source": [
    "saben que el preu promig de las peliculas ronda els 40 milins y els ingresos promig son de 121 milins, si es rentable fer una pelicula.\n"
   ]
  },
  {
   "cell_type": "markdown",
   "metadata": {
    "id": "44i67OeynFMy"
   },
   "source": [
    "Mostra la distribució (histograma) del pressupost de les pel·lícules. ¿La majoria de pel·lìcules son de baix o alt pressupost?"
   ]
  },
  {
   "cell_type": "code",
   "execution_count": 18,
   "metadata": {
    "id": "c3fZsIwLnD6_"
   },
   "outputs": [
    {
     "data": {
      "text/plain": [
       "<AxesSubplot:>"
      ]
     },
     "execution_count": 18,
     "metadata": {},
     "output_type": "execute_result"
    },
    {
     "data": {
      "image/png": "[encoded data removed]",
      "text/plain": [
       "<Figure size 640x480 with 1 Axes>"
      ]
     },
     "metadata": {},
     "output_type": "display_data"
    }
   ],
   "source": [
    "# Histograma\n",
    "financial['budget'].hist(bins= 100)"
   ]
  },
  {
   "cell_type": "markdown",
   "metadata": {},
   "source": [
    "La gran mayoria de les peliculas son de baix presupost."
   ]
  },
  {
   "cell_type": "markdown",
   "metadata": {
    "id": "416cL5ECmptg"
   },
   "source": [
    "Volem mostrar ( nom inclòs) les pel·lìcules les 5 pel·lícules mès profitosses i les 5 més deficitàries de la historia."
   ]
  },
  {
   "cell_type": "code",
   "execution_count": 19,
   "metadata": {
    "id": "L1HpdWZ6m8l7"
   },
   "outputs": [
    {
     "data": {
      "text/html": [
       "<div>\n",
       "<style scoped>\n",
       "    .dataframe tbody tr th:only-of-type {\n",
       "        vertical-align: middle;\n",
       "    }\n",
       "\n",
       "    .dataframe tbody tr th {\n",
       "        vertical-align: top;\n",
       "    }\n",
       "\n",
       "    .dataframe thead th {\n",
       "        text-align: right;\n",
       "    }\n",
       "</style>\n",
       "<table border=\"1\" class=\"dataframe\">\n",
       "  <thead>\n",
       "    <tr style=\"text-align: right;\">\n",
       "      <th></th>\n",
       "      <th>id</th>\n",
       "      <th>title</th>\n",
       "      <th>popularity</th>\n",
       "      <th>release_date</th>\n",
       "      <th>year</th>\n",
       "      <th>budget</th>\n",
       "      <th>revenue</th>\n",
       "      <th>profit</th>\n",
       "    </tr>\n",
       "  </thead>\n",
       "  <tbody>\n",
       "    <tr>\n",
       "      <th>20</th>\n",
       "      <td>19995</td>\n",
       "      <td>Avatar</td>\n",
       "      <td>150.437577</td>\n",
       "      <td>2009-12-10</td>\n",
       "      <td>2009.0</td>\n",
       "      <td>237000000</td>\n",
       "      <td>2.787965e+09</td>\n",
       "      <td>2.550965e+09</td>\n",
       "    </tr>\n",
       "    <tr>\n",
       "      <th>2473</th>\n",
       "      <td>597</td>\n",
       "      <td>Titanic</td>\n",
       "      <td>100.025899</td>\n",
       "      <td>1997-11-18</td>\n",
       "      <td>1997.0</td>\n",
       "      <td>200000000</td>\n",
       "      <td>1.845034e+09</td>\n",
       "      <td>1.645034e+09</td>\n",
       "    </tr>\n",
       "    <tr>\n",
       "      <th>1241</th>\n",
       "      <td>135397</td>\n",
       "      <td>Jurassic World</td>\n",
       "      <td>418.708552</td>\n",
       "      <td>2015-06-09</td>\n",
       "      <td>2015.0</td>\n",
       "      <td>150000000</td>\n",
       "      <td>1.513529e+09</td>\n",
       "      <td>1.363529e+09</td>\n",
       "    </tr>\n",
       "    <tr>\n",
       "      <th>977</th>\n",
       "      <td>168259</td>\n",
       "      <td>Furious 7</td>\n",
       "      <td>102.322217</td>\n",
       "      <td>2015-04-01</td>\n",
       "      <td>2015.0</td>\n",
       "      <td>190000000</td>\n",
       "      <td>1.506249e+09</td>\n",
       "      <td>1.316249e+09</td>\n",
       "    </tr>\n",
       "    <tr>\n",
       "      <th>414</th>\n",
       "      <td>24428</td>\n",
       "      <td>The Avengers</td>\n",
       "      <td>144.448633</td>\n",
       "      <td>2012-04-25</td>\n",
       "      <td>2012.0</td>\n",
       "      <td>220000000</td>\n",
       "      <td>1.519558e+09</td>\n",
       "      <td>1.299558e+09</td>\n",
       "    </tr>\n",
       "  </tbody>\n",
       "</table>\n",
       "</div>"
      ],
      "text/plain": [
       "          id           title  popularity release_date    year     budget  \\\n",
       "20     19995          Avatar  150.437577   2009-12-10  2009.0  237000000   \n",
       "2473     597         Titanic  100.025899   1997-11-18  1997.0  200000000   \n",
       "1241  135397  Jurassic World  418.708552   2015-06-09  2015.0  150000000   \n",
       "977   168259       Furious 7  102.322217   2015-04-01  2015.0  190000000   \n",
       "414    24428    The Avengers  144.448633   2012-04-25  2012.0  220000000   \n",
       "\n",
       "           revenue        profit  \n",
       "20    2.787965e+09  2.550965e+09  \n",
       "2473  1.845034e+09  1.645034e+09  \n",
       "1241  1.513529e+09  1.363529e+09  \n",
       "977   1.506249e+09  1.316249e+09  \n",
       "414   1.519558e+09  1.299558e+09  "
      ]
     },
     "metadata": {},
     "output_type": "display_data"
    },
    {
     "data": {
      "text/html": [
       "<div>\n",
       "<style scoped>\n",
       "    .dataframe tbody tr th:only-of-type {\n",
       "        vertical-align: middle;\n",
       "    }\n",
       "\n",
       "    .dataframe tbody tr th {\n",
       "        vertical-align: top;\n",
       "    }\n",
       "\n",
       "    .dataframe thead th {\n",
       "        text-align: right;\n",
       "    }\n",
       "</style>\n",
       "<table border=\"1\" class=\"dataframe\">\n",
       "  <thead>\n",
       "    <tr style=\"text-align: right;\">\n",
       "      <th></th>\n",
       "      <th>id</th>\n",
       "      <th>title</th>\n",
       "      <th>popularity</th>\n",
       "      <th>release_date</th>\n",
       "      <th>year</th>\n",
       "      <th>budget</th>\n",
       "      <th>revenue</th>\n",
       "      <th>profit</th>\n",
       "    </tr>\n",
       "  </thead>\n",
       "  <tbody>\n",
       "    <tr>\n",
       "      <th>408</th>\n",
       "      <td>57201</td>\n",
       "      <td>The Lone Ranger</td>\n",
       "      <td>49.046956</td>\n",
       "      <td>2013-07-03</td>\n",
       "      <td>2013.0</td>\n",
       "      <td>255000000</td>\n",
       "      <td>89289910.0</td>\n",
       "      <td>-165710090.0</td>\n",
       "    </tr>\n",
       "    <tr>\n",
       "      <th>206</th>\n",
       "      <td>10733</td>\n",
       "      <td>The Alamo</td>\n",
       "      <td>10.660441</td>\n",
       "      <td>2004-04-07</td>\n",
       "      <td>2004.0</td>\n",
       "      <td>145000000</td>\n",
       "      <td>25819961.0</td>\n",
       "      <td>-119180039.0</td>\n",
       "    </tr>\n",
       "    <tr>\n",
       "      <th>1498</th>\n",
       "      <td>50321</td>\n",
       "      <td>Mars Needs Moms</td>\n",
       "      <td>12.362599</td>\n",
       "      <td>2011-03-09</td>\n",
       "      <td>2011.0</td>\n",
       "      <td>150000000</td>\n",
       "      <td>38992758.0</td>\n",
       "      <td>-111007242.0</td>\n",
       "    </tr>\n",
       "    <tr>\n",
       "      <th>3213</th>\n",
       "      <td>1911</td>\n",
       "      <td>The 13th Warrior</td>\n",
       "      <td>27.220157</td>\n",
       "      <td>1999-08-27</td>\n",
       "      <td>1999.0</td>\n",
       "      <td>160000000</td>\n",
       "      <td>61698899.0</td>\n",
       "      <td>-98301101.0</td>\n",
       "    </tr>\n",
       "    <tr>\n",
       "      <th>1805</th>\n",
       "      <td>11692</td>\n",
       "      <td>The Adventures of Pluto Nash</td>\n",
       "      <td>12.092241</td>\n",
       "      <td>2002-08-15</td>\n",
       "      <td>2002.0</td>\n",
       "      <td>100000000</td>\n",
       "      <td>7103973.0</td>\n",
       "      <td>-92896027.0</td>\n",
       "    </tr>\n",
       "  </tbody>\n",
       "</table>\n",
       "</div>"
      ],
      "text/plain": [
       "         id                         title  popularity release_date    year  \\\n",
       "408   57201               The Lone Ranger   49.046956   2013-07-03  2013.0   \n",
       "206   10733                     The Alamo   10.660441   2004-04-07  2004.0   \n",
       "1498  50321               Mars Needs Moms   12.362599   2011-03-09  2011.0   \n",
       "3213   1911              The 13th Warrior   27.220157   1999-08-27  1999.0   \n",
       "1805  11692  The Adventures of Pluto Nash   12.092241   2002-08-15  2002.0   \n",
       "\n",
       "         budget     revenue       profit  \n",
       "408   255000000  89289910.0 -165710090.0  \n",
       "206   145000000  25819961.0 -119180039.0  \n",
       "1498  150000000  38992758.0 -111007242.0  \n",
       "3213  160000000  61698899.0  -98301101.0  \n",
       "1805  100000000   7103973.0  -92896027.0  "
      ]
     },
     "metadata": {},
     "output_type": "display_data"
    }
   ],
   "source": [
    "#Calculmen la columna profit\n",
    "financial['profit'] = financial['revenue']-financial['budget']\n",
    "\n",
    "\n",
    "#Merge amb movies\n",
    "mergeMoviesFinancial = movies.merge(financial, on = 'id')\n",
    "\n",
    "\n",
    "#Mostrem 5 millors i 5 pitjors\n",
    "top5millorshistoria = mergeMoviesFinancial.sort_values(by = 'profit',ascending=False)[0:5]\n",
    "display(top5millorshistoria)\n",
    "top5Pichoshistoria = mergeMoviesFinancial.sort_values(by = 'profit',ascending=True)[0:5]\n",
    "display(top5Pichoshistoria)"
   ]
  },
  {
   "cell_type": "markdown",
   "metadata": {
    "id": "Dn_EzFOh9ZPo"
   },
   "source": [
    "Ens tornem a centrar en les pel·lìcules que interessen a la productora ( > 2010 i amb alt grau de popularitat). Per fer una bona inversió no només ens interessa en el indicador 'profit' sino també el 'prop_profit' la proporció entre els beneficis i la quantitat que s'ha invertit en realizat la película. Quines son les 5 pel·lícules que porporcionalment han generat més benefici? Quines conclusions extreure comparant-les amb el llistat anterior?"
   ]
  },
  {
   "cell_type": "code",
   "execution_count": 20,
   "metadata": {
    "id": "1ZOou1P0-nOY"
   },
   "outputs": [
    {
     "data": {
      "text/html": [
       "<div>\n",
       "<style scoped>\n",
       "    .dataframe tbody tr th:only-of-type {\n",
       "        vertical-align: middle;\n",
       "    }\n",
       "\n",
       "    .dataframe tbody tr th {\n",
       "        vertical-align: top;\n",
       "    }\n",
       "\n",
       "    .dataframe thead th {\n",
       "        text-align: right;\n",
       "    }\n",
       "</style>\n",
       "<table border=\"1\" class=\"dataframe\">\n",
       "  <thead>\n",
       "    <tr style=\"text-align: right;\">\n",
       "      <th></th>\n",
       "      <th>id</th>\n",
       "      <th>title</th>\n",
       "      <th>popularity</th>\n",
       "      <th>release_date</th>\n",
       "      <th>year</th>\n",
       "      <th>vote_average</th>\n",
       "      <th>vote_count</th>\n",
       "      <th>budget</th>\n",
       "      <th>revenue</th>\n",
       "      <th>profit</th>\n",
       "      <th>prop_profit</th>\n",
       "    </tr>\n",
       "  </thead>\n",
       "  <tbody>\n",
       "    <tr>\n",
       "      <th>1153</th>\n",
       "      <td>222935</td>\n",
       "      <td>The Fault in Our Stars</td>\n",
       "      <td>74.358971</td>\n",
       "      <td>2014-05-16</td>\n",
       "      <td>2014.0</td>\n",
       "      <td>7.6</td>\n",
       "      <td>3759.0</td>\n",
       "      <td>12000000</td>\n",
       "      <td>3.071668e+08</td>\n",
       "      <td>2.951668e+08</td>\n",
       "      <td>2459.723617</td>\n",
       "    </tr>\n",
       "    <tr>\n",
       "      <th>3023</th>\n",
       "      <td>44214</td>\n",
       "      <td>Black Swan</td>\n",
       "      <td>91.285683</td>\n",
       "      <td>2010-12-02</td>\n",
       "      <td>2010.0</td>\n",
       "      <td>7.3</td>\n",
       "      <td>4430.0</td>\n",
       "      <td>13000000</td>\n",
       "      <td>3.278037e+08</td>\n",
       "      <td>3.148037e+08</td>\n",
       "      <td>2421.567162</td>\n",
       "    </tr>\n",
       "    <tr>\n",
       "      <th>954</th>\n",
       "      <td>205596</td>\n",
       "      <td>The Imitation Game</td>\n",
       "      <td>145.364591</td>\n",
       "      <td>2014-11-14</td>\n",
       "      <td>2014.0</td>\n",
       "      <td>8.0</td>\n",
       "      <td>5723.0</td>\n",
       "      <td>14000000</td>\n",
       "      <td>2.335557e+08</td>\n",
       "      <td>2.195557e+08</td>\n",
       "      <td>1568.255057</td>\n",
       "    </tr>\n",
       "    <tr>\n",
       "      <th>3053</th>\n",
       "      <td>211672</td>\n",
       "      <td>Minions</td>\n",
       "      <td>875.581305</td>\n",
       "      <td>2015-06-17</td>\n",
       "      <td>2015.0</td>\n",
       "      <td>6.4</td>\n",
       "      <td>4571.0</td>\n",
       "      <td>74000000</td>\n",
       "      <td>1.156731e+09</td>\n",
       "      <td>1.082731e+09</td>\n",
       "      <td>1463.149949</td>\n",
       "    </tr>\n",
       "    <tr>\n",
       "      <th>318</th>\n",
       "      <td>216015</td>\n",
       "      <td>Fifty Shades of Grey</td>\n",
       "      <td>98.755657</td>\n",
       "      <td>2015-02-11</td>\n",
       "      <td>2015.0</td>\n",
       "      <td>5.2</td>\n",
       "      <td>3254.0</td>\n",
       "      <td>40000000</td>\n",
       "      <td>5.710061e+08</td>\n",
       "      <td>5.310061e+08</td>\n",
       "      <td>1327.515320</td>\n",
       "    </tr>\n",
       "  </tbody>\n",
       "</table>\n",
       "</div>"
      ],
      "text/plain": [
       "          id                   title  popularity release_date    year  \\\n",
       "1153  222935  The Fault in Our Stars   74.358971   2014-05-16  2014.0   \n",
       "3023   44214              Black Swan   91.285683   2010-12-02  2010.0   \n",
       "954   205596      The Imitation Game  145.364591   2014-11-14  2014.0   \n",
       "3053  211672                 Minions  875.581305   2015-06-17  2015.0   \n",
       "318   216015    Fifty Shades of Grey   98.755657   2015-02-11  2015.0   \n",
       "\n",
       "      vote_average  vote_count    budget       revenue        profit  \\\n",
       "1153           7.6      3759.0  12000000  3.071668e+08  2.951668e+08   \n",
       "3023           7.3      4430.0  13000000  3.278037e+08  3.148037e+08   \n",
       "954            8.0      5723.0  14000000  2.335557e+08  2.195557e+08   \n",
       "3053           6.4      4571.0  74000000  1.156731e+09  1.082731e+09   \n",
       "318            5.2      3254.0  40000000  5.710061e+08  5.310061e+08   \n",
       "\n",
       "      prop_profit  \n",
       "1153  2459.723617  \n",
       "3023  2421.567162  \n",
       "954   1568.255057  \n",
       "3053  1463.149949  \n",
       "318   1327.515320  "
      ]
     },
     "metadata": {},
     "output_type": "display_data"
    }
   ],
   "source": [
    "# Fem un innerjoin amb el dataset filtrat anterior \n",
    "mergeAllnotSequels = dataMovieAndRatings.merge(mergeMoviesFinancial)\n",
    "\n",
    "\n",
    "#Crear nova columna\n",
    "mergeAllnotSequels['prop_profit'] = mergeAllnotSequels['profit'] / mergeAllnotSequels['budget'] *100\n",
    "analisis = mergeAllnotSequels.query('year >= 2010 and popularity > 60.000 and vote_count > 2000')\n",
    "#Mostrar llistat\n",
    "top5millors = analisis.sort_values(by = 'prop_profit',ascending=False)[0:5]\n",
    "display(top5millors)"
   ]
  },
  {
   "cell_type": "markdown",
   "metadata": {
    "id": "n_pEFSNuAJ1t"
   },
   "source": [
    "No tenim clar si és convenient realitzar una pel·lícula d'alt o baix pressupost, per aquesta raó anem a comparar si existeix una correlació entre el pressupost i el pro_profit guanyat. Podriem mostra una matriu de correlació, pero preferim extreu conclusions visuals a través d'un scatter plot. Et dona la sensació que si s'inverteixen més diner la proporció de benefici és més gran?"
   ]
  },
  {
   "cell_type": "code",
   "execution_count": 21,
   "metadata": {
    "colab": {
     "base_uri": "https://localhost:8080/",
     "height": 34
    },
    "executionInfo": {
     "elapsed": 28,
     "status": "ok",
     "timestamp": 1661970759682,
     "user": {
      "displayName": "RUBÉN SERRANO MORENO",
      "userId": "15431627219368641600"
     },
     "user_tz": -120
    },
    "id": "l-vzAH4X91RW",
    "outputId": "31d9c0a2-03af-403d-a79c-f451d297a21a"
   },
   "outputs": [
    {
     "data": {
      "image/png": "[encoded data removed]",
      "text/plain": [
       "<Figure size 1200x800 with 1 Axes>"
      ]
     },
     "metadata": {},
     "output_type": "display_data"
    }
   ],
   "source": [
    "#Scatter plot\n",
    "# Set the figure style and initalize a new figure\n",
    "plt.figure(figsize=(12,8))\n",
    "plt.scatter(analisis['prop_profit'],analisis['budget'])\n",
    "# Create a title and axis labels\n",
    "plt.ylabel('veneficio pelicula')\n",
    "plt.xlabel('proporcion veneficion')\n",
    "plt.title('relacion entre veneficion y su proporcion')\n",
    "# Show the plot\n",
    "plt.show()"
   ]
  },
  {
   "cell_type": "markdown",
   "metadata": {},
   "source": [
    "Les peliculas amb una inversio mitja tenes mes venefisis que una gran inversio."
   ]
  },
  {
   "cell_type": "markdown",
   "metadata": {
    "id": "37Vb5CooD6Sf"
   },
   "source": [
    "En la mateixa gràfica anem incloure les valoracions de les pel·lìcules, aparentment imaginem que les pel·lìcules que han tingut bona acollida son les que mé beneficis han aportat. Veient la gràfica creada sembla certa aquesta afirmaciò?"
   ]
  },
  {
   "cell_type": "code",
   "execution_count": 22,
   "metadata": {
    "colab": {
     "base_uri": "https://localhost:8080/",
     "height": 34
    },
    "executionInfo": {
     "elapsed": 23,
     "status": "ok",
     "timestamp": 1661970759683,
     "user": {
      "displayName": "RUBÉN SERRANO MORENO",
      "userId": "15431627219368641600"
     },
     "user_tz": -120
    },
    "id": "aXyxpwXHEcYg",
    "outputId": "7838b77a-a781-477a-c0fd-6b7bcacd7ae8"
   },
   "outputs": [
    {
     "data": {
      "image/png": "[encoded data removed]",
      "text/plain": [
       "<Figure size 1200x800 with 1 Axes>"
      ]
     },
     "metadata": {},
     "output_type": "display_data"
    }
   ],
   "source": [
    "#Hem de crear una llista de color per cada pel·lìcula\n",
    "colors=[]\n",
    "\n",
    "# Iteració sobre cada fila del dataset, si vote_average >= 7 --> verd / >=5 taronja /5 vermell\n",
    "for key, vote_average in analisis.iterrows():\n",
    "    if vote_average['vote_average'] >= 7:\n",
    "        colors.append('green')\n",
    "    elif vote_average['vote_average'] >= 5:\n",
    "        colors.append('orange')\n",
    "    else:\n",
    "        colors.append('red')\n",
    "\n",
    "#Crea de nou la gràfica amb l'opció color\n",
    "\n",
    "# Set the figure style and initalize a new figure\n",
    "plt.figure(figsize=(12,8))\n",
    "plt.scatter(analisis['prop_profit'],analisis['budget'],c = colors)\n",
    "# Create a title and axis labels\n",
    "plt.ylabel('veneficio pelicula')\n",
    "plt.xlabel('proporcion veneficion')\n",
    "plt.title('relacion entre veneficion y su proporcion')\n",
    "# Show the plot\n",
    "plt.show()\n",
    "\n",
    "\n",
    "    "
   ]
  },
  {
   "cell_type": "markdown",
   "metadata": {},
   "source": [
    "En el grafic es pot veure como las peliculas entre 7 y 5 de puntuacio han sigut la que millors venefisis de mitja han donat."
   ]
  },
  {
   "cell_type": "markdown",
   "metadata": {
    "id": "8iN4IJ74FwSJ"
   },
   "source": [
    "Finalment per determinar quina tipus de pel·lìcula realitzarem visualitzarem els gèneres que ofereixen millor relació en quant a proporció de benefici. Mirant l'apartat anterior i aquest, quin seria els gèneres de la teva pel·lìcula? Fica imagina i proposa una temàtica. "
   ]
  },
  {
   "cell_type": "code",
   "execution_count": 23,
   "metadata": {
    "id": "lpL5EU3hGHqQ"
   },
   "outputs": [
    {
     "data": {
      "image/png": "[encoded data removed]",
      "text/plain": [
       "<Figure size 640x480 with 1 Axes>"
      ]
     },
     "metadata": {},
     "output_type": "display_data"
    }
   ],
   "source": [
    "# Merge amb genre\n",
    "mergeAll = dataMoviesRatingGenre.merge(mergeAllnotSequels)\n",
    "mergeAll.head()\n",
    "#Mostrem gràfic de barres per gènere\n",
    "bestGenere = mergeAll.query('prop_profit > 0')\n",
    "bestGenere = mergeAll.groupby(['genre'])['genre'].count()\n",
    "\n",
    "bestGenere.plot(kind = 'bar')\n",
    "plt.title('genere prop profit')\n",
    "plt.show()"
   ]
  },
  {
   "cell_type": "code",
   "execution_count": 24,
   "metadata": {
    "id": "z3rPlpS9Fv2j"
   },
   "outputs": [
    {
     "data": {
      "text/plain": [
       "genre\n",
       "Action              918\n",
       "Adventure           661\n",
       "Animation           188\n",
       "Comedy             1110\n",
       "Crime               521\n",
       "Documentary          38\n",
       "Drama              1441\n",
       "Family              365\n",
       "Fantasy             342\n",
       "Foreign               5\n",
       "History             145\n",
       "Horror              332\n",
       "Music               111\n",
       "Mystery             265\n",
       "Romance             574\n",
       "Science Fiction     431\n",
       "Thriller            935\n",
       "War                 120\n",
       "Western              57\n",
       "Name: genre, dtype: int64"
      ]
     },
     "metadata": {},
     "output_type": "display_data"
    }
   ],
   "source": [
    "# Mostrem gèneres i proposem temàtica\n",
    "display(bestGenere)"
   ]
  },
  {
   "cell_type": "markdown",
   "metadata": {},
   "source": [
    "Els millors gèneres per realitzar una pel·lícula són comèdia, drama i thriller,\n",
    "sense dubte les pel·lícules com scary movie són les millors per treure un benefici assegurat."
   ]
  },
  {
   "cell_type": "markdown",
   "metadata": {
    "id": "0yLhpkeWx5Fj"
   },
   "source": [
    "## 'Segundas partes no son buenas'"
   ]
  },
  {
   "cell_type": "markdown",
   "metadata": {
    "id": "QVjpDZuax7nU"
   },
   "source": [
    "La nostra pel·lìcula ha tingut molt bona acollida tant que estem valorant la possibilitat de realitzar una segona part. Existeix la idea de que les seqüeles son sempre pitjors. Mostra la diferència promig entre les pel·lìcules i les seves seqüeles i les 5 pel·lìcules on les seves continuacions han millorat mès."
   ]
  },
  {
   "cell_type": "code",
   "execution_count": 25,
   "metadata": {
    "id": "rTlrRmO_x_r5"
   },
   "outputs": [
    {
     "data": {
      "text/html": [
       "<div>\n",
       "<style scoped>\n",
       "    .dataframe tbody tr th:only-of-type {\n",
       "        vertical-align: middle;\n",
       "    }\n",
       "\n",
       "    .dataframe tbody tr th {\n",
       "        vertical-align: top;\n",
       "    }\n",
       "\n",
       "    .dataframe thead th {\n",
       "        text-align: right;\n",
       "    }\n",
       "</style>\n",
       "<table border=\"1\" class=\"dataframe\">\n",
       "  <thead>\n",
       "    <tr style=\"text-align: right;\">\n",
       "      <th></th>\n",
       "      <th>id</th>\n",
       "      <th>title</th>\n",
       "      <th>sequel</th>\n",
       "    </tr>\n",
       "  </thead>\n",
       "  <tbody>\n",
       "    <tr>\n",
       "      <th>0</th>\n",
       "      <td>19995</td>\n",
       "      <td>Avatar</td>\n",
       "      <td>&lt;NA&gt;</td>\n",
       "    </tr>\n",
       "    <tr>\n",
       "      <th>1</th>\n",
       "      <td>862</td>\n",
       "      <td>Toy Story</td>\n",
       "      <td>863</td>\n",
       "    </tr>\n",
       "    <tr>\n",
       "      <th>2</th>\n",
       "      <td>863</td>\n",
       "      <td>Toy Story 2</td>\n",
       "      <td>10193</td>\n",
       "    </tr>\n",
       "    <tr>\n",
       "      <th>3</th>\n",
       "      <td>597</td>\n",
       "      <td>Titanic</td>\n",
       "      <td>&lt;NA&gt;</td>\n",
       "    </tr>\n",
       "    <tr>\n",
       "      <th>4</th>\n",
       "      <td>24428</td>\n",
       "      <td>The Avengers</td>\n",
       "      <td>&lt;NA&gt;</td>\n",
       "    </tr>\n",
       "    <tr>\n",
       "      <th>...</th>\n",
       "      <td>...</td>\n",
       "      <td>...</td>\n",
       "      <td>...</td>\n",
       "    </tr>\n",
       "    <tr>\n",
       "      <th>4798</th>\n",
       "      <td>133931</td>\n",
       "      <td>Zambezia</td>\n",
       "      <td>&lt;NA&gt;</td>\n",
       "    </tr>\n",
       "    <tr>\n",
       "      <th>4799</th>\n",
       "      <td>309503</td>\n",
       "      <td>Zipper</td>\n",
       "      <td>&lt;NA&gt;</td>\n",
       "    </tr>\n",
       "    <tr>\n",
       "      <th>4800</th>\n",
       "      <td>34592</td>\n",
       "      <td>ZMD: Zombies of Mass Destruction</td>\n",
       "      <td>&lt;NA&gt;</td>\n",
       "    </tr>\n",
       "    <tr>\n",
       "      <th>4801</th>\n",
       "      <td>206213</td>\n",
       "      <td>Zombie Hunter</td>\n",
       "      <td>&lt;NA&gt;</td>\n",
       "    </tr>\n",
       "    <tr>\n",
       "      <th>4802</th>\n",
       "      <td>185567</td>\n",
       "      <td>Zulu</td>\n",
       "      <td>&lt;NA&gt;</td>\n",
       "    </tr>\n",
       "  </tbody>\n",
       "</table>\n",
       "<p>4803 rows × 3 columns</p>\n",
       "</div>"
      ],
      "text/plain": [
       "          id                             title  sequel\n",
       "0      19995                            Avatar    <NA>\n",
       "1        862                         Toy Story     863\n",
       "2        863                       Toy Story 2   10193\n",
       "3        597                           Titanic    <NA>\n",
       "4      24428                      The Avengers    <NA>\n",
       "...      ...                               ...     ...\n",
       "4798  133931                          Zambezia    <NA>\n",
       "4799  309503                            Zipper    <NA>\n",
       "4800   34592  ZMD: Zombies of Mass Destruction    <NA>\n",
       "4801  206213                     Zombie Hunter    <NA>\n",
       "4802  185567                              Zulu    <NA>\n",
       "\n",
       "[4803 rows x 3 columns]"
      ]
     },
     "metadata": {},
     "output_type": "display_data"
    },
    {
     "name": "stdout",
     "output_type": "stream",
     "text": [
      "<bound method NDFrame.describe of          id                                              title  sequel\n",
      "1       862                                          Toy Story     863\n",
      "2       863                                        Toy Story 2   10193\n",
      "30      675          Harry Potter and the Order of the Phoenix     767\n",
      "32      121              The Lord of the Rings: The Two Towers     122\n",
      "44      120  The Lord of the Rings: The Fellowship of the Ring     121\n",
      "...     ...                                                ...     ...\n",
      "2929     76                                     Before Sunrise      80\n",
      "3050   2292                                             Clerks    2295\n",
      "3124   9367                                        El Mariachi    8068\n",
      "3337   8374                                The Boondock Saints   22821\n",
      "3682  16186                         Diary of a Mad Black Woman   16781\n",
      "\n",
      "[90 rows x 3 columns]>\n"
     ]
    },
    {
     "data": {
      "text/html": [
       "<div>\n",
       "<style scoped>\n",
       "    .dataframe tbody tr th:only-of-type {\n",
       "        vertical-align: middle;\n",
       "    }\n",
       "\n",
       "    .dataframe tbody tr th {\n",
       "        vertical-align: top;\n",
       "    }\n",
       "\n",
       "    .dataframe thead th {\n",
       "        text-align: right;\n",
       "    }\n",
       "</style>\n",
       "<table border=\"1\" class=\"dataframe\">\n",
       "  <thead>\n",
       "    <tr style=\"text-align: right;\">\n",
       "      <th></th>\n",
       "      <th>id</th>\n",
       "      <th>title</th>\n",
       "      <th>popularity</th>\n",
       "      <th>release_date</th>\n",
       "      <th>year</th>\n",
       "      <th>sequel</th>\n",
       "    </tr>\n",
       "  </thead>\n",
       "  <tbody>\n",
       "    <tr>\n",
       "      <th>0</th>\n",
       "      <td>16186</td>\n",
       "      <td>Diary of a Mad Black Woman</td>\n",
       "      <td>3.784535</td>\n",
       "      <td>2005-02-25</td>\n",
       "      <td>2005.0</td>\n",
       "      <td>16781</td>\n",
       "    </tr>\n",
       "    <tr>\n",
       "      <th>1</th>\n",
       "      <td>176</td>\n",
       "      <td>Saw</td>\n",
       "      <td>63.655973</td>\n",
       "      <td>2004-10-01</td>\n",
       "      <td>2004.0</td>\n",
       "      <td>215</td>\n",
       "    </tr>\n",
       "    <tr>\n",
       "      <th>2</th>\n",
       "      <td>3049</td>\n",
       "      <td>Ace Ventura: Pet Detective</td>\n",
       "      <td>41.249004</td>\n",
       "      <td>1994-02-04</td>\n",
       "      <td>1994.0</td>\n",
       "      <td>9273</td>\n",
       "    </tr>\n",
       "    <tr>\n",
       "      <th>3</th>\n",
       "      <td>585</td>\n",
       "      <td>Monsters, Inc.</td>\n",
       "      <td>106.815545</td>\n",
       "      <td>2001-11-01</td>\n",
       "      <td>2001.0</td>\n",
       "      <td>62211</td>\n",
       "    </tr>\n",
       "    <tr>\n",
       "      <th>4</th>\n",
       "      <td>1487</td>\n",
       "      <td>Hellboy</td>\n",
       "      <td>47.479755</td>\n",
       "      <td>2004-04-02</td>\n",
       "      <td>2004.0</td>\n",
       "      <td>11253</td>\n",
       "    </tr>\n",
       "    <tr>\n",
       "      <th>...</th>\n",
       "      <td>...</td>\n",
       "      <td>...</td>\n",
       "      <td>...</td>\n",
       "      <td>...</td>\n",
       "      <td>...</td>\n",
       "      <td>...</td>\n",
       "    </tr>\n",
       "    <tr>\n",
       "      <th>85</th>\n",
       "      <td>9737</td>\n",
       "      <td>Bad Boys</td>\n",
       "      <td>33.872182</td>\n",
       "      <td>1995-04-07</td>\n",
       "      <td>1995.0</td>\n",
       "      <td>8961</td>\n",
       "    </tr>\n",
       "    <tr>\n",
       "      <th>86</th>\n",
       "      <td>64688</td>\n",
       "      <td>21 Jump Street</td>\n",
       "      <td>62.714026</td>\n",
       "      <td>2012-03-12</td>\n",
       "      <td>2012.0</td>\n",
       "      <td>187017</td>\n",
       "    </tr>\n",
       "    <tr>\n",
       "      <th>87</th>\n",
       "      <td>76</td>\n",
       "      <td>Before Sunrise</td>\n",
       "      <td>23.672571</td>\n",
       "      <td>1995-01-27</td>\n",
       "      <td>1995.0</td>\n",
       "      <td>80</td>\n",
       "    </tr>\n",
       "    <tr>\n",
       "      <th>88</th>\n",
       "      <td>990</td>\n",
       "      <td>The Hustler</td>\n",
       "      <td>17.639478</td>\n",
       "      <td>1961-09-25</td>\n",
       "      <td>1961.0</td>\n",
       "      <td>11873</td>\n",
       "    </tr>\n",
       "    <tr>\n",
       "      <th>89</th>\n",
       "      <td>1576</td>\n",
       "      <td>Resident Evil</td>\n",
       "      <td>40.715623</td>\n",
       "      <td>2002-03-15</td>\n",
       "      <td>2002.0</td>\n",
       "      <td>1577</td>\n",
       "    </tr>\n",
       "  </tbody>\n",
       "</table>\n",
       "<p>90 rows × 6 columns</p>\n",
       "</div>"
      ],
      "text/plain": [
       "       id                       title  popularity release_date    year  sequel\n",
       "0   16186  Diary of a Mad Black Woman    3.784535   2005-02-25  2005.0   16781\n",
       "1     176                         Saw   63.655973   2004-10-01  2004.0     215\n",
       "2    3049  Ace Ventura: Pet Detective   41.249004   1994-02-04  1994.0    9273\n",
       "3     585              Monsters, Inc.  106.815545   2001-11-01  2001.0   62211\n",
       "4    1487                     Hellboy   47.479755   2004-04-02  2004.0   11253\n",
       "..    ...                         ...         ...          ...     ...     ...\n",
       "85   9737                    Bad Boys   33.872182   1995-04-07  1995.0    8961\n",
       "86  64688              21 Jump Street   62.714026   2012-03-12  2012.0  187017\n",
       "87     76              Before Sunrise   23.672571   1995-01-27  1995.0      80\n",
       "88    990                 The Hustler   17.639478   1961-09-25  1961.0   11873\n",
       "89   1576               Resident Evil   40.715623   2002-03-15  2002.0    1577\n",
       "\n",
       "[90 rows x 6 columns]"
      ]
     },
     "metadata": {},
     "output_type": "display_data"
    },
    {
     "data": {
      "text/html": [
       "<div>\n",
       "<style scoped>\n",
       "    .dataframe tbody tr th:only-of-type {\n",
       "        vertical-align: middle;\n",
       "    }\n",
       "\n",
       "    .dataframe tbody tr th {\n",
       "        vertical-align: top;\n",
       "    }\n",
       "\n",
       "    .dataframe thead th {\n",
       "        text-align: right;\n",
       "    }\n",
       "</style>\n",
       "<table border=\"1\" class=\"dataframe\">\n",
       "  <thead>\n",
       "    <tr style=\"text-align: right;\">\n",
       "      <th></th>\n",
       "      <th>id_original</th>\n",
       "      <th>titol_original</th>\n",
       "      <th>id_sequel</th>\n",
       "      <th>titol_sequel</th>\n",
       "    </tr>\n",
       "  </thead>\n",
       "  <tbody>\n",
       "    <tr>\n",
       "      <th>0</th>\n",
       "      <td>16186</td>\n",
       "      <td>Diary of a Mad Black Woman</td>\n",
       "      <td>16781</td>\n",
       "      <td>Madea's Family Reunion</td>\n",
       "    </tr>\n",
       "    <tr>\n",
       "      <th>1</th>\n",
       "      <td>176</td>\n",
       "      <td>Saw</td>\n",
       "      <td>215</td>\n",
       "      <td>Saw II</td>\n",
       "    </tr>\n",
       "    <tr>\n",
       "      <th>2</th>\n",
       "      <td>3049</td>\n",
       "      <td>Ace Ventura: Pet Detective</td>\n",
       "      <td>9273</td>\n",
       "      <td>Ace Ventura: When Nature Calls</td>\n",
       "    </tr>\n",
       "    <tr>\n",
       "      <th>3</th>\n",
       "      <td>585</td>\n",
       "      <td>Monsters, Inc.</td>\n",
       "      <td>62211</td>\n",
       "      <td>Monsters University</td>\n",
       "    </tr>\n",
       "    <tr>\n",
       "      <th>4</th>\n",
       "      <td>1487</td>\n",
       "      <td>Hellboy</td>\n",
       "      <td>11253</td>\n",
       "      <td>Hellboy II: The Golden Army</td>\n",
       "    </tr>\n",
       "    <tr>\n",
       "      <th>...</th>\n",
       "      <td>...</td>\n",
       "      <td>...</td>\n",
       "      <td>...</td>\n",
       "      <td>...</td>\n",
       "    </tr>\n",
       "    <tr>\n",
       "      <th>85</th>\n",
       "      <td>9737</td>\n",
       "      <td>Bad Boys</td>\n",
       "      <td>8961</td>\n",
       "      <td>Bad Boys II</td>\n",
       "    </tr>\n",
       "    <tr>\n",
       "      <th>86</th>\n",
       "      <td>64688</td>\n",
       "      <td>21 Jump Street</td>\n",
       "      <td>187017</td>\n",
       "      <td>22 Jump Street</td>\n",
       "    </tr>\n",
       "    <tr>\n",
       "      <th>87</th>\n",
       "      <td>76</td>\n",
       "      <td>Before Sunrise</td>\n",
       "      <td>80</td>\n",
       "      <td>Before Sunset</td>\n",
       "    </tr>\n",
       "    <tr>\n",
       "      <th>88</th>\n",
       "      <td>990</td>\n",
       "      <td>The Hustler</td>\n",
       "      <td>11873</td>\n",
       "      <td>The Color of Money</td>\n",
       "    </tr>\n",
       "    <tr>\n",
       "      <th>89</th>\n",
       "      <td>1576</td>\n",
       "      <td>Resident Evil</td>\n",
       "      <td>1577</td>\n",
       "      <td>Resident Evil: Apocalypse</td>\n",
       "    </tr>\n",
       "  </tbody>\n",
       "</table>\n",
       "<p>90 rows × 4 columns</p>\n",
       "</div>"
      ],
      "text/plain": [
       "    id_original              titol_original  id_sequel  \\\n",
       "0         16186  Diary of a Mad Black Woman      16781   \n",
       "1           176                         Saw        215   \n",
       "2          3049  Ace Ventura: Pet Detective       9273   \n",
       "3           585              Monsters, Inc.      62211   \n",
       "4          1487                     Hellboy      11253   \n",
       "..          ...                         ...        ...   \n",
       "85         9737                    Bad Boys       8961   \n",
       "86        64688              21 Jump Street     187017   \n",
       "87           76              Before Sunrise         80   \n",
       "88          990                 The Hustler      11873   \n",
       "89         1576               Resident Evil       1577   \n",
       "\n",
       "                      titol_sequel  \n",
       "0           Madea's Family Reunion  \n",
       "1                           Saw II  \n",
       "2   Ace Ventura: When Nature Calls  \n",
       "3              Monsters University  \n",
       "4      Hellboy II: The Golden Army  \n",
       "..                             ...  \n",
       "85                     Bad Boys II  \n",
       "86                  22 Jump Street  \n",
       "87                   Before Sunset  \n",
       "88              The Color of Money  \n",
       "89       Resident Evil: Apocalypse  \n",
       "\n",
       "[90 rows x 4 columns]"
      ]
     },
     "metadata": {},
     "output_type": "display_data"
    }
   ],
   "source": [
    "# mostrem dataset\n",
    "display(sequels)\n",
    "# Elimina files que no tenen sequel\n",
    "sequels=sequels.dropna()\n",
    "# comprova que no hi ha NA\n",
    "print(sequels.describe)\n",
    "\n",
    "# join amb movies per obtenir noms de original i de sequels\n",
    "moviesSequel = movies.merge(sequels)\n",
    "display(moviesSequel)\n",
    "# simplifiquem per quedar-nos únicament amb id_original, titol_original, id_sequel, titol_sequel\n",
    "newMoviesSequel = moviesSequel[['id','title','sequel']]\n",
    "getTitleSequel = newMoviesSequel.merge(movies, left_on='sequel', right_on='id')\n",
    "newMoviesSequel = getTitleSequel[['id_x','title_x','sequel','title_y']]\n",
    "newName = newMoviesSequel.rename({'id_x' : 'id_original','title_x':'titol_original','sequel':'id_sequel','title_y':'titol_sequel'},axis=1)\n",
    "display(newName)"
   ]
  },
  {
   "cell_type": "code",
   "execution_count": 26,
   "metadata": {
    "id": "2ZEbe7NH3F9_"
   },
   "outputs": [
    {
     "name": "stderr",
     "output_type": "stream",
     "text": [
      "C:\\Users\\User\\AppData\\Local\\Temp\\ipykernel_10464\\3782226454.py:8: SettingWithCopyWarning: \n",
      "A value is trying to be set on a copy of a slice from a DataFrame.\n",
      "Try using .loc[row_indexer,col_indexer] = value instead\n",
      "\n",
      "See the caveats in the documentation: https://pandas.pydata.org/pandas-docs/stable/user_guide/indexing.html#returning-a-view-versus-a-copy\n",
      "  getDataUtils['diferenciaAverage'] = getDataUtils['vote_average_x'] - getDataUtils['vote_average_y']\n"
     ]
    },
    {
     "data": {
      "text/html": [
       "<div>\n",
       "<style scoped>\n",
       "    .dataframe tbody tr th:only-of-type {\n",
       "        vertical-align: middle;\n",
       "    }\n",
       "\n",
       "    .dataframe tbody tr th {\n",
       "        vertical-align: top;\n",
       "    }\n",
       "\n",
       "    .dataframe thead th {\n",
       "        text-align: right;\n",
       "    }\n",
       "</style>\n",
       "<table border=\"1\" class=\"dataframe\">\n",
       "  <thead>\n",
       "    <tr style=\"text-align: right;\">\n",
       "      <th></th>\n",
       "      <th>id_original</th>\n",
       "      <th>titol_original</th>\n",
       "      <th>id_sequel</th>\n",
       "      <th>titol_sequel</th>\n",
       "      <th>vote_average_x</th>\n",
       "      <th>vote_average_y</th>\n",
       "      <th>diferenciaAverage</th>\n",
       "    </tr>\n",
       "  </thead>\n",
       "  <tbody>\n",
       "    <tr>\n",
       "      <th>0</th>\n",
       "      <td>16186</td>\n",
       "      <td>Diary of a Mad Black Woman</td>\n",
       "      <td>16781</td>\n",
       "      <td>Madea's Family Reunion</td>\n",
       "      <td>6.4</td>\n",
       "      <td>6.0</td>\n",
       "      <td>0.4</td>\n",
       "    </tr>\n",
       "    <tr>\n",
       "      <th>1</th>\n",
       "      <td>176</td>\n",
       "      <td>Saw</td>\n",
       "      <td>215</td>\n",
       "      <td>Saw II</td>\n",
       "      <td>7.2</td>\n",
       "      <td>6.3</td>\n",
       "      <td>0.9</td>\n",
       "    </tr>\n",
       "    <tr>\n",
       "      <th>2</th>\n",
       "      <td>3049</td>\n",
       "      <td>Ace Ventura: Pet Detective</td>\n",
       "      <td>9273</td>\n",
       "      <td>Ace Ventura: When Nature Calls</td>\n",
       "      <td>6.4</td>\n",
       "      <td>6.1</td>\n",
       "      <td>0.3</td>\n",
       "    </tr>\n",
       "    <tr>\n",
       "      <th>3</th>\n",
       "      <td>585</td>\n",
       "      <td>Monsters, Inc.</td>\n",
       "      <td>62211</td>\n",
       "      <td>Monsters University</td>\n",
       "      <td>7.5</td>\n",
       "      <td>7.0</td>\n",
       "      <td>0.5</td>\n",
       "    </tr>\n",
       "    <tr>\n",
       "      <th>4</th>\n",
       "      <td>1487</td>\n",
       "      <td>Hellboy</td>\n",
       "      <td>11253</td>\n",
       "      <td>Hellboy II: The Golden Army</td>\n",
       "      <td>6.5</td>\n",
       "      <td>6.5</td>\n",
       "      <td>0.0</td>\n",
       "    </tr>\n",
       "    <tr>\n",
       "      <th>...</th>\n",
       "      <td>...</td>\n",
       "      <td>...</td>\n",
       "      <td>...</td>\n",
       "      <td>...</td>\n",
       "      <td>...</td>\n",
       "      <td>...</td>\n",
       "      <td>...</td>\n",
       "    </tr>\n",
       "    <tr>\n",
       "      <th>85</th>\n",
       "      <td>9737</td>\n",
       "      <td>Bad Boys</td>\n",
       "      <td>8961</td>\n",
       "      <td>Bad Boys II</td>\n",
       "      <td>6.5</td>\n",
       "      <td>6.3</td>\n",
       "      <td>0.2</td>\n",
       "    </tr>\n",
       "    <tr>\n",
       "      <th>86</th>\n",
       "      <td>64688</td>\n",
       "      <td>21 Jump Street</td>\n",
       "      <td>187017</td>\n",
       "      <td>22 Jump Street</td>\n",
       "      <td>6.7</td>\n",
       "      <td>7.0</td>\n",
       "      <td>-0.3</td>\n",
       "    </tr>\n",
       "    <tr>\n",
       "      <th>87</th>\n",
       "      <td>76</td>\n",
       "      <td>Before Sunrise</td>\n",
       "      <td>80</td>\n",
       "      <td>Before Sunset</td>\n",
       "      <td>7.7</td>\n",
       "      <td>7.6</td>\n",
       "      <td>0.1</td>\n",
       "    </tr>\n",
       "    <tr>\n",
       "      <th>88</th>\n",
       "      <td>990</td>\n",
       "      <td>The Hustler</td>\n",
       "      <td>11873</td>\n",
       "      <td>The Color of Money</td>\n",
       "      <td>7.6</td>\n",
       "      <td>6.7</td>\n",
       "      <td>0.9</td>\n",
       "    </tr>\n",
       "    <tr>\n",
       "      <th>89</th>\n",
       "      <td>1576</td>\n",
       "      <td>Resident Evil</td>\n",
       "      <td>1577</td>\n",
       "      <td>Resident Evil: Apocalypse</td>\n",
       "      <td>6.4</td>\n",
       "      <td>6.1</td>\n",
       "      <td>0.3</td>\n",
       "    </tr>\n",
       "  </tbody>\n",
       "</table>\n",
       "<p>90 rows × 7 columns</p>\n",
       "</div>"
      ],
      "text/plain": [
       "    id_original              titol_original  id_sequel  \\\n",
       "0         16186  Diary of a Mad Black Woman      16781   \n",
       "1           176                         Saw        215   \n",
       "2          3049  Ace Ventura: Pet Detective       9273   \n",
       "3           585              Monsters, Inc.      62211   \n",
       "4          1487                     Hellboy      11253   \n",
       "..          ...                         ...        ...   \n",
       "85         9737                    Bad Boys       8961   \n",
       "86        64688              21 Jump Street     187017   \n",
       "87           76              Before Sunrise         80   \n",
       "88          990                 The Hustler      11873   \n",
       "89         1576               Resident Evil       1577   \n",
       "\n",
       "                      titol_sequel  vote_average_x  vote_average_y  \\\n",
       "0           Madea's Family Reunion             6.4             6.0   \n",
       "1                           Saw II             7.2             6.3   \n",
       "2   Ace Ventura: When Nature Calls             6.4             6.1   \n",
       "3              Monsters University             7.5             7.0   \n",
       "4      Hellboy II: The Golden Army             6.5             6.5   \n",
       "..                             ...             ...             ...   \n",
       "85                     Bad Boys II             6.5             6.3   \n",
       "86                  22 Jump Street             6.7             7.0   \n",
       "87                   Before Sunset             7.7             7.6   \n",
       "88              The Color of Money             7.6             6.7   \n",
       "89       Resident Evil: Apocalypse             6.4             6.1   \n",
       "\n",
       "    diferenciaAverage  \n",
       "0                 0.4  \n",
       "1                 0.9  \n",
       "2                 0.3  \n",
       "3                 0.5  \n",
       "4                 0.0  \n",
       "..                ...  \n",
       "85                0.2  \n",
       "86               -0.3  \n",
       "87                0.1  \n",
       "88                0.9  \n",
       "89                0.3  \n",
       "\n",
       "[90 rows x 7 columns]"
      ]
     },
     "metadata": {},
     "output_type": "display_data"
    },
    {
     "name": "stdout",
     "output_type": "stream",
     "text": [
      "la mitja de average es de : 0.20111111111111102\n"
     ]
    }
   ],
   "source": [
    "# Merge per duplicat per obentenir les valoracions\n",
    "moviesSeqRatinOriginal = newName.merge(ratings, left_on='id_original', right_on='id' )\n",
    "moviesSeqRatinSequel = moviesSeqRatinOriginal.merge(ratings, left_on='id_sequel', right_on='id')\n",
    "#get solo las columnas necesarioas\n",
    "getDataUtils = moviesSeqRatinSequel[['id_original','titol_original','id_sequel','titol_sequel','vote_average_x','vote_average_y']]\n",
    "getDataUtils.head()\n",
    "# creem nova columna amb la diferenta valoracació sequel i original\n",
    "getDataUtils['diferenciaAverage'] = getDataUtils['vote_average_x'] - getDataUtils['vote_average_y']\n",
    "display(getDataUtils)\n",
    "#mostre mitja\n",
    "mitjaAverage = getDataUtils['diferenciaAverage'].mean()\n",
    "print(f\"la mitja de average es de : {mitjaAverage}\")\n"
   ]
  },
  {
   "cell_type": "code",
   "execution_count": 27,
   "metadata": {
    "id": "0qrqkwUq3PXf"
   },
   "outputs": [
    {
     "data": {
      "text/html": [
       "<div>\n",
       "<style scoped>\n",
       "    .dataframe tbody tr th:only-of-type {\n",
       "        vertical-align: middle;\n",
       "    }\n",
       "\n",
       "    .dataframe tbody tr th {\n",
       "        vertical-align: top;\n",
       "    }\n",
       "\n",
       "    .dataframe thead th {\n",
       "        text-align: right;\n",
       "    }\n",
       "</style>\n",
       "<table border=\"1\" class=\"dataframe\">\n",
       "  <thead>\n",
       "    <tr style=\"text-align: right;\">\n",
       "      <th></th>\n",
       "      <th>id_original</th>\n",
       "      <th>titol_original</th>\n",
       "      <th>id_sequel</th>\n",
       "      <th>titol_sequel</th>\n",
       "      <th>vote_average_x</th>\n",
       "      <th>vote_average_y</th>\n",
       "      <th>diferenciaAverage</th>\n",
       "    </tr>\n",
       "  </thead>\n",
       "  <tbody>\n",
       "    <tr>\n",
       "      <th>39</th>\n",
       "      <td>9355</td>\n",
       "      <td>Mad Max Beyond Thunderdome</td>\n",
       "      <td>76341</td>\n",
       "      <td>Mad Max: Fury Road</td>\n",
       "      <td>5.9</td>\n",
       "      <td>7.2</td>\n",
       "      <td>-1.3</td>\n",
       "    </tr>\n",
       "    <tr>\n",
       "      <th>35</th>\n",
       "      <td>1771</td>\n",
       "      <td>Captain America: The First Avenger</td>\n",
       "      <td>100402</td>\n",
       "      <td>Captain America: The Winter Soldier</td>\n",
       "      <td>6.6</td>\n",
       "      <td>7.6</td>\n",
       "      <td>-1.0</td>\n",
       "    </tr>\n",
       "    <tr>\n",
       "      <th>25</th>\n",
       "      <td>10676</td>\n",
       "      <td>Halloween III: Season of the Witch</td>\n",
       "      <td>11357</td>\n",
       "      <td>Halloween 4: The Return of Michael Myers</td>\n",
       "      <td>5.0</td>\n",
       "      <td>5.9</td>\n",
       "      <td>-0.9</td>\n",
       "    </tr>\n",
       "    <tr>\n",
       "      <th>80</th>\n",
       "      <td>10764</td>\n",
       "      <td>Quantum of Solace</td>\n",
       "      <td>37724</td>\n",
       "      <td>Skyfall</td>\n",
       "      <td>6.1</td>\n",
       "      <td>6.9</td>\n",
       "      <td>-0.8</td>\n",
       "    </tr>\n",
       "    <tr>\n",
       "      <th>77</th>\n",
       "      <td>331</td>\n",
       "      <td>Jurassic Park III</td>\n",
       "      <td>135397</td>\n",
       "      <td>Jurassic World</td>\n",
       "      <td>5.7</td>\n",
       "      <td>6.5</td>\n",
       "      <td>-0.8</td>\n",
       "    </tr>\n",
       "  </tbody>\n",
       "</table>\n",
       "</div>"
      ],
      "text/plain": [
       "    id_original                      titol_original  id_sequel  \\\n",
       "39         9355          Mad Max Beyond Thunderdome      76341   \n",
       "35         1771  Captain America: The First Avenger     100402   \n",
       "25        10676  Halloween III: Season of the Witch      11357   \n",
       "80        10764                   Quantum of Solace      37724   \n",
       "77          331                   Jurassic Park III     135397   \n",
       "\n",
       "                                titol_sequel  vote_average_x  vote_average_y  \\\n",
       "39                        Mad Max: Fury Road             5.9             7.2   \n",
       "35       Captain America: The Winter Soldier             6.6             7.6   \n",
       "25  Halloween 4: The Return of Michael Myers             5.0             5.9   \n",
       "80                                   Skyfall             6.1             6.9   \n",
       "77                            Jurassic World             5.7             6.5   \n",
       "\n",
       "    diferenciaAverage  \n",
       "39               -1.3  \n",
       "35               -1.0  \n",
       "25               -0.9  \n",
       "80               -0.8  \n",
       "77               -0.8  "
      ]
     },
     "metadata": {},
     "output_type": "display_data"
    }
   ],
   "source": [
    "# Mostra les 5 millor sequeles en comparació a la seva predecesora\n",
    "\n",
    "top5Sequels = getDataUtils.query('diferenciaAverage < 0 ').sort_values(by = 'diferenciaAverage', ascending = True)[0:5]\n",
    "display(top5Sequels)"
   ]
  },
  {
   "cell_type": "markdown",
   "metadata": {
    "id": "TOOLJd3L3Utw"
   },
   "source": [
    "\n",
    "\n",
    "---\n",
    "\n"
   ]
  },
  {
   "cell_type": "markdown",
   "metadata": {
    "id": "vORD4Eh-3QGW"
   },
   "source": [
    "## UPGRADE - CASTING\n"
   ]
  },
  {
   "cell_type": "markdown",
   "metadata": {
    "id": "tLKEJ-xA3WYS"
   },
   "source": [
    "A partir del dataset actors, fes l'anàlisis que consideris adient per escollir els nostres actors/actrius"
   ]
  }
 ],
 "metadata": {
  "colab": {
   "provenance": [
    {
     "file_id": "1wSZBL3KvYFiIRhlrymTSprVfH8ZYAptH",
     "timestamp": 1661969917941
    }
   ]
  },
  "kernelspec": {
   "display_name": "Python 3 (ipykernel)",
   "language": "python",
   "name": "python3"
  },
  "language_info": {
   "codemirror_mode": {
    "name": "ipython",
    "version": 3
   },
   "file_extension": ".py",
   "mimetype": "text/x-python",
   "name": "python",
   "nbconvert_exporter": "python",
   "pygments_lexer": "ipython3",
   "version": "3.9.13"
  }
 },
 "nbformat": 4,
 "nbformat_minor": 4
}
