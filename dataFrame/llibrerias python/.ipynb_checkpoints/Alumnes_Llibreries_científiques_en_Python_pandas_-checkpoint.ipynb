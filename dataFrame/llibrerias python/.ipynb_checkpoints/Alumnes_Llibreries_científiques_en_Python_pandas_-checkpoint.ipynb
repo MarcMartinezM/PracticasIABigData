{
 "cells": [
  {
   "cell_type": "markdown",
   "id": "2bb3958f",
   "metadata": {
    "id": "2bb3958f"
   },
   "source": [
    "# Llibreries científiques en Python - pandas"
   ]
  },
  {
   "cell_type": "code",
   "execution_count": null,
   "id": "94cdc3db-4a40-4caf-bfe2-55ddffd7fd73",
   "metadata": {},
   "outputs": [],
   "source": []
  },
  {
   "cell_type": "markdown",
   "id": "35efa36d",
   "metadata": {
    "id": "35efa36d"
   },
   "source": [
    "## Series"
   ]
  },
  {
   "cell_type": "markdown",
   "id": "8a522e84",
   "metadata": {
    "id": "8a522e84"
   },
   "source": [
    "Una sèrie és un vector unidimensional amb etiquetes als eixos i\n",
    "dades homogènies.Repassem què impliquen cadascuna d'aquestes característiques amb uns\n",
    "exemples.La sèrie ens permet representar un conjunt de dades unidimensionals,\n",
    "per exemple, una llista d'enters, decimals o de cadenes de caràcters:"
   ]
  },
  {
   "cell_type": "code",
   "execution_count": 2,
   "id": "50bbddb4",
   "metadata": {},
   "outputs": [
    {
     "name": "stdout",
     "output_type": "stream",
     "text": [
      "0     6\n",
      "1     8\n",
      "2    10\n",
      "3    12\n",
      "dtype: int64\n"
     ]
    }
   ],
   "source": [
    "import pandas as pd\n",
    "\n",
    "serie = pd.Series([1,2,3,4])\n",
    "type(serie)\n",
    "\n",
    "serieTwo = pd.Series([5,6,7,8])\n",
    "     \n",
    "print(serie+serieTwo)"
   ]
  },
  {
   "cell_type": "markdown",
   "id": "uudg6SDYWtuC",
   "metadata": {
    "id": "uudg6SDYWtuC"
   },
   "source": [
    "## DataFrames\n",
    "\n",
    "Un dataframe és una taula bidimensional amb etiquetes als eixos\n",
    "i dades potencialment heterogènies. El dataframe és l' estructura\n",
    "principal de treball amb la llibreria pandas.A diferència d'una sèrie, un dataframe és bidimensional:"
   ]
  },
  {
   "cell_type": "code",
   "execution_count": 7,
   "id": "bd6099be",
   "metadata": {},
   "outputs": [
    {
     "name": "stdout",
     "output_type": "stream",
     "text": [
      "       year subject  avearge\n",
      "Marc   2018     M08      3.4\n",
      "Marc   2018     M09      6.0\n",
      "Ruben  2018     M10      7.0\n"
     ]
    }
   ],
   "source": [
    "subjects = [[2018,\"M08\",3.4],[2018,\"M09\",6],[2018,\"M10\",7]]\n",
    "print( pd.DataFrame(subjects, columns =[ \"year\",\"subject\",\"avearge\"], index = [\"Marc\",\"Marc\", \"Ruben\"] ))"
   ]
  },
  {
   "cell_type": "markdown",
   "id": "u-PvqWp1BpPF",
   "metadata": {
    "id": "u-PvqWp1BpPF"
   },
   "source": [
    "### Operacions bàsiques - DataFrame"
   ]
  },
  {
   "cell_type": "markdown",
   "id": "5c_ESMJ7CTdW",
   "metadata": {
    "id": "5c_ESMJ7CTdW"
   },
   "source": [
    "#### Lectura sobre Fitxer\n",
    "\n",
    "Pandas ens permet carregar les dades d'un fitxer CSV directament a un dataframe a través de la funció read_csv.\n",
    "\n",
    "Ara carregarem les dades del fitxer [marvel-wikia-data.csv](https://github.com/fivethirtyeight/data/tree/master/comic-characters) \n",
    "\n"
   ]
  },
  {
   "cell_type": "code",
   "execution_count": 8,
   "id": "503dcc33-a6c7-408e-817e-9b8ae20d61d5",
   "metadata": {},
   "outputs": [
    {
     "name": "stdout",
     "output_type": "stream",
     "text": [
      "   page_id                                 name  \\\n",
      "0     1678            Spider-Man (Peter Parker)   \n",
      "1     7139      Captain America (Steven Rogers)   \n",
      "2    64786  Wolverine (James \\\"Logan\\\" Howlett)   \n",
      "3     1868    Iron Man (Anthony \\\"Tony\\\" Stark)   \n",
      "4     2460                  Thor (Thor Odinson)   \n",
      "\n",
      "                                   urlslug                ID  \\\n",
      "0              \\/Spider-Man_(Peter_Parker)   Secret Identity   \n",
      "1        \\/Captain_America_(Steven_Rogers)   Public Identity   \n",
      "2  \\/Wolverine_(James_%22Logan%22_Howlett)   Public Identity   \n",
      "3    \\/Iron_Man_(Anthony_%22Tony%22_Stark)   Public Identity   \n",
      "4                    \\/Thor_(Thor_Odinson)  No Dual Identity   \n",
      "\n",
      "                ALIGN         EYE        HAIR              SEX  GSM  \\\n",
      "0     Good Characters  Hazel Eyes  Brown Hair  Male Characters  NaN   \n",
      "1     Good Characters   Blue Eyes  White Hair  Male Characters  NaN   \n",
      "2  Neutral Characters   Blue Eyes  Black Hair  Male Characters  NaN   \n",
      "3     Good Characters   Blue Eyes  Black Hair  Male Characters  NaN   \n",
      "4     Good Characters   Blue Eyes  Blond Hair  Male Characters  NaN   \n",
      "\n",
      "               ALIVE  APPEARANCES FIRST APPEARANCE    Year  \n",
      "0  Living Characters       4043.0           Aug-62  1962.0  \n",
      "1  Living Characters       3360.0           Mar-41  1941.0  \n",
      "2  Living Characters       3061.0           Oct-74  1974.0  \n",
      "3  Living Characters       2961.0           Mar-63  1963.0  \n",
      "4  Living Characters       2258.0           Nov-50  1950.0  \n"
     ]
    }
   ],
   "source": [
    "dataMarvel = pd.read_csv(\"marvel-wikia-data.csv\")\n",
    "print(dataMarvel.head())"
   ]
  },
  {
   "cell_type": "code",
   "execution_count": 9,
   "id": "4ea03343-4692-491a-9ee3-04edd74e534d",
   "metadata": {},
   "outputs": [
    {
     "name": "stdout",
     "output_type": "stream",
     "text": [
      "page_id               int64\n",
      "name                 object\n",
      "urlslug              object\n",
      "ID                   object\n",
      "ALIGN                object\n",
      "EYE                  object\n",
      "HAIR                 object\n",
      "SEX                  object\n",
      "GSM                  object\n",
      "ALIVE                object\n",
      "APPEARANCES         float64\n",
      "FIRST APPEARANCE     object\n",
      "Year                float64\n",
      "dtype: object\n"
     ]
    }
   ],
   "source": [
    "#el tipo de variable\n",
    "print(dataMarvel.dtypes)"
   ]
  },
  {
   "cell_type": "markdown",
   "id": "9LjtXjwbGUh4",
   "metadata": {
    "id": "9LjtXjwbGUh4"
   },
   "source": [
    "#### Selecció de dades"
   ]
  },
  {
   "cell_type": "code",
   "execution_count": 10,
   "id": "456f296a-cad6-401b-8ad2-382f4d6c1ed1",
   "metadata": {},
   "outputs": [
    {
     "name": "stdout",
     "output_type": "stream",
     "text": [
      "(16376, 13)\n"
     ]
    }
   ],
   "source": [
    "# numero de filas y columnas\n",
    "print(dataMarvel.shape)"
   ]
  },
  {
   "cell_type": "markdown",
   "id": "79eb5fbd-4f16-4b8c-8ccb-890efd256309",
   "metadata": {},
   "source": [
    "ESTADISTICA BASICA"
   ]
  },
  {
   "cell_type": "code",
   "execution_count": 11,
   "id": "f85a55ba-3249-4975-bfcf-e6a1187a5585",
   "metadata": {},
   "outputs": [
    {
     "data": {
      "text/plain": [
       "count    15280.000000\n",
       "mean        17.033377\n",
       "std         96.372959\n",
       "min          1.000000\n",
       "25%          1.000000\n",
       "50%          3.000000\n",
       "75%          8.000000\n",
       "max       4043.000000\n",
       "Name: APPEARANCES, dtype: float64"
      ]
     },
     "execution_count": 11,
     "metadata": {},
     "output_type": "execute_result"
    }
   ],
   "source": [
    "#datas basicas estadisticas\n",
    "dataMarvel[\"APPEARANCES\"].describe()"
   ]
  },
  {
   "cell_type": "code",
   "execution_count": 12,
   "id": "4d88b270-0bc9-43db-aea7-5d231adfca48",
   "metadata": {},
   "outputs": [
    {
     "data": {
      "text/html": [
       "<div>\n",
       "<style scoped>\n",
       "    .dataframe tbody tr th:only-of-type {\n",
       "        vertical-align: middle;\n",
       "    }\n",
       "\n",
       "    .dataframe tbody tr th {\n",
       "        vertical-align: top;\n",
       "    }\n",
       "\n",
       "    .dataframe thead th {\n",
       "        text-align: right;\n",
       "    }\n",
       "</style>\n",
       "<table border=\"1\" class=\"dataframe\">\n",
       "  <thead>\n",
       "    <tr style=\"text-align: right;\">\n",
       "      <th></th>\n",
       "      <th>page_id</th>\n",
       "      <th>name</th>\n",
       "      <th>urlslug</th>\n",
       "      <th>ID</th>\n",
       "      <th>ALIGN</th>\n",
       "      <th>EYE</th>\n",
       "      <th>HAIR</th>\n",
       "      <th>SEX</th>\n",
       "      <th>GSM</th>\n",
       "      <th>ALIVE</th>\n",
       "      <th>APPEARANCES</th>\n",
       "      <th>FIRST APPEARANCE</th>\n",
       "      <th>Year</th>\n",
       "    </tr>\n",
       "  </thead>\n",
       "  <tbody>\n",
       "    <tr>\n",
       "      <th>0</th>\n",
       "      <td>1678</td>\n",
       "      <td>Spider-Man (Peter Parker)</td>\n",
       "      <td>\\/Spider-Man_(Peter_Parker)</td>\n",
       "      <td>Secret Identity</td>\n",
       "      <td>Good Characters</td>\n",
       "      <td>Hazel Eyes</td>\n",
       "      <td>Brown Hair</td>\n",
       "      <td>Male Characters</td>\n",
       "      <td>NaN</td>\n",
       "      <td>Living Characters</td>\n",
       "      <td>4043.0</td>\n",
       "      <td>Aug-62</td>\n",
       "      <td>1962.0</td>\n",
       "    </tr>\n",
       "    <tr>\n",
       "      <th>1</th>\n",
       "      <td>7139</td>\n",
       "      <td>Captain America (Steven Rogers)</td>\n",
       "      <td>\\/Captain_America_(Steven_Rogers)</td>\n",
       "      <td>Public Identity</td>\n",
       "      <td>Good Characters</td>\n",
       "      <td>Blue Eyes</td>\n",
       "      <td>White Hair</td>\n",
       "      <td>Male Characters</td>\n",
       "      <td>NaN</td>\n",
       "      <td>Living Characters</td>\n",
       "      <td>3360.0</td>\n",
       "      <td>Mar-41</td>\n",
       "      <td>1941.0</td>\n",
       "    </tr>\n",
       "    <tr>\n",
       "      <th>2</th>\n",
       "      <td>64786</td>\n",
       "      <td>Wolverine (James \\\"Logan\\\" Howlett)</td>\n",
       "      <td>\\/Wolverine_(James_%22Logan%22_Howlett)</td>\n",
       "      <td>Public Identity</td>\n",
       "      <td>Neutral Characters</td>\n",
       "      <td>Blue Eyes</td>\n",
       "      <td>Black Hair</td>\n",
       "      <td>Male Characters</td>\n",
       "      <td>NaN</td>\n",
       "      <td>Living Characters</td>\n",
       "      <td>3061.0</td>\n",
       "      <td>Oct-74</td>\n",
       "      <td>1974.0</td>\n",
       "    </tr>\n",
       "    <tr>\n",
       "      <th>3</th>\n",
       "      <td>1868</td>\n",
       "      <td>Iron Man (Anthony \\\"Tony\\\" Stark)</td>\n",
       "      <td>\\/Iron_Man_(Anthony_%22Tony%22_Stark)</td>\n",
       "      <td>Public Identity</td>\n",
       "      <td>Good Characters</td>\n",
       "      <td>Blue Eyes</td>\n",
       "      <td>Black Hair</td>\n",
       "      <td>Male Characters</td>\n",
       "      <td>NaN</td>\n",
       "      <td>Living Characters</td>\n",
       "      <td>2961.0</td>\n",
       "      <td>Mar-63</td>\n",
       "      <td>1963.0</td>\n",
       "    </tr>\n",
       "    <tr>\n",
       "      <th>4</th>\n",
       "      <td>2460</td>\n",
       "      <td>Thor (Thor Odinson)</td>\n",
       "      <td>\\/Thor_(Thor_Odinson)</td>\n",
       "      <td>No Dual Identity</td>\n",
       "      <td>Good Characters</td>\n",
       "      <td>Blue Eyes</td>\n",
       "      <td>Blond Hair</td>\n",
       "      <td>Male Characters</td>\n",
       "      <td>NaN</td>\n",
       "      <td>Living Characters</td>\n",
       "      <td>2258.0</td>\n",
       "      <td>Nov-50</td>\n",
       "      <td>1950.0</td>\n",
       "    </tr>\n",
       "    <tr>\n",
       "      <th>...</th>\n",
       "      <td>...</td>\n",
       "      <td>...</td>\n",
       "      <td>...</td>\n",
       "      <td>...</td>\n",
       "      <td>...</td>\n",
       "      <td>...</td>\n",
       "      <td>...</td>\n",
       "      <td>...</td>\n",
       "      <td>...</td>\n",
       "      <td>...</td>\n",
       "      <td>...</td>\n",
       "      <td>...</td>\n",
       "      <td>...</td>\n",
       "    </tr>\n",
       "    <tr>\n",
       "      <th>16371</th>\n",
       "      <td>657508</td>\n",
       "      <td>Ru'ach (Earth-616)</td>\n",
       "      <td>\\/Ru%27ach_(Earth-616)</td>\n",
       "      <td>No Dual Identity</td>\n",
       "      <td>Bad Characters</td>\n",
       "      <td>Green Eyes</td>\n",
       "      <td>No Hair</td>\n",
       "      <td>Male Characters</td>\n",
       "      <td>NaN</td>\n",
       "      <td>Living Characters</td>\n",
       "      <td>NaN</td>\n",
       "      <td>NaN</td>\n",
       "      <td>NaN</td>\n",
       "    </tr>\n",
       "    <tr>\n",
       "      <th>16372</th>\n",
       "      <td>665474</td>\n",
       "      <td>Thane (Thanos' son) (Earth-616)</td>\n",
       "      <td>\\/Thane_(Thanos%27_son)_(Earth-616)</td>\n",
       "      <td>No Dual Identity</td>\n",
       "      <td>Good Characters</td>\n",
       "      <td>Blue Eyes</td>\n",
       "      <td>Bald</td>\n",
       "      <td>Male Characters</td>\n",
       "      <td>NaN</td>\n",
       "      <td>Living Characters</td>\n",
       "      <td>NaN</td>\n",
       "      <td>NaN</td>\n",
       "      <td>NaN</td>\n",
       "    </tr>\n",
       "    <tr>\n",
       "      <th>16373</th>\n",
       "      <td>695217</td>\n",
       "      <td>Tinkerer (Skrull) (Earth-616)</td>\n",
       "      <td>\\/Tinkerer_(Skrull)_(Earth-616)</td>\n",
       "      <td>Secret Identity</td>\n",
       "      <td>Bad Characters</td>\n",
       "      <td>Black Eyes</td>\n",
       "      <td>Bald</td>\n",
       "      <td>Male Characters</td>\n",
       "      <td>NaN</td>\n",
       "      <td>Living Characters</td>\n",
       "      <td>NaN</td>\n",
       "      <td>NaN</td>\n",
       "      <td>NaN</td>\n",
       "    </tr>\n",
       "    <tr>\n",
       "      <th>16374</th>\n",
       "      <td>708811</td>\n",
       "      <td>TK421 (Spiderling) (Earth-616)</td>\n",
       "      <td>\\/TK421_(Spiderling)_(Earth-616)</td>\n",
       "      <td>Secret Identity</td>\n",
       "      <td>Neutral Characters</td>\n",
       "      <td>NaN</td>\n",
       "      <td>NaN</td>\n",
       "      <td>Male Characters</td>\n",
       "      <td>NaN</td>\n",
       "      <td>Living Characters</td>\n",
       "      <td>NaN</td>\n",
       "      <td>NaN</td>\n",
       "      <td>NaN</td>\n",
       "    </tr>\n",
       "    <tr>\n",
       "      <th>16375</th>\n",
       "      <td>673702</td>\n",
       "      <td>Yologarch (Earth-616)</td>\n",
       "      <td>\\/Yologarch_(Earth-616)</td>\n",
       "      <td>NaN</td>\n",
       "      <td>Bad Characters</td>\n",
       "      <td>NaN</td>\n",
       "      <td>NaN</td>\n",
       "      <td>NaN</td>\n",
       "      <td>NaN</td>\n",
       "      <td>Living Characters</td>\n",
       "      <td>NaN</td>\n",
       "      <td>NaN</td>\n",
       "      <td>NaN</td>\n",
       "    </tr>\n",
       "  </tbody>\n",
       "</table>\n",
       "<p>16376 rows × 13 columns</p>\n",
       "</div>"
      ],
      "text/plain": [
       "       page_id                                 name  \\\n",
       "0         1678            Spider-Man (Peter Parker)   \n",
       "1         7139      Captain America (Steven Rogers)   \n",
       "2        64786  Wolverine (James \\\"Logan\\\" Howlett)   \n",
       "3         1868    Iron Man (Anthony \\\"Tony\\\" Stark)   \n",
       "4         2460                  Thor (Thor Odinson)   \n",
       "...        ...                                  ...   \n",
       "16371   657508                   Ru'ach (Earth-616)   \n",
       "16372   665474      Thane (Thanos' son) (Earth-616)   \n",
       "16373   695217        Tinkerer (Skrull) (Earth-616)   \n",
       "16374   708811       TK421 (Spiderling) (Earth-616)   \n",
       "16375   673702                Yologarch (Earth-616)   \n",
       "\n",
       "                                       urlslug                ID  \\\n",
       "0                  \\/Spider-Man_(Peter_Parker)   Secret Identity   \n",
       "1            \\/Captain_America_(Steven_Rogers)   Public Identity   \n",
       "2      \\/Wolverine_(James_%22Logan%22_Howlett)   Public Identity   \n",
       "3        \\/Iron_Man_(Anthony_%22Tony%22_Stark)   Public Identity   \n",
       "4                        \\/Thor_(Thor_Odinson)  No Dual Identity   \n",
       "...                                        ...               ...   \n",
       "16371                   \\/Ru%27ach_(Earth-616)  No Dual Identity   \n",
       "16372      \\/Thane_(Thanos%27_son)_(Earth-616)  No Dual Identity   \n",
       "16373          \\/Tinkerer_(Skrull)_(Earth-616)   Secret Identity   \n",
       "16374         \\/TK421_(Spiderling)_(Earth-616)   Secret Identity   \n",
       "16375                  \\/Yologarch_(Earth-616)               NaN   \n",
       "\n",
       "                    ALIGN         EYE        HAIR              SEX  GSM  \\\n",
       "0         Good Characters  Hazel Eyes  Brown Hair  Male Characters  NaN   \n",
       "1         Good Characters   Blue Eyes  White Hair  Male Characters  NaN   \n",
       "2      Neutral Characters   Blue Eyes  Black Hair  Male Characters  NaN   \n",
       "3         Good Characters   Blue Eyes  Black Hair  Male Characters  NaN   \n",
       "4         Good Characters   Blue Eyes  Blond Hair  Male Characters  NaN   \n",
       "...                   ...         ...         ...              ...  ...   \n",
       "16371      Bad Characters  Green Eyes     No Hair  Male Characters  NaN   \n",
       "16372     Good Characters   Blue Eyes        Bald  Male Characters  NaN   \n",
       "16373      Bad Characters  Black Eyes        Bald  Male Characters  NaN   \n",
       "16374  Neutral Characters         NaN         NaN  Male Characters  NaN   \n",
       "16375      Bad Characters         NaN         NaN              NaN  NaN   \n",
       "\n",
       "                   ALIVE  APPEARANCES FIRST APPEARANCE    Year  \n",
       "0      Living Characters       4043.0           Aug-62  1962.0  \n",
       "1      Living Characters       3360.0           Mar-41  1941.0  \n",
       "2      Living Characters       3061.0           Oct-74  1974.0  \n",
       "3      Living Characters       2961.0           Mar-63  1963.0  \n",
       "4      Living Characters       2258.0           Nov-50  1950.0  \n",
       "...                  ...          ...              ...     ...  \n",
       "16371  Living Characters          NaN              NaN     NaN  \n",
       "16372  Living Characters          NaN              NaN     NaN  \n",
       "16373  Living Characters          NaN              NaN     NaN  \n",
       "16374  Living Characters          NaN              NaN     NaN  \n",
       "16375  Living Characters          NaN              NaN     NaN  \n",
       "\n",
       "[16376 rows x 13 columns]"
      ]
     },
     "metadata": {},
     "output_type": "display_data"
    }
   ],
   "source": [
    "#muestras las listas \"ms bonitas\"\n",
    "display(dataMarvel)"
   ]
  },
  {
   "cell_type": "markdown",
   "id": "e59e4980-61b2-4439-88d2-9e838487216d",
   "metadata": {},
   "source": [
    "Selccio de dades"
   ]
  },
  {
   "cell_type": "code",
   "execution_count": 13,
   "id": "5f8ec78a-7af2-4c4c-a6d8-7cf9e471cfee",
   "metadata": {},
   "outputs": [
    {
     "data": {
      "text/plain": [
       "5     Benjamin Grimm (Earth-616)\n",
       "6      Reed Richards (Earth-616)\n",
       "7     Hulk (Robert Bruce Banner)\n",
       "8      Scott Summers (Earth-616)\n",
       "9     Jonathan Storm (Earth-616)\n",
       "10       Henry McCoy (Earth-616)\n",
       "11       Susan Storm (Earth-616)\n",
       "12    Namor McKenzie (Earth-616)\n",
       "13      Ororo Munroe (Earth-616)\n",
       "14    Clinton Barton (Earth-616)\n",
       "Name: name, dtype: object"
      ]
     },
     "execution_count": 13,
     "metadata": {},
     "output_type": "execute_result"
    }
   ],
   "source": [
    "#muestra los nombres de la fila 5 al 15\n",
    "dataMarvel[\"name\"][5:15]"
   ]
  },
  {
   "cell_type": "code",
   "execution_count": 14,
   "id": "caee1deb-fee8-46f0-a1ea-0ad760553c08",
   "metadata": {},
   "outputs": [
    {
     "data": {
      "text/html": [
       "<div>\n",
       "<style scoped>\n",
       "    .dataframe tbody tr th:only-of-type {\n",
       "        vertical-align: middle;\n",
       "    }\n",
       "\n",
       "    .dataframe tbody tr th {\n",
       "        vertical-align: top;\n",
       "    }\n",
       "\n",
       "    .dataframe thead th {\n",
       "        text-align: right;\n",
       "    }\n",
       "</style>\n",
       "<table border=\"1\" class=\"dataframe\">\n",
       "  <thead>\n",
       "    <tr style=\"text-align: right;\">\n",
       "      <th></th>\n",
       "      <th>name</th>\n",
       "      <th>APPEARANCES</th>\n",
       "    </tr>\n",
       "  </thead>\n",
       "  <tbody>\n",
       "    <tr>\n",
       "      <th>20</th>\n",
       "      <td>Henry Pym (Earth-616)</td>\n",
       "      <td>1237.0</td>\n",
       "    </tr>\n",
       "    <tr>\n",
       "      <th>21</th>\n",
       "      <td>Charles Xavier (Earth-616)</td>\n",
       "      <td>1233.0</td>\n",
       "    </tr>\n",
       "    <tr>\n",
       "      <th>22</th>\n",
       "      <td>Warren Worthington III (Earth-616)</td>\n",
       "      <td>1230.0</td>\n",
       "    </tr>\n",
       "    <tr>\n",
       "      <th>23</th>\n",
       "      <td>Piotr Rasputin (Earth-616)</td>\n",
       "      <td>1162.0</td>\n",
       "    </tr>\n",
       "    <tr>\n",
       "      <th>24</th>\n",
       "      <td>Wanda Maximoff (Earth-616)</td>\n",
       "      <td>1161.0</td>\n",
       "    </tr>\n",
       "    <tr>\n",
       "      <th>25</th>\n",
       "      <td>Nicholas Fury (Earth-616)</td>\n",
       "      <td>1137.0</td>\n",
       "    </tr>\n",
       "  </tbody>\n",
       "</table>\n",
       "</div>"
      ],
      "text/plain": [
       "                                  name  APPEARANCES\n",
       "20               Henry Pym (Earth-616)       1237.0\n",
       "21          Charles Xavier (Earth-616)       1233.0\n",
       "22  Warren Worthington III (Earth-616)       1230.0\n",
       "23          Piotr Rasputin (Earth-616)       1162.0\n",
       "24          Wanda Maximoff (Earth-616)       1161.0\n",
       "25           Nicholas Fury (Earth-616)       1137.0"
      ]
     },
     "execution_count": 14,
     "metadata": {},
     "output_type": "execute_result"
    }
   ],
   "source": [
    "# ocn loc recoge los indices exacotos o un rango\n",
    "dataMarvel.loc[20:25,[\"name\",\"APPEARANCES\"]]"
   ]
  },
  {
   "cell_type": "code",
   "execution_count": 15,
   "id": "f042120b-e3cf-4bed-b58b-7ea49de503a1",
   "metadata": {},
   "outputs": [
    {
     "name": "stdout",
     "output_type": "stream",
     "text": [
      "11638\n",
      "3837\n",
      "901\n"
     ]
    }
   ],
   "source": [
    "#guarda en una varable las filas donde la columna SEX sea igual a Male o Female\n",
    "male = dataMarvel[dataMarvel.SEX == \"Male Characters\"]\n",
    "female = dataMarvel[dataMarvel[\"SEX\"] == \"Female Characters\"]\n",
    "print(len(male))\n",
    "print(len(female))\n",
    "\n",
    "#que no sea ni hombre ni mujer\n",
    "popularHero = dataMarvel[(dataMarvel.SEX != \"Male Characters\") & (dataMarvel.SEX != \"Female Characters\") ]\n",
    "\n",
    "print(len(popularHero))"
   ]
  },
  {
   "cell_type": "code",
   "execution_count": 16,
   "id": "3ac1f100-78a4-4a6d-9ea9-7d10628bdc25",
   "metadata": {},
   "outputs": [
    {
     "name": "stdout",
     "output_type": "stream",
     "text": [
      "                            name  APPEARANCES\n",
      "11       Susan Storm (Earth-616)       1713.0\n",
      "13      Ororo Munroe (Earth-616)       1512.0\n",
      "17  Mary Jane Watson (Earth-616)       1304.0\n",
      "['Male Characters' 'Female Characters' 'Genderfluid Characters'\n",
      " 'Agender Characters' nan]\n",
      "16376\n",
      "Male Characters           11638\n",
      "Female Characters          3837\n",
      "Agender Characters           45\n",
      "Genderfluid Characters        2\n",
      "Name: SEX, dtype: int64\n"
     ]
    }
   ],
   "source": [
    "#print top 3 mujeres que mas aparecen\n",
    "print(female.sort_values(\"APPEARANCES\",ascending=False)[0:3][[\"name\",\"APPEARANCES\"]])\n",
    "\n",
    "#que tipos de genero existen\n",
    "print(dataMarvel[\"SEX\"].unique())\n",
    "\n",
    "#no tiene genero\n",
    "print(len(dataMarvel.SEX.isnull()))\n",
    "#cuenta todos los generos\n",
    "print(dataMarvel.SEX.value_counts())"
   ]
  },
  {
   "cell_type": "code",
   "execution_count": 17,
   "id": "78c23f4e-745d-4507-adb1-7e78a5f3d7f4",
   "metadata": {},
   "outputs": [
    {
     "name": "stdout",
     "output_type": "stream",
     "text": [
      "1\n",
      "5\n",
      "0      Spider-Man (Peter Parker)\n",
      "19      Robert Drake (Earth-616)\n",
      "23    Piotr Rasputin (Earth-616)\n",
      "29       Kurt Wagner (Earth-616)\n",
      "30            Vision (Earth-616)\n",
      "Name: name, dtype: object\n"
     ]
    }
   ],
   "source": [
    "#get los personajes con indentificacion secreta que aparezcan mas de 2000\n",
    "secretos_populares = dataMarvel[(dataMarvel.APPEARANCES > 2000) & (dataMarvel.ID == \"Secret Identity\")]\n",
    "print(len(secretos_populares))\n",
    "#get los personajes con indentificacion secreta que aparezan mas de 1000\n",
    "secretos_populares = dataMarvel.query('APPEARANCES > 1000 and ID == \"Secret Identity\"')\n",
    "print(len(secretos_populares))\n",
    "print(secretos_populares[\"name\"])"
   ]
  },
  {
   "cell_type": "markdown",
   "id": "gjPdZRkJZy5w",
   "metadata": {
    "id": "gjPdZRkJZy5w"
   },
   "source": [
    "#### Agregació de dades"
   ]
  },
  {
   "cell_type": "code",
   "execution_count": 18,
   "id": "94bcc6f6-ab7d-4fef-a727-e4323530032e",
   "metadata": {},
   "outputs": [
    {
     "name": "stdout",
     "output_type": "stream",
     "text": [
      "('Bad Characters', 'Known to Authorities Identity') 3\n",
      "('Bad Characters', 'No Dual Identity') 474\n",
      "('Bad Characters', 'Public Identity') 1452\n",
      "('Bad Characters', 'Secret Identity') 3223\n",
      "('Good Characters', 'Known to Authorities Identity') 10\n",
      "('Good Characters', 'No Dual Identity') 647\n",
      "('Good Characters', 'Public Identity') 1628\n",
      "('Good Characters', 'Secret Identity') 1613\n",
      "('Neutral Characters', 'Known to Authorities Identity') 2\n",
      "('Neutral Characters', 'No Dual Identity') 390\n",
      "('Neutral Characters', 'Public Identity') 706\n",
      "('Neutral Characters', 'Secret Identity') 818\n"
     ]
    }
   ],
   "source": [
    "#agrupa les dades per grups y de aquest grups es poden fer mes dintre \n",
    "grouped = dataMarvel.groupby([\"ALIGN\",\"ID\"])\n",
    "\n",
    "#visualitzar el nom y la cantidad de iflas de grupo\n",
    "for name, group in grouped:\n",
    "    print(name , len(group))"
   ]
  },
  {
   "cell_type": "code",
   "execution_count": 19,
   "id": "124e257d-f6cb-4a55-a103-480a522334be",
   "metadata": {},
   "outputs": [
    {
     "name": "stdout",
     "output_type": "stream",
     "text": [
      "ALIGN               ID                           \n",
      "Bad Characters      Known to Authorities Identity     11.666667\n",
      "                    No Dual Identity                  10.434211\n",
      "                    Public Identity                   10.846815\n",
      "                    Secret Identity                    8.895082\n",
      "Good Characters     Known to Authorities Identity     72.000000\n",
      "                    No Dual Identity                  41.811570\n",
      "                    Public Identity                   42.761401\n",
      "                    Secret Identity                   37.098220\n",
      "Neutral Characters  Known to Authorities Identity    180.500000\n",
      "                    No Dual Identity                  24.430481\n",
      "                    Public Identity                   22.266165\n",
      "                    Secret Identity                   19.737113\n",
      "Name: APPEARANCES, dtype: float64\n"
     ]
    }
   ],
   "source": [
    "#apartir de los datos agrupados, aplicamos la funcion d'agregacion pd.mean(que calcula la media)\n",
    "grouped.agg({\"APPEARANCES\": \"mean\"})\n",
    "\n",
    "#alternativa\n",
    "print(grouped[\"APPEARANCES\"].mean())"
   ]
  },
  {
   "cell_type": "markdown",
   "id": "sUFyuu6CM37C",
   "metadata": {
    "id": "sUFyuu6CM37C"
   },
   "source": [
    "#### Exportar a CSV"
   ]
  },
  {
   "cell_type": "code",
   "execution_count": 16,
   "id": "8f517fba-f458-4110-882f-d1e28944bcbf",
   "metadata": {},
   "outputs": [],
   "source": [
    "#creamos un dataFrame amb es nostres superheroes.\n",
    "new_dataset = dataMarvel[[\"name\"]]\n",
    "\n",
    "#guardamos el now dataframe a un fitxer\n",
    "new_dataset.to_csv(\"marvel-wiki-data-reduced.csv\", encoding = 'UTF-8')\n",
    "\n",
    "new_dataset = dataMarvel[[\"name\",\"ID\",\"HAIR\"]]\n",
    "new_dataset.to_csv(\"marvel-wiki-data-reduced2.csv\", encoding = 'UTF-8')"
   ]
  },
  {
   "cell_type": "markdown",
   "id": "dL7l7AkZ-inu",
   "metadata": {
    "id": "dL7l7AkZ-inu"
   },
   "source": [
    "### Visualitzacions de DataFrame"
   ]
  },
  {
   "cell_type": "markdown",
   "id": "JZv-ryBXAOR4",
   "metadata": {
    "id": "JZv-ryBXAOR4"
   },
   "source": [
    "Aprofitant el dataFrame anterior realitzarme una serie de visualitzacions les quals ens ajudaran a extreure conclusions de diferents anàlisis"
   ]
  },
  {
   "cell_type": "markdown",
   "id": "4J2tRFWrAlES",
   "metadata": {
    "id": "4J2tRFWrAlES"
   },
   "source": [
    "#### Bar chart\n",
    "\n",
    "Pasem a analitzar els 10 personatges que més apareixen als còmics de marvel:"
   ]
  },
  {
   "cell_type": "code",
   "execution_count": 20,
   "id": "d7bae221-9b33-4f7e-99eb-c8ef83ea6ec1",
   "metadata": {},
   "outputs": [
    {
     "name": "stdout",
     "output_type": "stream",
     "text": [
      "name\n",
      "Spider-Man (Peter Parker)              4043.0\n",
      "Captain America (Steven Rogers)        3360.0\n",
      "Wolverine (James \\\"Logan\\\" Howlett)    3061.0\n",
      "Iron Man (Anthony \\\"Tony\\\" Stark)      2961.0\n",
      "Thor (Thor Odinson)                    2258.0\n",
      "Benjamin Grimm (Earth-616)             2255.0\n",
      "Reed Richards (Earth-616)              2072.0\n",
      "Hulk (Robert Bruce Banner)             2017.0\n",
      "Scott Summers (Earth-616)              1955.0\n",
      "Jonathan Storm (Earth-616)             1934.0\n",
      "Name: APPEARANCES, dtype: float64\n"
     ]
    }
   ],
   "source": [
    "#top 10 aparicienes de los personajes\n",
    "app_name = dataMarvel.groupby([\"name\"])[\"APPEARANCES\"].sum()\n",
    "app_name_top10 = app_name.sort_values(ascending = False)[0:10]\n",
    "\n",
    "print(app_name_top10)"
   ]
  },
  {
   "cell_type": "code",
   "execution_count": 21,
   "id": "1e45d556-de43-4c61-8636-165ac57c9ff5",
   "metadata": {},
   "outputs": [
    {
     "data": {
      "image/png": "[encoded data removed]",
      "text/plain": [
       "<Figure size 432x288 with 1 Axes>"
      ]
     },
     "metadata": {
      "needs_background": "light"
     },
     "output_type": "display_data"
    }
   ],
   "source": [
    "import matplotlib.pyplot as plt\n",
    "\n",
    "app_name_top10.plot(kind = 'bar')\n",
    "\n",
    "plt.title('top 10 supers x aparicion')\n",
    "\n",
    "plt.show()"
   ]
  },
  {
   "cell_type": "markdown",
   "id": "GdBiJInNB-xS",
   "metadata": {
    "id": "GdBiJInNB-xS"
   },
   "source": [
    "#### Line Bar\n",
    "\n",
    "Com han variat les creacions dels personatges durant els anys:"
   ]
  },
  {
   "cell_type": "markdown",
   "id": "cHXu5D5QEovl",
   "metadata": {
    "id": "cHXu5D5QEovl"
   },
   "source": [
    "#### Histograma\n",
    "\n",
    "Veiem la distribució respecte els anys"
   ]
  },
  {
   "cell_type": "code",
   "execution_count": 24,
   "id": "c059bba8-832b-4ecb-a1b2-0549246026bb",
   "metadata": {},
   "outputs": [
    {
     "data": {
      "image/png": "[encoded data removed]",
      "text/plain": [
       "<Figure size 432x288 with 1 Axes>"
      ]
     },
     "metadata": {
      "needs_background": "light"
     },
     "output_type": "display_data"
    }
   ],
   "source": [
    "app_year = dataMarvel.groupby('Year')['page_id'].count()\n",
    "display(app_year)\n",
    "app_year.plot(x = 'Year',y= 'page_id',kind = 'line')\n",
    "\n",
    "plt.title('year creation')\n",
    "plt.show()"
   ]
  },
  {
   "cell_type": "code",
   "execution_count": 25,
   "id": "cafab1fb-b7e1-43b7-82a5-c920b5e5433d",
   "metadata": {},
   "outputs": [
    {
     "data": {
      "text/plain": [
       "<AxesSubplot:>"
      ]
     },
     "execution_count": 25,
     "metadata": {},
     "output_type": "execute_result"
    },
    {
     "data": {
      "image/png": "[encoded data removed]",
      "text/plain": [
       "<Figure size 432x288 with 1 Axes>"
      ]
     },
     "metadata": {
      "needs_background": "light"
     },
     "output_type": "display_data"
    }
   ],
   "source": [
    "app_year.hist()"
   ]
  },
  {
   "cell_type": "markdown",
   "id": "5b3Ji3dTE2O3",
   "metadata": {
    "id": "5b3Ji3dTE2O3"
   },
   "source": [
    "#### Scatter plot"
   ]
  },
  {
   "cell_type": "code",
   "execution_count": 28,
   "id": "6d205d3a-8766-4077-a301-b404c5a68f65",
   "metadata": {},
   "outputs": [
    {
     "data": {
      "image/png": "[encoded data removed]",
      "text/plain": [
       "<Figure size 432x288 with 1 Axes>"
      ]
     },
     "metadata": {
      "needs_background": "light"
     },
     "output_type": "display_data"
    }
   ],
   "source": [
    "dataMarvel.plot(x = 'Year', y = 'APPEARANCES', kind = 'scatter', title = \"appearances vs Year\")\n",
    "\n",
    "plt.show()"
   ]
  },
  {
   "cell_type": "markdown",
   "id": "wH5t4RVAUP1j",
   "metadata": {
    "id": "wH5t4RVAUP1j"
   },
   "source": [
    "## ACTIVITAT\n",
    "\n",
    "Analitzarem els incendis al brasil entre l'any 1998 i el 2007. https://www.kaggle.com/datasets/gustavomodelli/forest-fires-in-brazil"
   ]
  },
  {
   "cell_type": "markdown",
   "id": "-2Xx3HbVUf8Q",
   "metadata": {
    "id": "-2Xx3HbVUf8Q"
   },
   "source": [
    "\n",
    "Carregueu les dades de l'arxiu amazon.csv , que podeu trobar a la carpeta data, en un dataframe. Aquest conjunt de dades recull informació sobre el nombre d'incendis en boscos a Brasil entre el 1998 i el 2017.  Mostreu el número de files del dataframe i els noms de les columnes."
   ]
  },
  {
   "cell_type": "code",
   "execution_count": 3,
   "id": "MjFc9tEdUjhL",
   "metadata": {
    "id": "MjFc9tEdUjhL"
   },
   "outputs": [
    {
     "data": {
      "text/html": [
       "<div>\n",
       "<style scoped>\n",
       "    .dataframe tbody tr th:only-of-type {\n",
       "        vertical-align: middle;\n",
       "    }\n",
       "\n",
       "    .dataframe tbody tr th {\n",
       "        vertical-align: top;\n",
       "    }\n",
       "\n",
       "    .dataframe thead th {\n",
       "        text-align: right;\n",
       "    }\n",
       "</style>\n",
       "<table border=\"1\" class=\"dataframe\">\n",
       "  <thead>\n",
       "    <tr style=\"text-align: right;\">\n",
       "      <th></th>\n",
       "      <th>year</th>\n",
       "      <th>state</th>\n",
       "      <th>month</th>\n",
       "      <th>number</th>\n",
       "      <th>date</th>\n",
       "    </tr>\n",
       "  </thead>\n",
       "  <tbody>\n",
       "    <tr>\n",
       "      <th>0</th>\n",
       "      <td>1998</td>\n",
       "      <td>Acre</td>\n",
       "      <td>Janeiro</td>\n",
       "      <td>0.0</td>\n",
       "      <td>1998-01-01</td>\n",
       "    </tr>\n",
       "    <tr>\n",
       "      <th>1</th>\n",
       "      <td>1999</td>\n",
       "      <td>Acre</td>\n",
       "      <td>Janeiro</td>\n",
       "      <td>0.0</td>\n",
       "      <td>1999-01-01</td>\n",
       "    </tr>\n",
       "    <tr>\n",
       "      <th>2</th>\n",
       "      <td>2000</td>\n",
       "      <td>Acre</td>\n",
       "      <td>Janeiro</td>\n",
       "      <td>0.0</td>\n",
       "      <td>2000-01-01</td>\n",
       "    </tr>\n",
       "    <tr>\n",
       "      <th>3</th>\n",
       "      <td>2001</td>\n",
       "      <td>Acre</td>\n",
       "      <td>Janeiro</td>\n",
       "      <td>0.0</td>\n",
       "      <td>2001-01-01</td>\n",
       "    </tr>\n",
       "    <tr>\n",
       "      <th>4</th>\n",
       "      <td>2002</td>\n",
       "      <td>Acre</td>\n",
       "      <td>Janeiro</td>\n",
       "      <td>0.0</td>\n",
       "      <td>2002-01-01</td>\n",
       "    </tr>\n",
       "    <tr>\n",
       "      <th>...</th>\n",
       "      <td>...</td>\n",
       "      <td>...</td>\n",
       "      <td>...</td>\n",
       "      <td>...</td>\n",
       "      <td>...</td>\n",
       "    </tr>\n",
       "    <tr>\n",
       "      <th>6449</th>\n",
       "      <td>2012</td>\n",
       "      <td>Tocantins</td>\n",
       "      <td>Dezembro</td>\n",
       "      <td>128.0</td>\n",
       "      <td>2012-01-01</td>\n",
       "    </tr>\n",
       "    <tr>\n",
       "      <th>6450</th>\n",
       "      <td>2013</td>\n",
       "      <td>Tocantins</td>\n",
       "      <td>Dezembro</td>\n",
       "      <td>85.0</td>\n",
       "      <td>2013-01-01</td>\n",
       "    </tr>\n",
       "    <tr>\n",
       "      <th>6451</th>\n",
       "      <td>2014</td>\n",
       "      <td>Tocantins</td>\n",
       "      <td>Dezembro</td>\n",
       "      <td>223.0</td>\n",
       "      <td>2014-01-01</td>\n",
       "    </tr>\n",
       "    <tr>\n",
       "      <th>6452</th>\n",
       "      <td>2015</td>\n",
       "      <td>Tocantins</td>\n",
       "      <td>Dezembro</td>\n",
       "      <td>373.0</td>\n",
       "      <td>2015-01-01</td>\n",
       "    </tr>\n",
       "    <tr>\n",
       "      <th>6453</th>\n",
       "      <td>2016</td>\n",
       "      <td>Tocantins</td>\n",
       "      <td>Dezembro</td>\n",
       "      <td>119.0</td>\n",
       "      <td>2016-01-01</td>\n",
       "    </tr>\n",
       "  </tbody>\n",
       "</table>\n",
       "<p>6454 rows × 5 columns</p>\n",
       "</div>"
      ],
      "text/plain": [
       "      year      state     month  number        date\n",
       "0     1998       Acre   Janeiro     0.0  1998-01-01\n",
       "1     1999       Acre   Janeiro     0.0  1999-01-01\n",
       "2     2000       Acre   Janeiro     0.0  2000-01-01\n",
       "3     2001       Acre   Janeiro     0.0  2001-01-01\n",
       "4     2002       Acre   Janeiro     0.0  2002-01-01\n",
       "...    ...        ...       ...     ...         ...\n",
       "6449  2012  Tocantins  Dezembro   128.0  2012-01-01\n",
       "6450  2013  Tocantins  Dezembro    85.0  2013-01-01\n",
       "6451  2014  Tocantins  Dezembro   223.0  2014-01-01\n",
       "6452  2015  Tocantins  Dezembro   373.0  2015-01-01\n",
       "6453  2016  Tocantins  Dezembro   119.0  2016-01-01\n",
       "\n",
       "[6454 rows x 5 columns]"
      ]
     },
     "metadata": {},
     "output_type": "display_data"
    }
   ],
   "source": [
    "#abrimos el ficheor csv\n",
    "dataAmazonas = pd.read_csv(\"amazon.csv\", encoding = \"Windows-1252\")\n",
    "#mostramos el csv \n",
    "display(dataAmazonas)"
   ]
  },
  {
   "cell_type": "markdown",
   "id": "_l4bamJ6Vd2-",
   "metadata": {
    "id": "_l4bamJ6Vd2-"
   },
   "source": [
    "Agrupeu les dades carregades a l'exercici 1 per any i, per cada any, mostreu el nombre total d'incendis que hi va haver en tot el país."
   ]
  },
  {
   "cell_type": "code",
   "execution_count": 18,
   "id": "n551qWyjVenV",
   "metadata": {
    "id": "n551qWyjVenV"
   },
   "outputs": [
    {
     "name": "stdout",
     "output_type": "stream",
     "text": [
      "year\n",
      "1998    20013.971\n",
      "1999    26882.821\n",
      "2000    27351.251\n",
      "2001    29071.612\n",
      "2002    37390.600\n",
      "2003    42760.674\n",
      "2004    38453.163\n",
      "2005    35004.965\n",
      "2006    33832.161\n",
      "2007    33037.413\n",
      "2008    29378.964\n",
      "2009    39117.178\n",
      "2010    37037.449\n",
      "2011    34633.545\n",
      "2012    40084.860\n",
      "2013    35146.118\n",
      "2014    39621.183\n",
      "2015    41208.292\n",
      "2016    42212.229\n",
      "2017    36685.624\n",
      "Name: number, dtype: float64\n"
     ]
    }
   ],
   "source": [
    "#sumamos todos los incendios por año y los agrupamos\n",
    "grouped_yearFire = dataAmazonas.groupby([\"year\"])[\"number\"].sum()\n",
    "#mostramos \n",
    "print(grouped_yearFire)"
   ]
  },
  {
   "cell_type": "markdown",
   "id": "8Rd7JVChHv7z",
   "metadata": {
    "id": "8Rd7JVChHv7z"
   },
   "source": [
    "Mostra gràficament la lína temporal del nombre d'incendis al brasil durant els darrers anys"
   ]
  },
  {
   "cell_type": "code",
   "execution_count": null,
   "id": "2f2jP4U6H-dO",
   "metadata": {
    "id": "2f2jP4U6H-dO"
   },
   "outputs": [],
   "source": [
    "import matplotlib.pyplot as plt\n",
    "#realizamos una tabla de barras que muetra la suma de incendios por año\n",
    "grouped_yearFire.plot(x = 'year', y = 'number', kind = 'bar', title = 'total incendios x año amazonas')\n",
    "plt.show()"
   ]
  },
  {
   "cell_type": "markdown",
   "id": "K2o-M6h6I7df",
   "metadata": {
    "id": "K2o-M6h6I7df"
   },
   "source": [
    "Mostreu gràficament la suma total d'incendis per mes per detectar els mesos on es produeixen més incendis per mes\n",
    "\n"
   ]
  },
  {
   "cell_type": "code",
   "execution_count": 24,
   "id": "yM02dAUQJM6N",
   "metadata": {
    "id": "yM02dAUQJM6N"
   },
   "outputs": [
    {
     "name": "stdout",
     "output_type": "stream",
     "text": [
      "12\n"
     ]
    },
    {
     "data": {
      "image/png": "[encoded data removed]",
      "text/plain": [
       "<Figure size 432x288 with 1 Axes>"
      ]
     },
     "metadata": {
      "needs_background": "light"
     },
     "output_type": "display_data"
    }
   ],
   "source": [
    "#sumaos los incendios por mes y los agrupamos todos\n",
    "group_month = dataAmazonas.groupby(['month'])['number'].sum()\n",
    "print(len(group_month))\n",
    "#hacemos una grafica para mostrar\n",
    "group_month.plot(x = 'month', y = 'number', kind = 'bar', title = 'top incendios x mes')\n",
    "plt.show()"
   ]
  },
  {
   "cell_type": "markdown",
   "id": "dr-UdyojJX_W",
   "metadata": {
    "id": "dr-UdyojJX_W"
   },
   "source": [
    "Mostreu també la mitja d'incendis anual, mensual i per estat"
   ]
  },
  {
   "cell_type": "code",
   "execution_count": 45,
   "id": "2BZHM2i4JdHs",
   "metadata": {
    "id": "2BZHM2i4JdHs"
   },
   "outputs": [
    {
     "name": "stdout",
     "output_type": "stream",
     "text": [
      "year\n",
      "1998     61.771515\n",
      "1999     82.971670\n",
      "2000     84.417441\n",
      "2001     89.727198\n",
      "2002    115.403086\n",
      "2003    131.977389\n",
      "2004    118.682602\n",
      "2005    108.040015\n",
      "2006    104.420250\n",
      "2007    101.967324\n",
      "2008     90.675815\n",
      "2009    120.732031\n",
      "2010    114.313114\n",
      "2011    106.893657\n",
      "2012    123.718704\n",
      "2013    108.475673\n",
      "2014    122.287602\n",
      "2015    127.186086\n",
      "2016    130.284657\n",
      "2017    123.106121\n",
      "Name: number, dtype: float64\n",
      "month\n",
      "Abril         52.201426\n",
      "Agosto       163.056361\n",
      "Dezembro     112.154932\n",
      "Fevereiro     57.126019\n",
      "Janeiro       88.258492\n",
      "Julho        170.974283\n",
      "Junho        103.723472\n",
      "Maio          64.317339\n",
      "Março         56.884083\n",
      "Novembro     158.348248\n",
      "Outubro      164.225146\n",
      "Setembro     108.478343\n",
      "Name: number, dtype: float64\n",
      "year  month     state         \n",
      "1998  Abril     Acre                0.000\n",
      "                Alagoas             0.000\n",
      "                Amapa               0.000\n",
      "                Amazonas            0.000\n",
      "                Bahia               0.000\n",
      "                                   ...   \n",
      "2017  Setembro  Roraima            43.000\n",
      "                Santa Catarina    626.000\n",
      "                Sao Paulo           2.868\n",
      "                Sergipe             0.000\n",
      "                Tocantins          10.737\n",
      "Name: number, Length: 5497, dtype: float64\n"
     ]
    }
   ],
   "source": [
    "#hacmeos la media (mean) de los incendios por año, mes y stado, mostramos\n",
    "group_mean_year = dataAmazonas.groupby(['year'])['number'].mean()\n",
    "print(group_mean_year)\n",
    "group_mean_month = dataAmazonas.groupby(['month'])['number'].mean()\n",
    "print(group_mean_month)\n",
    "grouped_state = dataAmazonas.groupby(['state'])['number'].mean()\n",
    "print(grouped_state)\n"
   ]
  },
  {
   "cell_type": "markdown",
   "id": "kJHXmw0iVfBB",
   "metadata": {
    "id": "kJHXmw0iVfBB",
    "tags": []
   },
   "source": [
    "Mostreu els estats de Brasil on van enregistrar més de 800 incendis al mes, comptant els mesos de juny, juliol i agost. Heu de mostrar com a resultat una llista dels estats sense repetir.\n",
    "\n",
    "** La funció unique us pot ser útil"
   ]
  },
  {
   "cell_type": "code",
   "execution_count": 3,
   "id": "J3FnjUiTVqlD",
   "metadata": {
    "id": "J3FnjUiTVqlD"
   },
   "outputs": [
    {
     "name": "stdout",
     "output_type": "stream",
     "text": [
      "['Acre' 'Amazonas' 'Bahia' 'Goias' 'Maranhao' 'Mato Grosso' 'Minas Gerais'\n",
      " 'Pará' 'Paraiba' 'Piau' 'Rio' 'Rondonia' 'Sao Paulo' 'Tocantins']\n"
     ]
    }
   ],
   "source": [
    "#guardamos los meses en una lista\n",
    "mesosSelect = ['Junho','Julho','Agosto']\n",
    "#dataframe que almacena solo los meses que estan en la lista que el numero de incendios sea superior a 800\n",
    "statsBrazil = dataAmazonas[(dataAmazonas['month'].isin(mesosSelect)) & (dataAmazonas.number > 800)]\n",
    "#mostramos unicamente los estados sin repetir\n",
    "print(statsBrazil['state'].unique())"
   ]
  },
  {
   "cell_type": "markdown",
   "id": "gVlW9rB-IS5U",
   "metadata": {
    "id": "gVlW9rB-IS5U"
   },
   "source": [
    "Mostra  gràficament la distrbució d'incendis per estat durant els mesos de juny, juliol i agost"
   ]
  },
  {
   "cell_type": "code",
   "execution_count": 75,
   "id": "C4PbmM_qIvuE",
   "metadata": {
    "id": "C4PbmM_qIvuE"
   },
   "outputs": [
    {
     "data": {
      "text/plain": [
       "<function matplotlib.pyplot.show(close=None, block=None)>"
      ]
     },
     "execution_count": 75,
     "metadata": {},
     "output_type": "execute_result"
    },
    {
     "data": {
      "image/png": "[encoded data removed]",
      "text/plain": [
       "<Figure size 432x288 with 1 Axes>"
      ]
     },
     "metadata": {
      "needs_background": "light"
     },
     "output_type": "display_data"
    }
   ],
   "source": [
    "#selecionamos solo los stados a mostrar sin repetirlos\n",
    "mediaStateMes['state'].unique()\n",
    "#get solo eñ año 2017\n",
    "#mediaStateMes = dataAmazonas[dataAmazonas.year == 2017]\n",
    "#get los meses juny, juliol y agost\n",
    "mesosSelect = ['Junho','Julho','Agosto']\n",
    "mediaStateMes = dataAmazonas[dataAmazonas['month'].isin(mesosSelect)]\n",
    "#hacemos la media de incendios por state en los mese juny, juliol y agost\n",
    "grupomediaStateMes = mediaStateMes.groupby('state')['number'].mean()\n",
    "#mostramos los estados y los incendios \n",
    "grupomediaStateMes.plot(x = 'state', y = 'number', kind = 'bar', title = 'media incendios por stado en los meses juny, juliol y agost')\n",
    "plt.show"
   ]
  },
  {
   "cell_type": "markdown",
   "id": "zEkPSpHwVq0u",
   "metadata": {
    "id": "zEkPSpHwVq0u"
   },
   "source": [
    "Volem buscar aquells estats on durant l'any 2017 van ocórrer més de 800 incendis al mes, durant qualsevol dels mesos de l'any. Heu de mostrar per pantalla l'estat, el mes (o els mesos si la condició es compleix en varis mesos) i el nombre total d'incendis enregistrats en el mes corresponent."
   ]
  },
  {
   "cell_type": "code",
   "execution_count": 82,
   "id": "VKF0hKMCV1s8",
   "metadata": {
    "id": "VKF0hKMCV1s8"
   },
   "outputs": [
    {
     "name": "stdout",
     "output_type": "stream",
     "text": [
      "      year        state     month  number        date\n",
      "698   2017        Amapa  Novembro   858.0  2017-01-01\n",
      "1395  2017        Ceara   Outubro   949.0  2017-01-01\n",
      "1415  2017        Ceara  Novembro   812.0  2017-01-01\n",
      "2271  2017     Maranhao     Junho   885.0  2017-01-01\n",
      "2490  2017  Mato Grosso      Maio   845.0  2017-01-01\n",
      "2610  2017  Mato Grosso  Novembro   813.0  2017-01-01\n",
      "3725  2017      Paraiba     Julho   891.0  2017-01-01\n",
      "3745  2017      Paraiba    Agosto   987.0  2017-01-01\n",
      "4920  2017          Rio     Julho   885.0  2017-01-01\n",
      "4940  2017          Rio    Agosto   819.0  2017-01-01\n",
      "5876  2017    Sao Paulo     Julho   802.0  2017-01-01\n",
      "5896  2017    Sao Paulo    Agosto   981.0  2017-01-01\n"
     ]
    }
   ],
   "source": [
    "\n",
    "stateAnyo=dataAmazonas['state'].unique()\n",
    "#get solo eñ año 2017\n",
    "stateAnyo = dataAmazonas.query('year == 2017 and number > 800')\n",
    "print(stateAnyo)"
   ]
  },
  {
   "cell_type": "markdown",
   "id": "3OTe-9dxV3sq",
   "metadata": {
    "id": "3OTe-9dxV3sq"
   },
   "source": [
    "Creeu una còpia del dataframe original per posteriroment exportar-lo a un csv afegint una nova columna que ens indicarà per cada fila el nivell de risc d'aquella fila. Definim tres nivells de risc:\n",
    "high : si s'ha enregistrat una fila amb més de 800 incendis medium : si s'ha enregistrat una fila amb un nombre d'incendis entre 400 i 800low : si s'ha enregistrat una fila amb menys de 400 incendis\n",
    "Mostreu per pantalla aquelles files que corresponguin a un nivell de risc alt ( high )."
   ]
  },
  {
   "cell_type": "code",
   "execution_count": 6,
   "id": "pjCZWi7VWExT",
   "metadata": {
    "id": "pjCZWi7VWExT"
   },
   "outputs": [
    {
     "data": {
      "text/html": [
       "<div>\n",
       "<style scoped>\n",
       "    .dataframe tbody tr th:only-of-type {\n",
       "        vertical-align: middle;\n",
       "    }\n",
       "\n",
       "    .dataframe tbody tr th {\n",
       "        vertical-align: top;\n",
       "    }\n",
       "\n",
       "    .dataframe thead th {\n",
       "        text-align: right;\n",
       "    }\n",
       "</style>\n",
       "<table border=\"1\" class=\"dataframe\">\n",
       "  <thead>\n",
       "    <tr style=\"text-align: right;\">\n",
       "      <th></th>\n",
       "      <th>year</th>\n",
       "      <th>state</th>\n",
       "      <th>month</th>\n",
       "      <th>number</th>\n",
       "      <th>date</th>\n",
       "      <th>risc</th>\n",
       "    </tr>\n",
       "  </thead>\n",
       "  <tbody>\n",
       "    <tr>\n",
       "      <th>0</th>\n",
       "      <td>1998</td>\n",
       "      <td>Acre</td>\n",
       "      <td>Janeiro</td>\n",
       "      <td>0.0</td>\n",
       "      <td>1998-01-01</td>\n",
       "      <td>low</td>\n",
       "    </tr>\n",
       "    <tr>\n",
       "      <th>1</th>\n",
       "      <td>1999</td>\n",
       "      <td>Acre</td>\n",
       "      <td>Janeiro</td>\n",
       "      <td>0.0</td>\n",
       "      <td>1999-01-01</td>\n",
       "      <td>low</td>\n",
       "    </tr>\n",
       "    <tr>\n",
       "      <th>2</th>\n",
       "      <td>2000</td>\n",
       "      <td>Acre</td>\n",
       "      <td>Janeiro</td>\n",
       "      <td>0.0</td>\n",
       "      <td>2000-01-01</td>\n",
       "      <td>low</td>\n",
       "    </tr>\n",
       "    <tr>\n",
       "      <th>3</th>\n",
       "      <td>2001</td>\n",
       "      <td>Acre</td>\n",
       "      <td>Janeiro</td>\n",
       "      <td>0.0</td>\n",
       "      <td>2001-01-01</td>\n",
       "      <td>low</td>\n",
       "    </tr>\n",
       "    <tr>\n",
       "      <th>4</th>\n",
       "      <td>2002</td>\n",
       "      <td>Acre</td>\n",
       "      <td>Janeiro</td>\n",
       "      <td>0.0</td>\n",
       "      <td>2002-01-01</td>\n",
       "      <td>low</td>\n",
       "    </tr>\n",
       "    <tr>\n",
       "      <th>...</th>\n",
       "      <td>...</td>\n",
       "      <td>...</td>\n",
       "      <td>...</td>\n",
       "      <td>...</td>\n",
       "      <td>...</td>\n",
       "      <td>...</td>\n",
       "    </tr>\n",
       "    <tr>\n",
       "      <th>6449</th>\n",
       "      <td>2012</td>\n",
       "      <td>Tocantins</td>\n",
       "      <td>Dezembro</td>\n",
       "      <td>128.0</td>\n",
       "      <td>2012-01-01</td>\n",
       "      <td>low</td>\n",
       "    </tr>\n",
       "    <tr>\n",
       "      <th>6450</th>\n",
       "      <td>2013</td>\n",
       "      <td>Tocantins</td>\n",
       "      <td>Dezembro</td>\n",
       "      <td>85.0</td>\n",
       "      <td>2013-01-01</td>\n",
       "      <td>low</td>\n",
       "    </tr>\n",
       "    <tr>\n",
       "      <th>6451</th>\n",
       "      <td>2014</td>\n",
       "      <td>Tocantins</td>\n",
       "      <td>Dezembro</td>\n",
       "      <td>223.0</td>\n",
       "      <td>2014-01-01</td>\n",
       "      <td>low</td>\n",
       "    </tr>\n",
       "    <tr>\n",
       "      <th>6452</th>\n",
       "      <td>2015</td>\n",
       "      <td>Tocantins</td>\n",
       "      <td>Dezembro</td>\n",
       "      <td>373.0</td>\n",
       "      <td>2015-01-01</td>\n",
       "      <td>low</td>\n",
       "    </tr>\n",
       "    <tr>\n",
       "      <th>6453</th>\n",
       "      <td>2016</td>\n",
       "      <td>Tocantins</td>\n",
       "      <td>Dezembro</td>\n",
       "      <td>119.0</td>\n",
       "      <td>2016-01-01</td>\n",
       "      <td>low</td>\n",
       "    </tr>\n",
       "  </tbody>\n",
       "</table>\n",
       "<p>6454 rows × 6 columns</p>\n",
       "</div>"
      ],
      "text/plain": [
       "      year      state     month  number        date risc\n",
       "0     1998       Acre   Janeiro     0.0  1998-01-01  low\n",
       "1     1999       Acre   Janeiro     0.0  1999-01-01  low\n",
       "2     2000       Acre   Janeiro     0.0  2000-01-01  low\n",
       "3     2001       Acre   Janeiro     0.0  2001-01-01  low\n",
       "4     2002       Acre   Janeiro     0.0  2002-01-01  low\n",
       "...    ...        ...       ...     ...         ...  ...\n",
       "6449  2012  Tocantins  Dezembro   128.0  2012-01-01  low\n",
       "6450  2013  Tocantins  Dezembro    85.0  2013-01-01  low\n",
       "6451  2014  Tocantins  Dezembro   223.0  2014-01-01  low\n",
       "6452  2015  Tocantins  Dezembro   373.0  2015-01-01  low\n",
       "6453  2016  Tocantins  Dezembro   119.0  2016-01-01  low\n",
       "\n",
       "[6454 rows x 6 columns]"
      ]
     },
     "metadata": {},
     "output_type": "display_data"
    }
   ],
   "source": [
    "#copiamos el dataframe original\n",
    "new_dataset = dataAmazonas\n",
    "#creamos una lista que se añadiran los resultados del bucle\n",
    "risc = []\n",
    "#for que recore la copia buscando los datos donde los incedios cumplan las codiciones.\n",
    "for key,risco in new_dataset.iterrows():\n",
    "    if risco['number'] > 800:\n",
    "        risc.append(\"high\")\n",
    "    elif risco['number'] < 400:\n",
    "        risc.append(\"low\")\n",
    "    else:\n",
    "        risc.append(\"medium\")\n",
    "#añadimos la lista como una columna\n",
    "new_dataset['risc'] = risc\n",
    "#mostramos\n",
    "display(new_dataset)\n",
    "#exportamos\n",
    "new_dataset.to_csv(\"amazonas2.csv\", encoding = 'UTF-8')"
   ]
  }
 ],
 "metadata": {
  "colab": {
   "collapsed_sections": [
    "518d4e0f",
    "65103d5f",
    "34780f34"
   ],
   "provenance": []
  },
  "kernelspec": {
   "display_name": "Python 3 (ipykernel)",
   "language": "python",
   "name": "python3"
  },
  "language_info": {
   "codemirror_mode": {
    "name": "ipython",
    "version": 3
   },
   "file_extension": ".py",
   "mimetype": "text/x-python",
   "name": "python",
   "nbconvert_exporter": "python",
   "pygments_lexer": "ipython3",
   "version": "3.9.13"
  },
  "toc": {
   "base_numbering": 1,
   "nav_menu": {},
   "number_sections": true,
   "sideBar": true,
   "skip_h1_title": false,
   "title_cell": "Table of Contents",
   "title_sidebar": "Contents",
   "toc_cell": false,
   "toc_position": {},
   "toc_section_display": true,
   "toc_window_display": false
  }
 },
 "nbformat": 4,
 "nbformat_minor": 5
}
