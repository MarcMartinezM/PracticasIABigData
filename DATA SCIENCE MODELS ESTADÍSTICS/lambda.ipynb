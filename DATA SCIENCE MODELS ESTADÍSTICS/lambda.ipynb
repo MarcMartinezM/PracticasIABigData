{
 "cells": [
  {
   "cell_type": "code",
   "execution_count": null,
   "id": "e95abb4e-2247-446f-b6b7-160c8823c912",
   "metadata": {},
   "outputs": [],
   "source": [
    "def echo_palabra(word,n):\n",
    "    words = word*n\n",
    "    return words\n",
    "\n",
    "echo_palabra(lambda word,n: word*n)\n",
    "print( echo_palabra('ruben',5))\n"
   ]
  },
  {
   "cell_type": "code",
   "execution_count": null,
   "id": "70e806dc-2373-4c53-b1da-4afdf4e37a53",
   "metadata": {},
   "outputs": [],
   "source": [
    "listt= ['adrian','jose','carlos']\n",
    "\n",
    "echo_profes = map(lambda palabra: palabra+'!!!!',listt)\n",
    "print(list(echo_profes))"
   ]
  },
  {
   "cell_type": "code",
   "execution_count": null,
   "id": "5edc0ac0-f0c2-40d4-8bcb-6564740b51dd",
   "metadata": {},
   "outputs": [],
   "source": [
    "fellowship=['frodo','merry','gandalf','pippin']\n",
    "\n",
    "nmbres_largos = filter(lambda nombre: len(nombre)>5, fellowship)\n",
    "print(list(nmbres_largos))"
   ]
  }
 ],
 "metadata": {
  "kernelspec": {
   "display_name": "Python 3 (ipykernel)",
   "language": "python",
   "name": "python3"
  },
  "language_info": {
   "codemirror_mode": {
    "name": "ipython",
    "version": 3
   },
   "file_extension": ".py",
   "mimetype": "text/x-python",
   "name": "python",
   "nbconvert_exporter": "python",
   "pygments_lexer": "ipython3",
   "version": "3.9.13"
  }
 },
 "nbformat": 4,
 "nbformat_minor": 5
}
