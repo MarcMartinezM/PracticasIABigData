{
 "cells": [
  {
   "cell_type": "markdown",
   "metadata": {
    "id": "R9lt8bBJSQS1"
   },
   "source": [
    "# PE EVALUABLE: NBA\n",
    "\n",
    "Vamos a aplicar los contenidos aprendidos tratando un caso real, los datos de la NBA de 2022-2023. En este sentido yo voy a proponer diferentes preguntas, pero tenéis total libertad para hacer el análisis que considereis oportuno siempre y cuando se trabajane las diferentes correlaciones.\n",
    "\n",
    "En todos los casos, partiremos de nuestros datos para despúes a través de neustros conocimientos de distribuciones realitzar los cálculos de manera inferencial."
   ]
  },
  {
   "cell_type": "markdown",
   "metadata": {
    "id": "t1QYbsti7htp"
   },
   "source": [
    "## A1: Anàlisis del DataSet\n",
    "\n",
    "Vamos a utilizar el dataSet https://www.nbastuffer.com/2022-2023-nba-player-stats/:\n",
    "\n",
    "* Solo queremos jugadores titulares (más de 25min pp) y que hayan dispustado màs de 10 partidos ¿De cuántos jugadores tenemos datos?\n",
    "* Para nuestro anàlisis no nos interesan todas las columnas. Nos quedaremos únicamente con Nombre, Equipo, Edad, Posición ,Partidos Jugados, Minutos por partido, Media de puntos, Media rebotes, Media de Pèrdidas, %TL anotados\n"
   ]
  },
  {
   "cell_type": "code",
   "execution_count": 35,
   "metadata": {
    "id": "0OFgOvjfcFy8"
   },
   "outputs": [
    {
     "data": {
      "text/html": [
       "<div>\n",
       "<style scoped>\n",
       "    .dataframe tbody tr th:only-of-type {\n",
       "        vertical-align: middle;\n",
       "    }\n",
       "\n",
       "    .dataframe tbody tr th {\n",
       "        vertical-align: top;\n",
       "    }\n",
       "\n",
       "    .dataframe thead th {\n",
       "        text-align: right;\n",
       "    }\n",
       "</style>\n",
       "<table border=\"1\" class=\"dataframe\">\n",
       "  <thead>\n",
       "    <tr style=\"text-align: right;\">\n",
       "      <th></th>\n",
       "      <th>FULL NAME</th>\n",
       "      <th>TEAM</th>\n",
       "      <th>AGE</th>\n",
       "      <th>POS</th>\n",
       "      <th>GP</th>\n",
       "      <th>MPG</th>\n",
       "      <th>PPG</th>\n",
       "      <th>RPG</th>\n",
       "      <th>TOPG</th>\n",
       "      <th>FT%</th>\n",
       "    </tr>\n",
       "  </thead>\n",
       "  <tbody>\n",
       "    <tr>\n",
       "      <th>1</th>\n",
       "      <td>Steven Adams</td>\n",
       "      <td>Mem</td>\n",
       "      <td>29.42</td>\n",
       "      <td>C</td>\n",
       "      <td>26</td>\n",
       "      <td>26.5</td>\n",
       "      <td>8.1</td>\n",
       "      <td>10.2</td>\n",
       "      <td>2.08</td>\n",
       "      <td>0.333</td>\n",
       "    </tr>\n",
       "    <tr>\n",
       "      <th>2</th>\n",
       "      <td>Bam Adebayo</td>\n",
       "      <td>Mia</td>\n",
       "      <td>25.42</td>\n",
       "      <td>C-F</td>\n",
       "      <td>28</td>\n",
       "      <td>35.0</td>\n",
       "      <td>20.7</td>\n",
       "      <td>9.8</td>\n",
       "      <td>3.11</td>\n",
       "      <td>0.841</td>\n",
       "    </tr>\n",
       "    <tr>\n",
       "      <th>6</th>\n",
       "      <td>Grayson Allen</td>\n",
       "      <td>Mil</td>\n",
       "      <td>27.20</td>\n",
       "      <td>G</td>\n",
       "      <td>26</td>\n",
       "      <td>27.2</td>\n",
       "      <td>10.9</td>\n",
       "      <td>3.6</td>\n",
       "      <td>1.15</td>\n",
       "      <td>0.930</td>\n",
       "    </tr>\n",
       "    <tr>\n",
       "      <th>7</th>\n",
       "      <td>Jarrett Allen</td>\n",
       "      <td>Cle</td>\n",
       "      <td>24.66</td>\n",
       "      <td>C</td>\n",
       "      <td>24</td>\n",
       "      <td>33.4</td>\n",
       "      <td>13.7</td>\n",
       "      <td>10.3</td>\n",
       "      <td>1.54</td>\n",
       "      <td>0.719</td>\n",
       "    </tr>\n",
       "    <tr>\n",
       "      <th>10</th>\n",
       "      <td>Giannis Antetokounmpo</td>\n",
       "      <td>Mil</td>\n",
       "      <td>28.04</td>\n",
       "      <td>F</td>\n",
       "      <td>24</td>\n",
       "      <td>32.7</td>\n",
       "      <td>30.6</td>\n",
       "      <td>11.1</td>\n",
       "      <td>3.71</td>\n",
       "      <td>0.628</td>\n",
       "    </tr>\n",
       "    <tr>\n",
       "      <th>...</th>\n",
       "      <td>...</td>\n",
       "      <td>...</td>\n",
       "      <td>...</td>\n",
       "      <td>...</td>\n",
       "      <td>...</td>\n",
       "      <td>...</td>\n",
       "      <td>...</td>\n",
       "      <td>...</td>\n",
       "      <td>...</td>\n",
       "      <td>...</td>\n",
       "    </tr>\n",
       "    <tr>\n",
       "      <th>480</th>\n",
       "      <td>Patrick Williams</td>\n",
       "      <td>Chi</td>\n",
       "      <td>21.32</td>\n",
       "      <td>F</td>\n",
       "      <td>29</td>\n",
       "      <td>27.0</td>\n",
       "      <td>9.6</td>\n",
       "      <td>3.8</td>\n",
       "      <td>1.41</td>\n",
       "      <td>0.939</td>\n",
       "    </tr>\n",
       "    <tr>\n",
       "      <th>482</th>\n",
       "      <td>Justise Winslow</td>\n",
       "      <td>Por</td>\n",
       "      <td>26.73</td>\n",
       "      <td>F-G</td>\n",
       "      <td>27</td>\n",
       "      <td>27.3</td>\n",
       "      <td>6.9</td>\n",
       "      <td>5.1</td>\n",
       "      <td>1.52</td>\n",
       "      <td>0.714</td>\n",
       "    </tr>\n",
       "    <tr>\n",
       "      <th>484</th>\n",
       "      <td>Christian Wood</td>\n",
       "      <td>Dal</td>\n",
       "      <td>27.23</td>\n",
       "      <td>F</td>\n",
       "      <td>27</td>\n",
       "      <td>27.0</td>\n",
       "      <td>17.5</td>\n",
       "      <td>8.0</td>\n",
       "      <td>2.26</td>\n",
       "      <td>0.690</td>\n",
       "    </tr>\n",
       "    <tr>\n",
       "      <th>488</th>\n",
       "      <td>Trae Young</td>\n",
       "      <td>Atl</td>\n",
       "      <td>24.25</td>\n",
       "      <td>G</td>\n",
       "      <td>27</td>\n",
       "      <td>35.7</td>\n",
       "      <td>27.0</td>\n",
       "      <td>2.7</td>\n",
       "      <td>3.81</td>\n",
       "      <td>0.895</td>\n",
       "    </tr>\n",
       "    <tr>\n",
       "      <th>489</th>\n",
       "      <td>Ivica Zubac</td>\n",
       "      <td>Lac</td>\n",
       "      <td>25.76</td>\n",
       "      <td>C</td>\n",
       "      <td>30</td>\n",
       "      <td>29.5</td>\n",
       "      <td>10.1</td>\n",
       "      <td>10.8</td>\n",
       "      <td>2.13</td>\n",
       "      <td>0.667</td>\n",
       "    </tr>\n",
       "  </tbody>\n",
       "</table>\n",
       "<p>166 rows × 10 columns</p>\n",
       "</div>"
      ],
      "text/plain": [
       "                 FULL NAME TEAM    AGE  POS  GP   MPG   PPG   RPG  TOPG    FT%\n",
       "1             Steven Adams  Mem  29.42    C  26  26.5   8.1  10.2  2.08  0.333\n",
       "2              Bam Adebayo  Mia  25.42  C-F  28  35.0  20.7   9.8  3.11  0.841\n",
       "6            Grayson Allen  Mil  27.20    G  26  27.2  10.9   3.6  1.15  0.930\n",
       "7            Jarrett Allen  Cle  24.66    C  24  33.4  13.7  10.3  1.54  0.719\n",
       "10   Giannis Antetokounmpo  Mil  28.04    F  24  32.7  30.6  11.1  3.71  0.628\n",
       "..                     ...  ...    ...  ...  ..   ...   ...   ...   ...    ...\n",
       "480       Patrick Williams  Chi  21.32    F  29  27.0   9.6   3.8  1.41  0.939\n",
       "482        Justise Winslow  Por  26.73  F-G  27  27.3   6.9   5.1  1.52  0.714\n",
       "484         Christian Wood  Dal  27.23    F  27  27.0  17.5   8.0  2.26  0.690\n",
       "488             Trae Young  Atl  24.25    G  27  35.7  27.0   2.7  3.81  0.895\n",
       "489            Ivica Zubac  Lac  25.76    C  30  29.5  10.1  10.8  2.13  0.667\n",
       "\n",
       "[166 rows x 10 columns]"
      ]
     },
     "metadata": {},
     "output_type": "display_data"
    }
   ],
   "source": [
    "import pandas as pd\n",
    "\n",
    "dataNBA = pd.read_excel(\"NBA202223.xlsx\")\n",
    "\n",
    "getPlayers = dataNBA.query('MPG >= 25 and GP >= 10')\n",
    "\n",
    "getPlayers = getPlayers[['FULL NAME','TEAM','AGE','POS','GP','MPG','PPG','RPG','TOPG','FT%']]\n",
    "\n",
    "display(getPlayers)"
   ]
  },
  {
   "cell_type": "markdown",
   "metadata": {
    "id": "JSFh9wudVZaL"
   },
   "source": [
    "## A2: Anàlisis de la Edad\n",
    "\n",
    "No nos vamos a centrar únicamente en nuestro caso de jugadores, sino que obtendremos estadísiticos básicos para poder realizar cálculo inferencial\n",
    "\n",
    "Tenemos la sensación de que los jugadores cada vez juegan más años, así que que queremos responder a las siguientes preguntas:\n",
    "\n",
    "* ¿Cuál es la probabilidad de que un jugador (de los importantes, filtro inicial) tegan una edad inferior a 23 años?\n",
    "* ¿Cuál es la probabilidad de que un jugador (de los importantes, filtro inicial) tegan una edad superior a 34 años?\n",
    "* ¿Cuál es la probabilidad de que un jugador (de los importantes, filtro inicial) tegan una edad entre 28 a 32 años?\n",
    "* ¿Cuál es la edad a partir de la qual el 90% de los jugadores son menores?\n"
   ]
  },
  {
   "cell_type": "code",
   "execution_count": 44,
   "metadata": {
    "id": "MGBGmVYdYv-E"
   },
   "outputs": [
    {
     "name": "stdout",
     "output_type": "stream",
     "text": [
      "27.0683734939759\n",
      " edad inferior a 23 años 0.16624871985891942\n",
      " edad superior a 34 años 0.049356117749769224\n",
      " edad entre 28 a 32 años 0.29213734718883766\n",
      " edad a partir de la qual el 90% de los jugadores son menores 32.44847205965398\n"
     ]
    }
   ],
   "source": [
    "from scipy.stats import norm\n",
    "import numpy as np\n",
    "\n",
    "Playermean = np.mean(getPlayers['AGE'])\n",
    "Playerstd = np.std(getPlayers['AGE'])\n",
    "\n",
    "print(' edad inferior a 23 años', norm.cdf(23,Playermean,Playerstd))\n",
    "print(' edad superior a 34 años', 1-norm.cdf(34,Playermean,Playerstd))\n",
    "print(' edad entre 28 a 32 años', norm.cdf(32,Playermean,Playerstd)-norm.cdf(28,Playermean,Playerstd))\n",
    "print(' edad a partir de la qual el 90% de los jugadores son menores',  norm.ppf(0.90,Playermean,Playerstd))"
   ]
  },
  {
   "cell_type": "markdown",
   "metadata": {
    "id": "i-for-3FYwUi"
   },
   "source": [
    "Con nuestros datos obervacionales: \n",
    "\n",
    "* Muestra un gràfico BoxPlot diferenciando entre Centers i Guards, y haz una reflexión sobre sus medias y su dispersión.\n",
    "\n",
    "* El Sentido me dice que cuanta más edad mayor restricción de minutos, eso se cumple, existe una correlación entre esas dos variables?"
   ]
  },
  {
   "cell_type": "code",
   "execution_count": 48,
   "metadata": {
    "id": "0hS5SC9BZvKJ"
   },
   "outputs": [
    {
     "data": {
      "text/plain": [
       "Text(0, 0.5, 'age')"
      ]
     },
     "execution_count": 48,
     "metadata": {},
     "output_type": "execute_result"
    },
    {
     "data": {
      "image/png": "[encoded data removed]",
      "text/plain": [
       "<Figure size 640x480 with 1 Axes>"
      ]
     },
     "metadata": {},
     "output_type": "display_data"
    }
   ],
   "source": [
    "import matplotlib.pyplot as plt\n",
    "import seaborn as sns\n",
    "\n",
    "sns.boxplot(x = 'POS', y = 'AGE', data = getPlayers[getPlayers['POS'].isin(['C','G'])])\n",
    "plt.xlabel('POSITION')\n",
    "plt.ylabel('age')"
   ]
  },
  {
   "cell_type": "code",
   "execution_count": 56,
   "metadata": {},
   "outputs": [
    {
     "data": {
      "text/plain": [
       "0.0676558610379797"
      ]
     },
     "execution_count": 56,
     "metadata": {},
     "output_type": "execute_result"
    }
   ],
   "source": [
    "# hacer la correlacion \n",
    "getPlayers['AGE'].corr(getPlayers['MPG'])"
   ]
  },
  {
   "cell_type": "markdown",
   "metadata": {
    "id": "Eltoe7RhZvYt"
   },
   "source": [
    "## A2: Triples de Lebron\n",
    "\n",
    "Parece que este año lebron no está muy acertado en el triple. Suponiendo que tirara 5 triples por partido, responde a las siguientes preguntas:\n",
    "\n",
    "* ¿Cuál es la probabilidad de que no meta ninguno?\n",
    "* ¿Cuál es la probabilidad de que los meta todos?"
   ]
  },
  {
   "cell_type": "code",
   "execution_count": 54,
   "metadata": {
    "id": "hGa3WBzwbKZj"
   },
   "outputs": [
    {
     "name": "stdout",
     "output_type": "stream",
     "text": [
      "probabilidad de que no meta ninguno 0.15414952512716792\n",
      "probabilidad de que los meta todos 0.002956466552832\n"
     ]
    }
   ],
   "source": [
    "from scipy.stats import binom\n",
    "np.random.seed(36)\n",
    "\n",
    "print('probabilidad de que no meta ninguno',binom.pmf(0,5,0.312))\n",
    "print('probabilidad de que los meta todos',binom.pmf(5,5,0.312))"
   ]
  },
  {
   "cell_type": "markdown",
   "metadata": {
    "id": "A6M8AORsbKjL"
   },
   "source": [
    "Muestra su función de distribución acumulada empírica y responde las siguientes preguntas:\n",
    "\n",
    "* ¿Cuál es la probabilidad de que meta uno o menos? (Partido de poco acierto)\n",
    "* ¿Cuál es la probabilidad de que meta tres o màs? (Partido de mucho acierto)"
   ]
  },
  {
   "cell_type": "code",
   "execution_count": 55,
   "metadata": {
    "id": "SAMz7sl2dUQA"
   },
   "outputs": [
    {
     "name": "stdout",
     "output_type": "stream",
     "text": [
      "probabilidad de que meta uno o menos 0.154149525127168\n",
      "probabilidad de que meta tres o màs 0.03555340546867203\n"
     ]
    }
   ],
   "source": [
    "print('probabilidad de que meta uno o menos',binom.cdf(0,5,0.312))\n",
    "print('probabilidad de que meta tres o màs',1-binom.cdf(3,5,0.312))"
   ]
  },
  {
   "cell_type": "markdown",
   "metadata": {
    "id": "G8Pl-BOSdGTe"
   },
   "source": [
    "## A3 Picadas de Lebron tirando triples\n",
    "\n",
    "Para hacer este apartado necesitamos el número de triples que se ha tirado lebron en cada partido. Tienes dos opciones:\n",
    "* Dummy: Mirarlo manualmente y crear un array a mano\n",
    "* Upgrade: Llamar a la api https://www.balldontlie.io/ (Stats) y obtener los datos\n",
    "\n"
   ]
  },
  {
   "cell_type": "code",
   "execution_count": 78,
   "metadata": {
    "id": "HYMW-t4Eew2t"
   },
   "outputs": [
    {
     "name": "stdout",
     "output_type": "stream",
     "text": [
      "135\n",
      "[8, 9, 8, 6, 10, 0, 6, 5, 0, 7, 8, 11, 4, 4, 0, 7, 0, 4, 5, 0, 0, 9, 4, 12, 8]\n"
     ]
    }
   ],
   "source": [
    "import requests\n",
    "import json\n",
    "\n",
    "r = requests.get(\"https://www.balldontlie.io/api/v1/stats?seasons[]=2022&player_ids[]=237\")\n",
    "count= 0\n",
    "j=r.json()\n",
    "games = []\n",
    "for x in j['data']:\n",
    "    count += x['fg3a']\n",
    "    games.append(x['fg3a'])\n",
    "print(count)\n",
    "print(games)"
   ]
  },
  {
   "cell_type": "markdown",
   "metadata": {
    "id": "_nX1SX8mez85"
   },
   "source": [
    "Muestra en un histograma los triples lanzados por lebron, en cuàntos partidos ha lanzado 5 o más?"
   ]
  },
  {
   "cell_type": "code",
   "execution_count": 79,
   "metadata": {
    "id": "uJw_keviezgb"
   },
   "outputs": [
    {
     "data": {
      "image/png": "[encoded data removed]",
      "text/plain": [
       "<Figure size 640x480 with 1 Axes>"
      ]
     },
     "metadata": {},
     "output_type": "display_data"
    },
    {
     "name": "stdout",
     "output_type": "stream",
     "text": [
      " cuàntos partidos ha lanzado 5 o más 15\n"
     ]
    }
   ],
   "source": [
    "plt.hist(games)\n",
    "plt.ylabel('games')\n",
    "plt.xlabel('triples')\n",
    "plt.show()\n",
    "\n",
    "lanzados5omas = 0\n",
    "for x in games:\n",
    "    if x >= 5:\n",
    "        lanzados5omas +=1\n",
    "print(' cuàntos partidos ha lanzado 5 o más',lanzados5omas)        "
   ]
  },
  {
   "cell_type": "markdown",
   "metadata": {
    "id": "7zEs2XDvfjeY"
   },
   "source": [
    "A partir de estos datos, vamos a hacer cálculo inferencial imaginando que juega infinitos partidos. Respondemos a la siguientes preguntas:\n",
    "\n",
    "* ¿Cuál es la probabilidad de que lebron se tire 5 o más triples por partido?\n",
    "* Como entrenador le he recomendado que tire 3 triples por partido, ¿cuál es la probabilidad de que eso suceda?"
   ]
  },
  {
   "cell_type": "code",
   "execution_count": 86,
   "metadata": {
    "id": "P_94mBF8fiXW"
   },
   "outputs": [
    {
     "name": "stdout",
     "output_type": "stream",
     "text": [
      "0.45386789564180074\n",
      "0.1185331502579269\n",
      "juegue entre 20 y 30 min 0.35285560777505814\n"
     ]
    }
   ],
   "source": [
    "from scipy.stats import poisson\n",
    "print(1-poisson.cdf(5,sum(games)/len(games)))\n",
    "print(poisson.pmf(3,sum(games)/len(games)))\n",
    "#La probabilidad de que un jugador juegue entre 20 y 30 min\n",
    "Playermean = np.mean(getPlayers['MPG'])\n",
    "Playerstd = np.std(getPlayers['MPG'])\n",
    "print('juegue entre 20 y 30 min', norm.cdf(30.0,Playermean,Playerstd)-norm.cdf(20.0,Playermean,Playerstd))"
   ]
  },
  {
   "cell_type": "markdown",
   "metadata": {
    "id": "32SZGk2-hD5X"
   },
   "source": [
    "## A4 Tiempo entre lanzamiento\n",
    "\n",
    "Lebron se tira un triple en promedio cada 12 minutos jugados en pista. Responde las siguientes preguntas:\n",
    "\n",
    "* ¿Cuál és la probabilidad de que pase màs de 20 min sin tirarse un triple?\n",
    "* ¿Cuál és la probabilidad de que se tire un triple entre el min 8 y 15min después del lanzamiento de triple anterior?"
   ]
  },
  {
   "cell_type": "code",
   "execution_count": 87,
   "metadata": {},
   "outputs": [
    {
     "name": "stdout",
     "output_type": "stream",
     "text": [
      "probabilidad de que pase màs de 20 min sin tirarse un triple 0.18887560283756177\n",
      "probabilidad de que se tire un triple entre el min 8 y 15min después del lanzamiento de triple anterior 0.22691232217240187\n"
     ]
    }
   ],
   "source": [
    "\n",
    "from scipy.stats import expon\n",
    "\n",
    "print('probabilidad de que pase màs de 20 min sin tirarse un triple',1-expon.cdf(20,scale=12))\n",
    "print('probabilidad de que se tire un triple entre el min 8 y 15min después del lanzamiento de triple anterior',expon.cdf(15,scale=12)-expon.cdf(8,scale=12))\n"
   ]
  },
  {
   "cell_type": "code",
   "execution_count": null,
   "metadata": {},
   "outputs": [],
   "source": []
  }
 ],
 "metadata": {
  "colab": {
   "provenance": []
  },
  "kernelspec": {
   "display_name": "Python 3 (ipykernel)",
   "language": "python",
   "name": "python3"
  },
  "language_info": {
   "codemirror_mode": {
    "name": "ipython",
    "version": 3
   },
   "file_extension": ".py",
   "mimetype": "text/x-python",
   "name": "python",
   "nbconvert_exporter": "python",
   "pygments_lexer": "ipython3",
   "version": "3.9.13"
  }
 },
 "nbformat": 4,
 "nbformat_minor": 4
}
