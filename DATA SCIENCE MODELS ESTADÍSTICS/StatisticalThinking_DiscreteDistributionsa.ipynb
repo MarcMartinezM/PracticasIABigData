{
 "cells": [
  {
   "cell_type": "markdown",
   "metadata": {
    "id": "v4aM2FfW-o66"
   },
   "source": [
    "# DISTRIBUCIÓN DE BERNOUILLI / BINOMIAL\n",
    "\n",
    "La distribución binomial describe la probabilidad de obtener k éxitos en n experimentos binomiales .\n",
    "\n",
    "La distribución de Bernoulli es un modelo teórico utilizado para representar una variable aleatoria discreta la cual solo puede finalizar en dos resultados mutuamente excluyentes.\n",
    "\n",
    "\n",
    "---\n",
    "\n"
   ]
  },
  {
   "cell_type": "code",
   "execution_count": 1,
   "metadata": {
    "colab": {
     "base_uri": "https://localhost:8080/",
     "height": 352
    },
    "id": "C8rLLnYDjko5",
    "outputId": "83be7cb4-0e33-45be-ee38-d7d4ce5e79ce"
   },
   "outputs": [
    {
     "name": "stdout",
     "output_type": "stream",
     "text": [
      "0.500517\n"
     ]
    },
    {
     "data": {
      "text/plain": [
       "(array([499483.,      0.,      0.,      0.,      0.,      0.,      0.,\n",
       "             0.,      0., 500517.]),\n",
       " array([0. , 0.1, 0.2, 0.3, 0.4, 0.5, 0.6, 0.7, 0.8, 0.9, 1. ]),\n",
       " <BarContainer object of 10 artists>)"
      ]
     },
     "execution_count": 1,
     "metadata": {},
     "output_type": "execute_result"
    },
    {
     "data": {
      "image/png": "[encoded data removed]",
      "text/plain": [
       "<Figure size 640x480 with 1 Axes>"
      ]
     },
     "metadata": {},
     "output_type": "display_data"
    }
   ],
   "source": [
    "import numpy as np\n",
    "import matplotlib.pyplot as plt\n",
    "\n",
    "# Fijamos aleatoriedad\n",
    "np.random.seed(42)\n",
    "\n",
    "random_results = np.empty(1000000)\n",
    "\n",
    "for i in range(1000000):\n",
    "  random_results[i] = np.random.random()\n",
    "  if random_results[i] >= 0.5:\n",
    "    random_results[i] = 1\n",
    "  else:\n",
    "    random_results[i] = 0\n",
    "\n",
    "print(np.sum(random_results)/1000000)\n",
    "\n",
    "plt.hist(random_results)"
   ]
  },
  {
   "cell_type": "markdown",
   "metadata": {
    "id": "GvoZERGdJfJb"
   },
   "source": [
    "## Ejercicio 1\n",
    "\n",
    "* Si tiro 4 monedas durante 10 experimientos, calcula la probabilidad de que salgan 4 caras\n",
    "*   Haz lo mismo para 10000 experimientos"
   ]
  },
  {
   "cell_type": "code",
   "execution_count": 2,
   "metadata": {
    "colab": {
     "base_uri": "https://localhost:8080/"
    },
    "id": "oW2iOoHalv7t",
    "outputId": "65ecad49-6afc-4180-875a-5cff79b38910"
   },
   "outputs": [
    {
     "name": "stdout",
     "output_type": "stream",
     "text": [
      "0.0643\n"
     ]
    }
   ],
   "source": [
    "np.random.seed(88)\n",
    "numTodoCaras = 0\n",
    "\n",
    "for _ in range(10000):\n",
    "  tiradas = np.random.random(size=4) >= 0.5\n",
    "  numCaras = np.sum(tiradas)\n",
    "  if numCaras == 4:\n",
    "    numTodoCaras += 1\n",
    "\n",
    "print(numTodoCaras/10000)"
   ]
  },
  {
   "cell_type": "code",
   "execution_count": 3,
   "metadata": {
    "colab": {
     "base_uri": "https://localhost:8080/"
    },
    "id": "2PiOvRzGnGpC",
    "outputId": "93b04b57-8c31-4981-98d7-3b3584e0000f"
   },
   "outputs": [
    {
     "data": {
      "text/plain": [
       "0.064"
      ]
     },
     "execution_count": 3,
     "metadata": {},
     "output_type": "execute_result"
    }
   ],
   "source": [
    "tiradas = np.random.binomial(4,0.5,10000)\n",
    "np.sum(tiradas==4)/10000"
   ]
  },
  {
   "cell_type": "markdown",
   "metadata": {
    "id": "IMeGb7WOFyA7"
   },
   "source": [
    "## Ejercicio 2 \n",
    "\n",
    "Me gusta ir al casino, voy semanalmente y me juego 10€ al número 11 durante 100 tiradas (1000€ al dia, nada mal). \n",
    "\n",
    "\n",
    "*   A final de año (52 semanas) cuanto dinero he ganado/perdido, si cada vez que me toca gano 360€\n",
    "*   Si algún dia voy y vuelvo con las manos vacías (no me toca ni una vez) puedo tener un problema grave en casa, ¿Cual és la probabilidad de que eso suceda?)\n",
    "\n"
   ]
  },
  {
   "cell_type": "code",
   "execution_count": 4,
   "metadata": {
    "colab": {
     "base_uri": "https://localhost:8080/"
    },
    "id": "-CGNfJ4Qnt3E",
    "outputId": "83a7129e-0321-47bc-ccb9-1a2756a0442f"
   },
   "outputs": [
    {
     "name": "stdout",
     "output_type": "stream",
     "text": [
      "Gastado total: 52000\n",
      "Total perdido: 31000\n",
      "Total ganado: 23280\n",
      "Total: -7720\n"
     ]
    }
   ],
   "source": [
    "# MI EJERCICIO\n",
    "tiradas = np.random.binomial(52,1/37,100)\n",
    "gastado = 100*10*52\n",
    "total_perdido = 0\n",
    "total_ganado = 0\n",
    "total = 0\n",
    "print(f'Gastado total: {gastado}')\n",
    "for i in tiradas:\n",
    "  if(i == 0):\n",
    "    total_perdido += 1000\n",
    "  else:\n",
    "    ganado = 1000 - (i*360)\n",
    "    total_ganado += ganado\n",
    "\n",
    "print('Total perdido:', total_perdido)\n",
    "print('Total ganado:', total_ganado)\n",
    "print('Total:', total_ganado - total_perdido)\n",
    "\n",
    "    "
   ]
  },
  {
   "cell_type": "code",
   "execution_count": 5,
   "metadata": {
    "colab": {
     "base_uri": "https://localhost:8080/"
    },
    "id": "HOIqZdm4qqK1",
    "outputId": "2becbf07-1c28-48f6-83e5-2267f2a04d40"
   },
   "outputs": [
    {
     "name": "stdout",
     "output_type": "stream",
     "text": [
      "Dinero ganado: -4480\n"
     ]
    }
   ],
   "source": [
    "#EJERCICIO RUBÉN (Profe)\n",
    "resultado = np.random.binomial(100,1/37,52)\n",
    "print(f'Dinero ganado: {np.sum(resultado)*360-52000}')"
   ]
  },
  {
   "cell_type": "code",
   "execution_count": 6,
   "metadata": {
    "colab": {
     "base_uri": "https://localhost:8080/"
    },
    "id": "8G1Icva4rqKQ",
    "outputId": "d8ce5eed-b9c4-4fd9-fcb1-393e517abb80"
   },
   "outputs": [
    {
     "name": "stdout",
     "output_type": "stream",
     "text": [
      "Me voy de vacío: 0.0\n"
     ]
    }
   ],
   "source": [
    "resultado = np.random.binomial(100,1/37,52)\n",
    "print(f'Me voy de vacío: {np.sum(resultado==0)/52*100}')"
   ]
  },
  {
   "cell_type": "markdown",
   "metadata": {
    "id": "QOqIhjQUaSch"
   },
   "source": [
    "# DISTRIBUCIÓN DE POISSON\n",
    "\n",
    "La distribución de Poisson describe la probabilidad de experimentar k eventos durante un intervalo de tiempo fijo."
   ]
  },
  {
   "cell_type": "markdown",
   "metadata": {
    "id": "LQfaVkrwbKyz"
   },
   "source": [
    "## Ejercicio 1\n",
    "* Una empresa de tecnología quiere modelar la probabilidad de que ocurra una cierta cantidad de fallas en la red en una semana determinada. Suponga que se sabe que se producen un promedio de 4 fallas de red cada semana. Sea X el número de fallos de red en una semana determinada. ¿Qué tipo de distribución sigue la variable aleatoria X ?\n",
    "\n",
    "* Tyler hace el 70% de todos los tiros libres que intenta. Supongamos que lanza 10 tiros libres. Sea X el número de veces que Tyler hace una canasta durante los 10 intentos. ¿Qué tipo de distribución sigue la variable aleatoria X ?"
   ]
  },
  {
   "cell_type": "code",
   "execution_count": null,
   "metadata": {
    "id": "nePVbDPbumoc"
   },
   "outputs": [],
   "source": []
  },
  {
   "cell_type": "markdown",
   "metadata": {
    "id": "CIX7KK5UE_gk"
   },
   "source": [
    "## Ejercicio 2\n",
    "\n",
    "\n",
    "En el béisbol, un juego sin hits es un juego en el que un lanzador no permite que el otro equipo consiga un hit. Este es un evento raro, y desde el comienzo de la llamada era moderna del béisbol (que comenzó en 1901), solo ha habido 251 de ellos hasta la temporada 2015 en más de 200,000 juegos.\n",
    "\n",
    "En 1990 y 2015 presentaron la mayor cantidad de juegos sin hits de cualquier temporada de béisbol (hubo siete). Dado que hay un promedio de 251/115 juegos sin hits por temporada, ¿cuál es la probabilidad de tener siete o más en una temporada?"
   ]
  },
  {
   "cell_type": "code",
   "execution_count": 7,
   "metadata": {
    "colab": {
     "base_uri": "https://localhost:8080/",
     "height": 286
    },
    "id": "suaa2MAvvBX-",
    "outputId": "de154efc-fb3c-485b-a81c-797c61332bb1"
   },
   "outputs": [
    {
     "name": "stdout",
     "output_type": "stream",
     "text": [
      "Probabilidad de tener 7 o más partidos sinHits en temporada: 0.0066\n"
     ]
    },
    {
     "data": {
      "image/png": "[encoded data removed]",
      "text/plain": [
       "<Figure size 640x480 with 1 Axes>"
      ]
     },
     "metadata": {},
     "output_type": "display_data"
    }
   ],
   "source": [
    "import seaborn as sns\n",
    "n_sinHits = np.random.poisson(251/115,10000)\n",
    "sns.ecdfplot(n_sinHits)\n",
    "\n",
    "print('Probabilidad de tener 7 o más partidos sinHits en temporada:',np.sum(n_sinHits>=7)/10000)"
   ]
  },
  {
   "cell_type": "markdown",
   "metadata": {
    "id": "Vcryvw0oL_4p"
   },
   "source": [
    "# ACTIVIDADES"
   ]
  },
  {
   "cell_type": "markdown",
   "metadata": {
    "id": "ntri99J4DRqD"
   },
   "source": [
    "## ACTIVIDAD 1 - PROGRAMAR ESTADÍSITICAS"
   ]
  },
  {
   "cell_type": "markdown",
   "metadata": {
    "id": "HO35s2noDYo0"
   },
   "source": [
    "Vamos a simular el lanzamiento de dos dados 100 veces:\n",
    "* mediante un histograma indica los números a los que más me sale a cuenta apostar?\n",
    "\n",
    "* Indica la probabilidad de que me salga dos veces el mismo número\n",
    "\n",
    "* Upgrade: Si te sale tres veces dados repetidos, te vas a la carcel, cual es la probabilidad de que eso suceda?"
   ]
  },
  {
   "cell_type": "code",
   "execution_count": null,
   "metadata": {},
   "outputs": [],
   "source": [
    "# Fijamos aleatoriedad\n",
    "np.random.seed(42)"
   ]
  },
  {
   "cell_type": "markdown",
   "metadata": {
    "id": "QalxxbQNME8F"
   },
   "source": [
    "## ACTIVIDAD 2 - BINOMIAL\n",
    "Somos un banco y sabemos que la probabilidad de que un usuario al que le hacemos un prestamo deje de pagar es de p=0.05. \n",
    "\n",
    "Vamos a hacer una simulación y dejar 100 prestamos: ¿Cuántos nos han dejado de pagar?"
   ]
  },
  {
   "cell_type": "markdown",
   "metadata": {
    "id": "C5Xqn0wDQDJD"
   },
   "source": [
    "Ahora vamos a dejar 100 prestamos 1000 veces. ¿Cuantas veces nos han dejado de pagar más de 7 usuarios?"
   ]
  },
  {
   "cell_type": "markdown",
   "metadata": {
    "id": "eDwb3lkgRBBX"
   },
   "source": [
    "Si nos dejan de pagar más de 10 veces al dejar 100 prestamos, entramos en bancarota cual es la probabilidad de que eso suceda"
   ]
  },
  {
   "cell_type": "markdown",
   "metadata": {
    "id": "83qC4FFrHRdb"
   },
   "source": [
    "## ACTIVIDAD 3 - POISSON\n",
    "\n",
    "Pensando en Sergio Ramos, la probabilidad de que un jugador concreto meta un gol que ha acabado siendo decisivo una eliminatoria a partir del minuto 92, ha pasado 25 veces en 540 eliminatorias. \n",
    "\n",
    "Sergio Ramos eso lo ha hecho dos veces:\n",
    "\n",
    "\n",
    "*   ¿Cual és la probabilidad que un jugador decida dos eliminatorias con un gol a partir del min 92?\n",
    "\n",
    "* Si sergio Ramos ha jugado 110 eliminatorias, ¿cual deberia ser la cifra estimada de goles decisivos marcados?\n",
    "\n"
   ]
  }
 ],
 "metadata": {
  "colab": {
   "provenance": []
  },
  "kernelspec": {
   "display_name": "Python 3 (ipykernel)",
   "language": "python",
   "name": "python3"
  },
  "language_info": {
   "codemirror_mode": {
    "name": "ipython",
    "version": 3
   },
   "file_extension": ".py",
   "mimetype": "text/x-python",
   "name": "python",
   "nbconvert_exporter": "python",
   "pygments_lexer": "ipython3",
   "version": "3.9.13"
  }
 },
 "nbformat": 4,
 "nbformat_minor": 4
}
