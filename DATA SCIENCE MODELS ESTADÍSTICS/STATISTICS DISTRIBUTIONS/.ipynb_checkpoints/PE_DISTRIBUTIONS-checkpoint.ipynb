{
 "cells": [
  {
   "cell_type": "markdown",
   "metadata": {
    "id": "t1QYbsti7htp"
   },
   "source": [
    "## A1: HACKER STATISTICS\n",
    "\n",
    "Vamos a simular el lanzamiento de dos dados 100 veces:\n",
    "\n",
    "* mediante un histograma indica los números a los que más me sale a cuenta apostar?\n",
    "\n",
    "* Indica la probabilidad de que me salga dos veces el mismo número\n",
    "\n",
    "* Si te sale tres veces dados repetidos, te vas a la carcel, cual es la probabilidad de que eso suceda?\n",
    "\n",
    "Repite lo mismo simulando 10000 lanzamiento de los datos"
   ]
  },
  {
   "cell_type": "code",
   "execution_count": 1,
   "metadata": {
    "id": "YQd9DRh_7b98"
   },
   "outputs": [
    {
     "data": {
      "image/png": "[encoded data removed]",
      "text/plain": [
       "<Figure size 432x288 with 1 Axes>"
      ]
     },
     "metadata": {
      "needs_background": "light"
     },
     "output_type": "display_data"
    }
   ],
   "source": [
    "import numpy as np\n",
    "import matplotlib.pyplot as plt\n",
    "\n",
    "# numeor semilla random para que la aleatoriedad sea la misma\n",
    "np.random.seed(11)\n",
    "# 1 el numeor minimo de 7 numeros total de 100 tiros\n",
    "dado1 = np.random.randint(1,7,100) \n",
    "dado2 = np.random.randint(1,7,100)\n",
    "\n",
    "\n",
    "# sumamos los dados \n",
    "totalSuma = dado1+dado2\n",
    "#cremamos histograma\n",
    "plt.hist(totalSuma, bins = 10)\n",
    "\n",
    "#labels\n",
    "plt.xlabel('numeor de opciones')\n",
    "plt.ylabel('count')\n",
    "plt.show()"
   ]
  },
  {
   "cell_type": "code",
   "execution_count": 2,
   "metadata": {
    "tags": []
   },
   "outputs": [
    {
     "name": "stdout",
     "output_type": "stream",
     "text": [
      "posibilidad de iguales:  0.17\n"
     ]
    }
   ],
   "source": [
    "iguales = 0\n",
    "\n",
    "for r in range(100):\n",
    "    if dado1[r] == dado2[r]:\n",
    "        iguales +=1\n",
    "        \n",
    "print('posibilidad de iguales: ',iguales/100)"
   ]
  },
  {
   "cell_type": "code",
   "execution_count": 3,
   "metadata": {},
   "outputs": [
    {
     "name": "stdout",
     "output_type": "stream",
     "text": [
      "posibilidad de 3 veces iguales 0.0\n"
     ]
    }
   ],
   "source": [
    "suma = 0\n",
    "# for de 100 tiradas\n",
    "for t in range(100):\n",
    "    count = 0\n",
    "    for r in range(3):\n",
    "        dado1 = np.random.randint(1,7) \n",
    "        dado2 = np.random.randint(1,7)\n",
    "        if dado1 == dado2:\n",
    "            count +=1\n",
    "            \n",
    "    if count == 3:\n",
    "        suma +=1\n",
    "        \n",
    "print('posibilidad de 3 veces iguales',suma/100)"
   ]
  },
  {
   "cell_type": "markdown",
   "metadata": {
    "id": "7nKKgkiZ789b"
   },
   "source": [
    "## A2: BINOMIAL\n",
    "\n",
    "Somos un banco y sabemos que la probabilidad de que un usuario al que le hacemos un prestamo deje de pagar es de p=0.05. \n",
    "\n",
    "Vamos a hacer una simulación y dejar 100 prestamos: ¿Cuántos nos han dejado de pagar?\n",
    "\n"
   ]
  },
  {
   "cell_type": "code",
   "execution_count": 4,
   "metadata": {
    "id": "pX3J6VuP8Om2"
   },
   "outputs": [
    {
     "name": "stdout",
     "output_type": "stream",
     "text": [
      "6\n"
     ]
    }
   ],
   "source": [
    "# Binomial 100 prestamos\n",
    "from scipy.stats import binom\n",
    "np.random.seed(36)\n",
    "# 1 prestamos a 100 personas 0.05 provabilidad que no paguen\n",
    "res = binom.rvs(100,0.05,size = 1)\n",
    "print(sum(res))"
   ]
  },
  {
   "cell_type": "markdown",
   "metadata": {
    "id": "OGQ1Kr7c8O6P"
   },
   "source": [
    "Ahora vamos a dejar 100 prestamos 1000 veces. ¿Cuantas veces nos han dejado de pagar más de 7 usuarios?"
   ]
  },
  {
   "cell_type": "code",
   "execution_count": 5,
   "metadata": {
    "id": "rKD_67QV86RI"
   },
   "outputs": [
    {
     "data": {
      "image/png": "[encoded data removed]",
      "text/plain": [
       "<Figure size 432x288 with 1 Axes>"
      ]
     },
     "metadata": {
      "needs_background": "light"
     },
     "output_type": "display_data"
    },
    {
     "name": "stdout",
     "output_type": "stream",
     "text": [
      "0.118\n"
     ]
    }
   ],
   "source": [
    "# Calcula binomial 1000 p=0.05 1000 repeticiones\n",
    "np.random.seed(36)\n",
    "res = binom.rvs(100,0.05,size = 1000)\n",
    "# Muestra histograma\n",
    "plt.hist(res)\n",
    "plt.show()\n",
    "# responde la pregunta\n",
    "\n",
    "#provabilidad real\n",
    "#prob7 = binom.cdf(7,100,0.05)\n",
    "#print(1-prob7)\n",
    "#provabilidad observacional\n",
    "print(sum(res > 7)/1000)"
   ]
  },
  {
   "cell_type": "markdown",
   "metadata": {
    "id": "_p_IoCoT86xH"
   },
   "source": [
    "Si nos dejan de pagar más de 10 veces al dejar 100 prestamos, entramos en bancarota cual es la probabilidad de que eso haya sucedido en nuestro experimiento?\n",
    "\n",
    "Coincide con la probabilidad real (scipy stats binomial.cdf)"
   ]
  },
  {
   "cell_type": "code",
   "execution_count": 6,
   "metadata": {
    "id": "qAuNkhmf9den"
   },
   "outputs": [
    {
     "name": "stdout",
     "output_type": "stream",
     "text": [
      "0.009\n",
      "0.011472410067484673\n"
     ]
    },
    {
     "data": {
      "image/png": "[encoded data removed]",
      "text/plain": [
       "<Figure size 432x288 with 1 Axes>"
      ]
     },
     "metadata": {
      "needs_background": "light"
     },
     "output_type": "display_data"
    }
   ],
   "source": [
    "import seaborn as sns\n",
    "# Muestra  gràfico ecdf\n",
    "sns.ecdfplot(res)\n",
    "\n",
    "#Haz el cálculo\n",
    "# Compute the number of 100-loan simulations with 10 or more defaults: n_lose_money\n",
    "res = binom.rvs(100,0.05,size = 1000)\n",
    "print(sum(res > 10)/1000)\n",
    "\n",
    "prob10 = binom.cdf(10,100,0.05)\n",
    "print(1-prob10)\n",
    "# Compute and print probability of losing money\n"
   ]
  },
  {
   "cell_type": "code",
   "execution_count": 8,
   "metadata": {
    "id": "4F1vKyddHkja"
   },
   "outputs": [
    {
     "data": {
      "image/png": "[encoded data removed]",
      "text/plain": [
       "<Figure size 432x288 with 1 Axes>"
      ]
     },
     "metadata": {
      "needs_background": "light"
     },
     "output_type": "display_data"
    }
   ],
   "source": [
    "# Cual es el resultado si envez de dejar 1000 veces 1000 prestamos dejamos 100000 veces\n",
    "np.random.seed(36)\n",
    "res = binom.rvs(1000,0.05,size = 100000)\n",
    "plt.hist(res)\n",
    "plt.show()"
   ]
  },
  {
   "cell_type": "code",
   "execution_count": 12,
   "metadata": {
    "colab": {
     "base_uri": "https://localhost:8080/"
    },
    "id": "kh8auiJc_sci",
    "outputId": "598f3961-e2b1-467b-c48e-808fda47c29f"
   },
   "outputs": [
    {
     "name": "stdout",
     "output_type": "stream",
     "text": [
      "0.3840008720438586\n",
      "7.0\n"
     ]
    }
   ],
   "source": [
    "from scipy.stats import binom\n",
    "import numpy as np\n",
    "\n",
    "# Calcula de manera inferencial\n",
    "#provabilidad que me dejen de pagar 5 o mas.\n",
    "print(1-binom.cdf(5,100,0.05))\n",
    "#cantidad de personas a partir de la cual se que el 80% esta acumulado.\n",
    "print(binom.ppf(0.8,100,0.05))"
   ]
  },
  {
   "cell_type": "markdown",
   "metadata": {
    "id": "qygh6qnHHuEH"
   },
   "source": [
    "## ACTIVIDAD 3 - POISSON\n",
    "Pensando en Sergio Ramos, la probabilidad de que un jugador concreto meta un gol que ha acabado siendo decisivo una eliminatoria a partir del minuto 92, ha pasado 25 veces en 540 eliminatorias.\n",
    "\n",
    "\n",
    "* ¿Cual és la probabilidad que un jugador decida dos o màs eliminatorias con un gol a partir del min 92 (simula 10000 eliminatorias)?\n",
    "\n",
    "* Si sergio Ramos ha jugado 54 eliminatorias y ha decidido dos veces, ¿cual es su probabilidad de que decida dos eliminatòrias o màs un jugador como él ?\n",
    "\n",
    "* ¿Cual és la porbabilidad de que un jugador como Sergio Ramos decida concretamente 2 elminatorias (pmf)"
   ]
  },
  {
   "cell_type": "code",
   "execution_count": 20,
   "metadata": {
    "id": "qETIJwq7JZ0P"
   },
   "outputs": [
    {
     "name": "stdout",
     "output_type": "stream",
     "text": [
      "probabilitat de dos o mas:  0.2706\n"
     ]
    }
   ],
   "source": [
    "# Draw 10,000 samples out of Poisson distribution: n_goals92\n",
    "np.random.seed(36)\n",
    "n_goals92 = np.random.poisson(92/92, size = 10000)\n",
    "# Comprueba que suceda 2 veces o màs\n",
    "n_goals92Dos = np.sum(n_goals92 >= 2)\n",
    "n_goals92Large = n_goals92Dos / 10000\n",
    "\n",
    "print('probabilitat de dos o mas: ', n_goals92Large)"
   ]
  },
  {
   "cell_type": "code",
   "execution_count": 23,
   "metadata": {
    "id": "264my1oUpDMt"
   },
   "outputs": [
    {
     "name": "stdout",
     "output_type": "stream",
     "text": [
      "probabilitat de sergio ramos 0.2222222222222222\n",
      "0.00016959159913675198\n"
     ]
    }
   ],
   "source": [
    "# Comprueba en el caso de Sergio Ramos\n",
    "np.random.seed(36)\n",
    "n_goals92Sergio = np.random.poisson(92/92, size = 54)\n",
    "n_goals92Large = np.sum(n_goals92Sergio >= 2)\n",
    "n_goals92Large = n_goals92Large / 54\n",
    "\n",
    "print('probabilitat de sergio ramos', n_goals92Large)\n",
    "\n",
    "print(binom.pmf(2,54,0.22))"
   ]
  },
  {
   "cell_type": "markdown",
   "metadata": {
    "id": "81GnkMTvpHmt"
   },
   "source": [
    "## ACTIVIDAD 3 - NORMAL\n",
    "\n",
    "Disponemos de un dataSet con los tratos de Amir (no diferenciamos entre ganados y perdidos).\n",
    "\n",
    "*   Muestra en un histograma el campo 'amount' de Amir. ¿ Qué distribución sigue? Obtén sus parámetros estadísiticos básicos (media, desviación)\n",
    "\n"
   ]
  },
  {
   "cell_type": "code",
   "execution_count": 35,
   "metadata": {
    "id": "UviefbtGrPgi"
   },
   "outputs": [
    {
     "data": {
      "text/plain": [
       "count     178.000000\n",
       "mean     4812.000337\n",
       "std      2058.173225\n",
       "min      -539.230000\n",
       "25%      3415.927500\n",
       "50%      4805.190000\n",
       "75%      6217.257500\n",
       "max      9913.270000\n",
       "Name: amount, dtype: float64"
      ]
     },
     "execution_count": 35,
     "metadata": {},
     "output_type": "execute_result"
    }
   ],
   "source": [
    "import pandas as pd\n",
    "\n",
    "datasetAmir = pd.read_csv('amir_deals.csv')\n",
    "datasetAmount = datasetAmir['amount']\n",
    "datasetAmount.describe()"
   ]
  },
  {
   "cell_type": "markdown",
   "metadata": {
    "id": "1quik25TrPq9"
   },
   "source": [
    "Responde las siguientes preguntas sobre los tratos de Amir:\n",
    "\n",
    "\n",
    "*   ¿Cuál es la probabilidad de cerrar un trato menor de 7500€?\n",
    "*   ¿Cuál es la probabilidad de cerrar un trato mayor de 1000€?\n",
    "*   ¿Cuál es la probabilidad de cerrar un trato entre 3000€ y 5000€?\n",
    "*   ¿Cuál es la cantidad a partir de la qual el 25% de los tratos son menores que ellas?\n",
    "\n"
   ]
  },
  {
   "cell_type": "code",
   "execution_count": 47,
   "metadata": {
    "id": "TMUYPT_fr9OP"
   },
   "outputs": [
    {
     "name": "stdout",
     "output_type": "stream",
     "text": [
      "cerrar un trato menos de 7500 0.0898876404494382\n",
      "cerrar un trato mayor de 1000 0.028089887640449437\n",
      "cerrar un trato entre 3000 y 5000 0      0.005618\n",
      "1      0.005618\n",
      "2      0.005618\n",
      "3      0.005618\n",
      "4      0.005618\n",
      "         ...   \n",
      "173    0.005618\n",
      "174    0.005618\n",
      "175    0.005618\n",
      "176    0.005618\n",
      "177    0.005618\n",
      "Name: amount, Length: 178, dtype: float64\n",
      "0.00010834322064402135\n"
     ]
    }
   ],
   "source": [
    "\n",
    "print('cerrar un trato menos de 7500',sum(datasetAmount > 7500)/178)\n",
    "print('cerrar un trato mayor de 1000',sum(datasetAmount < 1000)/178)\n",
    "print('cerrar un trato entre 3000 y 5000',sum(datasetAmount < 3000, datasetAmount > 5000)/178)\n",
    "\n",
    "print(binom.cdf(0.25,178,0.05))"
   ]
  },
  {
   "cell_type": "markdown",
   "metadata": {
    "id": "Qzegaj0Z1NKX"
   },
   "source": [
    "## ACTIVIDAD 3 - EXPONENCIAL\n",
    "\n",
    "Sabemos que un reparitdor del BurguerKing es capaz de realizar un pedido cada 0.15h. Responde a las siguientes preguntas:\n",
    "\n",
    "*   ¿Cual es la probabilidad de que tarde más de 25 min en hacer un pedido?\n",
    "*   ¿Cual es la probabilidad de que tarde entre 15min y 25 min?\n",
    "\n"
   ]
  },
  {
   "cell_type": "code",
   "execution_count": 54,
   "metadata": {
    "id": "qS1zMl0D15gw"
   },
   "outputs": [
    {
     "data": {
      "image/png": "[encoded data removed]",
      "text/plain": [
       "<Figure size 432x288 with 1 Axes>"
      ]
     },
     "metadata": {
      "needs_background": "light"
     },
     "output_type": "display_data"
    },
    {
     "name": "stdout",
     "output_type": "stream",
     "text": [
      "mas de 25 min en hacer 1 pedido 0.9999999999889886\n"
     ]
    }
   ],
   "source": [
    "np.random.seed(36)\n",
    "# 100 repartos y tarda 15 min en realizar 1 \n",
    "res = binom.rvs(100,0.15,size = 1)\n",
    "plt.hist(res)\n",
    "plt.show()\n",
    "\n",
    "print('mas de 25 min en hacer 1 pedido',1-binom.cdf(1,100,0.25))"
   ]
  }
 ],
 "metadata": {
  "colab": {
   "provenance": []
  },
  "kernelspec": {
   "display_name": "Python 3 (ipykernel)",
   "language": "python",
   "name": "python3"
  },
  "language_info": {
   "codemirror_mode": {
    "name": "ipython",
    "version": 3
   },
   "file_extension": ".py",
   "mimetype": "text/x-python",
   "name": "python",
   "nbconvert_exporter": "python",
   "pygments_lexer": "ipython3",
   "version": "3.9.12"
  }
 },
 "nbformat": 4,
 "nbformat_minor": 4
}
