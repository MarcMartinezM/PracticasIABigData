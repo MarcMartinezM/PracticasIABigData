{
  "cells": [
    {
      "cell_type": "markdown",
      "metadata": {
        "dc": {
          "key": "13f090f9f0"
        },
        "deletable": false,
        "editable": false,
        "id": "DW3O8mtdXNrL",
        "run_control": {
          "frozen": true
        },
        "tags": [
          "context"
        ]
      },
      "source": [
        "## 1. Dr. Ignaz Semmelweis\n",
        "<p><img style=\"float: left;margin:5px 20px 5px 1px\" src=\"https://assets.datacamp.com/production/project_20/img/ignaz_semmelweis_1860.jpeg\"></p>\n",
        "<!--\n",
        "<img style=\"float: left;margin:5px 20px 5px 1px\" src=\"https://assets.datacamp.com/production/project_20/datasets/ignaz_semmelweis_1860.jpeg\">\n",
        "-->\n",
        "<p>El Dr. Ignaz Semmelweis, un médico húngaro nacido en 1818 y activo en el Hospital General de Viena. En la década de 1840 en el Hospital General de Viena hasta el 10% de las mujeres que daban a luz morían a causa de la fiebre puerperal. El doctor estaba convencido de la causa de la fiebre puerperal: son las manos contaminadas de los médicos que dan a luz. \n",
        "<p>En este cuaderno, vamos a volver a analizar los datos que hicieron que Semmelweis descubriera la importancia de <em>lavarse las manos</em>. Comencemos mirando los datos que hicieron que Semmelweis se diera cuenta de que algo andaba mal con los procedimientos en el Hospital General de Viena.</p>"
      ]
    },
    {
      "cell_type": "code",
      "execution_count": null,
      "metadata": {},
      "outputs": [],
      "source": [
        "#imports\n",
        "import pandas as pd\n"
      ]
    },
    {
      "cell_type": "code",
      "execution_count": null,
      "metadata": {
        "collapsed": true,
        "dc": {
          "key": "13f090f9f0"
        },
        "id": "NyXbBOucXNrO",
        "tags": [
          "sample_code"
        ],
        "trusted": false
      },
      "outputs": [],
      "source": [
        "# Lee el dataset y visualiza sus datos"
      ]
    },
    {
      "cell_type": "markdown",
      "metadata": {
        "dc": {
          "key": "45ea098e15"
        },
        "deletable": false,
        "editable": false,
        "id": "5mFqH3udXNrQ",
        "run_control": {
          "frozen": true
        },
        "tags": [
          "context"
        ]
      },
      "source": [
        "## 2. El alarmante número de muertes\n",
        "<p>La tabla anterior muestra el número de mujeres que dieron a luz en las dos clínicas del Hospital General de Viena durante los años 1841 a 1846. Notarás que dar a luz era muy peligroso; un número <em>alarmante</em> de mujeres murió como resultado del parto, la mayoría de ellas por fiebre puerperal.</p>\n",
        "<p>Vemos esto más claramente si observamos la <em>proporción de muertes</em> del número de mujeres que dan a luz."
      ]
    },
    {
      "cell_type": "code",
      "execution_count": null,
      "metadata": {
        "collapsed": true,
        "dc": {
          "key": "45ea098e15"
        },
        "id": "sS9NGQVOXNrQ",
        "tags": [
          "sample_code"
        ],
        "trusted": false
      },
      "outputs": [],
      "source": [
        "# Muestra la proporción de muertes por cada clínica y saca una conclusión del resultado"
      ]
    },
    {
      "cell_type": "code",
      "execution_count": null,
      "metadata": {
        "id": "UQUr2XDIfdSS"
      },
      "outputs": [],
      "source": [
        "# Aunque gráficamente sea evidente, muestra matemáticamente si hay diferencias significativas \n",
        "# (incluye el redactado de planteamiento de hipotesis)"
      ]
    },
    {
      "cell_type": "markdown",
      "metadata": {
        "dc": {
          "key": "0c9fdbf550"
        },
        "deletable": false,
        "editable": false,
        "id": "mOLjAGPOXNrS",
        "run_control": {
          "frozen": true
        },
        "tags": [
          "context"
        ]
      },
      "source": [
        "## 3. Comienza el lavado de manos\n",
        "<p>¿Por qué la proporción de muertes es consistentemente mucho más alta en la Clínica 1? Semmelweis vio el mismo patrón y estaba desconcertado y angustiado. La única diferencia era que los trabajadores de la clínica 2 solo atendían a las mujeres que daban a luz, mientras que los de la clínica 1 también pasaban tiempo en las salas de autopsias examinando cadáveres. </p>\n",
        "<p>Semmelweis comenzó a sospechar que algo en los cadáveres se extendió de las manos de los estudiantes de medicina y causó fiebre puerperal.El doctor ordenó que se lavaran las manos, era considerada una propuesta rara ya que nadie en Viena sabía acerca de las bacterias en ese momento. </p>\n",
        "<p>Carguemos los datos mensuales de la Clínica 1 para ver si el lavado de manos tuvo algún efecto.</p>"
      ]
    },
    {
      "cell_type": "code",
      "execution_count": null,
      "metadata": {
        "collapsed": true,
        "dc": {
          "key": "0c9fdbf550"
        },
        "id": "R93IEh6OXNrT",
        "tags": [
          "sample_code"
        ],
        "trusted": false
      },
      "outputs": [],
      "source": [
        "# Carga DataSet mensual\n",
        "# Muestra gráficamente la evolución temporal, ¿Se nota algún efecto a partir de alguna fecha?"
      ]
    },
    {
      "cell_type": "markdown",
      "metadata": {
        "dc": {
          "key": "518e95acc5"
        },
        "deletable": false,
        "editable": false,
        "id": "xlj-YKV2XNrV",
        "run_control": {
          "frozen": true
        },
        "tags": [
          "context"
        ]
      },
      "source": [
        "## 6. Se destaca el efecto del lavado de manos\n",
        "<p>A partir del verano de 1847 (1847-06-01) la proporción de muertes se reduce drásticamente y, sí, fue entonces cuando Semmelweis hizo obligatorio el lavado de manos. </p>\n",
        "<p>El efecto del lavado de manos se hace aún más claro si lo resaltamos en el gráfico.</p>"
      ]
    },
    {
      "cell_type": "code",
      "execution_count": null,
      "metadata": {
        "collapsed": true,
        "dc": {
          "key": "518e95acc5"
        },
        "id": "ojYzKSNoXNrV",
        "tags": [
          "sample_code"
        ],
        "trusted": false
      },
      "outputs": [],
      "source": [
        "# Haz que en el gráfico se muestre la línea temporal en otro color a partir de esa fecha\n",
        "# (Te va a costar un poco, pero espavila y busca en internet)"
      ]
    },
    {
      "cell_type": "markdown",
      "metadata": {
        "dc": {
          "key": "586a9f9803"
        },
        "deletable": false,
        "editable": false,
        "id": "mk9-jdDTXNrW",
        "run_control": {
          "frozen": true
        },
        "tags": [
          "context"
        ]
      },
      "source": [
        "## 7. Lavado de manos, menos muertes?\n",
        "<p>El doctor Semmelweis cuando propuso el lavado de manos, no solo prometió que se reduciriá las muertes respecto a las anteriores fechas, sino que incluso bajarían del 3% (una barbaridad teniendo en cuenta que en ese momento rondaba al 10%)</p> ¿Cumplió sus dos promesas?"
      ]
    },
    {
      "cell_type": "code",
      "execution_count": null,
      "metadata": {
        "id": "WAshhqHShkzm"
      },
      "outputs": [],
      "source": [
        "# Te toca hacer dos test de hipotesis, uno de lavado vs no lavado y otro lavado vs 3%"
      ]
    },
    {
      "cell_type": "markdown",
      "metadata": {
        "dc": {
          "key": "0645423069"
        },
        "deletable": false,
        "editable": false,
        "id": "2AbV5qFDXNrY",
        "run_control": {
          "frozen": true
        },
        "tags": [
          "context"
        ]
      },
      "source": [
        "## 9. El destino del Dr. Semmelweis\n",
        "<p>Entonces, en general, parecería que Semmelweis tenía pruebas sólidas de que lavarse las manos era un procedimiento simple pero muy eficaz que podía salvar muchas vidas.</p>\n",
        "<p>La tragedia es que, a pesar de la evidencia, la teoría de Semmelweis —que la fiebre puerperal fue causada por alguna \"sustancia\" (lo que hoy conocemos como <em>bacteria</em>) de los cadáveres de la sala de autopsias— fue ridiculizada por el resto de científicos. La comunidad médica rechazó en gran medida su descubrimiento y en 1849 se vio obligado a abandonar el Hospital General de Viena para siempre.</p>\n",
        "<p>Una de las razones de esto fue que las estadísticas y los argumentos estadísticos eran poco comunes en la ciencia médica en el siglo XIX. Semmelweis solo publicó sus datos como largas tablas de datos sin procesar, pero no mostró gráficos ni intervalos de confianza. Si hubiera tenido acceso al análisis que acabamos de hacer, podría haber tenido más éxito en conseguir que los médicos vieneses se lavaran las manos.</p>\n",
        "¡Mala suerte crack!"
      ]
    }
  ],
  "metadata": {
    "colab": {
      "provenance": []
    },
    "kernelspec": {
      "display_name": "Python 3",
      "language": "python",
      "name": "python3"
    },
    "language_info": {
      "codemirror_mode": {
        "name": "ipython",
        "version": 3
      },
      "file_extension": ".py",
      "mimetype": "text/x-python",
      "name": "python",
      "nbconvert_exporter": "python",
      "pygments_lexer": "ipython3",
      "version": "3.6.7"
    }
  },
  "nbformat": 4,
  "nbformat_minor": 0
}
