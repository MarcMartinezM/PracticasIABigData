{
  "cells": [
    {
      "cell_type": "markdown",
      "metadata": {
        "id": "XcDuVOb1o-NL"
      },
      "source": [
        "## MULTIPLE LOGISTIC REGRESSION"
      ]
    },
    {
      "cell_type": "code",
      "execution_count": 2,
      "metadata": {},
      "outputs": [],
      "source": [
        "import pandas as pd\n",
        "import matplotlib.pyplot as plt\n",
        "import seaborn as sns\n",
        "from statsmodels.formula.api import logit\n",
        "from itertools import product\n",
        "import numpy as np"
      ]
    },
    {
      "cell_type": "markdown",
      "metadata": {
        "id": "ox6a_iUZqch8"
      },
      "source": [
        "Del dataset churn, ajusta un modelo de estado de abandono con las dos variables explicativas del conjunto de datos: la duración de la relación con el cliente y la antigüedad de la compra, y su interacción."
      ]
    },
    {
      "cell_type": "code",
      "execution_count": 3,
      "metadata": {
        "id": "iV9vk5wxo6oy"
      },
      "outputs": [
        {
          "data": {
            "text/html": [
              "<div>\n",
              "<style scoped>\n",
              "    .dataframe tbody tr th:only-of-type {\n",
              "        vertical-align: middle;\n",
              "    }\n",
              "\n",
              "    .dataframe tbody tr th {\n",
              "        vertical-align: top;\n",
              "    }\n",
              "\n",
              "    .dataframe thead th {\n",
              "        text-align: right;\n",
              "    }\n",
              "</style>\n",
              "<table border=\"1\" class=\"dataframe\">\n",
              "  <thead>\n",
              "    <tr style=\"text-align: right;\">\n",
              "      <th></th>\n",
              "      <th>has_churned</th>\n",
              "      <th>time_since_first_purchase</th>\n",
              "      <th>time_since_last_purchase</th>\n",
              "    </tr>\n",
              "  </thead>\n",
              "  <tbody>\n",
              "    <tr>\n",
              "      <th>0</th>\n",
              "      <td>0</td>\n",
              "      <td>-1.089221</td>\n",
              "      <td>-0.721322</td>\n",
              "    </tr>\n",
              "    <tr>\n",
              "      <th>1</th>\n",
              "      <td>0</td>\n",
              "      <td>1.182983</td>\n",
              "      <td>3.634435</td>\n",
              "    </tr>\n",
              "    <tr>\n",
              "      <th>2</th>\n",
              "      <td>0</td>\n",
              "      <td>-0.846156</td>\n",
              "      <td>-0.427582</td>\n",
              "    </tr>\n",
              "    <tr>\n",
              "      <th>3</th>\n",
              "      <td>0</td>\n",
              "      <td>0.086942</td>\n",
              "      <td>-0.535672</td>\n",
              "    </tr>\n",
              "    <tr>\n",
              "      <th>4</th>\n",
              "      <td>0</td>\n",
              "      <td>-1.166642</td>\n",
              "      <td>-0.672640</td>\n",
              "    </tr>\n",
              "  </tbody>\n",
              "</table>\n",
              "</div>"
            ],
            "text/plain": [
              "   has_churned  time_since_first_purchase  time_since_last_purchase\n",
              "0            0                  -1.089221                 -0.721322\n",
              "1            0                   1.182983                  3.634435\n",
              "2            0                  -0.846156                 -0.427582\n",
              "3            0                   0.086942                 -0.535672\n",
              "4            0                  -1.166642                 -0.672640"
            ]
          },
          "execution_count": 3,
          "metadata": {},
          "output_type": "execute_result"
        }
      ],
      "source": [
        "df_churn = pd.read_csv('churn.csv')\n",
        "df_churn.head()"
      ]
    },
    {
      "cell_type": "code",
      "execution_count": 4,
      "metadata": {},
      "outputs": [
        {
          "name": "stdout",
          "output_type": "stream",
          "text": [
            "Optimization terminated successfully.\n",
            "         Current function value: 0.649717\n",
            "         Iterations 5\n"
          ]
        }
      ],
      "source": [
        "modelo_churn = logit('has_churned~time_since_first_purchase*time_since_last_purchase',data = df_churn).fit()"
      ]
    },
    {
      "cell_type": "markdown",
      "metadata": {
        "id": "7OC-LpVwqyzs"
      },
      "source": [
        "Para todas las combinaciones posibles de tiempo de relación con el cliente de -2 a 4 aumentando en tramos de 0.1 y antigüedad de compra de -1 a 6, en tramos de 0.1, predice si se darán de baja o no. (La predicción debe ser o 0 o 1)"
      ]
    },
    {
      "cell_type": "code",
      "execution_count": 10,
      "metadata": {
        "id": "Wx2rK3M_rYiZ"
      },
      "outputs": [],
      "source": [
        "data_predict_first= pd.DataFrame({'time_since_first_purchase': np.arange(-2,4,0.1)})\n",
        "data_predict_last = pd.DataFrame({'time_since_last_purchase': np.arange(-1,6,0.1)})\n",
        "\n",
        "data_predict_first['time_since_last_purchase']= 0\n",
        "data_predict_last['time_since_first_purchase'] = 0\n",
        "\n",
        "data_predict_first = data_predict_first.assign(has_churned=modelo_churn.predict(data_predict_first))\n",
        "data_predict_last = data_predict_last.assign(has_churned=modelo_churn.predict(data_predict_last))\n",
        "\n",
        "data_predict_first['has_churned'] = data_predict_first['has_churned'].apply(lambda x: 1 if x>0.5 else 0)\n",
        "data_predict_last['has_churned'] = data_predict_last['has_churned'].apply(lambda x: 1 if x>0.5 else 0)"
      ]
    },
    {
      "cell_type": "markdown",
      "metadata": {
        "id": "EQVTiW2OrZ9I"
      },
      "source": [
        "Muestra en un mismo gràfico los valores reales y nuestras perdicciones (el gráfico se ve que flipas). Responde la siguiente pregunta a ojo:\n",
        "- Un usuario con antigüedad valor 3, cuanto debe hacer que no compra para que considere que se va a dar de baja?"
      ]
    },
    {
      "cell_type": "code",
      "execution_count": 12,
      "metadata": {
        "id": "0B-1EAD6scaA"
      },
      "outputs": [
        {
          "data": {
            "image/png": "[encoded data removed]",
            "text/plain": [
              "<Figure size 640x480 with 1 Axes>"
            ]
          },
          "metadata": {},
          "output_type": "display_data"
        }
      ],
      "source": [
        "sns.regplot(x='time_since_first_purchase',y='has_churned',data=df_churn,logistic=True,ci=None)\n",
        "sns.regplot(x='time_since_last_purchase',y='has_churned',data=df_churn,logistic=True,ci=None)\n",
        "sns.scatterplot(y='time_since_first_purchase',x='has_churned',data=data_predict_first)\n",
        "sns.scatterplot(y='time_since_last_purchase',x='has_churned',data=data_predict_last)\n",
        "plt.show()"
      ]
    },
    {
      "cell_type": "markdown",
      "metadata": {
        "id": "63xzPCApscok"
      },
      "source": [
        "A través de la matriz de confusión, obtén la accuracy del modelo. ¿Te parece bueno?"
      ]
    },
    {
      "cell_type": "code",
      "execution_count": null,
      "metadata": {
        "id": "EdjcjnA-simv"
      },
      "outputs": [],
      "source": []
    },
    {
      "cell_type": "markdown",
      "metadata": {
        "id": "SvGQU2HlsjFH"
      },
      "source": [
        "## Sampling en python"
      ]
    },
    {
      "cell_type": "markdown",
      "metadata": {
        "id": "5B1NEUjBslu-"
      },
      "source": [
        "Del DataSet Attrition, muestra la media de desgaste (attrition) para cada grupo de Sataisfacción en sus relaciones.\n",
        "Posteriormente haz lo mismo para una muestra de 10,luego para una de 1000 y finalmente para el 25% (usa el parametro frac).\n",
        "Saca tus conclusiones y escribe:"
      ]
    },
    {
      "cell_type": "code",
      "execution_count": null,
      "metadata": {
        "id": "X9WPGaVpwgwC"
      },
      "outputs": [],
      "source": []
    },
    {
      "cell_type": "markdown",
      "metadata": {
        "id": "6O50O9ziw24A"
      },
      "source": [
        "Queremos que siga la misma proporcion que el dataset original, así que obtén el 25% de muestras de cada grupo. Muestra los valores que se pedian antes y saca tus conlusiones:"
      ]
    },
    {
      "cell_type": "code",
      "execution_count": null,
      "metadata": {
        "id": "lwzr0eWbxQb_"
      },
      "outputs": [],
      "source": []
    },
    {
      "cell_type": "markdown",
      "metadata": {
        "id": "14Gv4_FcxSzZ"
      },
      "source": [
        "Obtén el mismo número de muestras de cada grupo 50. Muestra los valores y reflexiona para cuando podría ser útil este tipo de muestreo:"
      ]
    },
    {
      "cell_type": "code",
      "execution_count": null,
      "metadata": {
        "id": "Ofd7xskVxf21"
      },
      "outputs": [],
      "source": []
    }
  ],
  "metadata": {
    "colab": {
      "provenance": []
    },
    "kernelspec": {
      "display_name": "Python 3",
      "language": "python",
      "name": "python3"
    },
    "language_info": {
      "codemirror_mode": {
        "name": "ipython",
        "version": 3
      },
      "file_extension": ".py",
      "mimetype": "text/x-python",
      "name": "python",
      "nbconvert_exporter": "python",
      "pygments_lexer": "ipython3",
      "version": "3.11.2"
    },
    "vscode": {
      "interpreter": {
        "hash": "3306a3629e5fd4bfde0d2569fb24eec44d5a3f497a98a1c89e6c40a3ef6ef4ac"
      }
    }
  },
  "nbformat": 4,
  "nbformat_minor": 0
}
