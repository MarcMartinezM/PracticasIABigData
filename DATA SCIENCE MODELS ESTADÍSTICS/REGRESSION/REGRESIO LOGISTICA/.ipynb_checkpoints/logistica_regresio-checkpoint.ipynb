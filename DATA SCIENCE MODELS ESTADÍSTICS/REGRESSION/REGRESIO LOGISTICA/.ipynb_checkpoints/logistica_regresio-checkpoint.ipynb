{
  "nbformat": 4,
  "nbformat_minor": 0,
  "metadata": {
    "colab": {
      "provenance": []
    },
    "kernelspec": {
      "name": "python3",
      "display_name": "Python 3"
    },
    "language_info": {
      "name": "python"
    }
  },
  "cells": [
    {
      "cell_type": "markdown",
      "source": [
        "# LOGISTIC REGRESSION"
      ],
      "metadata": {
        "id": "9QSdYMcoCmtX"
      }
    },
    {
      "cell_type": "markdown",
      "source": [
        "Cuando la variable que quiero predecir es una variable cualitativa se aplica regresión Logística.\n",
        "\n"
      ],
      "metadata": {
        "id": "pHCJYJ0WEfw6"
      }
    },
    {
      "cell_type": "markdown",
      "source": [
        "Cuando el resultado es cualatiativo el scatterplot ( o regplot) no me da mucha informaicón fácil de interpretar, es mejor usar histogramas."
      ],
      "metadata": {
        "id": "xA4i24neGDRj"
      }
    },
    {
      "cell_type": "code",
      "source": [
        "import pandas as pd\n",
        "df_churn = pd.read_csv('churn.csv')"
      ],
      "metadata": {
        "id": "PoZK9WWDGb0k"
      },
      "execution_count": null,
      "outputs": []
    },
    {
      "cell_type": "code",
      "source": [
        "import seaborn as sns\n",
        "sns.regplot(x='time_since_last_purchase', y='has_churned', data=df_churn)"
      ],
      "metadata": {
        "id": "FDlubdMAGCzs"
      },
      "execution_count": null,
      "outputs": []
    },
    {
      "cell_type": "code",
      "execution_count": null,
      "metadata": {
        "id": "6VjH39RdB-3Z"
      },
      "outputs": [],
      "source": [
        "#genero histograma\n",
        "sns.displot(x='time_since_last_purchase', col='has_churned', data=df_churn)"
      ]
    },
    {
      "cell_type": "code",
      "source": [
        "#importamos la funcion para realizar reg log\n",
        "from statsmodels.formula.api import logit\n",
        "\n",
        "# implementamos modelo\n",
        "mdl_churn_lastPurch = logit('has_churned~time_since_last_purchase', data= df_churn).fit()\n",
        "\n",
        "# mostramos parametros\n",
        "print(mdl_churn_lastPurch.params)"
      ],
      "metadata": {
        "id": "Dwf_fIdDHZim"
      },
      "execution_count": null,
      "outputs": []
    },
    {
      "cell_type": "code",
      "source": [
        "# Creamos valores a predecir\n",
        "import numpy as np\n",
        "data_predict = pd.DataFrame({'time_since_last_purchase': np.arange(-1,6,0.5)})\n",
        "\n",
        "#Predecimos usando modelo\n",
        "\n",
        "data_predict = data_predict.assign(has_churned=mdl_churn_lastPurch.predict(data_predict ))\n",
        "\n",
        "data_predict.head()\n",
        "\n",
        "\n"
      ],
      "metadata": {
        "id": "5C-j6leJIfRk"
      },
      "execution_count": null,
      "outputs": []
    },
    {
      "cell_type": "code",
      "source": [
        "#mostramos resultado\n",
        "import matplotlib.pyplot as plt\n",
        "\n",
        "fig = plt.figure()\n",
        "\n",
        "# El original\n",
        "\n",
        "sns.regplot(x='time_since_last_purchase', y='has_churned', data=df_churn, logistic=True, ci= None)\n",
        "\n",
        "# Mis predicciones\n",
        "\n",
        "sns.scatterplot(x='time_since_last_purchase', y='has_churned', data=data_predict, color='red')\n",
        "\n",
        "plt.show()"
      ],
      "metadata": {
        "colab": {
          "base_uri": "https://localhost:8080/",
          "height": 280
        },
        "id": "W9QBVFAHJeSP",
        "outputId": "212c873f-3b98-4040-d805-a245d3203c6b"
      },
      "execution_count": null,
      "outputs": [
        {
          "output_type": "display_data",
          "data": {
            "text/plain": [
              "<Figure size 432x288 with 1 Axes>"
            ],
            "image/png": "[encoded data removed]"
          },
          "metadata": {
            "needs_background": "light"
          }
        }
      ]
    },
    {
      "cell_type": "code",
      "source": [
        "#Creamos nuevo campo\n",
        "data_predict['posibleBaja'] = np.round(data_predict['has_churned'])\n",
        "\n",
        "# para gestionar el %\n",
        "\n",
        "data_predict['posibleBaja'] = data_predict['has_churned'].apply(lambda x: 1 if x>0.5 else 0)\n",
        "\n",
        "\n",
        "data_predict.head()"
      ],
      "metadata": {
        "colab": {
          "base_uri": "https://localhost:8080/",
          "height": 206
        },
        "id": "4QdNqR3QKQym",
        "outputId": "812334f6-f974-4273-b708-0cd5e02ecb4b"
      },
      "execution_count": null,
      "outputs": [
        {
          "output_type": "execute_result",
          "data": {
            "text/plain": [
              "   time_since_last_purchase  has_churned  posibleBaja\n",
              "0                      -1.0     0.424523          0.0\n",
              "1                      -0.5     0.457695          0.0\n",
              "2                       0.0     0.491246          0.0\n",
              "3                       0.5     0.524876          1.0\n",
              "4                       1.0     0.558283          1.0"
            ],
            "text/html": [
              "\n",
              "  <div id=\"df-0ce29c63-5acf-445b-8fd9-edb4c8022f13\">\n",
              "    <div class=\"colab-df-container\">\n",
              "      <div>\n",
              "<style scoped>\n",
              "    .dataframe tbody tr th:only-of-type {\n",
              "        vertical-align: middle;\n",
              "    }\n",
              "\n",
              "    .dataframe tbody tr th {\n",
              "        vertical-align: top;\n",
              "    }\n",
              "\n",
              "    .dataframe thead th {\n",
              "        text-align: right;\n",
              "    }\n",
              "</style>\n",
              "<table border=\"1\" class=\"dataframe\">\n",
              "  <thead>\n",
              "    <tr style=\"text-align: right;\">\n",
              "      <th></th>\n",
              "      <th>time_since_last_purchase</th>\n",
              "      <th>has_churned</th>\n",
              "      <th>posibleBaja</th>\n",
              "    </tr>\n",
              "  </thead>\n",
              "  <tbody>\n",
              "    <tr>\n",
              "      <th>0</th>\n",
              "      <td>-1.0</td>\n",
              "      <td>0.424523</td>\n",
              "      <td>0.0</td>\n",
              "    </tr>\n",
              "    <tr>\n",
              "      <th>1</th>\n",
              "      <td>-0.5</td>\n",
              "      <td>0.457695</td>\n",
              "      <td>0.0</td>\n",
              "    </tr>\n",
              "    <tr>\n",
              "      <th>2</th>\n",
              "      <td>0.0</td>\n",
              "      <td>0.491246</td>\n",
              "      <td>0.0</td>\n",
              "    </tr>\n",
              "    <tr>\n",
              "      <th>3</th>\n",
              "      <td>0.5</td>\n",
              "      <td>0.524876</td>\n",
              "      <td>1.0</td>\n",
              "    </tr>\n",
              "    <tr>\n",
              "      <th>4</th>\n",
              "      <td>1.0</td>\n",
              "      <td>0.558283</td>\n",
              "      <td>1.0</td>\n",
              "    </tr>\n",
              "  </tbody>\n",
              "</table>\n",
              "</div>\n",
              "      <button class=\"colab-df-convert\" onclick=\"convertToInteractive('df-0ce29c63-5acf-445b-8fd9-edb4c8022f13')\"\n",
              "              title=\"Convert this dataframe to an interactive table.\"\n",
              "              style=\"display:none;\">\n",
              "        \n",
              "  <svg xmlns=\"http://www.w3.org/2000/svg\" height=\"24px\"viewBox=\"0 0 24 24\"\n",
              "       width=\"24px\">\n",
              "    <path d=\"M0 0h24v24H0V0z\" fill=\"none\"/>\n",
              "    <path d=\"M18.56 5.44l.94 2.06.94-2.06 2.06-.94-2.06-.94-.94-2.06-.94 2.06-2.06.94zm-11 1L8.5 8.5l.94-2.06 2.06-.94-2.06-.94L8.5 2.5l-.94 2.06-2.06.94zm10 10l.94 2.06.94-2.06 2.06-.94-2.06-.94-.94-2.06-.94 2.06-2.06.94z\"/><path d=\"M17.41 7.96l-1.37-1.37c-.4-.4-.92-.59-1.43-.59-.52 0-1.04.2-1.43.59L10.3 9.45l-7.72 7.72c-.78.78-.78 2.05 0 2.83L4 21.41c.39.39.9.59 1.41.59.51 0 1.02-.2 1.41-.59l7.78-7.78 2.81-2.81c.8-.78.8-2.07 0-2.86zM5.41 20L4 18.59l7.72-7.72 1.47 1.35L5.41 20z\"/>\n",
              "  </svg>\n",
              "      </button>\n",
              "      \n",
              "  <style>\n",
              "    .colab-df-container {\n",
              "      display:flex;\n",
              "      flex-wrap:wrap;\n",
              "      gap: 12px;\n",
              "    }\n",
              "\n",
              "    .colab-df-convert {\n",
              "      background-color: #E8F0FE;\n",
              "      border: none;\n",
              "      border-radius: 50%;\n",
              "      cursor: pointer;\n",
              "      display: none;\n",
              "      fill: #1967D2;\n",
              "      height: 32px;\n",
              "      padding: 0 0 0 0;\n",
              "      width: 32px;\n",
              "    }\n",
              "\n",
              "    .colab-df-convert:hover {\n",
              "      background-color: #E2EBFA;\n",
              "      box-shadow: 0px 1px 2px rgba(60, 64, 67, 0.3), 0px 1px 3px 1px rgba(60, 64, 67, 0.15);\n",
              "      fill: #174EA6;\n",
              "    }\n",
              "\n",
              "    [theme=dark] .colab-df-convert {\n",
              "      background-color: #3B4455;\n",
              "      fill: #D2E3FC;\n",
              "    }\n",
              "\n",
              "    [theme=dark] .colab-df-convert:hover {\n",
              "      background-color: #434B5C;\n",
              "      box-shadow: 0px 1px 3px 1px rgba(0, 0, 0, 0.15);\n",
              "      filter: drop-shadow(0px 1px 2px rgba(0, 0, 0, 0.3));\n",
              "      fill: #FFFFFF;\n",
              "    }\n",
              "  </style>\n",
              "\n",
              "      <script>\n",
              "        const buttonEl =\n",
              "          document.querySelector('#df-0ce29c63-5acf-445b-8fd9-edb4c8022f13 button.colab-df-convert');\n",
              "        buttonEl.style.display =\n",
              "          google.colab.kernel.accessAllowed ? 'block' : 'none';\n",
              "\n",
              "        async function convertToInteractive(key) {\n",
              "          const element = document.querySelector('#df-0ce29c63-5acf-445b-8fd9-edb4c8022f13');\n",
              "          const dataTable =\n",
              "            await google.colab.kernel.invokeFunction('convertToInteractive',\n",
              "                                                     [key], {});\n",
              "          if (!dataTable) return;\n",
              "\n",
              "          const docLinkHtml = 'Like what you see? Visit the ' +\n",
              "            '<a target=\"_blank\" href=https://colab.research.google.com/notebooks/data_table.ipynb>data table notebook</a>'\n",
              "            + ' to learn more about interactive tables.';\n",
              "          element.innerHTML = '';\n",
              "          dataTable['output_type'] = 'display_data';\n",
              "          await google.colab.output.renderOutput(dataTable, element);\n",
              "          const docLink = document.createElement('div');\n",
              "          docLink.innerHTML = docLinkHtml;\n",
              "          element.appendChild(docLink);\n",
              "        }\n",
              "      </script>\n",
              "    </div>\n",
              "  </div>\n",
              "  "
            ]
          },
          "metadata": {},
          "execution_count": 17
        }
      ]
    },
    {
      "cell_type": "code",
      "source": [
        "#Vuelvo a mostrar\n",
        "import matplotlib.pyplot as plt\n",
        "\n",
        "fig = plt.figure()\n",
        "\n",
        "# El original\n",
        "\n",
        "sns.regplot(x='time_since_last_purchase', y='has_churned', data=df_churn, logistic=True, ci= None)\n",
        "\n",
        "# Mis predicciones\n",
        "\n",
        "sns.scatterplot(x='time_since_last_purchase', y='posibleBaja', data=data_predict, color='red')\n",
        "\n",
        "plt.show()"
      ],
      "metadata": {
        "colab": {
          "base_uri": "https://localhost:8080/",
          "height": 280
        },
        "id": "xnZjn0JyKvxG",
        "outputId": "3eb2262e-5506-4329-e601-83a9a4cbd083"
      },
      "execution_count": null,
      "outputs": [
        {
          "output_type": "display_data",
          "data": {
            "text/plain": [
              "<Figure size 432x288 with 1 Axes>"
            ],
            "image/png": "[encoded data removed]"
          },
          "metadata": {
            "needs_background": "light"
          }
        }
      ]
    },
    {
      "cell_type": "markdown",
      "source": [
        "## Matriz de confusión\n",
        "\n",
        "La matriz de confusión es la base métrica para valorar la calidad de un modelo. En este caso tenemos dos posibles respuestas: SE DA de baja / NO se da de BAJA.\n",
        "\n",
        "Nuestro modelo nos genera un cuadro de cuatro opciones:\n",
        "\n",
        "\n",
        "*   VERDADERO POSITIVO: Un valor que deberia dara 1 ( SE DA de baja) nuestro modelo lo predice correctamente, como 1.\n",
        "*   FALSO POSITIVO: Un valor que deberia ser 0 ( NO se da de Baja), nuestro modelo lo predice como 1 ( SE da de BAjA)\n",
        "*   VERDAERO NEGATIVO: Un valor que deberia ser 0 (NO se da de Baja), mi modelo lo predice correctamente, como 0.\n",
        "*   FALSO NEGATIVO: Un valor que deberia ser 1 ( SE da de baja), nuestro modelo lo predice como 0.\n",
        "\n",
        "\n",
        "\n"
      ],
      "metadata": {
        "id": "AQ9HR6oxL1pH"
      }
    },
    {
      "cell_type": "code",
      "source": [
        "# Guardamos el valor real en una columas\n",
        "respuesta_real = df_churn['has_churned']"
      ],
      "metadata": {
        "id": "_5tVnC3HM_Ld"
      },
      "execution_count": null,
      "outputs": []
    },
    {
      "cell_type": "code",
      "source": [
        "# Obtenemos la predicción de todos los valores de nuestro dataSet, no del arange que creamos manual\n",
        "prediccion_completa = np.round(mdl_churn_lastPurch.predict(df_churn))"
      ],
      "metadata": {
        "colab": {
          "base_uri": "https://localhost:8080/"
        },
        "id": "fiYf2fatLgAi",
        "outputId": "979a9e27-f44b-4a3c-cbd1-1915be3b2873"
      },
      "execution_count": null,
      "outputs": [
        {
          "output_type": "execute_result",
          "data": {
            "text/plain": [
              "(400, 3)"
            ]
          },
          "metadata": {},
          "execution_count": 22
        }
      ]
    },
    {
      "cell_type": "code",
      "source": [
        "# comparacion modelo\n",
        "modComp = pd.DataFrame({'real':respuesta_real , 'prediccion':prediccion_completa})\n",
        "\n",
        "#Mostramos salida\n",
        "print(modComp.value_counts(sort=False))"
      ],
      "metadata": {
        "colab": {
          "base_uri": "https://localhost:8080/"
        },
        "id": "NUy60S-AN8NT",
        "outputId": "1636842b-9746-4442-be5f-5c106065fcd6"
      },
      "execution_count": null,
      "outputs": [
        {
          "output_type": "stream",
          "name": "stdout",
          "text": [
            "real  prediccion\n",
            "0     0.0           141\n",
            "      1.0            59\n",
            "1     0.0           111\n",
            "      1.0            89\n",
            "dtype: int64\n"
          ]
        }
      ]
    },
    {
      "cell_type": "code",
      "source": [
        "# Calculamos matriz de confusion sin hacer tantos calculos como antes\n",
        "\n",
        "conf_matrix = mdl_churn_lastPurch.pred_table()\n",
        "\n",
        "print(conf_matrix)"
      ],
      "metadata": {
        "colab": {
          "base_uri": "https://localhost:8080/"
        },
        "id": "pvRFxl3TOoLY",
        "outputId": "a08eaef1-073d-47c4-ab10-0e5937848bdb"
      },
      "execution_count": null,
      "outputs": [
        {
          "output_type": "stream",
          "name": "stdout",
          "text": [
            "[[141.  59.]\n",
            " [111.  89.]]\n"
          ]
        }
      ]
    },
    {
      "cell_type": "code",
      "source": [
        "# Obtenemos los 4 posibles resultados\n",
        "VP = conf_matrix[0,0]\n",
        "VN = conf_matrix[0,1]\n",
        "FN = conf_matrix[1,0]\n",
        "FP = conf_matrix[1,1]\n",
        "\n"
      ],
      "metadata": {
        "id": "2c8PZ9hvO7I8"
      },
      "execution_count": null,
      "outputs": []
    },
    {
      "cell_type": "code",
      "source": [
        "#Sacamos las metricas para valorar el modelo\n",
        "prec= (VP+FP)/(VP+VN+FN+FP)\n",
        "print(f'La precision de tu modelo es {prec}')"
      ],
      "metadata": {
        "colab": {
          "base_uri": "https://localhost:8080/"
        },
        "id": "ZsJPHAxJPVGD",
        "outputId": "896cf502-29a2-414f-b917-7b85ffeed681"
      },
      "execution_count": null,
      "outputs": [
        {
          "output_type": "stream",
          "name": "stdout",
          "text": [
            "La precision de tu modelo es 0.575\n"
          ]
        }
      ]
    },
    {
      "cell_type": "markdown",
      "source": [
        "Ej. Calcula la precision del modelo para predecir si un cliente se da de baja a partir de su primera compra\n"
      ],
      "metadata": {
        "id": "5JJJZqwyP5YD"
      }
    },
    {
      "cell_type": "code",
      "source": [],
      "metadata": {
        "id": "a7NzQ7OJQDzs"
      },
      "execution_count": null,
      "outputs": []
    }
  ]
}