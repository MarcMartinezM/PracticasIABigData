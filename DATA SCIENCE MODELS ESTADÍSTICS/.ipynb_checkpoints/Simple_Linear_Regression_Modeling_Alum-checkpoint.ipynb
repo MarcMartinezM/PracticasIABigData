{
  "nbformat": 4,
  "nbformat_minor": 0,
  "metadata": {
    "colab": {
      "provenance": []
    },
    "kernelspec": {
      "name": "python3",
      "display_name": "Python 3"
    },
    "language_info": {
      "name": "python"
    }
  },
  "cells": [
    {
      "cell_type": "markdown",
      "source": [
        "#Simple Linear Regression Modeling\n",
        "\n",
        "A partir del dataset de la imobiliaria de taiwan que muestra:distancia al metro, número de sumpermercados cercanos, antiguedad de la casa, y su precio final.\n",
        "Vamos a intentar predecir como influyen los diferentes campos al precio. En nuestro caso de momento nos centraremos en el número de supermercados\n",
        "\n"
      ],
      "metadata": {
        "id": "3M5kjI6b55F9"
      }
    },
    {
      "cell_type": "markdown",
      "source": [
        "\n",
        "\n",
        "*   Muestra ScatterPlot de Precio vs n_convenience\n",
        "*   Muestra Regplot de Precio vs n_convenience\n",
        "*   Realitza el modelo y obtén los parámetros y escribe su función de regresión\n",
        "*   Mediante la función predict del modelo Predice el precio para el rango de 1 a 10 supermercados.\n",
        "* Compara Gráficamente con los valores reales\n",
        "* Predice el precio para una casa cercana a 12 supermercados\n",
        "* Predice el precio para una casa cercana a -1 y 2.5 supermercado. ¿Qué está pasando?\n",
        "\n",
        "\n",
        "\n"
      ],
      "metadata": {
        "id": "drj1kurB66X9"
      }
    },
    {
      "cell_type": "code",
      "execution_count": null,
      "metadata": {
        "id": "Xivn4Lnq5o1b"
      },
      "outputs": [],
      "source": []
    },
    {
      "cell_type": "markdown",
      "source": [
        "## Transformaciones"
      ],
      "metadata": {
        "id": "R8HjUXZme9p0"
      }
    },
    {
      "cell_type": "markdown",
      "source": [
        "Ahora vamos a visualizar la relación entre el precio y la distancia al metro:\n",
        "\n",
        "\n",
        "*   Muestra gráficamente la relación entre precio-distáncia al metro. Sigue una relación lineal?\n",
        "*   Transforma la distáncia en: sqrt_dist_metro_m y muéstra de nuevo la relación con el precio. Qué te parece ahora?\n",
        "* Calcula la reg con la variable tranformada\n",
        "* Muestra el resultado\n",
        "* Compara gráficamente (Regplot y scatterPlot) en los dos casos e interpreta\n",
        "\n"
      ],
      "metadata": {
        "id": "s0_fbQ7OV7Nk"
      }
    },
    {
      "cell_type": "code",
      "source": [],
      "metadata": {
        "id": "xtjzh__kegnV"
      },
      "execution_count": null,
      "outputs": []
    },
    {
      "cell_type": "markdown",
      "source": [
        "## Validación del modelo"
      ],
      "metadata": {
        "id": "nVRaWniUe5gl"
      }
    },
    {
      "cell_type": "markdown",
      "source": [
        "* Compara los coeficientes de determiniación. Compara también los MSE\n",
        "* Observa gráficamente los residuos tanto para el precio vs n_convenience como para el distancia al metro\n",
        "* Compara el QQplot del modelo (respecto distancia al metro) sin transformar y transformado "
      ],
      "metadata": {
        "id": "F9dW_poIegzp"
      }
    }
  ]
}