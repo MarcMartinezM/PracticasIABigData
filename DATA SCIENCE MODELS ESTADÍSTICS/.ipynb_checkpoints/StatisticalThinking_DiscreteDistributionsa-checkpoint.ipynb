{
  "nbformat": 4,
  "nbformat_minor": 0,
  "metadata": {
    "colab": {
      "provenance": []
    },
    "kernelspec": {
      "name": "python3",
      "display_name": "Python 3"
    },
    "language_info": {
      "name": "python"
    }
  },
  "cells": [
    {
      "cell_type": "markdown",
      "source": [
        "# DISTRIBUCIÓN DE BERNOUILLI / BINOMIAL\n",
        "\n",
        "La distribución binomial describe la probabilidad de obtener k éxitos en n experimentos binomiales .\n",
        "\n",
        "La distribución de Bernoulli es un modelo teórico utilizado para representar una variable aleatoria discreta la cual solo puede finalizar en dos resultados mutuamente excluyentes.\n",
        "\n",
        "\n",
        "---\n",
        "\n"
      ],
      "metadata": {
        "id": "v4aM2FfW-o66"
      }
    },
    {
      "cell_type": "code",
      "source": [
        "import numpy as np\n",
        "import matplotlib.pyplot as plt\n",
        "\n",
        "# Fijamos aleatoriedad\n",
        "np.random.seed(42)\n",
        "\n",
        "random_results = np.empty(1000000)\n",
        "\n",
        "for i in range(1000000):\n",
        "  random_results[i] = np.random.random()\n",
        "  if random_results[i] >= 0.5:\n",
        "    random_results[i] = 1\n",
        "  else:\n",
        "    random_results[i] = 0\n",
        "\n",
        "print(np.sum(random_results)/1000000)\n",
        "\n",
        "plt.hist(random_results)"
      ],
      "metadata": {
        "colab": {
          "base_uri": "https://localhost:8080/",
          "height": 352
        },
        "id": "C8rLLnYDjko5",
        "outputId": "83be7cb4-0e33-45be-ee38-d7d4ce5e79ce"
      },
      "execution_count": null,
      "outputs": [
        {
          "output_type": "stream",
          "name": "stdout",
          "text": [
            "0.500517\n"
          ]
        },
        {
          "output_type": "execute_result",
          "data": {
            "text/plain": [
              "(array([499483.,      0.,      0.,      0.,      0.,      0.,      0.,\n",
              "             0.,      0., 500517.]),\n",
              " array([0. , 0.1, 0.2, 0.3, 0.4, 0.5, 0.6, 0.7, 0.8, 0.9, 1. ]),\n",
              " <a list of 10 Patch objects>)"
            ]
          },
          "metadata": {},
          "execution_count": 7
        },
        {
          "output_type": "display_data",
          "data": {
            "text/plain": [
              "<Figure size 432x288 with 1 Axes>"
            ],
            "image/png": "[encoded data removed]"
          },
          "metadata": {
            "needs_background": "light"
          }
        }
      ]
    },
    {
      "cell_type": "markdown",
      "source": [
        "## Ejercicio 1\n",
        "\n",
        "* Si tiro 4 monedas durante 10 experimientos, calcula la probabilidad de que salgan 4 caras\n",
        "*   Haz lo mismo para 10000 experimientos"
      ],
      "metadata": {
        "id": "GvoZERGdJfJb"
      }
    },
    {
      "cell_type": "code",
      "source": [
        "np.random.seed(88)\n",
        "numTodoCaras = 0\n",
        "\n",
        "for _ in range(10000):\n",
        "  tiradas = np.random.random(size=4) >= 0.5\n",
        "  numCaras = np.sum(tiradas)\n",
        "  if numCaras == 4:\n",
        "    numTodoCaras += 1\n",
        "\n",
        "print(numTodoCaras/10000)"
      ],
      "metadata": {
        "colab": {
          "base_uri": "https://localhost:8080/"
        },
        "id": "oW2iOoHalv7t",
        "outputId": "65ecad49-6afc-4180-875a-5cff79b38910"
      },
      "execution_count": null,
      "outputs": [
        {
          "output_type": "stream",
          "name": "stdout",
          "text": [
            "0.0643\n"
          ]
        }
      ]
    },
    {
      "cell_type": "code",
      "source": [
        "tiradas = np.random.binomial(4,0.5,10000)\n",
        "np.sum(tiradas==4)/10000"
      ],
      "metadata": {
        "colab": {
          "base_uri": "https://localhost:8080/"
        },
        "id": "2PiOvRzGnGpC",
        "outputId": "93b04b57-8c31-4981-98d7-3b3584e0000f"
      },
      "execution_count": null,
      "outputs": [
        {
          "output_type": "execute_result",
          "data": {
            "text/plain": [
              "0.0606"
            ]
          },
          "metadata": {},
          "execution_count": 28
        }
      ]
    },
    {
      "cell_type": "markdown",
      "source": [
        "## Ejercicio 2 \n",
        "\n",
        "Me gusta ir al casino, voy semanalmente y me juego 10€ al número 11 durante 100 tiradas (1000€ al dia, nada mal). \n",
        "\n",
        "\n",
        "*   A final de año (52 semanas) cuanto dinero he ganado/perdido, si cada vez que me toca gano 360€\n",
        "*   Si algún dia voy y vuelvo con las manos vacías (no me toca ni una vez) puedo tener un problema grave en casa, ¿Cual és la probabilidad de que eso suceda?)\n",
        "\n"
      ],
      "metadata": {
        "id": "IMeGb7WOFyA7"
      }
    },
    {
      "cell_type": "code",
      "source": [
        "# MI EJERCICIO\n",
        "tiradas = np.random.binomial(52,1/37,100)\n",
        "gastado = 100*10*52\n",
        "total_perdido = 0\n",
        "total_ganado = 0\n",
        "total = 0\n",
        "print(f'Gastado total: {gastado}')\n",
        "for i in tiradas:\n",
        "  if(i == 0):\n",
        "    total_perdido += 1000\n",
        "  else:\n",
        "    ganado = 1000 - (i*360)\n",
        "    total_ganado += ganado\n",
        "\n",
        "print('Total perdido:', total_perdido)\n",
        "print('Total ganado:', total_ganado)\n",
        "print('Total:', total_ganado - total_perdido)\n",
        "\n",
        "    "
      ],
      "metadata": {
        "colab": {
          "base_uri": "https://localhost:8080/"
        },
        "id": "-CGNfJ4Qnt3E",
        "outputId": "83a7129e-0321-47bc-ccb9-1a2756a0442f"
      },
      "execution_count": null,
      "outputs": [
        {
          "output_type": "stream",
          "name": "stdout",
          "text": [
            "Gastado total: 52000\n",
            "Total perdido: 24000\n",
            "Total ganado: 23800\n",
            "Total: -200\n"
          ]
        }
      ]
    },
    {
      "cell_type": "code",
      "source": [
        "#EJERCICIO RUBÉN (Profe)\n",
        "resultado = np.random.binomial(100,1/37,52)\n",
        "print(f'Dinero ganado: {np.sum(resultado)*360-52000}')"
      ],
      "metadata": {
        "colab": {
          "base_uri": "https://localhost:8080/"
        },
        "id": "HOIqZdm4qqK1",
        "outputId": "2becbf07-1c28-48f6-83e5-2267f2a04d40"
      },
      "execution_count": null,
      "outputs": [
        {
          "output_type": "stream",
          "name": "stdout",
          "text": [
            "Dinero ganado: 4160\n"
          ]
        }
      ]
    },
    {
      "cell_type": "code",
      "source": [
        "resultado = np.random.binomial(100,1/37,52)\n",
        "print(f'Me voy de vacío: {np.sum(resultado==0)/52*100}')"
      ],
      "metadata": {
        "colab": {
          "base_uri": "https://localhost:8080/"
        },
        "id": "8G1Icva4rqKQ",
        "outputId": "d8ce5eed-b9c4-4fd9-fcb1-393e517abb80"
      },
      "execution_count": null,
      "outputs": [
        {
          "output_type": "stream",
          "name": "stdout",
          "text": [
            "Me voy de vacío: 1.9230769230769231\n"
          ]
        }
      ]
    },
    {
      "cell_type": "markdown",
      "source": [
        "# DISTRIBUCIÓN DE POISSON\n",
        "\n",
        "La distribución de Poisson describe la probabilidad de experimentar k eventos durante un intervalo de tiempo fijo."
      ],
      "metadata": {
        "id": "QOqIhjQUaSch"
      }
    },
    {
      "cell_type": "markdown",
      "source": [
        "## Ejercicio 1\n",
        "* Una empresa de tecnología quiere modelar la probabilidad de que ocurra una cierta cantidad de fallas en la red en una semana determinada. Suponga que se sabe que se producen un promedio de 4 fallas de red cada semana. Sea X el número de fallos de red en una semana determinada. ¿Qué tipo de distribución sigue la variable aleatoria X ?\n",
        "\n",
        "* Tyler hace el 70% de todos los tiros libres que intenta. Supongamos que lanza 10 tiros libres. Sea X el número de veces que Tyler hace una canasta durante los 10 intentos. ¿Qué tipo de distribución sigue la variable aleatoria X ?"
      ],
      "metadata": {
        "id": "LQfaVkrwbKyz"
      }
    },
    {
      "cell_type": "code",
      "source": [],
      "metadata": {
        "id": "nePVbDPbumoc"
      },
      "execution_count": null,
      "outputs": []
    },
    {
      "cell_type": "markdown",
      "source": [
        "## Ejercicio 2\n",
        "\n",
        "\n",
        "En el béisbol, un juego sin hits es un juego en el que un lanzador no permite que el otro equipo consiga un hit. Este es un evento raro, y desde el comienzo de la llamada era moderna del béisbol (que comenzó en 1901), solo ha habido 251 de ellos hasta la temporada 2015 en más de 200,000 juegos.\n",
        "\n",
        "En 1990 y 2015 presentaron la mayor cantidad de juegos sin hits de cualquier temporada de béisbol (hubo siete). Dado que hay un promedio de 251/115 juegos sin hits por temporada, ¿cuál es la probabilidad de tener siete o más en una temporada?"
      ],
      "metadata": {
        "id": "CIX7KK5UE_gk"
      }
    },
    {
      "cell_type": "code",
      "source": [
        "import seaborn as sns\n",
        "n_sinHits = np.random.poisson(251/115,10000)\n",
        "sns.ecdfplot(n_sinHits)\n",
        "\n",
        "print('Probabilidad de tener 7 o más partidos sinHits en temporada:',np.sum(n_sinHits>=7)/10000)"
      ],
      "metadata": {
        "colab": {
          "base_uri": "https://localhost:8080/",
          "height": 286
        },
        "id": "suaa2MAvvBX-",
        "outputId": "de154efc-fb3c-485b-a81c-797c61332bb1"
      },
      "execution_count": null,
      "outputs": [
        {
          "output_type": "stream",
          "name": "stdout",
          "text": [
            "Probabilidad de tener 7 o más partidos sinHits en temporada: 0.0073\n"
          ]
        },
        {
          "output_type": "display_data",
          "data": {
            "text/plain": [
              "<Figure size 432x288 with 1 Axes>"
            ],
            "image/png": "[encoded data removed]"
          },
          "metadata": {
            "needs_background": "light"
          }
        }
      ]
    },
    {
      "cell_type": "markdown",
      "source": [
        "# ACTIVIDADES"
      ],
      "metadata": {
        "id": "Vcryvw0oL_4p"
      }
    },
    {
      "cell_type": "markdown",
      "source": [
        "## ACTIVIDAD 1 - PROGRAMAR ESTADÍSITICAS"
      ],
      "metadata": {
        "id": "ntri99J4DRqD"
      }
    },
    {
      "cell_type": "markdown",
      "source": [
        "Vamos a simular el lanzamiento de dos dados 100 veces:\n",
        "* mediante un histograma indica los números a los que más me sale a cuenta apostar?\n",
        "\n",
        "* Indica la probabilidad de que me salga dos veces el mismo número\n",
        "\n",
        "* Upgrade: Si te sale tres veces dados repetidos, te vas a la carcel, cual es la probabilidad de que eso suceda?"
      ],
      "metadata": {
        "id": "HO35s2noDYo0"
      }
    },
    {
      "cell_type": "markdown",
      "source": [
        "## ACTIVIDAD 2 - BINOMIAL\n",
        "Somos un banco y sabemos que la probabilidad de que un usuario al que le hacemos un prestamo deje de pagar es de p=0.05. \n",
        "\n",
        "Vamos a hacer una simulación y dejar 100 prestamos: ¿Cuántos nos han dejado de pagar?"
      ],
      "metadata": {
        "id": "QalxxbQNME8F"
      }
    },
    {
      "cell_type": "markdown",
      "source": [
        "Ahora vamos a dejar 100 prestamos 1000 veces. ¿Cuantas veces nos han dejado de pagar más de 7 usuarios?"
      ],
      "metadata": {
        "id": "C5Xqn0wDQDJD"
      }
    },
    {
      "cell_type": "markdown",
      "source": [
        "Si nos dejan de pagar más de 10 veces al dejar 100 prestamos, entramos en bancarota cual es la probabilidad de que eso suceda"
      ],
      "metadata": {
        "id": "eDwb3lkgRBBX"
      }
    },
    {
      "cell_type": "markdown",
      "source": [
        "## ACTIVIDAD 3 - POISSON\n",
        "\n",
        "Pensando en Sergio Ramos, la probabilidad de que un jugador concreto meta un gol que ha acabado siendo decisivo una eliminatoria a partir del minuto 92, ha pasado 25 veces en 540 eliminatorias. \n",
        "\n",
        "Sergio Ramos eso lo ha hecho dos veces:\n",
        "\n",
        "\n",
        "*   ¿Cual és la probabilidad que un jugador decida dos eliminatorias con un gol a partir del min 92?\n",
        "\n",
        "* Si sergio Ramos ha jugado 110 eliminatorias, ¿cual deberia ser la cifra estimada de goles decisivos marcados?\n",
        "\n"
      ],
      "metadata": {
        "id": "83qC4FFrHRdb"
      }
    }
  ]
}