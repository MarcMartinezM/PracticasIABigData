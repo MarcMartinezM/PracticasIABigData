{
 "cells": [
  {
   "cell_type": "code",
   "execution_count": 3,
   "id": "2cf25615-bd05-4f78-85c1-15931d5a3341",
   "metadata": {},
   "outputs": [
    {
     "name": "stdout",
     "output_type": "stream",
     "text": [
      "adrian;jose;carlos;\n"
     ]
    }
   ],
   "source": [
    "listt= ['adrian','jose','carlos']\n",
    "\n",
    "fullstring = ''\n",
    "for x in listt:\n",
    "    fullstring =fullstring+x+';'\n",
    "\n",
    "print(fullstring)"
   ]
  },
  {
   "cell_type": "code",
   "execution_count": null,
   "id": "d90b45d5-f4d4-4e23-9d92-f9b873d0805f",
   "metadata": {},
   "outputs": [],
   "source": []
  },
  {
   "cell_type": "code",
   "execution_count": null,
   "id": "e95abb4e-2247-446f-b6b7-160c8823c912",
   "metadata": {},
   "outputs": [],
   "source": [
    "def echo_palabra(word,n):\n",
    "    words = word*n\n",
    "    return words\n",
    "\n",
    "echo_palabra(lambda word,n: word*n)\n",
    "print( echo_palabra('ruben',5))"
   ]
  }
 ],
 "metadata": {
  "kernelspec": {
   "display_name": "Python 3 (ipykernel)",
   "language": "python",
   "name": "python3"
  },
  "language_info": {
   "codemirror_mode": {
    "name": "ipython",
    "version": 3
   },
   "file_extension": ".py",
   "mimetype": "text/x-python",
   "name": "python",
   "nbconvert_exporter": "python",
   "pygments_lexer": "ipython3",
   "version": "3.9.13"
  }
 },
 "nbformat": 4,
 "nbformat_minor": 5
}
